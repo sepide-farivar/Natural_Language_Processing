{
 "cells": [
  {
   "cell_type": "markdown",
   "id": "80ec6ad9",
   "metadata": {},
   "source": [
    "# Text Classification Using LSTM"
   ]
  },
  {
   "cell_type": "code",
   "execution_count": 2,
   "id": "e94daacd",
   "metadata": {},
   "outputs": [],
   "source": [
    "import pandas as pd\n",
    "import seaborn as sns\n",
    "import matplotlib.pyplot as plt"
   ]
  },
  {
   "cell_type": "code",
   "execution_count": 3,
   "id": "7f59be08",
   "metadata": {},
   "outputs": [],
   "source": [
    "df = pd.read_csv('SPAM_text_message_Data.csv')"
   ]
  },
  {
   "cell_type": "code",
   "execution_count": 4,
   "id": "ce67a5cf",
   "metadata": {},
   "outputs": [
    {
     "data": {
      "text/html": [
       "<div>\n",
       "<style scoped>\n",
       "    .dataframe tbody tr th:only-of-type {\n",
       "        vertical-align: middle;\n",
       "    }\n",
       "\n",
       "    .dataframe tbody tr th {\n",
       "        vertical-align: top;\n",
       "    }\n",
       "\n",
       "    .dataframe thead th {\n",
       "        text-align: right;\n",
       "    }\n",
       "</style>\n",
       "<table border=\"1\" class=\"dataframe\">\n",
       "  <thead>\n",
       "    <tr style=\"text-align: right;\">\n",
       "      <th></th>\n",
       "      <th>Category</th>\n",
       "      <th>Message</th>\n",
       "    </tr>\n",
       "  </thead>\n",
       "  <tbody>\n",
       "    <tr>\n",
       "      <th>0</th>\n",
       "      <td>ham</td>\n",
       "      <td>Go until jurong point, crazy.. Available only ...</td>\n",
       "    </tr>\n",
       "    <tr>\n",
       "      <th>1</th>\n",
       "      <td>ham</td>\n",
       "      <td>Ok lar... Joking wif u oni...</td>\n",
       "    </tr>\n",
       "    <tr>\n",
       "      <th>2</th>\n",
       "      <td>spam</td>\n",
       "      <td>Free entry in 2 a wkly comp to win FA Cup fina...</td>\n",
       "    </tr>\n",
       "    <tr>\n",
       "      <th>3</th>\n",
       "      <td>ham</td>\n",
       "      <td>U dun say so early hor... U c already then say...</td>\n",
       "    </tr>\n",
       "    <tr>\n",
       "      <th>4</th>\n",
       "      <td>ham</td>\n",
       "      <td>Nah I don't think he goes to usf, he lives aro...</td>\n",
       "    </tr>\n",
       "    <tr>\n",
       "      <th>...</th>\n",
       "      <td>...</td>\n",
       "      <td>...</td>\n",
       "    </tr>\n",
       "    <tr>\n",
       "      <th>5567</th>\n",
       "      <td>spam</td>\n",
       "      <td>This is the 2nd time we have tried 2 contact u...</td>\n",
       "    </tr>\n",
       "    <tr>\n",
       "      <th>5568</th>\n",
       "      <td>ham</td>\n",
       "      <td>Will ü b going to esplanade fr home?</td>\n",
       "    </tr>\n",
       "    <tr>\n",
       "      <th>5569</th>\n",
       "      <td>ham</td>\n",
       "      <td>Pity, * was in mood for that. So...any other s...</td>\n",
       "    </tr>\n",
       "    <tr>\n",
       "      <th>5570</th>\n",
       "      <td>ham</td>\n",
       "      <td>The guy did some bitching but I acted like i'd...</td>\n",
       "    </tr>\n",
       "    <tr>\n",
       "      <th>5571</th>\n",
       "      <td>ham</td>\n",
       "      <td>Rofl. Its true to its name</td>\n",
       "    </tr>\n",
       "  </tbody>\n",
       "</table>\n",
       "<p>5572 rows × 2 columns</p>\n",
       "</div>"
      ],
      "text/plain": [
       "     Category                                            Message\n",
       "0         ham  Go until jurong point, crazy.. Available only ...\n",
       "1         ham                      Ok lar... Joking wif u oni...\n",
       "2        spam  Free entry in 2 a wkly comp to win FA Cup fina...\n",
       "3         ham  U dun say so early hor... U c already then say...\n",
       "4         ham  Nah I don't think he goes to usf, he lives aro...\n",
       "...       ...                                                ...\n",
       "5567     spam  This is the 2nd time we have tried 2 contact u...\n",
       "5568      ham               Will ü b going to esplanade fr home?\n",
       "5569      ham  Pity, * was in mood for that. So...any other s...\n",
       "5570      ham  The guy did some bitching but I acted like i'd...\n",
       "5571      ham                         Rofl. Its true to its name\n",
       "\n",
       "[5572 rows x 2 columns]"
      ]
     },
     "execution_count": 4,
     "metadata": {},
     "output_type": "execute_result"
    }
   ],
   "source": [
    "df"
   ]
  },
  {
   "cell_type": "code",
   "execution_count": 5,
   "id": "a93b94da",
   "metadata": {},
   "outputs": [
    {
     "data": {
      "text/plain": [
       "<Axes: xlabel='Category', ylabel='count'>"
      ]
     },
     "execution_count": 5,
     "metadata": {},
     "output_type": "execute_result"
    },
    {
     "data": {
      "image/png": "[encoded data removed]",
      "text/plain": [
       "<Figure size 640x480 with 1 Axes>"
      ]
     },
     "metadata": {},
     "output_type": "display_data"
    }
   ],
   "source": [
    "sns.countplot(x=df['Category'])"
   ]
  },
  {
   "cell_type": "code",
   "execution_count": 6,
   "id": "d09aef5d",
   "metadata": {},
   "outputs": [],
   "source": [
    "X= df['Message']\n",
    "Y= df['Category']"
   ]
  },
  {
   "cell_type": "code",
   "execution_count": 7,
   "id": "69e8d021",
   "metadata": {},
   "outputs": [
    {
     "data": {
      "text/plain": [
       "array([0, 0, 1, ..., 0, 0, 0])"
      ]
     },
     "execution_count": 7,
     "metadata": {},
     "output_type": "execute_result"
    }
   ],
   "source": [
    "# integer our label instead of replacing\n",
    "from sklearn.preprocessing import LabelEncoder\n",
    "le = LabelEncoder()\n",
    "Y = le.fit_transform(Y)\n",
    "Y"
   ]
  },
  {
   "cell_type": "code",
   "execution_count": 8,
   "id": "abc90f7c",
   "metadata": {},
   "outputs": [],
   "source": [
    "# split our data to tarin and test\n",
    "from sklearn.model_selection import train_test_split\n",
    "X_train, X_test, Y_train, Y_test= train_test_split(X,Y,test_size= 0.2)"
   ]
  },
  {
   "cell_type": "code",
   "execution_count": 9,
   "id": "e1aaa61d",
   "metadata": {},
   "outputs": [],
   "source": [
    "# preprocessing, delete and lower case or etc\n",
    "from tensorflow.keras.preprocessing.text import Tokenizer\n",
    "max_words = 500 # vocab_size maximum words in our copus\n",
    "tkn = Tokenizer(num_words= max_words)\n",
    "# fit on our real data\n",
    "tkn.fit_on_texts(X_train)"
   ]
  },
  {
   "cell_type": "code",
   "execution_count": 10,
   "id": "7e6278ba",
   "metadata": {},
   "outputs": [
    {
     "name": "stdout",
     "output_type": "stream",
     "text": [
      "[[46, 1, 254, 1, 59, 14, 54, 6, 233, 10, 18, 58, 20, 26, 146], [91, 29, 194, 33, 67, 4, 411, 159, 412], [14, 124, 150, 20, 283, 12, 98, 78, 147], [60, 160, 11, 461, 1, 3, 36, 16, 3, 147], [79, 31, 54, 74, 2, 87], [37, 11, 7, 413, 177, 10, 347, 68, 4], [84, 73, 16, 101], [83, 6, 8, 40], [1, 11, 396, 25, 79, 32, 14, 142], [91, 1, 36, 70, 8, 42, 41, 219], [43, 59, 21, 289], [329, 434, 314, 348, 315, 43, 47, 137, 13, 115, 16, 47, 19, 2, 462, 20], [99, 64, 14, 60, 2, 88, 3, 207, 7, 283, 115, 3, 147, 1, 59, 2, 7, 4, 10, 220, 380], [132, 1, 5, 19, 451, 164, 53, 251, 22, 39, 74, 12, 361, 189, 13, 451, 123, 47, 39, 90, 2, 165, 7, 89], [102, 13, 255, 53, 3, 435, 2, 28, 19, 62, 42, 41], [284, 1, 297, 88, 3], [195, 11], [3, 151, 32, 125, 34, 3, 69, 436, 120, 1, 111, 56, 80], [38, 38, 1, 36, 330, 51], [23, 87], [117, 452, 3, 208], [12, 96, 362, 17, 3, 103, 39, 25, 92, 258, 16, 47, 26, 71, 85], [199, 116, 4, 209, 62], [64, 27], [221, 5], [54, 96, 259, 67], [453, 32, 5, 234, 19, 13, 97, 112, 7, 96, 453, 40, 152, 9, 47, 15], [114, 436, 4, 15, 11, 255, 10, 2, 44, 7, 58, 35, 166, 7, 54, 10, 21, 29, 4, 138, 166, 126, 118, 160, 251, 244, 23, 3, 88, 48, 29], [143, 24, 1, 106, 196, 1, 90, 3, 437, 414], [163, 82, 381, 1, 481, 12, 11, 61, 24, 30, 113, 363, 11, 61, 10, 12, 481, 199], [132, 9, 6, 415, 9, 21, 51], [314, 35, 4, 397, 175, 178, 43, 31, 249, 172, 24, 111, 175, 31, 249, 172, 12, 178, 199], [1, 11, 268, 164, 6, 44, 164], [40, 463, 17, 58, 30, 4, 66], [1, 36, 33, 364, 104, 51, 52, 67], [9, 14, 46, 34, 1, 5, 123, 117, 124, 4, 7, 29, 285], [1, 107, 64, 125, 316, 21, 24, 176, 50, 330, 12, 4, 238, 52, 13], [74, 19], [315, 3, 22, 349, 4, 315, 16, 317, 309], [25, 27, 276, 8, 40, 55], [38, 90, 2, 204, 268, 12, 10, 1, 365], [29, 23, 8, 61, 35, 3, 29, 62, 1, 35, 3, 3, 138, 10, 23, 129], [74, 2, 260, 12, 18, 65], [45, 128, 82, 204, 482, 204, 49, 39, 32, 67, 350], [68, 4], [6, 25, 135, 18, 4, 18, 141, 8, 8, 26, 464, 269, 16, 2, 135, 310, 144, 483], [179, 1, 60, 50, 465, 484, 338, 20, 82, 1, 485, 142, 18, 153, 146, 68, 233, 77, 54, 68, 131, 1, 60, 484, 82, 68, 77], [438, 71, 10, 49, 270, 85, 30, 7, 73, 78, 90, 2, 32, 5, 12, 10], [181, 4, 465, 197, 112, 20, 18, 339, 71, 2, 302], [1, 107, 245, 12, 5, 252, 439, 10, 49, 3, 32, 67, 34, 3, 381, 32, 67], [9, 54, 9, 5, 15, 34, 6, 3, 42, 41, 221, 260, 2], [283, 180, 222, 194], [84, 21, 23, 331, 20], [46, 24, 37, 466, 76, 7, 200, 2, 256, 27, 55, 30, 40, 66, 133], [1, 276, 2, 125], [137, 5, 235, 10, 222, 24, 184, 2, 3, 1, 25, 20, 1, 366, 138, 182, 3, 106, 14, 184], [75, 318, 20], [99, 398, 169, 35, 11, 340, 264, 53, 83, 6, 44, 18, 134, 10, 4, 16, 8, 7, 416, 30, 76, 34, 279, 26, 10, 19, 40, 20, 61, 380], [129, 108, 265, 127, 3, 22, 303, 4, 55], [46, 77, 417, 79, 8, 486], [55, 467, 11, 61, 96, 304, 22, 3, 10, 53, 28, 3, 28, 22, 3, 271, 7, 26, 129, 7, 35, 11, 61], [9, 163, 55, 9, 7, 487, 9, 161, 209], [3, 56, 67, 9, 1, 382, 351, 2, 3, 8, 42, 41, 399, 54], [18, 7, 329, 1, 468, 13], [24, 1, 17, 2, 1, 57, 2, 17, 61, 7], [52, 47, 469, 367, 89, 37, 70, 5, 332, 2, 20, 272, 173, 141, 144, 185], [9, 67, 96, 147], [277, 7, 43, 47, 19, 434, 19, 223, 16, 19, 26], [418, 92, 87, 252, 146, 179, 1, 59, 419, 305], [5, 420, 9, 5, 420, 119, 9, 61, 5, 420, 9, 4, 352, 155, 250, 6, 420], [461, 19, 42, 41], [29, 136, 49, 1, 133, 1, 133, 8, 5, 7, 256, 239, 488, 29, 30, 5, 1, 236, 256, 239, 49, 270, 197, 62, 9], [59, 14], [400, 6, 14, 290, 133, 50, 1, 36, 210], [10, 10, 138, 10, 24, 8, 5, 363, 15, 11, 172, 49, 1, 421, 189, 75, 19, 11, 7, 148, 1, 175, 6, 17, 4, 209, 62], [156, 29, 113, 8, 113, 353, 311, 155, 156, 224, 6, 113, 306, 40, 119, 216, 311, 25], [73, 440, 8, 277, 46], [25, 3, 16, 10, 421, 13, 157, 368, 50, 15, 1, 17, 16, 8, 155, 17, 2, 440, 240, 23, 16, 10, 421], [24, 29, 19, 4, 7, 1, 139, 126, 246, 15, 29, 236, 19, 4], [48, 6, 398, 340, 127, 6, 22, 197, 66, 1, 16, 115, 9, 205, 1, 175, 6, 32, 8], [14, 36, 95, 19, 1, 94, 35, 225, 21, 36, 33, 489, 2, 134, 12, 197], [146, 190, 6, 57, 43, 31, 354], [46, 341], [46, 77, 24, 27, 126, 369, 10, 92, 303, 291, 20], [31, 6, 104, 14, 271, 9, 113, 422, 82, 490, 130, 15, 196, 82, 319, 17, 209, 62, 87], [152, 162, 224, 423, 12, 13, 185], [59, 49], [2, 12, 286, 23, 110, 22, 12, 37, 72, 4, 470, 124, 2, 134, 4, 19, 53, 110, 180, 342], [11, 124, 103, 23, 118, 1, 1, 37, 226, 365, 1, 290], [1, 16, 1, 424, 2, 6], [1, 63, 8, 439, 19, 5, 130, 2], [211, 6, 92], [73, 254, 15, 51, 15, 244], [206, 103, 12, 5, 150, 2, 400, 3, 12, 40, 1, 1, 383, 104, 13, 258, 12, 7, 36, 11, 3, 17, 103, 7, 4, 30, 51, 491], [22, 6, 266, 2, 5, 76], [200, 50], [213, 46, 141, 42, 41, 277, 7, 93, 6], [37, 3], [1, 63, 285, 52, 13, 72, 1, 142, 64, 136, 152], [3, 92, 30, 5], [91, 401, 25, 3, 370, 165, 10, 30, 5, 19, 14, 151, 33, 150, 19, 5, 130], [70, 10, 5, 108, 157], [4, 343], [111, 21, 1, 61, 3, 7, 1, 3, 384, 201, 3, 7, 13, 261], [105, 28, 10, 4, 105, 11, 354, 2, 105, 14, 86, 9, 98, 354], [38, 320, 247, 162, 1, 137, 136, 454, 19, 5, 439, 167, 112, 17, 347, 227, 24, 1, 107, 1, 402, 40, 66], [178, 77, 34, 110, 51, 45, 54, 1, 45, 77], [47, 12, 385, 112, 223, 267, 43, 31, 97, 197, 112, 37, 81, 223, 2, 32, 7, 102, 31, 144, 273, 234, 278, 267], [311, 403, 53, 9, 4, 411, 93, 14, 9, 113, 21, 4, 49, 14, 9, 271, 78, 4, 55, 123], [46, 292, 88, 213, 54], [23, 28, 3, 17, 280], [185, 3, 70, 47, 7, 492, 169, 40, 152, 52, 67, 28, 3, 88, 5, 12], [39, 321, 8, 5, 227, 42, 41, 277], [320, 70, 2, 330, 14], [29, 30, 76, 100, 16], [7, 21, 9, 5, 318, 3, 237, 8, 2, 53, 9, 74, 19, 237, 3, 1, 148, 5, 252, 244, 7, 110, 45, 8, 75, 7, 50, 5, 251, 452, 3, 45, 205, 160, 3, 69, 2, 28, 140, 27, 21, 3, 111, 56, 162, 29, 140, 21, 3, 111, 49, 1, 102, 3, 53, 9, 74, 2, 10, 54, 3, 69, 2, 33, 49, 29], [1, 63, 239, 23, 16, 3, 147, 168, 104, 196, 341, 6, 7, 10], [84, 73, 16, 101], [147, 298, 49, 14, 140, 164, 86, 8, 5, 15, 147, 111, 13, 86], [211, 143, 24, 14, 36, 120, 2, 13, 62], [9, 221, 55], [53, 116, 102, 10], [386, 245, 12, 120], [132, 3, 25, 404, 35, 493, 65, 42, 41], [7, 166, 44, 52], [53, 9, 5, 15, 5], [], [49, 6, 61, 225, 106, 138, 166, 2, 61, 6, 72, 118, 72, 6, 28, 24, 61, 166, 23, 118, 21, 110, 106, 69, 2, 33, 78, 3, 199], [1, 17, 18, 227, 112, 29, 15, 166, 293, 44, 10, 162, 1, 17, 137, 4], [161, 228, 10, 405, 6, 256, 369, 126], [229, 47, 16, 455, 32, 4, 177, 197, 112, 37, 71, 2, 230], [20, 8, 35, 108, 7, 121, 52, 173, 97, 204, 12, 37, 78, 32, 7, 104, 5], [38, 63, 456, 19, 5, 6, 198, 24, 17, 15, 23, 63, 11, 50, 6], [24, 29, 74, 76, 20, 54, 45, 77, 57, 74, 18, 194], [110, 22, 37, 14, 387, 2, 404, 85, 1, 17, 42, 41, 2, 148, 24, 1, 25, 404, 85, 3, 32], [39, 22, 294, 2, 202, 3, 167, 322, 368, 21, 3, 183, 4, 333, 158, 269, 16, 135, 425, 65, 388], [262, 25, 24, 29, 303, 371, 35, 11], [120, 295, 78, 29, 30, 5, 78], [53, 2, 98, 102, 5], [63, 19, 11, 130], [9, 307, 12, 8, 441], [252, 72, 8, 441, 461], [129, 354, 248, 6, 176, 31, 194, 82, 228, 133, 126], [286, 12, 13, 71, 105, 144, 483, 35, 95, 38, 258], [39, 36, 165, 194, 414], [22, 3, 46, 53, 2, 57, 40], [284, 3, 347, 75, 73, 406, 147], [48, 28, 3, 57, 5], [400, 3, 78, 286, 55, 38, 93, 95, 2, 241], [46, 1, 28, 6, 56, 1, 59], [4, 1, 28, 185, 81, 2, 355, 139, 231, 230, 119, 19, 242], [29, 304, 57], [59, 39, 365, 442, 45, 82, 26, 45, 26], [127, 3, 22, 303, 4, 55, 112, 37, 8], [9, 67, 96, 1, 25, 45, 2, 7, 372, 7, 37, 404, 356], [132, 3, 92, 69, 2, 45, 12, 34, 39, 363, 30, 54, 25, 45, 7, 5], [1, 36, 440, 31, 76, 8, 42, 41, 399], [55, 168, 11, 61, 1, 45, 2, 256, 20, 7, 250, 3, 4, 121, 62, 15, 290, 7, 3, 22, 11, 167, 284, 174, 1, 61, 3, 471], [36, 33, 50, 15, 312, 8, 4, 287, 84], [1, 63, 27, 182, 80, 123, 1, 56, 65, 80], [262, 37, 53, 1, 60], [91, 31, 47, 58, 2, 11, 76, 7, 171, 1, 177, 2, 142, 171, 290, 58, 33, 47, 86], [162, 9, 21, 414, 1, 5, 22, 51, 3], [1, 90, 122, 10, 494, 3, 56, 22, 27, 117, 7, 5, 9, 222, 53, 151, 1, 28, 17, 4, 62, 494, 17, 3, 179, 1, 106, 165, 3, 48, 60, 5], [1, 63, 8, 87, 1, 36, 76, 8], [6, 161, 405, 256, 23, 118, 11, 10, 44, 30, 389, 18, 365, 268, 86], [171, 7, 3, 190, 37, 45, 2, 5, 7, 404, 12, 5, 461, 2, 33, 177], [60, 14, 191, 6], [46, 1, 36, 102, 98, 2, 50, 154, 64, 103, 24, 39, 22, 244, 36, 40, 352], [274, 35, 356, 8, 4, 62, 3, 36, 175, 13, 249, 264, 8, 40, 353, 42, 41], [39, 30], [46], [64, 4, 2, 5, 461, 14, 37, 3, 163, 2, 461, 13], [4, 131, 24, 413, 222, 8, 7, 1, 111, 107, 1, 217, 14, 44, 240, 57, 454], [19, 130, 2, 486, 25, 3, 105, 70, 10, 157], [12, 68, 59, 7, 59], [92, 1, 17, 27, 14, 87], [1, 214, 254, 15, 125, 48, 246, 28, 39, 17], [270, 212, 17, 2, 33, 130, 125, 316, 21], [6, 111, 56, 48, 1, 63, 1, 297, 216, 69, 2, 45, 2, 5, 1, 29, 27, 4, 22, 12], [2, 8, 15, 136, 51, 200, 105, 10, 8, 31, 116], [91, 91, 55, 114], [186, 167, 322, 368, 21, 3, 17, 183, 333, 145, 26, 4, 281, 16, 20, 2, 135, 173, 141, 388], [462, 13, 390], [64, 46, 11, 9, 1, 59, 4, 23, 39, 25, 45, 347, 66], [19, 5, 130, 2, 364, 87], [5, 344, 5, 167, 386, 7, 22, 303, 4, 24, 52, 21, 244, 22, 74, 46], [391, 9, 68, 271, 55, 26, 437, 9, 68, 271, 26, 162, 9, 271, 443, 2, 224], [56, 270, 237], [178, 77, 482, 15, 188, 77], [122, 114, 169, 35, 11, 249, 131, 1, 200, 50, 35, 43, 4, 112, 20, 208, 192, 64, 103, 316, 4, 112], [91, 91, 48, 9, 13, 20], [53, 2, 89, 357], [243, 22, 3, 21, 304, 27, 271, 456, 285, 85, 21, 483, 12, 11, 20, 426, 68, 175, 10], [464, 12, 72, 120, 464, 311], [47, 385, 112, 469, 18, 43, 4, 343, 18, 181, 26, 145, 197, 373, 81, 2, 310, 144, 483], [6, 148, 405, 15, 334, 350, 27, 148, 263, 338, 4, 289, 65, 77, 1, 254, 149, 27, 23, 209, 405], [213, 290, 316], [64, 4, 70, 457, 119, 2, 51, 31, 255, 34, 229, 83, 113, 252, 54, 225, 161, 6, 193, 10, 5, 249, 10], [84, 1, 226, 71, 155, 88, 3, 8], [1, 28, 57, 5], [132, 6, 51, 313, 165, 43, 371, 30], [135, 31, 286, 492, 71, 46, 2, 20, 276, 18, 31, 472, 185, 12, 139, 373, 173, 141, 278, 26, 95], [17, 3, 103, 13], [8, 21, 1, 323, 73, 88, 3, 30], [190, 32, 85, 2, 3, 444, 27, 86, 24, 1, 257, 142, 3, 25, 33, 220, 8, 5, 188, 8, 285, 68, 12, 3, 7, 3, 32, 4, 26, 6, 12, 4, 128, 6, 235, 12, 7, 68, 196, 15, 5, 6, 180, 194, 495], [17, 3, 7, 171, 13, 66, 205, 48, 22, 3, 78, 5, 130], [20, 32, 18, 5, 130, 192], [3, 208, 2, 10, 44, 41], [1, 17, 6, 72, 4, 202, 19, 185, 2, 70, 47, 286, 2, 52, 286, 38, 2, 42, 41], [391, 3, 249, 32, 357, 50, 117], [171], [29, 59, 19, 110, 43, 371, 77, 262, 1, 131, 36, 45, 66], [122, 311, 5, 9, 14], [17, 3, 59, 420, 491, 34, 27, 1, 36, 32, 14, 20], [338, 10, 350, 101], [29, 5, 55, 53, 22, 3, 160, 227], [243, 48, 496, 21, 108, 304, 22, 3, 67, 20, 22, 3, 129, 28, 3, 107, 15, 10, 1, 11, 7, 70, 3, 4, 471, 52, 5], [55, 55, 51, 37, 103, 192, 109, 324], [11, 9, 149, 445, 8, 149, 467, 23, 29, 27, 384, 98, 23, 141, 6, 233, 18, 372, 86, 26, 418, 77], [262, 110, 214, 53, 30, 5, 422, 418, 262, 23, 48], [48, 28, 1, 35, 5, 257, 10, 167, 123, 24, 154], [1, 214, 203, 5, 115, 150, 20, 105, 70, 4, 152], [482, 205, 52, 133], [1, 178, 77], [84, 1, 214, 104, 13, 16, 150, 20, 14, 23, 21, 67, 83, 28, 146, 3, 69, 94, 25, 58, 7, 283, 32, 98, 7, 33, 489, 2, 7, 17, 196, 29, 465, 12, 5, 150, 12, 98, 23, 37, 134, 10, 168, 279, 49, 1, 366, 88, 5, 306, 21, 25, 10, 2, 5, 150], [23, 59, 47, 1, 233], [46, 197, 123, 104, 4, 4, 15, 7, 88, 4, 133, 15, 3, 92, 90, 2, 37, 23, 21, 3, 56], [1, 107, 1, 59, 31, 1, 14, 8, 497, 14, 8, 43, 6, 319], [32, 4, 47, 97, 345, 47, 2, 473, 71, 45, 2, 64, 47, 25, 33, 7, 423, 272, 65], [42, 41, 121, 420, 462, 3, 25, 88, 117], [7, 3, 7, 1, 88, 39, 25, 92, 44, 126], [37, 177, 3, 136, 2, 136, 35, 8, 14, 9, 21, 150], [1, 59, 13, 85, 28, 3, 17, 96, 8, 474], [6, 74, 2, 43, 7, 32, 4, 289, 32, 31, 279, 14], [46, 104, 31, 66, 82, 324, 31, 371], [330, 150, 20], [174, 3, 156, 18, 7, 140, 103, 43, 9, 13, 222], [100, 16, 89, 241, 218, 19, 392, 72, 3, 17, 183, 4, 269, 333, 145, 26, 158], [31, 349, 15, 464, 47, 469, 18, 89, 322, 81, 498, 2, 144], [154, 32, 5], [1, 214, 203, 5, 115, 150, 20, 105, 70, 4, 152], [99, 124, 103, 2, 31], [273, 234, 125, 52, 116, 15, 47, 35, 121], [114, 169, 66, 2, 138, 120], [48, 109, 3, 176, 50, 8, 4, 130, 21, 297, 51, 15], [60, 8, 12, 21, 23, 96, 251], [1, 171, 254, 126, 75, 27, 10, 6, 228, 233, 140, 46, 74, 18, 405, 128, 59], [17, 6, 103, 235, 367, 11, 325, 34, 23, 184, 59, 4, 49, 1, 11, 6, 141, 1, 111, 32, 43, 21], [34, 1, 32, 67, 240, 3, 159, 13, 446, 7, 458, 23, 258, 10, 311], [3, 217, 17, 10, 1, 3, 390], [91, 9, 271, 23, 3, 370, 22, 212, 452, 1, 45, 203, 44, 5, 7, 32], [427, 5, 48, 22, 3, 160, 40, 9, 37, 3, 4, 121, 62], [186, 39, 22, 294, 2, 202, 3, 167, 322, 368, 6, 17, 183, 4, 333, 158, 269, 16, 135, 425, 187], [186, 475, 12, 86, 9, 13, 62, 18, 176, 50, 162, 144, 185, 67, 9, 4, 12, 3], [1, 466, 1, 424, 74, 2, 256, 421, 16, 10, 44, 240, 312], [1, 37, 374, 36, 445, 227, 112], [122, 121, 1, 366, 142, 125, 23, 21, 39, 25, 274], [326, 8, 326, 8, 463, 326, 49, 57, 326, 49, 6, 326, 225, 92, 2, 88, 6], [105, 1, 383, 311, 27, 65], [99, 11, 124, 20, 14, 9], [86, 1, 63, 239, 12, 42, 476, 41, 219], [23, 53, 80, 3, 53, 28, 3, 428], [1, 111, 375, 56, 53, 2, 28, 1, 92, 226, 32, 15, 1, 203, 3, 44, 358, 7, 39, 25, 88, 34, 8, 5], [51, 36, 58, 290, 96, 55, 499, 67], [38, 90, 2, 79, 126, 299, 254, 15, 40], [99, 398, 37, 59, 4, 108, 313, 141, 4, 26, 4, 253, 169, 253, 2], [19, 11, 23, 1, 214], [128, 83, 39, 291], [488, 39, 22, 50, 164], [132, 163, 12, 13, 4, 27], [1, 127, 3, 247, 5, 15, 271, 7, 429, 142, 80, 7, 189, 13, 7, 51, 5, 249], [55, 168, 11, 116, 17, 4, 121, 155, 62], [357, 323, 131, 37, 59, 5, 251, 62], [48, 28, 3, 370, 45, 2, 88, 19, 13], [55, 24, 248, 232, 6, 8, 246, 491], [121, 48, 9, 5, 364, 86], [211, 1, 60, 212, 167, 352, 1, 120, 8, 24, 1, 42, 41, 37, 8, 1, 60, 125, 5, 112, 110, 14, 19, 5], [132, 44, 84, 80, 5, 239, 93], [9, 163, 9, 171, 9, 126, 9, 24, 271, 9, 163, 199], [122, 311, 29, 212, 20], [25, 3, 5], [15, 4, 275, 167, 112, 60, 11, 11, 430, 250, 10, 11, 374, 82, 23, 109, 11, 1, 200, 2, 133, 216, 11, 109, 27, 250], [64, 42, 41, 5, 9, 8, 281, 23, 94, 45, 5, 59, 14], [27, 52, 4, 452, 16, 43, 253, 314, 2, 233, 15, 10, 54, 71, 2, 70, 95, 380], [1, 107, 74, 2, 20, 58], [108, 8, 234, 1, 406, 35, 234, 370, 34, 6, 57, 459, 35, 10, 71, 2, 272, 81, 385, 302, 231], [247, 299, 6, 477, 18, 189, 10], [68, 9, 67, 3, 16, 7, 165, 142], [462, 11, 200, 2, 7, 137, 4, 312, 35], [186, 100, 16, 52, 317, 13, 43, 281, 26, 145, 173, 310, 376], [162, 94, 2, 274, 2, 10], [32, 201, 117, 3, 22, 27, 13, 130, 50, 15, 40, 407, 8, 4], [72, 75, 15, 89, 6, 25, 5, 322, 43, 4, 342, 180, 464, 78, 35, 2, 71, 95], [417, 43, 149, 140, 263, 209], [132, 23, 5, 435, 40, 451], [296, 63], [77, 262, 249, 9, 82, 487, 19, 365, 26, 487, 442, 193, 6], [334, 118, 30, 76, 96, 435], [89, 261, 49, 225, 9, 8, 14, 24, 14, 163, 49, 225, 14], [7, 28, 3, 17, 96, 75, 21, 25, 10, 48, 2], [330, 1, 149], [96, 343, 3, 402, 17, 137, 35, 10, 72, 194, 72, 3, 11, 78, 11, 115, 157, 52, 13, 27, 292, 30, 51, 100, 28, 27, 202, 10, 192, 26, 1, 36, 3, 2, 13], [29, 30, 76, 100, 16], [34, 446, 12, 4, 148, 204, 14, 138, 182, 64, 456, 1, 136, 19, 12, 42, 41], [154, 37, 253, 7, 264, 54, 138, 5, 387, 72], [79, 228, 90, 2, 203, 31], [206, 43, 11, 393], [154, 247, 5, 1, 59], [261, 225, 163, 118, 225, 194, 261, 36, 27, 57, 24, 36, 33], [3, 36, 33, 8, 5, 238, 15, 21, 275], [122, 1, 297, 70, 21, 2, 3, 211], [21, 73, 45, 201, 23, 6, 25, 28, 11, 28, 14, 47, 150], [140, 34, 3, 25, 37, 497, 26, 26, 191, 247, 401, 4, 411, 125, 316, 145], [243, 6, 16, 6, 300, 1, 44, 6, 51, 72, 1, 90, 4, 52, 109, 43, 167, 18, 86, 15], [315, 3, 22, 349, 4, 315, 16, 317, 309], [46, 77, 54, 39, 45, 77], [34, 3, 208, 22, 47, 1, 25, 134], [21, 9], [1, 217, 153, 34, 39, 217, 32, 125, 34, 25, 8], [247, 53, 1, 61, 2, 431, 263, 88, 3, 54], [7], [141, 8, 40, 32, 139, 47, 37, 445, 119, 43, 358, 141, 173, 141, 93, 43], [123, 124, 12, 347, 62, 168, 124, 58, 8, 4, 259, 130, 248, 3, 326, 57, 5, 7, 13, 30, 5, 199], [294, 20, 6, 365, 164, 39], [22, 13, 22, 3, 76, 280, 36, 3, 428, 2, 471, 13, 8, 5, 168, 28, 3, 61, 10, 28, 3, 107, 15, 10, 22, 3, 10, 280], [84, 80, 21, 40, 9, 11, 115, 7, 1, 408, 14, 61], [38, 38, 1, 36, 330, 51], [33, 201, 8, 4, 289, 37, 120, 293, 50], [84, 77, 1, 372, 432, 372, 419, 1, 374, 18, 330, 11, 115], [1, 228, 6, 1, 254, 6, 257, 142], [47, 152, 13, 478, 47, 71, 492, 78, 2, 40, 152, 35, 5, 332, 47, 12, 144, 185], [17, 4, 55, 372, 50, 12, 428, 49, 3, 32, 85, 39, 80], [13, 435, 60, 2, 45, 205, 2, 35, 10, 409, 4, 196, 8, 5, 353, 23, 1, 17, 2, 321, 35, 13, 347, 62], [40, 9, 5, 441, 66, 39, 17, 18, 202, 6, 6, 17, 183, 5, 158, 18, 135, 9, 387, 16, 65, 230, 327, 455], [6, 233, 18, 477, 268, 29, 8, 87, 20], [410, 208, 11], [91, 51, 5, 249], [49, 295, 88, 11, 110, 107, 2, 110, 22, 110, 56, 21, 2, 11, 341, 255], [23, 246, 295, 2, 33, 259, 30, 195, 24, 65, 163, 287, 36, 259, 2, 3, 13, 167, 166, 172], [28, 3, 69, 4, 108, 223, 115, 35, 47, 399, 2, 96, 97, 47, 458, 47, 93, 26, 16], [46, 6, 324, 31, 368], [97, 339, 5, 275, 231, 19, 31, 97, 150, 20, 71, 2, 12, 5, 39, 366, 70, 6, 4, 47], [84, 8, 291, 73, 16, 101], [6, 17, 183, 4, 223, 494, 4, 47, 315, 40, 9, 53, 6, 32, 49, 6, 181, 89, 47, 2, 104, 396, 70, 223, 2, 20, 278], [7, 3, 17, 2, 495, 80, 10, 178, 2, 3, 57, 1, 156, 167, 123, 3, 28, 3, 69, 7, 73, 28, 5, 252], [99, 117, 17, 30, 19, 5, 2, 30, 7, 398, 160], [22, 3, 101], [330, 50, 89, 15, 7, 189, 13, 97, 7, 71, 2], [132, 110, 83, 27, 384, 207, 23, 73, 180, 76, 369], [361, 53, 96, 318], [11, 48, 22, 3, 160, 486, 9, 67, 4, 224, 240, 3, 28, 104, 196], [444, 1, 217, 32, 50, 54, 14, 26, 191], [206, 27, 177, 14, 68, 25, 70, 10], [235, 3, 83, 4, 18, 135, 13, 158, 71, 235, 18, 201, 2, 134, 71, 455], [53, 22, 101, 380], [23, 6, 233, 18, 58, 12, 89, 371, 207, 4, 27], [286, 9, 24, 6, 248, 27, 56, 128, 14, 31, 83, 93, 363, 93, 363], [12, 11], [48, 80, 285, 8, 35, 245, 12, 37, 81, 85, 13, 282, 7, 2, 8, 324, 5, 187, 286], [174, 17, 3, 59, 235, 2, 203, 44, 7, 7, 73, 134, 3, 14, 85, 49, 3, 32, 76], [275, 40, 439, 9, 23, 23, 23, 1, 107, 270, 212, 32, 67, 240, 10], [54, 79, 224, 43, 10, 30, 439, 95, 31, 350, 34, 1, 228, 141, 79, 54, 1, 45, 32, 11, 344, 54, 58, 85, 82, 203, 79], [1, 64, 163], [38, 87, 1, 63, 129, 21, 39], [177, 10, 31, 194], [292, 73, 71, 3, 8, 4, 287], [122, 184, 4, 335, 1, 164, 18], [100, 87, 16, 10, 96, 52, 11, 84, 87, 105, 87], [9], [43, 77], [86, 1, 382, 32, 21, 116], [40, 22, 39, 494, 1, 156, 63, 7, 3, 408, 93], [146, 120, 295, 9, 27, 37, 493, 336, 6, 210, 49, 6, 165, 166, 24, 493, 463, 6, 210, 49, 6, 175], [28, 3, 69, 4, 108, 223, 115, 35, 47, 399, 2, 96, 97, 47, 458, 47, 93, 26, 16], [53, 86, 9, 281, 23, 38, 133], [174, 1, 3, 36, 3, 260], [29, 46, 484, 14, 179, 1, 57, 18, 260, 108, 244, 24, 1, 6, 228, 57, 179, 6, 156, 27, 126], [3, 7, 13, 242, 7, 129, 108, 265, 8], [69, 2, 70, 10, 4, 1, 90, 75], [106, 138, 12, 94, 188, 2, 58, 222, 54, 46], [225, 9, 443, 43, 6, 7, 311, 124, 4, 66, 2, 138, 6, 165, 336, 306, 442, 324, 31], [9, 21, 19, 5, 38, 64], [207, 154, 33, 222, 12, 21], [359, 266, 76, 460, 159, 227], [1, 16, 3, 101, 111, 17, 394, 34, 286, 10], [122, 154, 140, 11], [6, 22, 2, 5, 249, 97, 218, 8, 5, 234, 12, 230, 389, 309, 419, 3, 70, 95, 2], [29, 308, 141, 79, 67], [3, 92, 30], [3, 17, 183, 4, 269, 333, 145, 26, 4, 158, 2, 135, 158, 16, 89, 241, 218, 19], [77, 128], [1, 323], [33, 4, 30, 11, 238, 101, 207, 3], [151, 1, 67, 26, 53], [23, 6], [181, 4, 158, 34, 6, 56, 131, 5, 108, 15, 36, 33, 81, 98, 195, 282, 2, 95, 302, 231], [48, 58, 45, 82, 102, 98, 54, 6, 257, 98], [3, 22, 236, 13, 50, 67, 3, 415, 15, 13, 19, 3, 22, 75, 15, 5, 422, 295, 206, 381, 162, 190, 1, 107, 4, 15, 13, 360, 190, 3, 138, 3, 210], [276, 13, 116], [100, 16, 72, 67, 9, 136, 186, 152, 245, 12, 3], [151, 1, 102, 11, 264, 27, 2, 58, 57, 42, 41], [482, 20, 44, 23, 4, 289, 25, 200, 50, 393, 1, 214, 20], [286, 5, 108, 7, 5, 339, 26, 363, 93, 363], [54, 162, 3, 27], [1, 17, 367, 32, 327, 106, 56, 53, 2, 28], [122, 9, 40, 5, 195, 66, 6, 276, 15], [99, 127, 3, 137, 4, 55, 62, 17, 4, 290, 123], [43, 139, 150], [359, 212, 33, 117, 12, 4, 452, 88, 3, 101, 207, 42], [99, 1, 72, 10, 4, 49, 22, 6, 47], [184, 12, 271, 67, 12, 10, 37, 2, 274, 2, 19, 3, 22, 163, 116, 2, 10, 1, 303, 3, 72, 4, 7], [11, 9, 174], [29, 261, 29], [79, 263], [419, 77, 213, 25, 45, 43, 371], [108, 253, 18, 370, 8, 31, 43, 37, 47, 18, 377, 26, 30, 185, 81, 75, 282, 2], [2, 204, 101, 1, 330, 164, 65, 59, 445, 8, 149, 467, 6, 300, 133, 164], [28, 6, 57, 5, 8, 166, 23, 50, 5, 198, 351, 194], [173, 97, 241, 3, 248, 20, 135, 13, 47, 315, 115, 4, 404, 45, 12, 13, 16, 19, 395, 173, 423], [45, 419, 65, 8, 82, 121, 353, 149, 67, 59, 146], [84, 1, 36, 33, 489, 2, 32, 2, 3, 88, 3, 8, 5, 168], [247, 5, 195, 66, 6, 156, 6, 468, 10, 409, 34, 1, 468, 6, 195, 3, 28, 61, 10], [23, 330, 13, 7, 34, 3, 137, 28], [1, 63, 19, 5, 130, 2], [1, 63, 239, 1, 36, 33, 67, 30], [69, 2, 44, 31, 35, 4, 108, 267, 93, 18, 40, 71, 144, 273, 234, 5, 82, 249, 394, 423], [221, 27], [1, 214, 224, 2, 88, 3, 48, 208, 5, 208], [5, 198, 35, 6, 25, 2, 5, 2, 189, 191, 24, 5, 110, 17, 14, 49, 6, 215, 45, 279, 14], [369, 96, 280], [14, 125], [384, 146, 6], [321, 16, 20, 37, 230, 219, 378, 376, 91], [114, 308, 13, 43, 281, 26, 16, 20, 231], [4, 289, 15, 31, 326, 9, 11, 4, 15, 31, 9, 11, 4, 396, 15, 31, 261, 9, 11, 172, 4, 261, 57, 196, 12, 6, 72, 11], [132, 341, 1, 60, 49, 3, 137, 4, 34, 3, 402, 58, 2, 10, 1, 69, 2, 70, 4, 2, 225, 24, 14, 45, 201, 12, 166, 346, 428, 49, 3, 44, 21, 12, 10, 2, 45, 2, 7, 5, 217, 3, 102, 10, 48, 2, 28, 21, 26, 28, 3, 56, 120, 251, 130, 2, 397, 346, 110, 25, 293, 52, 5, 96, 258, 190, 33, 121, 11, 471], [22, 269, 5, 348, 223, 115, 4, 26, 4, 158, 81, 332, 473, 2, 38, 187], [313, 28, 120, 113], [53, 6, 369, 168, 140, 128, 13, 30], [7, 427, 13], [], [162, 3, 58, 35, 188], [1, 34, 13, 115, 200, 1, 137, 2, 102, 3, 1, 61, 3, 174], [46, 1, 32, 31, 119], [59, 75, 375], [1, 61, 3, 3, 56, 25, 3, 210, 14, 426, 14, 138, 13, 1, 250, 14, 426, 11, 61, 1, 382, 165, 3, 8, 13, 471], [48, 60, 167, 123, 206, 103, 7, 7, 163, 411, 307, 12, 125, 465, 53, 15, 66, 28, 3, 313, 165], [], [48, 331, 240, 3, 32, 93, 37, 227], [3, 25, 138, 4, 8, 162, 28, 110, 32, 51, 5, 55, 293], [26, 191, 57, 21, 19, 1, 166, 67], [116, 1, 63, 27, 13, 100], [100, 16, 89, 241, 218, 19, 392, 72, 3, 17, 183, 4, 269, 333, 145, 26, 158], [27, 280, 74, 2, 472, 19, 229, 65, 56, 53, 36, 159, 21], [106, 33, 116], [6, 18], [72, 4, 3, 22, 479, 2, 377, 4, 32, 14, 2, 13, 81, 5, 332, 46, 2, 38, 2, 135, 187, 119], [1, 76, 8, 5, 376], [31, 9, 20, 31, 227, 9, 131, 8, 5, 18, 81, 31, 2, 55], [102, 10, 40, 105], [13, 325, 124, 103, 78, 42, 476, 41, 13, 325, 9, 42, 476, 41, 13, 9, 42, 41], [44, 1, 175, 3, 1, 3, 1, 90, 3], [468, 13, 16, 1, 60, 30, 175, 6, 226, 224, 12, 6, 2, 58, 76, 29, 23, 86], [91, 11, 171, 4, 7, 347, 264, 248, 171, 69, 120, 23, 435, 19, 73, 102, 3, 49, 110, 56, 12, 182], [139, 8, 18, 8], [39, 83, 164], [55, 28, 3, 107, 3, 217, 70, 10, 120, 1, 190, 61, 2, 88, 13, 7], [11, 156, 68, 266, 76, 18, 497, 188, 50, 43, 268, 288, 1, 45, 6, 77, 1, 16, 6, 49, 1, 440, 486, 77], [1, 140, 11, 1, 93, 146, 66, 28, 79, 90, 2, 232], [21, 9], [70, 10, 13], [4, 9, 21, 191, 370, 17, 21, 1, 111, 56, 80], [48, 331, 124, 14, 103, 488, 3, 414], [10, 5, 251, 463, 245, 12, 11, 2, 497, 14, 21, 151, 8, 23, 29, 212, 260, 2, 33, 19, 101], [59, 4, 7, 124, 2, 33, 76, 316, 68, 284, 23, 33, 117], [24, 1, 482, 1, 11, 86], [46, 46, 46, 54, 31, 435], [55, 168, 169, 52, 7, 36, 27, 33, 489, 2, 58, 2, 364, 86], [53, 57, 98], [38, 37, 32, 4, 294, 2, 14, 50, 6, 25, 10, 2, 28, 5, 1], [104, 31, 66], [47, 469, 367, 89, 37, 70, 5, 332, 181, 2, 20, 272, 173, 141, 144, 273, 234], [477, 6, 142, 1, 210, 23, 87, 263, 60, 456], [400, 3, 398, 1, 214, 224, 2, 5, 337, 198], [1, 64, 8, 13, 26, 191], [6, 23, 198, 1, 134, 6, 11, 91, 3, 73, 107, 15, 6], [137, 13, 97, 389, 462, 2, 348, 434, 315, 345, 12, 47, 35, 47, 458, 460, 446, 71, 143, 12, 4, 2, 50], [211, 46, 283, 260, 2, 70, 33, 9, 32, 14, 147], [1, 236, 253, 35, 3, 8, 1, 90, 235, 25, 3, 10], [28, 3, 69, 4, 108, 345, 96, 394, 277, 329, 314, 93, 26, 16, 12, 147], [22, 3, 67, 8, 360], [20, 277, 7, 19, 434, 348, 223, 47, 16, 19, 26], [127, 3, 22, 303, 4, 55, 112, 37, 8], [34, 149, 25, 54, 1, 45, 6, 77], [91, 134, 85, 11, 184], [3, 65, 10, 3, 25, 16, 96, 24, 3, 408, 216, 4, 16, 15, 26, 216, 3], [31, 349, 15, 464, 26, 464, 269, 18, 322, 498, 2, 144], [46, 46, 46, 54, 31, 435], [132, 109, 6, 381, 12, 5, 227], [116, 31, 322, 43, 464, 36, 180, 19, 15, 4, 49, 60, 354, 81, 2], [1, 106, 17, 96, 15, 13, 8, 11, 1, 60, 8, 133, 49, 3, 485, 10, 1, 102, 3, 34, 1, 176, 178, 8, 11, 360], [99, 127, 31, 62, 55, 85, 52, 12, 329, 215, 10, 56, 49, 31, 266, 201], [25, 29, 47], [16, 10, 49, 6, 300, 54, 1, 58, 82, 203, 6], [400, 3, 7, 78, 5, 130, 1, 37], [132, 174, 84, 1, 297, 32, 25, 58, 7, 14, 68, 68, 53, 14, 9, 24, 68, 45, 72, 4, 7, 68, 447, 14, 36, 355, 42, 41, 1, 111, 56, 34, 14, 402, 33, 2, 176, 225, 67, 39, 111, 17, 96, 30, 51, 150, 20, 215, 10, 56, 53, 3, 69, 2, 28, 174], [327, 23, 9, 280, 113], [47, 119, 39, 13, 97, 157, 78, 52, 100, 16, 2, 17, 40, 16, 36, 33, 47, 52, 4, 327, 317], [221, 221, 42, 41], [48, 22, 3, 44], [413, 37, 212, 495, 12, 334, 7, 68, 134, 3, 235, 64, 38, 276], [384, 432, 77, 299, 94, 23, 39, 98, 43, 146, 346, 94, 254, 140, 392, 188], [34, 3, 153, 98, 26, 94, 148, 96, 100, 152], [186, 13, 97, 38, 60, 349, 158, 19, 229, 412, 40, 9, 89, 260, 2, 202, 6, 16, 52, 317, 388], [36, 28, 3, 212, 33, 30, 51, 123, 1, 402, 33, 489, 2, 32, 50, 15, 117, 4, 411, 369], [38, 1, 63, 27, 303, 27, 96, 8, 11], [3, 17, 139, 108, 100, 16], [40, 63, 8, 312], [211, 9, 21, 13, 268], [213, 1, 6, 64, 46, 184, 379, 324, 31, 385], [128, 3, 53], [11, 11, 11, 255, 82, 11, 51, 7, 1, 60, 245, 19, 5], [184, 24, 92, 178, 1, 36, 232, 14, 4, 289, 23, 27, 18, 142, 7, 36, 260, 101, 121, 184, 127, 9, 92, 67], [1, 21, 320, 485, 10, 23, 65, 1, 286, 57, 21, 80, 257, 86, 23, 65, 448, 106, 10], [37, 8, 19, 3, 161, 28, 175, 28, 17, 4, 121, 352], [1, 107, 206, 14, 25, 3, 70, 4, 461, 152], [6, 92, 25, 45, 465], [74, 4, 163, 7, 44, 35, 5, 252, 9, 5, 252, 66, 36, 481, 1], [91, 182, 63, 8, 11, 76, 286, 10, 493, 105], [137, 13, 97, 462, 12, 47, 2, 348, 315, 460, 446, 16, 97, 19, 26], [401, 11, 97, 9, 15, 119, 7, 1, 424, 160, 4, 133, 128, 1, 90, 2, 70, 166, 42, 41, 177, 119, 1, 6, 101], [3, 17, 103, 187, 378, 376], [488, 49, 193, 96, 96], [17, 4, 406, 30, 5, 8, 26, 4, 38, 4, 2, 33, 4], [3, 437, 340, 1, 25, 92, 428, 166], [18, 97, 83, 16, 20, 31, 339, 498, 187], [324, 5, 15, 19, 6, 78, 31, 8, 40, 353, 15, 14, 9, 4, 464, 2, 33], [200, 2, 404, 23, 1, 137, 2, 45, 2, 5, 2, 5], [400, 3, 414, 1, 69, 2, 88, 13, 209], [384, 498, 155, 30, 137, 2, 45, 155, 53, 80, 6], [68, 50, 68, 10, 68, 190, 33, 239, 7, 10, 7, 54, 1, 297, 431, 4, 332, 52, 142], [49, 109, 32, 85], [1, 17, 4, 19, 11, 150], [290, 443, 44, 12, 7, 57, 4, 20, 1, 210, 24, 30, 64, 27, 463, 15], [132, 227, 436, 4, 30, 39, 25, 45, 12, 21, 227, 451, 102, 10, 53, 66, 3, 83, 47], [247, 296, 17, 142, 134, 10, 4, 16, 34, 68, 53, 68, 26, 124, 96], [402, 377, 4, 330, 52, 33], [109, 6, 5], [38, 139, 267, 43, 31, 197, 112, 37, 81, 2, 385, 267, 47, 23, 32, 20, 7, 102, 31, 255, 187, 267, 278, 93], [421, 34, 52, 4, 97, 273, 155, 6, 2, 42, 41, 26, 42, 41, 28, 27, 28, 23, 5, 16, 14, 136, 15, 2, 138, 276, 15, 5, 38, 78, 223, 82, 82, 124, 103, 78], [117, 59, 15], [72, 4, 394, 241, 3, 17, 103, 479, 2, 158, 2, 135, 16, 135, 425, 65], [292, 39, 36, 17, 459], [143, 20, 65, 13, 152], [47, 469, 2, 5, 43, 4, 343, 2, 181, 5, 348, 223, 26, 145, 197, 373, 81, 121, 2, 144, 185], [343, 135, 31, 15, 86, 71, 143, 2, 20, 97, 173, 310, 278], [109, 6, 176, 4, 12, 1, 60, 7, 51, 62], [116, 48, 9, 109, 3, 274, 2, 98], [91, 91, 49, 36, 3, 134], [37, 4, 289, 35, 11, 30, 5, 114, 18, 130, 59, 4, 8, 4, 219, 1, 382, 324, 21], [168, 65, 1, 25, 46], [5, 85, 8, 357], [6, 338, 23, 341], [1, 175, 3, 164, 3, 56, 13, 51, 1, 25, 107, 80, 449, 1, 226, 224, 227, 265, 49, 39, 36, 33, 471], [1, 284, 32, 142, 4, 372, 37, 179, 279, 5, 15, 198, 6, 7, 68, 23, 118], [374, 14, 10, 170, 2, 84, 128, 3, 30, 13, 115, 280], [99, 67, 39, 17, 20, 89, 190, 33, 121, 18, 141, 6, 34, 6, 58, 44], [54, 228, 77], [1, 226, 138, 14, 207], [1, 63, 74, 2, 256, 1, 63, 15], [313, 17, 4, 260, 253, 19, 13, 97, 20, 78, 5, 332, 253, 7, 70, 14, 2, 38, 378, 376, 278, 119], [5], [179, 66, 141, 146, 66, 79], [91, 91, 162, 214, 3, 58, 117, 7, 304], [190, 10, 3, 50, 258, 188, 133, 40, 66], [375, 77, 24, 228, 102, 142, 224, 68, 32], [29, 76, 11, 61, 34, 13, 92, 471], [55, 293, 36, 28], [47, 152, 184, 12, 5, 218, 272, 187, 18, 136, 81, 50, 18, 81, 95], [84, 73, 16, 101], [132, 53, 66, 9, 13, 19, 39, 45, 12, 19], [14, 23, 21, 67, 83, 28, 146, 3, 69, 94, 25, 58, 7, 283, 32, 98, 7, 33, 489, 2, 7, 17, 196, 29, 465, 12, 5, 150, 12, 98, 23, 37, 134, 10, 168, 279, 49, 1, 366, 88, 5, 306, 21, 25, 10, 2, 5, 150], [480, 6, 44, 18, 6], [106, 210, 1, 25, 13, 10, 75, 35, 10, 7, 1, 17, 120, 12, 15, 188, 215, 172, 192, 16, 10], [204, 75, 12, 10, 87, 100], [226, 224, 2], [1, 106, 56, 217, 3, 153], [374, 2, 102, 79, 25, 79, 57, 157, 5, 23, 21, 140], [3, 22, 269, 5, 223, 115, 4, 26, 4, 158, 81, 332, 473, 2, 38, 187], [256, 114, 87, 100, 104, 196, 448, 100], [37, 7], [100, 134, 14, 18, 26, 1, 36, 203, 14, 44, 19, 80, 454, 34, 21, 9, 46], [143, 88, 213, 27, 19, 5], [44, 48, 127, 3, 17, 103, 49, 1, 408, 431, 52, 295, 1, 485, 166, 7, 110, 137, 5, 488, 42, 41, 37, 57, 2, 56, 28, 17, 4, 265, 7, 51, 5, 249, 35, 13, 494, 34, 3, 25, 161, 161, 195, 12, 54, 13, 133, 9, 308], [1, 151, 21, 1, 111, 161, 196, 7, 34, 3, 226, 1, 25, 30, 32, 40, 2, 449, 205, 24, 132, 13, 235, 34, 3, 69, 14], [4, 420, 9, 245, 12, 3, 89, 124, 3, 52, 89, 97, 2, 377, 4, 37, 16], [105, 70, 10, 13, 320], [342, 2, 56, 128, 5, 449, 3, 22], [105, 70, 10, 5, 282, 87], [182], [132, 1, 36, 33, 239, 361, 165, 3, 30], [14, 244, 367, 49, 191, 57, 40], [109, 3, 88, 21], [193, 9, 171, 7, 5, 21, 5, 251, 130, 9, 193, 4, 112, 24, 49, 14, 2, 3, 248, 17, 2, 2, 32, 13, 293], [14, 426, 14, 19, 64, 422, 15, 5, 66, 14, 11, 24, 14, 4, 332, 45], [243, 48, 6, 160, 53, 6, 103, 44, 18, 49, 36, 6, 180, 50, 15, 5, 179, 1, 36, 90, 2, 2, 203, 44, 5, 104, 196, 243], [1, 90, 3, 2, 33, 8, 11], [1, 25, 28, 21, 1, 69, 2, 100, 3, 7, 5], [21], [106, 445, 48, 415, 108, 44, 19], [3, 56, 1, 109, 4, 4, 24, 198, 35, 5, 251, 62, 12], [48, 22, 3, 35, 235, 72, 8, 2, 3, 235, 4, 198, 48, 22, 3], [29, 19, 5, 439, 61, 3], [99, 468, 13, 16, 7, 11, 51, 201, 53, 9, 13], [29, 163, 129, 12, 3, 174, 19], [3, 290, 27, 17, 257, 21, 2, 229, 251], [213, 21, 75, 9, 72], [3, 25, 298, 28, 334], [211, 110, 111, 56, 80, 11, 115, 1, 217, 150, 20, 34, 1, 69], [11, 11, 11, 255, 82, 11, 51, 7, 1, 60, 245, 19, 5], [72, 8, 1, 69, 122], [84, 8, 291, 73, 16, 3, 101], [417, 4, 335], [79, 146, 66, 300], [189, 31, 8, 31, 261, 36, 12, 6, 65, 6, 155, 6, 17, 2, 12, 31, 155, 181, 5, 342, 154, 134, 10, 4, 16, 34, 59, 4, 99, 174, 407, 50, 379, 16, 6], [435, 2, 32, 117, 96, 66, 159, 57, 42, 41, 73, 71, 3, 8, 4, 289], [55, 78, 5, 130, 36, 134, 6, 12, 451, 358, 351, 240, 54, 242], [61, 3, 61, 6, 335], [90, 4, 226, 140, 21, 66, 15, 112, 164], [154, 1, 36, 180, 67, 30, 84, 37, 102, 10, 193, 2, 8, 7, 58, 6, 25], [109, 94, 148, 178], [94, 156, 28, 6, 301, 34, 1, 45, 367, 5, 12, 4, 1, 8, 4, 433, 94, 466, 50, 229, 4, 82, 11, 430], [15, 295, 66, 12, 235, 7, 5, 252, 235, 9, 12, 66, 55, 168, 189], [315, 375, 55, 389, 7, 17, 4, 281, 33, 7, 1, 127, 3, 4, 55, 129, 108, 265, 2, 3, 88, 3, 8, 4, 15], [38, 29, 27, 212, 33, 489, 2, 126, 239, 73, 33, 76, 8, 4, 287, 379, 53, 22, 5], [123, 123, 88, 3, 147], [37, 90, 8, 5, 14, 142, 4, 335, 23, 68, 10], [146, 120, 295, 9, 27, 37, 493, 336, 6, 210, 49, 6, 165, 166, 24, 493, 463, 6, 210, 49, 6, 175], [299, 128, 6, 30, 64, 37, 57, 141], [53, 3, 109, 8, 232], [143, 39, 208, 12, 57, 18, 7, 1, 485, 11, 2, 166, 44, 14, 30, 139, 63], [15, 8], [81, 16, 2, 38, 135, 13, 15, 170, 274, 66, 2, 276, 52, 13, 115, 20, 278, 95, 144, 432], [77, 57, 21, 110, 383, 215, 188, 45, 262, 53, 109, 110, 148, 8, 5, 7], [215, 67, 33, 215, 67, 33, 40, 15, 23, 25], [181, 4, 333, 145, 158, 26, 4, 158], [298, 299, 1, 263, 59, 146, 336, 62, 79, 70, 10, 87, 214, 133, 75], [48, 22, 6, 1, 17, 468, 6, 1, 103, 44, 18, 118, 4, 289, 35, 5, 281, 69, 18, 45, 18, 14], [65, 350, 19, 193, 115, 11, 25, 32, 77], [91, 24, 1, 69, 2, 5, 87, 1, 313, 32, 26, 394], [62, 259, 181, 201, 333, 8, 89, 7, 104, 13, 19, 5, 15, 4, 70, 45, 2, 20, 187, 119], [129, 108, 265, 11, 116, 1, 161, 28, 175, 3, 37, 59, 13, 157, 7, 2, 70, 3, 40, 71, 3, 65], [299, 226, 6, 37, 6, 208, 7, 153, 10, 2, 104, 6, 85], [105, 70, 10, 4, 80, 131, 29, 49, 7, 48, 118], [211, 126, 437, 184, 64, 55, 2, 180, 76, 24, 64, 103, 375, 4, 330, 31, 62, 103, 109, 6, 28, 178, 35], [438, 88, 3, 8, 4, 289], [38, 87, 86, 171, 1, 374], [102, 128, 3], [433, 1, 175, 3, 13, 109, 3, 45, 2, 5, 126], [132, 53, 6, 205, 31, 113, 62, 40, 55, 20, 34, 6, 28, 196, 134, 10, 4, 16, 147], [50, 1, 137, 61, 19, 115, 5], [22, 3, 307, 2, 7, 8], [40, 404, 9, 42, 476, 41], [1, 106, 17, 96, 15, 13, 8, 11, 1, 60, 8, 133, 49, 3, 485, 10, 1, 102, 3, 34, 1, 176, 178, 8, 11, 360], [60, 27, 367, 54], [116, 103, 2, 40, 9, 89, 2, 202, 6, 81, 253, 2, 187], [213, 163, 209, 33, 307, 19], [243, 48, 22, 3], [84, 73, 16, 101], [272, 13, 345, 36, 33, 35, 3], [184, 192, 12, 13, 93, 86, 49, 9, 31, 266, 8, 7, 83, 6, 92, 5, 7, 11, 244, 22, 27, 387, 171, 124, 220, 23, 1, 161, 90, 2, 107, 80, 48, 2, 138, 11, 235, 101], [38, 251, 5, 9, 19, 13, 29, 23, 1, 161, 297, 372, 13, 445, 3], [206, 177, 11, 430, 13, 71, 159, 39, 204, 166, 102, 3, 53, 2, 28, 23, 37, 39, 151, 45, 32, 166, 40], [29, 117, 8, 4, 95, 7, 470, 335, 150, 20, 11, 50, 346, 1, 210, 57, 29, 4, 8, 481, 10, 7, 20, 1, 210, 57, 29, 3], [15, 4, 275, 167, 112, 60, 11, 11, 430, 250, 10, 11, 374, 82, 23, 109, 11, 1, 200, 2, 133, 216, 11, 109, 27, 250, 72, 1, 11, 11, 448, 156, 129, 1, 259, 94, 10, 43, 268, 159, 268, 94, 10, 2, 98, 39, 200, 67, 94, 156, 28, 6, 301, 34, 1, 45, 367, 5, 12, 4, 1, 8, 4, 433, 94, 466, 50, 229, 4, 82, 11, 430, 11, 11, 11, 255, 82, 11, 51, 7, 1, 60, 245, 19, 5], [34, 3, 92, 5, 105, 215, 10, 56, 23, 1, 25, 45, 2, 5, 238, 1, 177, 14, 2, 32, 5, 157], [438, 38, 73, 153], [29, 161, 84, 1, 180, 489, 18, 28, 40, 127, 6, 25, 176, 136, 127, 74, 46], [1, 111, 17, 157, 1, 92, 284, 44, 4, 130, 2, 153], [211, 1, 190, 24, 11, 190, 17, 4, 7, 102, 5, 48, 7, 1, 63], [277, 7, 43, 47, 19, 434, 19, 223, 16, 19, 26], [79, 59, 146, 2, 204, 102, 188, 54, 79, 38, 90, 2, 58, 8, 192], [72, 230, 13, 124, 103, 72, 13, 12, 51, 412, 2, 13, 255], [55, 467, 11, 61, 48, 496, 13, 62, 48, 109, 3, 256, 1, 127, 13, 114, 11, 1, 107, 15, 3], [38], [462, 20, 420, 395, 348, 223, 47, 277, 81, 19, 434, 16, 19, 26], [143, 5, 65, 238, 8, 450, 2, 165, 9, 20, 8, 5, 234, 81, 253, 2, 20, 187, 119], [15, 260, 81, 2, 34, 3, 111, 57, 81, 7, 32, 4, 108, 187, 119, 278], [74, 12, 371, 119, 3, 159], [29, 92, 499, 12, 4, 344, 2, 204, 7, 17, 27, 461, 280], [229, 35, 52, 47, 18, 51], [122, 37, 285, 216, 35, 6, 6], [1, 3, 57, 499, 8, 5, 407, 367, 4, 150], [5, 34, 5, 306, 124, 4, 325, 37, 70, 13, 325, 7, 5, 235, 36, 33, 177, 2, 3], [241, 218, 39, 2, 138, 4, 2, 3, 24, 208, 2, 28, 23, 100, 16, 2], [206, 76], [27, 52, 4, 452, 16, 10, 20, 63, 117, 51, 123, 35, 37, 11, 19, 138, 10, 12, 14, 57, 6, 109, 167, 66, 319, 483], [113, 4, 275, 60, 19, 42, 476, 41, 42, 41, 467, 139, 220, 430, 485, 18, 170, 430, 320, 1, 60, 49, 5, 238, 43, 1, 60, 229, 1, 60, 305, 328, 1, 200, 18, 113, 364, 358, 39, 200, 18, 339, 454, 39, 200, 18, 4, 113, 14, 93, 35, 34, 6, 83], [46, 77, 1, 18, 45, 43, 4, 452, 18, 6, 233, 18, 70, 10, 67, 26, 146], [28, 3, 69, 4, 108, 223, 115, 35, 47, 399, 2, 96, 97, 47, 458, 47, 93, 26, 16], [9, 222, 24, 1, 17, 2, 203, 14, 44, 52, 142, 23, 73, 78, 8, 4, 411, 289], [53, 151, 1, 365, 268], [43, 281, 26, 362, 145, 13, 186, 20, 52, 317, 27, 2, 50], [1, 214, 203, 5, 115, 150, 20, 105, 70, 4, 152], [1, 60, 8, 5, 49, 6, 485, 132, 4, 30, 88, 29, 27, 293, 57, 21, 426], [46], [11, 264, 30, 2, 45, 465, 7, 2, 24, 14, 248, 33, 12, 154, 39, 151, 32], [259, 478, 15, 2, 33, 183, 37, 43, 387, 339, 20, 70, 2, 125, 144, 337, 185], [48, 3, 11], [420, 31, 349, 464, 47, 469, 18, 83, 322, 81, 498, 2, 144], [], [99, 6, 20, 2, 440, 6, 134, 10, 4, 468, 356, 6, 141, 119], [14, 151, 104, 80, 42, 41, 219], [1, 56, 236, 7, 56, 1, 59, 14, 448, 400, 3, 55, 123], [132, 433, 17, 1, 257, 3, 1, 3, 1, 127, 3, 428, 2, 400, 13, 8, 12, 410, 1, 61, 3, 174], [86, 68, 59, 304], [3, 16, 491, 304, 86, 46, 7, 153, 166, 2, 44], [430, 48, 94, 5, 66, 15], [298, 203, 44, 98, 115], [46, 258, 10, 153, 34, 456, 418, 4, 27], [68, 447, 99, 7, 2, 32, 13, 85, 2, 30, 4], [3, 22, 27, 10, 24, 3, 17, 2, 11, 105], [1, 127, 13], [79, 224, 43, 10, 8, 1, 300, 229], [73, 33, 8, 43, 305, 1, 228, 477, 87, 8, 140, 30, 76], [106, 107, 23, 14, 205, 57, 15], [1, 59, 2, 345, 8, 152, 77, 6, 23, 47, 233, 18, 258, 10, 179, 1, 6, 233, 18, 372, 23, 153, 6], [34, 270, 27, 8, 11, 344, 8, 136, 416, 7, 4, 329, 29, 74], [128, 22, 5, 110, 19, 5], [123, 124, 12, 347, 62, 168, 124, 58, 8, 4, 259, 130, 248, 3, 326, 57, 5, 7, 13, 30, 5, 199], [4, 287, 295, 22, 30, 5, 29, 30, 5, 35, 7], [18, 97, 83, 16, 20, 31, 339, 498, 187], [382, 1, 58, 2, 32], [64, 55, 176, 4, 130], [114, 1, 36, 372, 8, 180], [86, 1, 63, 239, 12, 42, 41, 219], [55, 467, 48, 496, 3, 62, 96, 58, 13, 130, 1, 107, 15, 3, 7, 70, 11, 61, 5, 2, 138, 3, 326, 7, 129], [55, 168, 11, 116, 17, 4, 121, 155, 62], [64, 4, 396, 15], [342, 37, 44, 19, 3, 28, 17, 4, 352], [288, 303, 11, 268, 20, 6, 365, 164], [31, 145, 9, 478, 2, 31, 145, 8, 20, 70, 45, 2, 65, 187], [72, 8], [22, 67, 215, 10, 56, 100, 179, 1, 161, 90, 2, 429, 456], [3, 28, 53, 51, 3, 57], [34, 6, 228, 54, 48, 1, 45, 18], [51, 5, 249, 35, 14], [39, 17, 4, 152, 13, 2, 473, 13, 152, 37, 16], [121, 2, 431, 3, 22, 114, 23], [243, 427, 3, 7, 48, 109, 45, 1, 60, 37, 2, 88, 34, 2, 28, 178, 27, 21, 29, 294, 2, 26, 178], [12, 31, 343, 2, 181, 145, 197, 373, 81, 339, 2, 144, 498, 483, 373], [143, 1, 4, 15, 19, 436, 92, 126, 29, 37, 44], [38, 318, 48, 22, 3, 160], [29, 8, 364, 92, 56, 49, 110, 232, 10], [10, 10, 138, 10, 24, 8, 5, 363, 15, 11, 172, 49, 1, 421, 189, 75, 19, 11, 7, 148, 1, 175, 6, 17, 4, 209, 62], [213, 29, 2, 146, 38, 361, 43, 6, 2, 180, 393, 23, 442, 6, 228, 17, 2, 133, 418], [1, 56, 4, 287, 295, 1, 25, 44, 7, 449, 2, 5, 143], [17, 3, 236, 103], [], [15, 4, 275, 167, 112, 60, 11, 11, 430, 250, 10, 11, 374, 82, 23, 109, 11, 1, 200, 2, 133, 216, 11, 109, 27, 250], [2, 234, 97, 40, 119, 9, 47, 3, 47, 2, 30, 187, 2, 70, 45, 95, 2], [3, 17, 72, 8, 30, 185, 7, 42, 41, 2, 15, 28, 27, 26, 2], [49, 109, 1, 276, 1, 276, 14, 65, 30, 76, 79, 48, 18, 14, 8, 332], [1, 149, 119, 1, 18, 415, 8, 149, 1, 23], [38, 11, 200, 18], [137, 13, 97, 26, 125, 6, 83, 2, 462, 2, 5, 348, 35, 315, 12, 47, 16, 5, 97, 462, 273, 47, 19], [199, 104, 196], [46, 73, 12, 57, 136, 416, 179, 11, 9, 161], [94, 9, 89, 94, 18, 89, 94, 9, 113, 127, 15, 147, 43, 98, 131, 60, 43, 113, 89, 155, 78, 61, 155, 18, 98, 155, 463, 105, 472, 8, 457, 155, 14, 95], [186, 31, 349, 4, 2, 26, 333, 2, 135, 81, 457, 2, 272, 305, 302, 231, 389], [5, 62, 34, 3, 22, 307, 29, 321, 8, 13, 450, 1, 61, 459, 230, 119, 93, 95, 2, 363], [25, 3, 100, 70, 10, 11, 157], [165, 3, 8, 3, 25, 88, 48, 11, 301, 9, 456], [116, 40, 9, 13, 2, 473, 13, 43, 281, 26, 145, 16, 52, 317, 388], [31, 124, 103, 7, 3, 17, 103, 231, 3, 25, 389, 125, 40, 352, 144, 273, 234, 119], [9, 110, 203, 44, 7, 30], [67, 18, 42, 41, 9, 21], [58, 31, 47], [114, 9, 57], [79, 228, 233, 2, 372], [114, 436, 27, 4, 335, 15, 244, 8, 19, 108, 120, 8, 7, 5, 124, 191, 74], [77, 224, 43, 11, 18, 300, 54, 17, 268, 77, 1, 168, 30, 76, 11, 360, 20, 11, 360, 375], [359, 27, 92, 74, 201, 120, 293, 117], [1, 16, 3, 101, 111, 17, 394, 34, 286, 10], [10, 126, 384, 65, 159, 305], [132, 39, 25, 45, 7], [209, 209, 48, 9, 14, 456], [39, 2, 202, 3, 89, 395, 15, 108, 345, 115, 96, 394, 277, 329, 16, 26, 93, 12], [11, 2, 142], [132, 22, 3, 74, 2, 194, 7, 1, 456, 363, 15, 5, 352], [19, 11, 115], [384, 498, 155, 30, 137, 2, 45, 155, 53, 80, 6], [382, 1, 497, 4, 15, 2, 189, 188, 37, 73, 92, 497, 4, 26, 88, 3, 147], [124, 140, 4, 372], [263, 4, 149, 82, 173, 1, 82, 149, 129, 62, 8], [421, 34, 52, 4, 97, 273, 155, 6, 2, 42, 41, 26, 42, 41, 28, 27, 28, 23, 5, 16, 14, 136, 15, 2, 138, 276, 15, 5, 38, 78, 223, 82, 82, 124, 103, 78], [1, 69, 2, 445, 3, 5, 353, 414, 48, 80], [7, 166, 44, 52, 74, 18, 7, 110, 36, 28, 5, 43, 170, 7, 54, 6, 104, 166, 76, 18, 229, 163, 387], [38, 152, 38, 53], [341, 39, 248, 26, 248, 27, 45, 2, 2, 165, 23, 8, 21], [28, 6, 107, 21, 96, 340, 36, 6, 86, 78, 31, 407, 390], [47, 469, 8, 18, 4, 12, 4, 343, 2, 181, 136, 81, 2, 2, 32, 469, 81, 455, 173, 423, 12, 272], [1, 63, 27, 19, 12, 18, 309, 36, 356, 30, 76, 330], [62, 38, 62, 38, 62, 38, 62, 38, 170, 62, 38, 18, 6, 196], [57, 4, 26, 53], [3, 14, 24, 140, 490, 140, 93, 342, 20, 2, 244, 21, 36, 13, 301, 52, 65, 81], [99, 70, 120, 209], [1, 173, 107, 23, 3, 111, 90, 2, 33, 74, 50, 21, 239, 19, 4, 486, 123, 49, 5, 75, 312, 3, 17, 9, 5, 75, 3, 468, 167, 7, 359, 4, 461, 8, 19], [29, 20, 77, 24, 85, 2, 133, 194, 149, 445, 1, 372, 393, 163, 209], [65, 137, 13, 97, 3, 22, 2, 462, 2, 5, 348, 315, 97, 12, 47, 16, 5, 97, 462, 273, 47, 19], [243, 48, 83, 6, 169, 284, 32, 35, 5, 432, 24, 1, 63, 102, 10, 191, 124, 67, 178], [51, 149, 249, 43, 31, 101], [447, 39, 25, 203, 44, 52, 142, 101, 23, 154], [25, 3, 28, 4, 291, 40, 30, 120], [458, 399], [143, 1, 2, 70, 2, 138, 14, 24, 463, 466, 85, 23, 29, 85, 8, 474, 30, 5, 126, 1, 145, 8, 51, 11], [122, 7, 78, 5, 130, 3, 28, 17, 125, 487, 8, 13, 69, 2, 45, 50, 12, 4, 207], [330, 50, 13, 174, 286], [39, 12, 4, 7, 1, 201, 11, 7, 481, 151, 17, 30, 76, 88, 3, 147], [71, 165, 225, 433, 86, 6, 25, 176, 4, 26, 216, 64, 44, 2, 6, 472, 43, 37, 93, 35, 282, 272, 119], [91, 91, 1, 60, 8], [57, 191, 21, 225, 10, 190], [54, 1, 224, 77, 54, 6, 10], [39, 214, 88, 34, 39, 25, 472, 7, 26, 426, 69, 66], [10, 19, 213, 52], [39, 2, 202, 3, 13, 93, 2, 89, 395, 15, 277, 4, 108, 345, 115, 16, 20, 26, 93, 12, 47, 147], [99, 134, 188, 85, 89, 193, 39, 12, 52], [53, 83, 6, 10, 12, 371], [38, 3, 294, 2, 32, 10, 2, 205, 4, 26, 191], [17, 2, 330, 24, 436, 65, 57, 139], [221, 454, 219, 2, 45, 12, 268], [94, 200, 2, 347, 386, 86, 24, 92, 440, 76], [127, 6, 57, 18, 189, 10, 59, 4, 313, 141, 11, 81, 26, 93, 2, 95, 2], [113, 4, 275, 60, 19, 42, 476, 41, 42, 41, 467, 139, 220, 430, 485, 18, 170, 430, 320, 1, 60, 49, 5, 238, 43, 1, 60, 229, 1, 60, 305, 328, 1, 200, 18, 113, 364, 358, 39, 200, 18, 339, 454, 39, 200, 18, 4, 113, 14, 93, 35, 34, 6, 83], [6, 58, 82, 27], [39, 2, 16, 3, 13, 93, 2, 89, 286, 12, 4, 345, 97, 277, 71, 47, 93, 26, 16, 20], [9, 14, 13, 21, 497, 8, 5, 26], [328, 9, 5, 5, 275, 60, 19, 42, 41, 72, 281, 51, 22, 364], [1, 137, 6, 4, 120, 240, 64], [21, 32, 5], [169, 30, 1, 36, 33, 50, 80, 389, 313, 26, 9, 21, 2, 239], [52, 225, 27, 2, 49, 197, 66, 206, 8, 5, 167, 386, 9, 346, 15, 3, 26, 10, 21, 3, 2], [438, 147, 237, 42, 41, 14, 9], [47, 453, 71, 2, 2, 32, 13, 47, 267, 15, 5, 112, 20, 278], [211, 122, 38, 174, 1, 383, 33, 367, 13, 238, 159, 24, 184, 12, 5], [11], [23, 336, 6], [13, 150, 73, 138, 5, 150, 20], [246, 491, 39, 89, 249, 39, 22], [105, 258, 10, 102, 21, 1, 214, 176, 98, 157, 122], [46, 27, 182, 53, 66, 72, 27, 182, 34, 25, 32, 2, 240, 312, 36, 260, 88, 3, 30, 120, 17, 55], [311, 44, 4, 7, 6, 7, 5, 68, 40, 264, 9], [48, 80, 3], [10, 216, 34, 67, 64, 67], [1, 36, 58, 2, 31, 76, 20], [40, 152, 9, 47, 2, 5, 108, 2, 52, 40, 218, 93, 95, 187, 272, 65], [109, 6, 59, 21], [20, 1, 17, 149, 192], [382, 1, 153, 75, 198, 34, 3, 106, 10], [413, 79, 57, 499, 370, 27, 10, 11, 57, 148, 413, 24, 1, 228, 254, 68, 9, 120, 422, 73, 45], [2, 32, 8, 9, 21, 46], [46, 38], [71, 10, 49, 270, 117], [1, 63, 191, 451, 37, 59, 1, 404, 133, 443, 63, 319], [290, 316, 34, 68, 383, 276, 14, 220, 430, 36, 26, 166], [48, 1, 8, 87, 344, 20, 101, 54, 141, 350, 29], [78, 5], [88, 3, 67], [6, 25, 16, 10, 20], [1, 36, 70, 166, 2, 13, 28, 3, 301, 42, 41, 491, 230, 123], [129, 354, 2, 3, 116, 35, 15, 61], [11, 115, 31, 286, 7, 1, 90, 31], [87, 65, 1, 466, 2, 76], [47, 32, 43, 47, 52, 5, 385, 32, 31, 93, 54, 12], [5, 7, 476, 54, 12, 5, 5, 476, 57, 1, 3], [214, 1, 156, 23, 246, 244, 2, 3, 40, 168, 49, 51, 1, 161, 2, 148, 60, 55, 168, 1, 61, 3, 17, 4, 168, 88, 3, 8, 5, 101], [10, 204, 120, 487, 55, 24, 82, 228, 233, 482, 204, 4, 411, 289], [186, 3, 17, 183, 4, 139, 112, 47, 8, 89, 362, 158, 81, 5, 332, 135, 2, 38, 173, 141, 144, 483], [143, 414, 1, 69, 2, 100, 3, 197, 123, 13, 250, 9, 11], [221, 24, 27, 489, 2, 256], [121, 1, 5, 24, 98, 88, 3], [94, 274, 148, 138, 1, 3], [10, 126, 9, 2, 203, 44, 11, 7, 5, 463, 9, 266, 85], [182, 34, 1, 32, 136, 52, 3, 21, 140, 7, 2, 4], [11, 2, 4], [91, 73, 16, 3, 49, 29], [270, 150, 1, 297, 2, 28, 21, 1, 323, 356, 1, 44, 19, 7, 11, 2, 191, 19, 11, 14, 92, 447], [122, 46], [79, 51, 26, 146], [420, 158, 39, 22, 294, 2, 202, 6, 322, 368, 21, 3, 17, 183, 4, 158, 269, 16, 52, 314, 65], [29, 8, 364, 20, 87, 128, 22, 3], [75, 62, 4, 60, 19, 5, 5, 466, 82, 5, 15, 5, 403, 271, 11, 299, 83, 6, 11, 4, 60, 31, 2, 3, 279, 299, 1, 14, 205, 298, 6, 199], [6, 440, 164, 6, 233, 18, 45, 204, 195], [38, 179, 1, 228, 4, 344, 24, 1, 254, 1, 4, 75], [84, 493, 1, 200, 2, 470], [122, 442, 39, 104, 149, 75, 30, 77, 228, 233, 25], [36, 3, 57, 2, 33], [154, 68, 217, 33, 489, 2, 58], [1, 36, 58, 147], [3, 26, 25, 1, 58, 78, 30, 120, 7, 50, 53, 160, 147], [29, 30, 76, 100, 16], [91, 1, 36, 177, 14, 192], [109, 6, 59, 21], [32, 5, 348, 18, 31, 97, 139, 373, 47, 494, 4, 47, 267, 81, 19, 2, 144, 273, 234], [146, 66, 79, 300], [91, 73, 33, 67, 240, 43], [1, 107, 13, 9, 24, 27, 182], [5, 29, 245, 78, 5], [1, 178, 77], [438, 73, 191, 2, 365, 126, 71, 10, 49, 270, 85, 30], [156, 29, 113, 8, 113, 353, 311, 155, 156, 224, 6, 113, 306, 40, 119, 216, 311, 25], [], [89, 167, 123, 12, 98, 7], [140, 296, 32, 4, 26, 69, 10, 2, 58, 176, 3], [140, 92, 27, 456, 7, 40, 66, 1, 171, 21, 60, 5, 5, 9, 42, 41], [340, 6, 56, 9, 104, 196, 341, 7, 495, 141, 6, 61], [184, 87, 1, 210, 163, 163, 129, 116, 1, 171, 175, 3, 87], [31, 145, 9, 478, 2, 31, 145, 8, 20, 70, 145, 2, 65, 187, 119, 378, 376], [36, 104, 55, 196, 15, 3], [99, 3, 37, 2, 263, 57, 2, 56, 34, 3, 208, 35, 5, 93, 47, 35, 143, 26, 38], [297, 3, 32, 180, 8], [172, 35, 225, 12, 4, 248, 33, 24, 4, 287, 35, 225, 131, 161, 61, 3, 125, 316, 172], [38, 45, 38, 12, 21, 360, 159, 409, 136], [23, 53, 109, 5, 148, 80, 5, 235], [6, 303, 268, 1, 20, 23], [29, 6], [84, 73, 16, 101], [243, 398, 109, 3, 32, 85, 2, 13, 22, 3, 44, 5, 20, 13, 48, 496, 14, 1, 175, 3, 164], [20, 63, 47, 16, 10, 448], [1, 25, 138, 14, 44, 67, 42, 41, 50, 15, 11], [71, 2, 2, 473, 13, 423, 65, 324, 13], [186, 13, 97, 60, 349, 4, 302, 478, 158, 19, 305, 89, 18, 202, 6, 16], [99, 40, 9, 39, 36, 33, 3, 4, 47, 115, 157, 8, 4, 15, 309, 193, 36, 134, 3, 136, 2, 51, 5], [122, 91, 162, 3, 59, 304, 54, 44], [132, 7, 1, 22, 74, 2, 5, 7, 303, 4, 15, 1, 134, 10, 4, 49, 213, 300], [148, 405, 82, 68, 156, 214, 138, 24, 68, 156, 224, 77], [245, 43, 11, 432, 445, 18, 429, 77, 6, 405, 92, 160, 31], [73, 138, 182, 5, 344, 9, 85, 207], [104, 196, 82, 32, 114, 194], [1, 69, 2, 70, 191, 21, 25, 42, 41, 91, 9, 27, 387, 235], [3, 408, 13, 122], [84, 60, 30, 5], [211, 20, 29, 159, 21], [39, 2, 32, 7, 36, 45, 85, 159], [72, 230, 13, 124, 103, 72, 13, 12, 51, 412, 2, 13, 255], [167, 343, 135, 31, 15, 86, 71, 470, 2, 20, 97, 173, 310, 278], [51, 13, 114], [200, 2, 470], [143, 48, 9, 4, 57, 3], [299, 6, 153, 10], [348, 223, 97, 26, 269, 93, 35, 181, 2, 20, 302, 231], [37, 7], [288, 140, 30, 1, 18, 280], [4, 420, 9, 245, 12, 3, 89, 124, 3, 52, 89, 97, 2, 377, 4, 37, 16], [55, 168, 421, 16, 10, 320], [18, 139, 112, 8, 59, 205, 19, 108, 24, 1, 60, 110, 208, 6, 30, 280, 11, 133, 18], [46, 1, 403, 12, 235, 48], [286, 12, 13, 71, 105, 144, 483, 35, 95, 38, 258], [6, 6, 154, 83, 373, 451, 189, 15], [249, 119, 140, 2, 33, 35, 4, 306, 49, 6, 56, 21, 75, 125, 36, 138, 6, 8, 61, 155, 75, 85, 25, 31, 55, 123], [99, 169, 303, 5, 422, 66, 381, 39, 17, 2, 32, 44, 30, 197, 62, 60, 5, 55, 5, 251, 123, 1, 32, 76, 147, 30], [79, 233, 165, 30, 179, 10, 30, 20, 29, 27, 86], [331, 77, 6, 303, 371, 20], [2, 32, 13, 47, 71, 261, 2, 20, 173, 141, 423, 278, 65, 90, 258, 16], [91, 73, 33, 182, 2, 32, 44, 240, 7, 88, 53], [3, 17, 72, 8, 30, 185, 7, 42, 41, 2, 15, 28, 27, 26, 2], [4, 289, 79, 68, 228, 131, 1, 63, 54, 24, 68, 290, 405], [11, 172, 4, 335, 2, 10, 27, 346, 1, 61, 11, 172, 24, 346, 1, 61, 5, 295, 8, 11, 172, 5, 353, 446, 166, 255, 1, 16, 166, 11, 353], [52, 2, 32, 18, 231, 47, 16, 7, 15, 121, 105, 93, 18, 40, 71, 35, 13, 282, 328, 38, 7], [14, 37, 57, 21, 5, 123, 21, 51, 3, 7, 342, 69, 9, 12, 10, 2, 58, 9, 5, 252, 62, 72, 49, 4, 9, 2, 10, 236, 266, 201, 7], [1, 36, 12, 11, 261, 10], [36, 194, 32, 2, 321], [1, 63, 27, 303, 98, 157, 320], [73, 33, 30, 8, 57, 42, 41], [139, 170, 3, 17, 4, 453, 13, 9, 271], [274, 2, 342, 7, 242, 80, 21], [32, 125, 7, 52, 144, 185, 273, 234], [3, 22, 20, 51, 32, 15, 433, 26, 2, 13, 115, 45, 2, 273, 234, 38], [114, 66, 2, 138, 446], [151, 1, 204, 142, 4, 18, 26, 151, 1, 204, 142, 108, 26, 215, 10, 56, 494, 22, 3, 1, 151, 204, 5, 42, 41, 342, 7, 53, 22, 3, 80, 5, 80, 5, 42, 41, 342], [243, 38, 19, 304, 110, 22, 10, 224, 4, 112, 154, 169, 44, 12, 120, 7, 8, 92, 24, 33, 76, 80, 170], [22, 3, 26], [22, 479, 2, 377, 4, 34, 3, 17, 4, 100, 16, 135, 425], [186, 100, 16, 52, 317, 145, 26, 4, 43, 281, 173, 310, 378, 376, 388, 278], [11, 116, 160, 361], [6, 236, 141, 89, 75, 1, 94, 93, 195, 66, 6, 93, 23, 299, 23, 27, 59, 78, 31, 361], [1, 17, 4, 140, 49, 1, 274], [91, 91, 49, 22, 3, 74], [64, 27, 5, 252, 117, 92, 499, 12, 4, 304, 48, 118, 28, 67], [49, 22, 3, 370], [84, 8, 291, 73, 16, 101], [3, 134, 188, 85, 11, 7, 42, 41, 39, 383, 3, 2, 133, 39, 36, 58, 2, 13, 76, 309], [262, 25, 6, 23, 393], [25, 79, 16, 10, 30, 389, 389, 2, 138, 182, 336, 206, 44], [38, 125, 340, 255, 138, 15, 235, 19, 26, 191, 7, 134, 184, 2, 311], [359, 235, 244, 22, 266, 7, 1, 17, 12, 133, 1, 109, 386, 7], [232, 14, 484, 10, 350, 79, 233, 2, 23, 9, 87, 2, 79], [84, 73, 16, 101, 46], [29, 4], [29, 74, 2, 11, 379, 29, 74, 2, 33, 239, 405], [48, 22, 3, 127, 13, 160, 46, 1, 137, 4, 407, 256, 1, 30, 229, 7, 133, 207, 53, 22, 207, 242], [53, 66, 3, 107, 17, 14, 90, 2, 56, 49, 1, 151, 33], [154, 38, 167, 123, 9, 44, 35, 3, 351, 194], [122, 279, 239, 114, 17, 4, 55, 123, 7, 1, 36, 134, 6, 4, 16, 147, 20, 74, 2, 45, 2, 256, 123, 123], [16, 2, 276, 31, 277, 446, 219, 218, 78, 37, 352, 419, 6, 95, 272, 65], [46, 146, 72, 331, 72, 59, 25, 164, 146], [1, 56, 325, 1, 36, 153, 11, 7, 70, 3, 11, 9, 50, 15, 440, 20], [94, 60, 2, 33, 24, 138, 14, 92, 8, 450], [119, 6, 113, 6, 148, 243, 28, 6, 9, 113, 337, 15, 243, 140, 113, 282, 15, 4, 340, 143, 7, 6, 131, 9, 336, 340, 243, 94, 9, 113, 131, 75, 25, 113, 282, 15, 4, 306, 327, 27, 220, 342, 113, 82, 1, 342, 173], [69, 8, 20, 219], [99, 28, 6, 69, 2, 472, 10, 35, 101, 291, 166, 30, 16, 6, 159, 312], [23, 10, 20, 87, 167, 293, 66], [64, 34, 34, 329, 130, 54, 64, 290, 12, 142, 2, 14], [28, 17, 4, 209, 62, 86, 1, 61, 3, 23], [48, 60, 7], [140, 46, 1, 24, 29, 161, 126, 23, 1, 119, 6, 1, 146, 94, 43, 10, 75], [7, 384, 8, 364], [63, 1, 5, 65, 75, 131], [55, 168, 11, 427, 410, 11, 433, 20, 53, 28, 3, 28, 28, 3, 107, 15, 10, 28, 3, 10, 28, 3, 90, 10], [3, 126], [100, 52, 149, 298, 12, 57, 286, 298, 13, 35], [11, 9, 12, 43, 250, 3, 4, 121, 62], [241, 238, 1, 6, 320], [184, 7, 26, 7, 72, 11, 115, 2, 148], [23, 31, 142, 7, 48, 9], [109, 3, 220], [38, 140, 245, 8, 149, 344, 146, 179, 224, 59, 334, 18, 28, 30, 76, 25, 28, 11, 293, 26, 372, 432, 146], [31, 145, 9, 2, 31, 145, 8, 20, 70, 2, 65, 187, 119], [298, 4, 62, 8, 31, 172, 55, 309, 134, 6, 437, 309, 134, 6, 22, 8, 172, 51, 22, 55, 168], [338, 466, 85, 268, 484, 11, 65, 6, 405], [99, 64, 25, 6, 134, 10, 4, 380], [296, 55, 2, 431, 52, 3, 48, 22, 3, 11, 116, 129, 108, 265, 122], [181, 4, 165, 35, 43, 6, 26, 4, 110, 22, 19, 53, 139, 18, 170, 71, 139, 18, 26, 170, 2, 355, 71], [100, 16, 72, 67, 9, 136, 186, 152, 245, 12, 3], [262, 154, 18, 9, 15, 4], [184, 12, 13, 453, 157, 13, 97, 36, 33, 231, 151, 13, 267, 27, 100, 16, 241, 19], [122, 12, 8, 57], [117, 105, 16, 186], [211, 247, 1, 111, 45, 294, 2, 176, 197, 337, 172, 3, 381], [83, 6, 201, 14], [312], [], [132, 22, 39, 74, 12, 5, 26], [430, 48, 94, 5, 66, 15], [59, 24, 59, 18, 77, 75, 9, 375, 82, 149, 251, 9, 77, 401, 29, 308, 11, 20], [116, 104, 196, 1, 63, 37, 76, 61, 6, 4, 335], [171, 449, 3, 7, 13, 12, 74, 2, 26, 5, 449, 7, 10, 51, 5, 112, 1, 17, 4, 108, 41], [46], [42, 41, 15, 35, 110, 199, 336, 1, 177, 457, 18, 6, 6, 32, 199, 19, 78, 113, 306, 3, 57, 7, 147, 36, 33, 5, 249, 62, 15, 13, 172, 106, 40, 34, 3, 3, 36, 70, 40, 2, 42, 41, 8, 42, 41, 277, 6], [117, 294, 2, 300, 12, 108, 265, 1, 63, 499, 2, 291, 3], [221], [159, 5, 94, 36, 33, 489, 2, 365], [457, 2, 51, 31, 82, 88, 146, 6, 32, 29, 8, 319, 6, 6, 415, 4, 326, 19, 11, 390, 6, 83, 6, 83, 23, 434, 1, 1, 6, 1, 45, 50, 6, 1, 6, 29, 15, 6, 1, 175, 3, 421, 10, 75], [100, 19, 52, 2, 7, 192, 52, 2, 19, 1, 164, 88, 8, 483, 38, 1, 69, 2], [102, 166, 5, 285], [5, 43, 9, 139, 15, 113, 15, 172, 5, 130, 14, 6, 36, 176, 8, 197, 6, 321], [84, 73, 16, 101], [365, 30, 24, 20, 59, 4, 335, 15], [186, 13, 97, 157, 124, 103, 349, 35, 4, 158, 16, 52, 314, 65], [448, 316], [46, 1, 383, 16, 26, 96, 75, 1, 56, 51, 22, 10, 1, 63, 4, 12, 51], [334, 161, 37, 182, 44, 2], [181, 186, 13, 97, 157, 124, 103, 349, 35, 4, 158, 269, 16, 52, 314, 135, 65, 388], [37], [38, 492, 19, 98, 115, 29, 14, 20], [199, 199, 91, 196, 256, 114, 199], [151, 45, 2, 7], [84, 37, 5, 167, 15, 11, 53, 44], [193, 9, 162, 1, 298, 2, 102, 3, 96, 15, 40, 193, 9, 162, 29, 23, 35, 3, 7, 19, 72, 15, 239], [128, 83, 149, 291, 418], [15, 392, 386, 9, 27, 80, 159, 5, 152, 64, 80, 37, 78, 5, 282, 199], [169, 205], [84, 140, 4, 335, 15, 264, 15, 4, 264, 293, 29, 37, 20, 80, 2, 274, 2, 5, 131, 2, 204], [110, 111, 415, 21, 293, 19, 5, 2, 189, 14, 52, 285, 201, 67], [9, 21, 48, 3, 220, 282], [185, 15, 204, 203, 12, 89, 44, 201, 21, 9, 4, 229, 230], [221, 27, 482, 4, 332, 27, 4, 64, 4, 193, 447, 1, 36, 33, 35, 3, 116], [18, 97, 83, 16, 20, 31, 339, 498], [84, 73, 16, 101, 8, 291], [3, 17, 136, 475, 241, 218, 16, 20], [229, 39, 30, 393, 126], [110, 339, 75, 62, 167, 265, 56, 216, 110, 17, 163, 55, 57], [146, 8, 128, 32], [29, 92, 8, 5], [70, 40, 2, 31, 255, 7, 377, 191, 80, 31, 48, 9, 11, 139, 18, 170, 43, 229, 15, 305, 358, 454, 412, 42, 41, 42, 41, 93, 10], [91, 91, 48, 118, 426, 14, 355], [57, 3, 17, 246, 190, 3, 57, 2, 45, 19, 4, 371, 227, 112], [68, 9, 353], [221, 20, 65, 1, 168, 65], [291, 6, 9, 11, 133, 10, 49, 382, 1, 28, 11, 133, 147], [211, 38, 37, 60], [116, 36, 16, 105], [47, 345, 315, 35, 329, 314, 12, 7, 478, 277, 16, 26], [334, 6, 82, 77, 84, 77, 87, 370, 141, 6, 8, 306, 24, 110, 15, 56, 6, 77, 23, 6, 233, 18, 165, 166, 153, 10, 18, 497, 6, 43, 89, 227, 291], [84, 73, 16, 101], [122, 449, 44, 8, 4, 474, 19, 4, 5, 265, 6, 87, 380], [25, 6, 32, 2, 13, 115], [13, 325, 12, 368, 2, 135, 16, 425], [12, 12, 12, 261, 261, 12, 6, 24, 6, 12, 10, 70, 2, 51, 31, 255, 10, 34, 6, 57, 10, 34, 6, 32, 85, 139, 6, 83, 8, 18, 6, 90, 120, 139, 2, 170, 6, 83, 18, 246, 43, 6, 229, 9, 311, 2, 6, 260, 14], [76, 6, 397, 44, 19, 13, 167, 34, 6, 17, 2, 487, 9, 308, 7, 29, 111, 153, 53, 1], [171, 428, 5, 111, 58, 205, 381], [1, 111, 56, 6, 7, 6, 111, 56, 10, 70, 253, 2, 20, 7, 176, 251, 65, 187, 119, 272, 26, 201], [16, 52, 6, 18, 16, 2, 135, 158, 6, 17, 18, 51, 31, 97, 5], [167, 343, 18, 135, 31, 15, 71, 143, 2, 20, 97, 173, 310, 278, 81, 242, 26, 95], [1, 177, 3, 5, 7, 28, 3, 5, 42, 41, 342], [128, 22, 3, 53, 28, 3, 28, 48, 25, 3, 2, 33, 52, 10, 13, 261, 409, 10, 111, 3, 15, 10, 111, 3, 10], [39, 443, 14, 30, 9, 72, 127, 92, 55, 2, 88, 3], [1, 88, 4, 15], [279, 296, 1, 402, 17, 4], [87, 15, 31, 115], [381, 381, 257, 78, 8, 4, 306, 131, 6, 236, 9, 5, 75, 131, 6, 118, 24, 2, 14, 199], [276, 13, 116], [13, 325, 12, 368, 2, 135, 16, 425], [63, 30, 11, 8, 289, 85, 88, 3, 194, 242], [357, 5, 201, 69, 2, 45, 2, 194], [46, 77, 26, 6, 233, 10, 45, 406, 43, 6], [109, 3, 431, 80, 5, 108, 14, 35, 51, 15, 293], [49, 1, 17, 293, 2, 1, 366, 102, 3], [106, 274, 2, 142, 381, 46, 64, 11, 332], [46, 20, 1, 63, 8, 439, 34, 1, 58, 194, 1, 36, 58, 147], [23, 38, 492, 137, 487], [384, 498, 155, 30, 137, 2, 45, 155, 53, 80, 6], [55, 35, 5, 6, 217, 180, 4, 18, 472, 5, 93, 93, 95, 119, 302], [125, 295, 22, 8, 13, 20, 16, 7, 472, 57, 370, 162, 27, 139, 436, 139, 40, 231], [46, 487, 19, 64, 130, 49, 1, 32, 270, 12, 11], [84, 73, 16, 101], [46, 1, 63, 19, 5, 130, 2], [262, 154, 1, 88, 21, 20, 33, 67, 8, 4], [206, 37, 50, 21, 39, 17, 2, 203, 11, 44, 52, 5, 21, 23, 111, 107, 73, 33, 74, 50, 30, 51, 39, 151, 260, 2, 45, 50, 75, 15], [16, 12, 65, 139, 230, 16, 52, 4, 314, 157, 38], [65, 356, 54, 159, 283, 51], [102, 3, 53, 34, 3, 138, 4, 411, 7, 14, 60, 2, 2, 131, 126, 118, 12, 5, 352, 15, 73, 58, 44], [116, 59, 439, 2], [418, 54, 79, 350, 101, 1, 58, 82, 141, 350, 79, 79, 59, 87, 258, 484, 79], [83, 6, 1, 151, 5, 179, 1, 137, 2, 404, 12, 14], [132, 2, 5, 295, 19, 5, 9, 78, 5, 363, 15, 5, 352, 19, 5, 274, 101], [2, 135, 31, 281, 70, 4, 2, 19, 188, 234, 378, 376, 95], [355, 2, 16], [59, 53, 14, 18, 104, 396, 8, 5, 8, 6, 25, 35, 71, 2, 88, 26, 273, 234, 33, 6], [46, 54, 83, 39, 291, 101], [262, 85, 20, 54], [3, 17, 58, 367, 11, 172, 7, 5, 222, 19, 10, 11, 261, 4, 326, 19, 11, 390, 10, 210, 7, 12], [174, 48, 6, 5, 10, 373, 39, 36, 17, 44, 34, 242], [3, 189, 21, 270, 27, 24, 488, 68, 39, 189, 201, 7, 29, 1, 17, 23, 118, 251, 407, 2, 35, 21, 29, 356, 40, 2, 14], [123, 154, 182, 198, 133, 14, 50, 54], [154, 247, 296, 140, 2, 32, 8, 9, 21, 46], [66, 82, 326, 83, 5, 386, 244, 8, 89, 172, 66, 188, 2, 326, 7, 326, 188, 2, 66, 199], [338, 300, 384, 432, 6], [1, 214, 203, 5, 115, 150, 20, 105, 70, 4, 152], [128, 30, 208, 126], [132, 38, 1, 4, 60, 409, 213, 18, 35, 10, 6, 417, 24, 6, 224, 66, 213], [99, 83, 6, 87, 6, 86], [55, 322, 238, 55, 12, 70, 95, 2, 241], [215, 10, 56, 48, 14, 8, 5, 227, 14, 25, 216, 33, 24, 3, 22, 50, 15, 21, 64, 27, 23, 37, 7, 215, 10, 56, 8], [4, 289, 15, 31, 326, 9, 11, 4, 15, 31, 9, 11, 4, 396, 15, 31, 261, 9, 11, 172, 4, 261, 57, 196, 12, 6, 72, 11], [128, 1, 33, 409, 11, 398, 5, 284, 10, 7, 1, 313, 45, 24, 220], [162, 5, 449, 9, 8, 450], [8, 5, 407, 2, 134, 188, 42, 41, 15, 21, 60, 266, 201, 7, 9, 2, 98, 26, 120, 407, 171, 1, 111, 107, 1, 111, 321, 117], [116, 255, 84, 12, 5, 239, 86, 9, 5, 354, 15, 89, 12, 125, 19, 2, 390, 7, 88, 64, 220, 157, 42, 41, 106, 175, 4], [186, 16, 52, 317, 13, 43, 281, 26, 362, 145, 173, 310, 376, 388, 272], [46], [420, 93, 337], [21, 66, 3, 106, 57, 459], [475, 43, 434, 86, 9, 13, 62, 50, 162, 144, 185, 436, 4, 3], [210, 57, 294, 192, 263], [457, 9, 1, 338, 31, 8, 177, 6, 11, 457, 9, 11], [29, 27, 94, 35], [1, 61, 2, 7, 11], [1, 24, 334, 9, 67], [154, 162, 27, 9, 5, 51, 307], [29, 161, 27, 44, 2, 14, 92, 207, 174], [13, 80, 10, 139, 201, 18, 170, 43, 229, 305, 358, 27, 454, 412, 105, 93], [1, 200, 2], [148, 247, 4, 55, 24, 114, 3, 56, 11, 30], [29, 27, 1, 87], [84, 38, 17, 59, 287, 244, 2, 28, 248, 33, 8, 101], [1, 34, 110, 22], [87, 1, 161, 175, 6, 116], [], [438, 73, 3, 44, 49, 1, 32, 120, 145], [361, 398, 127, 319, 15, 133, 132, 45, 18, 6, 15, 380], [47, 453, 93, 337], [1, 446, 3, 101, 467, 218, 32, 318, 8, 1, 25, 431, 3, 24, 3, 10], [19, 5, 23, 214, 81], [100, 79, 59, 66], [128, 22, 3, 49, 3, 440, 117], [279, 4, 289, 216, 128, 9, 5, 28, 2, 33, 24, 55, 182, 110, 36, 33, 8], [285, 161, 7], [54, 79, 153, 2, 203, 79, 44, 350, 79, 233, 18, 419, 305], [99, 64, 109, 6, 4, 209, 37, 4, 152, 170, 148, 243, 177, 6, 139, 8, 23, 205], [3, 22, 4, 6, 17, 103, 479, 18, 377, 333, 26, 4, 43, 281, 351, 2, 4, 321, 18, 135, 219, 272], [38, 1, 323, 133, 21, 50, 136, 416, 159, 2, 232, 488, 72, 124, 96, 8, 407, 50, 240, 5, 167], [6, 17, 4, 131, 9, 499, 18, 138, 202, 35, 6, 176, 50, 131, 110, 83, 131, 31, 23, 259, 16, 19], [105, 134, 98, 5, 487, 163, 35, 15, 3, 25, 104, 44, 2, 136, 416, 2, 134, 14, 7, 54, 120, 163, 163], [55, 467, 48, 21, 62, 22, 39, 7, 129, 2, 33, 28, 39, 8, 5, 7, 326, 1, 107, 15, 3, 11, 61, 72, 236], [116, 18, 135, 40, 395, 30, 13, 45, 2, 144, 149, 273, 234, 310, 423, 18, 95, 458, 81, 95, 2], [261, 9, 409, 61, 301, 9, 409, 83, 409, 155, 172, 9, 409, 23, 33, 8, 55, 123, 155, 341], [1, 37, 4, 23, 154], [102, 10, 191, 279], [5, 461, 15, 19, 9, 2, 409, 261], [46, 67, 248, 33, 4, 47, 80], [68, 156, 21, 68, 137, 4, 150, 49, 68, 6, 192, 3, 190, 33, 5, 195, 52, 24, 107, 48, 118, 3, 217, 12], [288, 1, 254, 23, 419, 149, 470, 77], [11, 264, 37, 59, 117, 7, 447, 413, 220, 78, 4, 287, 413, 59, 42, 41, 49, 25, 3, 32, 117], [91, 25, 1, 203, 44, 347, 49, 270, 308], [29, 30, 133, 100, 16], [288, 29, 47], [9, 161, 55, 335, 15, 470, 7, 9, 55], [45, 2, 493, 106, 215, 14], [197, 67, 9, 4, 245, 12, 3, 2, 176, 14, 197, 249, 264, 67, 9, 236, 7, 61], [99, 3, 37, 2, 263, 57, 2, 56, 34, 3, 208, 35, 5, 93, 47, 35, 143, 26, 38], [465, 77, 166, 18, 232], [79, 307, 54, 16, 10], [28, 3, 57, 487], [9, 2, 17], [54, 39, 28, 14, 159, 21], [35, 4, 225, 403, 4, 391, 48, 9, 31, 172, 68, 155, 94, 9, 296], [162, 3, 2, 11, 71, 29, 433, 7, 321, 319, 2, 431, 52, 6, 230, 119, 93, 95, 2, 363], [38, 280, 213, 29, 47], [211, 110, 208, 30, 195, 24, 54, 110, 44, 7, 8], [39, 22, 294, 2, 202, 3, 167, 322, 368, 21, 3, 183, 4, 333, 158, 269, 16, 135, 425, 65, 388], [438, 114, 189, 10], [247, 299, 39, 477, 2, 82, 141, 48, 77], [170, 47, 458, 176, 50, 80, 13, 61, 172, 20, 260, 170, 12, 47, 71, 343, 2, 278, 65, 159, 170, 47, 302, 231], [], [1, 359, 365, 30, 51, 86, 1, 107, 29, 212, 48, 60, 13, 460, 109, 6, 175, 10], [23, 246, 295, 2, 33, 259, 30, 195, 24, 65, 163, 287, 36, 259, 2, 3, 13, 167, 166, 172, 104, 87], [292, 39, 382, 45, 7, 88, 17, 2, 45, 2, 379, 22, 3, 30, 76, 59, 191, 2, 8, 101, 23, 45, 2, 450, 207, 444, 25, 104, 188, 8], [178, 9, 8, 65, 18, 195, 240, 285, 14, 159, 14], [53, 66, 6, 32, 50, 6, 208, 2, 104, 10, 465, 86], [83, 6, 182, 21, 55, 37, 137, 4], [5, 328, 9, 19, 5, 35, 4, 4, 44, 35, 4, 131, 8, 5], [195, 124, 94, 125, 316, 42, 41, 488, 94, 8, 124, 94, 308, 5, 34, 94, 124, 7, 64, 46, 7, 98, 9, 54, 38], [345, 47, 40, 8], [111, 14, 2, 33, 308, 240, 3, 32, 85, 346, 29, 37, 20, 50], [3, 17, 139, 108, 152, 100, 16], [243, 48, 64, 117, 78, 5, 130, 169, 55, 103, 19, 18, 35, 21, 1, 8, 23, 39, 17, 2, 165, 44, 194], [56, 49, 270, 117], [1, 4, 108, 157, 6, 65, 276, 40, 75], [46, 77], [116, 22, 3, 1, 60, 116], [146, 66, 28, 6, 233, 18, 165, 10, 101], [11, 211], [25, 3, 28], [91, 71, 10, 49, 270, 19, 5, 130], [40, 9, 4, 331], [129, 108, 265, 48, 22, 3, 128, 22, 3, 49, 22, 39], [122, 84, 100, 64, 201], [1, 60, 212, 153, 3, 211, 24, 1, 107, 64, 30, 358], [30, 8, 11, 344, 74, 43, 371, 20, 6, 405, 23, 83, 110, 47, 207], [53, 9, 40, 238, 3, 274, 15], [156, 471, 471, 1, 226, 28, 5, 68, 9, 4, 275, 68, 15, 306, 131, 4, 326, 2, 220, 62], [46, 48, 3, 116, 109, 3, 16], [323, 193, 169, 8, 169, 72, 129, 72, 4, 8, 26, 5, 9], [38, 1, 111, 17, 4, 397, 50, 15, 4], [299, 94, 228, 405, 1, 1, 257, 98, 140, 490, 164, 1, 254, 94, 141, 188, 54, 94], [232, 14, 493, 429, 12, 227], [152, 52, 1, 63, 30, 19, 3, 25, 115, 10, 117, 72, 1, 17, 4, 115, 78, 11], [151, 1, 70, 3], [46, 77, 24, 204, 146], [43, 8, 90, 19, 31, 102, 31, 81, 267, 2, 12, 26, 12, 18], [53, 25, 1, 28, 402, 392, 23, 421, 155, 111, 495], [38, 39, 14, 51, 23, 17, 34, 54, 89, 2, 225, 235, 85, 8, 172], [154, 11, 50, 15, 450, 24, 295, 237, 1, 56], [25, 1, 100, 58, 44, 20, 450, 34, 37, 100, 6, 38, 475, 43], [3, 59, 304, 8, 3, 36, 32, 197, 198, 8, 172, 8, 18, 26, 170], [208, 212, 45, 32, 120], [225, 6, 56, 124, 403, 89, 218, 18, 202, 3, 214, 323, 131, 16, 20, 51, 36, 33, 305, 187], [40, 9, 5, 441, 2, 202, 6, 6, 17, 183, 16, 173, 388, 231], [1, 61, 3, 118, 3, 56, 1, 25, 14, 1, 48, 13, 62, 496, 7, 34, 3, 22, 114, 11, 61, 1, 107, 15, 3, 7, 175, 3], [72, 246, 72, 6, 57, 38, 18, 6, 25, 216, 70, 18, 81, 320, 2], [169, 296, 103, 44, 18, 118, 64, 375, 69, 467, 30, 450, 26, 26], [143, 14, 8, 50, 15, 171], [8, 193, 238, 1, 25, 32], [46, 77], [475, 152, 40, 9, 4, 202, 3, 17, 475, 492, 245, 50, 89, 241, 43, 16, 20], [46], [484, 11, 77, 11, 54, 1, 25, 57, 140, 74, 18, 194], [84, 73, 16, 101], [3, 183, 13, 43, 281, 26, 16, 20, 221, 231], [357, 16, 10, 49, 3, 32, 5, 343, 4, 264, 15, 10, 2, 153, 3, 80, 4, 397], [61, 3, 61, 6, 335], [24, 1, 8, 467], [37, 371, 3], [55, 123, 11, 116, 155, 104, 196], [143, 414, 1, 69, 2, 3, 35, 11, 397], [36, 3, 58, 86, 123], [46, 29, 212, 44, 2, 8, 57, 399], [53, 80, 40, 75, 54], [184, 12, 13, 152, 1, 161, 13, 29, 27, 182, 15, 5, 15, 404, 24, 36, 176, 50, 19, 11, 130, 85, 52, 5, 461, 147, 29, 8, 312, 20, 28, 17, 4, 62], [56, 40, 112, 29, 74, 2, 87], [13, 49, 1, 90, 14], [84, 73, 16, 101], [1, 250, 244, 208, 1, 49, 1, 36, 33, 489, 2, 445, 3, 48, 118, 1, 3, 105, 5, 38, 409, 10, 100, 7, 176, 244, 2, 80, 1, 61, 3], [13, 212, 33, 5, 34, 10, 29, 212, 232, 4, 21, 447, 64, 51, 10], [1, 106, 64, 4, 392, 188], [84, 59, 4, 239, 429, 19, 5, 130], [154, 13, 312, 30], [110, 156, 34, 64, 212, 14, 36, 429, 237, 454, 26, 412, 110, 22, 136, 15], [143, 24, 3, 22, 5, 7, 5, 351, 194], [47, 119, 176, 4, 8, 13, 15, 337, 295, 22, 245, 2, 253, 20, 70, 253, 2, 70, 231, 230, 119], [124, 156, 4, 25, 153, 125, 316, 4, 275, 25, 20, 3, 56, 162, 51, 15, 188, 22], [38, 1, 366, 165, 3, 8, 5], [5, 353, 9, 7, 1, 63, 92, 444, 51, 22, 5, 252, 23, 33, 14, 26, 1, 17, 2, 1, 63, 54, 128, 9, 5, 26, 215, 10, 16, 40, 9, 172, 7, 189, 35, 5, 353, 248, 33, 6, 83, 171], [46, 20, 1, 63, 8, 439, 34, 1, 58, 194, 1, 36, 58, 147], [100, 153, 2, 16], [186, 3, 17, 183, 4, 139, 112, 47, 8, 89, 362, 158, 81, 5, 332, 135, 2, 38, 173, 141, 144, 483], [154, 60, 4, 6, 466, 141, 213], [116, 1, 203, 16, 222, 20, 30, 76, 97, 8, 344, 129], [54, 162, 38, 75, 2, 10], [135, 4, 465, 37, 16, 20, 17, 3, 183], [311, 44, 4, 7, 6, 7, 5, 68, 40, 264, 9], [39, 22, 2, 165, 2, 89, 284, 257, 3, 8, 5, 467, 284, 39, 25, 45, 12, 159, 21], [420, 395, 348, 223, 47, 26, 277, 81, 19, 434, 16, 19, 26], [99, 193, 9, 249, 130, 2, 89], [99, 116, 39, 116, 39, 22, 129, 128, 3, 11, 9], [29, 30, 76, 24, 27, 179, 237, 283, 351, 2, 3, 101, 491, 7, 293], [53, 86, 9, 281, 23, 38, 133], [116, 320, 7, 291, 3, 86, 30, 5, 470, 39, 22, 2, 70, 3, 89, 202, 157, 30, 136, 105, 89, 157], [6, 493, 391, 127, 6, 83, 51, 55, 134, 11, 61, 18, 61, 213], [1, 27, 482, 228, 233, 18, 45, 23, 369], [442, 146, 36, 149, 180, 19], [1, 109, 17, 14, 42, 41], [162, 111, 3, 224, 30, 2, 88, 34, 3, 32, 13], [447, 21, 413, 30, 4, 62, 23, 1, 104, 118, 15, 21, 94, 297, 301, 22, 3, 212, 88, 142, 192, 28, 3, 69, 2, 58, 2, 207, 6, 25, 102, 10, 51, 80], [70, 10, 157, 105], [88, 3, 54, 51, 117], [1, 63, 8, 20, 74, 2, 372, 8, 4, 287, 399], [63, 171, 160, 8, 65, 24, 17, 2, 404], [32, 15, 380, 19, 115, 20, 2, 230, 229, 309], [38, 87, 3, 435], [1, 69, 2, 33, 3, 197, 123], [1, 104, 14, 39, 297, 17, 5, 115, 25, 39, 39, 17, 14, 40, 265, 20], [21, 359, 74, 2, 8, 80], [105, 94, 2, 336, 26, 94, 36, 125], [206, 164], [186, 13, 97, 157, 124, 103, 349, 35, 4, 158, 269, 16, 52, 314, 135, 65], [143, 29, 7, 9, 5, 15, 11], [67, 83, 246, 171, 42, 41, 14, 55, 327, 1, 374, 38], [221, 52, 5, 14, 445, 67, 9, 38, 64, 51, 80, 7], [48, 118, 14, 36, 355, 230, 352], [114, 308, 7, 319, 213, 51], [32, 307, 2, 415, 19, 13, 390], [213, 14, 466, 4, 452], [426, 494, 9, 4, 78, 1, 57, 19, 30, 30, 454], [1, 319, 6, 118, 6, 48, 259, 6, 83, 18, 10, 6, 319, 6, 380], [99, 34, 31, 43, 459, 63, 47, 51, 227, 112, 253, 20, 18, 66], [132, 379, 1, 17, 2], [1, 403, 2, 58, 7, 12, 304], [132, 1, 468, 3, 15, 167, 123, 72, 11, 115, 60, 19, 5, 1, 63, 291, 4, 264], [9, 3, 2, 33, 98, 264, 93, 143, 26, 38, 88, 98, 144, 286, 6, 95, 70, 95, 2], [38, 446, 492, 468, 446], [184, 199], [44, 39, 111, 17, 21, 118], [121, 127, 3, 22, 13, 52, 171, 179, 3, 25, 298, 56, 162, 255, 25, 3, 2, 86], [105, 153, 48, 118, 9, 12, 18, 9, 179, 1, 4, 108, 75, 12, 42, 41], [262, 206, 103, 2, 4, 491, 131, 266], [21, 130, 9, 316, 19, 451, 123, 78, 5, 130, 34, 6, 69, 2, 153, 82, 2, 472, 11, 210, 47, 24, 90, 2, 56, 72, 19], [72, 4, 394, 241, 3, 17, 103, 479, 2, 158, 2, 135, 16, 135, 425, 65], [126, 239, 1, 156, 1, 17, 5, 1, 297, 1, 17, 26, 106, 17, 5], [46, 25, 33, 101, 237, 454, 454, 34, 3, 69, 17, 240, 27, 2, 235, 19, 34, 3, 111, 301, 72, 160, 21, 373], [22, 3, 2, 45, 12, 312], [114, 90, 2, 240, 73, 215, 3, 56, 49, 29, 50], [1, 254, 77, 24, 25, 32, 4, 27, 146, 6, 160, 20], [1, 254, 79, 45, 76, 78, 179, 73, 180, 74, 50, 465, 43, 11], [26, 444, 11, 37, 51, 7, 14, 56, 53, 2, 28], [321, 16, 20, 37, 230, 219, 378, 376, 91], [45, 397], [15, 122, 407, 4, 4, 319, 19, 4, 24, 19, 98, 4, 113], [20, 13, 328, 192, 7, 28, 3, 17, 96, 67], [357, 6, 298, 159], [1, 69, 2, 1, 7, 1, 125], [26, 26, 26], [36, 28, 17, 4, 55, 62], [122, 91, 1, 36, 58, 147], [91, 34, 6, 44, 37, 58, 2, 11, 76], [64, 35, 10, 65, 20, 63, 74, 76], [53, 426, 5, 28], [34, 1, 60, 1], [288, 178, 77, 34, 6, 228, 233, 140, 46], [46, 29, 20, 28, 6, 233, 10, 18, 204, 178, 45, 31, 328], [1, 25, 24, 14, 36, 102, 375, 331, 179, 1, 300, 11, 280], [300, 393, 6], [49, 285, 19, 52], [16, 10, 49, 3, 32, 5, 343, 421, 42, 170], [21, 48, 190, 3, 57, 2, 33], [46, 227, 66, 54], [89, 218, 124, 103, 403, 18, 202, 6, 78, 225, 16, 20, 51, 36, 33, 187], [46, 1, 382, 274, 2, 142], [414, 1, 57, 2, 138, 61, 42, 41, 491, 230, 123, 127, 279, 27, 4, 318], [6, 266, 85, 43, 371, 153, 10, 23, 1, 484, 6], [6, 17, 4, 131, 6, 83, 23, 259, 16, 2, 50, 93, 95, 139, 231, 230, 119, 196], [295, 22, 5, 12, 15, 17, 3, 381, 31, 12, 5, 15, 14, 9, 163, 1, 107, 14, 9, 31], [], [29, 8, 4, 473, 344], [1, 107, 5, 251, 386, 92, 90, 2, 32, 145, 24, 39, 25, 33, 307, 78, 412], [1, 69, 42, 41, 87, 28, 3, 17, 14], [37, 59, 396, 170, 55, 198, 1, 61, 11, 275, 23, 118, 24, 65, 160, 132], [410], [488, 68, 124, 220], [51, 308, 51, 8, 8, 280], [154, 359, 24, 27, 182, 215, 6, 56, 24, 1, 54, 192, 34, 31, 2, 54, 1, 72, 114], [226, 104, 96, 8, 3], [15, 426, 68, 17, 96, 145, 280], [128, 6, 103], [29, 8, 450, 20, 23, 73, 338, 104, 222, 101], [40, 9, 11, 157, 78], [1, 250, 6, 208, 117, 1, 210, 23], [4, 130, 2, 32, 347, 12, 13, 115, 36, 3, 45, 2, 5, 483, 109, 3, 104, 21, 304, 1, 90, 3, 174, 1, 2, 88, 3], [38, 87, 68, 9, 87, 236, 57, 40, 96, 15, 410, 152, 9, 4], [22, 3, 8, 5], [121, 414, 1, 61, 7, 9, 11, 48, 80, 3, 1, 324, 61, 42, 41, 491, 230, 123], [1, 127, 3, 56, 29, 92, 30, 3], [5, 121, 420, 15, 42, 41, 8, 136, 416], [87, 227, 445, 305, 9, 59], [17, 4, 121, 2, 7, 497, 5, 2, 27, 37, 35, 5, 24, 35, 21, 9, 2, 88, 3, 326], [24, 63, 74, 2, 448, 53, 2, 28, 22, 283, 58, 67, 14, 448], [132, 67, 6, 83, 290, 20, 1, 431, 6, 2, 4, 9, 14, 55, 39, 83, 205, 30, 17, 4, 108, 265, 141, 6, 8], [72, 4, 241, 1, 63, 2, 3, 21, 15, 13, 38, 3, 22, 349, 35, 4, 158, 16], [69, 2, 17, 268, 86], [109, 3, 445, 142, 7, 480, 109, 68, 148, 26, 217, 6, 27, 141, 142, 43], [6, 23, 164, 58, 85, 54, 329], [1, 52, 486, 7, 14, 50, 413], [111, 495, 1, 48, 475, 14, 9, 21, 1, 33, 415, 8, 11, 238, 35, 4, 284, 50, 8, 5, 390, 15, 5, 198, 21, 124, 381, 2, 10, 212, 45], [292, 71, 10, 49, 270], [40, 451, 30, 52, 31, 18, 58], [122, 9, 14, 193], [427, 31], [132, 206, 5, 7, 164, 262], [3, 22, 271, 78, 89, 218, 78, 225, 3, 56, 2, 176, 50, 131, 14, 9, 16, 52, 4, 314], [46, 54, 1, 36, 58, 2, 31, 76, 159, 329, 136, 416], [7, 175, 5, 7, 6, 27, 56, 10, 163, 114], [10, 27, 44, 419, 43, 8, 5, 467], [108, 113, 24, 5, 306, 23, 106, 35, 31, 255, 37, 166, 155, 148, 29, 236], [55, 467, 11, 61, 48, 496, 13, 62, 53, 22, 3, 44, 2, 1, 369, 7, 63, 245, 12, 3, 391, 9, 1, 88], [38, 109, 3, 152, 166, 26, 149], [132, 418, 165, 30], [24, 29, 161, 161, 122, 38, 9, 126, 216, 42, 41], [29, 171, 466, 2, 360], [40, 9, 5, 441, 66, 39, 17, 2, 202, 6, 6, 17, 183, 5, 158, 18, 135, 9, 387, 37, 16, 20, 65, 230, 327, 455], [106, 56, 3, 497, 120, 487], [38, 1, 106, 69, 2, 431, 178], [13, 325, 12, 368, 221, 1, 424, 16, 425], [247, 55, 400, 311, 100, 5, 17, 15, 7, 17, 4, 62], [91, 91, 48, 9, 13], [65, 37, 59, 40, 152, 27, 3, 143, 1, 60, 465, 21, 9], [189, 12, 10, 346, 1, 90, 3, 7, 1, 175, 3, 164, 7, 1, 21, 3, 8, 337, 172], [29, 261, 29], [63, 266, 19, 168, 42, 476, 41, 283, 33, 67, 8, 54, 39, 366, 45, 2, 364, 93, 10, 159, 466, 2, 76], [280, 7, 298], [262, 24, 38, 235, 405, 101, 59, 2, 45, 12, 262, 7, 499, 12, 12], [116, 2, 135, 40, 395, 30, 3, 100, 45, 2, 144, 149, 273, 234, 310, 423, 2, 95, 458, 81, 95, 2], [228, 180, 140, 201, 228, 254, 14, 164, 19, 31, 251, 91], [169, 55, 1, 17, 103, 80, 3], [100, 16, 89, 241, 218, 19, 392, 72, 3, 17, 183, 4, 269, 333, 145, 26, 158], [5, 9, 12, 11], [131, 208, 410, 295, 208, 3, 8, 4, 1, 284, 3, 208, 160, 21, 198, 3, 177, 10, 13], [2, 56, 128, 3, 30], [37, 204, 4, 26, 6, 32, 2, 203], [58, 140], [28, 3, 133, 51, 40, 112], [186, 100, 16, 52, 4, 317, 145, 26, 4, 43, 281, 173, 310, 378, 376, 278], [296, 34, 5, 130, 6, 210, 5, 130, 64, 180], [203, 31, 44, 20, 6], [59, 59, 4, 335, 15, 48, 2, 148], [46, 25], [116, 94, 485, 10, 20], [434, 241, 3, 248, 20, 135, 13, 47, 315, 115, 12, 13, 16, 20, 19, 395, 173, 423, 50], [220, 337, 9, 8], [174, 48, 496, 21, 62, 53, 22, 3, 160, 128, 22, 3, 1, 11, 7, 107, 15, 3, 11, 61, 1, 70, 4, 471, 2, 3, 52, 5], [122, 77, 39, 45, 19, 451], [46, 379, 38, 90, 2, 35, 53, 3, 156], [357, 323, 53, 1, 37], [26, 68], [7, 245, 12, 13], [132, 1, 69, 3, 1, 3, 1, 175, 3, 1, 90, 3, 1, 61, 3], [230, 219, 2, 16, 52, 13, 327, 314, 37, 230, 219, 330, 185, 12, 71, 95, 2, 50], [37, 65, 117], [1, 383, 28, 178, 493], [8], [154, 39, 232, 12, 136, 416, 30, 427, 43], [338, 6, 336, 73, 180, 43, 19, 23, 477, 125, 66, 18, 165, 44], [299, 110, 57, 336, 75, 117, 82, 67], [5, 420, 9, 5, 420, 119, 9, 61, 5, 420, 9, 4, 352, 155, 250, 6, 420], [7], [1, 408, 32, 178, 87], [162, 111, 3, 45, 102, 13, 264, 270, 27, 182, 3, 69, 2, 321, 35, 142, 346, 68, 126, 118, 54, 142, 2, 58], [28, 3, 69, 3, 56, 53, 5, 22, 39, 137, 4, 274, 40, 112, 80, 53, 137, 2, 429, 3, 280, 197, 112, 140, 25, 1, 5, 40, 130, 53, 80, 21, 130, 28, 29, 15, 303, 252, 35, 3, 197, 112, 7, 4, 42, 41, 5, 270, 92, 285, 8, 159, 139], [140, 292, 39, 25, 167, 4, 411, 452, 285, 125, 96, 66, 194], [34, 3, 111, 270, 92, 7, 429, 82, 407], [86, 9, 84, 62, 34, 381, 1, 60, 35, 3, 34, 381, 1, 26, 3, 421, 421, 37, 64, 31, 29, 55], [1, 323, 402, 72, 114, 104, 139, 344], [105, 85, 34, 136, 21, 1, 17, 25, 33, 12, 10, 2, 45, 85, 2], [1, 137, 6, 4, 120, 240, 64], [1, 34, 32, 40, 71], [214, 58, 2, 24, 70, 319, 72, 214, 58, 2, 24, 70, 319, 72, 1, 214, 58, 2, 165, 6, 24, 25, 70, 11, 196, 72, 119, 2, 6, 199], [34, 1, 1, 69, 6, 2, 17, 51, 11], [58, 2, 11, 76, 12, 75, 167, 66, 1, 383, 28, 178, 10], [100, 16, 72, 67, 9, 136, 186, 152, 245, 12, 3], [225, 6, 56, 124, 403, 89, 218, 18, 202, 3, 214, 323, 131, 16, 20, 51, 36, 33, 358, 187], [252, 435, 4, 54], [248, 1, 16, 3, 101, 105], [9, 160, 8, 432, 68, 9], [22, 3, 2, 45, 12, 312], [406, 30, 4, 7, 1, 57, 6, 4, 335, 1, 56, 6, 57, 10, 57, 21, 23, 495], [38, 287, 240, 200, 2], [42, 41, 63, 1, 107, 151, 148, 19], [57, 6, 180, 285, 4, 169, 117, 18, 24, 34, 6, 83, 12, 11, 1, 217, 8, 39, 208, 2, 165, 8], [21, 103, 5], [109, 3, 32, 96, 464, 40, 265, 1, 408, 32, 178, 23, 437], [211, 26, 1, 217, 37, 7, 4, 78, 5, 363, 15, 5, 62], [114, 64, 27, 57, 3, 401, 485, 225, 4, 21, 103], [1, 284, 5, 50, 15], [29, 27, 182, 1, 60, 37, 50, 53, 60, 237, 5], [114, 29, 74, 2, 33, 136], [367, 3, 1, 61, 3, 23, 118, 1, 25, 14], [4, 2, 13, 124, 103, 177, 3, 25, 171, 276, 273, 234], [], [247, 24, 106, 495], [49, 6, 88, 14, 54], [11, 59, 8, 87], [29, 212, 33, 2, 51, 62, 7], [154, 1, 59, 4, 35, 65, 6, 7, 34, 29, 161], [84, 73, 16, 101], [7, 92], [276, 14, 227, 112, 414], [23, 21, 120, 235], [148, 40, 311, 1, 61, 3, 155, 1, 90, 3, 11, 261, 35, 13, 70, 40, 2, 259, 295, 155, 6, 141, 147, 28, 14, 105, 105, 28, 14], [39, 2, 6, 21, 5, 124, 443, 4, 6, 208, 298, 401, 100, 18, 39, 83, 84, 43, 5], [77, 79, 224, 43, 10, 67], [4, 20, 24, 154, 73, 232, 49, 29, 308], [25, 1, 165, 79, 30, 229, 72, 43, 128, 19, 128, 79, 233, 18, 8, 77], [29, 27, 266, 201, 28, 3, 69], [241, 218, 39, 2, 138, 4, 2, 3, 24, 208, 2, 28, 23, 100, 16, 2], [357, 3, 370, 381, 50, 48, 118, 39, 90, 12, 7, 1, 22, 294, 2, 50, 48, 118, 39, 25, 19], [132, 29, 7, 61, 2, 76, 93, 18, 141, 11, 4, 119, 70, 95, 2, 95], [193, 9, 346, 1, 56, 1, 137, 14, 30, 75], [105, 58, 214, 40], [3, 13, 407, 280], [401, 285, 307, 2, 232, 5, 328], [29, 3, 22, 13], [], [3, 22], [32, 69, 337, 177, 2, 13, 97, 472, 5, 394, 81, 2, 20, 302, 231, 119], [227, 2, 4, 49, 22, 3, 266, 8, 86, 28, 3, 107], [122, 109, 3, 315], [100, 140, 65, 4, 42, 476, 41, 416, 12, 10, 1, 58, 222, 51, 5, 66, 7, 36, 33, 12], [60, 30, 75, 1, 284, 67, 208, 401, 8, 5, 360, 7, 75, 72, 4], [53, 66, 151, 1, 102, 11, 264, 2, 33, 237], [3, 17, 136, 475, 241, 218, 52], [40, 9, 3, 13, 84, 206, 27, 103, 8, 24, 105, 56, 21, 3, 22, 205, 17, 4, 121, 112], [428, 51, 410, 1, 309, 15, 8, 10, 90, 2, 404, 4, 23, 33, 14, 248, 189, 10, 74, 7, 72, 6, 156, 21, 1, 32, 5, 301, 2, 32, 201, 5, 252], [], [132, 1, 63, 161, 69, 2, 253, 26, 88, 10, 71, 2, 71, 30, 2, 71, 95], [169, 239, 169, 19, 11, 130], [122, 46, 38], [139, 352, 47, 446, 81, 16, 2, 38, 373, 446, 258, 95, 81, 95], [1, 254, 231, 33, 46, 68, 156, 494, 389, 109, 79, 232, 4, 314, 8, 392], [143, 39, 22, 126], [73, 71, 7, 215, 3, 56, 19], [3, 17, 183, 139, 362, 145, 26, 4, 18, 362, 158, 2, 135], [184, 12, 10, 23, 3], [99, 9, 291, 30, 358, 30, 207], [48, 118, 94], [38, 19, 5, 130, 76, 23, 34, 27, 12, 5, 331, 5, 190, 17, 103, 201], [30, 180, 155, 20], [29, 3, 22, 8, 5, 235], [3, 151, 56, 20, 23, 427, 22, 3, 235, 206, 486, 2, 404, 7, 7, 293, 57, 21, 279, 162, 1, 90, 13, 258, 4, 264, 8, 90], [6, 8, 26, 74, 76, 379, 73, 180, 74, 18, 101], [480, 6, 44, 18, 408, 363, 44, 222, 450, 338, 87, 338, 30, 87, 8, 10, 61, 380], [384, 361], [162, 3, 10, 57, 40], [55, 168, 421, 16, 10, 320], [184, 2, 4, 55, 264, 6, 17, 183, 5, 362, 420, 158, 18, 135, 9, 387, 37, 16, 20, 65, 230, 327, 455], [122, 46, 224, 43, 10, 67, 11, 300], [37, 4, 344, 35, 64, 44], [67, 22, 120, 209, 117, 26, 67, 9, 82, 5], [37, 2, 33, 2, 3], [48, 22, 3, 160, 427, 5, 22, 3, 74, 12, 5], [25, 79, 70, 10, 4, 15, 87], [35, 49, 14, 37, 415, 494, 8, 5, 282, 238, 7, 14, 36, 445, 3, 386, 5, 157, 9, 11, 157, 356, 3, 203, 21, 157, 5, 36], [1, 383, 3, 35, 50, 13], [1, 69, 2, 59, 2, 30, 42, 476, 41, 23, 3, 58, 2, 439, 30, 412], [1, 57, 2, 107, 436, 236, 5, 15, 271, 8, 4, 101], [211, 3, 374, 14, 143, 73, 497, 14, 8, 174], [143, 172, 335, 15, 3, 25, 65, 7, 260, 2, 5], [42, 476, 41, 424, 24, 64, 27, 4, 344, 117, 23, 64, 290, 2, 204, 52, 26, 26, 34, 1, 176, 14, 1, 366], [29, 27, 211], [84, 1, 468, 13, 16, 274, 49, 3, 17, 5, 66, 29, 19], [154, 68, 59, 8, 30, 18, 7, 60, 263, 82, 137, 50, 7, 94, 60, 57, 7, 68, 59, 44, 8, 21, 18, 24, 39, 45, 67, 27, 160, 126, 3], [370, 7, 44, 43, 14, 20, 16, 37, 219, 2, 95, 458, 16, 219], [490, 14, 9, 7, 34, 3, 32, 4, 7, 423, 12, 3, 32, 15, 23, 14, 172], [100, 111, 71, 10, 1, 17, 334, 2, 148], [2, 181, 145, 52, 2, 362, 81, 7, 70, 2, 355, 187, 62, 278, 423, 93, 43], [129, 108, 265, 11, 38, 139, 275], [186, 13, 97, 38, 183, 4, 362, 158, 19, 40, 9, 5, 441, 2, 440, 3, 16, 388], [11, 255, 276, 2, 16, 5, 252], [46, 350, 484, 6], [288, 79, 27], [328, 9, 5, 5, 275, 60, 19, 42, 41, 72, 281, 51, 22, 364], [7, 9, 67, 4, 130, 3, 25, 70, 293, 2, 98, 7, 94, 124, 103, 126], [21, 266, 201, 5, 9, 14, 4, 127, 3, 17, 4, 121, 62, 244, 83, 74, 296, 117], [129, 62, 1, 56, 64, 369, 24, 1, 17, 15, 7, 2, 250, 23, 1, 284, 2, 300, 205, 7, 385], [128, 22, 3, 116], [171, 99, 3, 103], [232, 14, 6, 36, 236, 33], [7, 444, 120], [6, 92, 74, 2, 5], [182, 1, 63, 24, 36, 440, 11, 194], [46, 247, 121, 417, 4, 335], [172, 9, 125, 316, 155, 54, 24, 172, 195, 155, 54, 129, 168], [132, 1, 374, 129, 180, 62, 174, 1, 61, 213], [206, 59, 9, 271], [54, 37, 365, 4, 407, 7, 224, 12, 31, 390, 6], [75, 15, 249, 8, 1, 106, 58, 11, 11, 248, 27, 58, 18, 31, 205, 21, 66, 199], [252, 117], [211, 13, 236, 23], [74, 85, 2, 256], [143, 68, 9, 161, 121, 257, 249, 159, 8, 353, 163, 2, 32, 50], [86, 9, 84, 62, 34, 381, 1, 60, 35, 3, 34, 381, 1, 26, 3, 421, 421, 37, 64, 31, 29, 55], [1, 227, 25], [122, 1, 284, 3], [6, 36, 13, 19], [28, 3, 69, 18, 26], [5, 67, 4, 8, 5, 67, 9, 136, 8, 5, 67, 9, 4, 19, 5, 67, 22, 170], [13, 71, 52, 10, 4, 40, 66], [122, 199, 199], [29, 67, 7, 1, 25, 88, 3, 24, 3, 226, 88, 10, 444, 3, 151, 1, 5], [38, 24, 3, 257, 10, 3, 208, 74, 240, 3, 59], [146, 6, 160, 67], [94, 156, 28, 6, 301, 34, 1, 45, 367, 5, 12, 4, 1, 8, 4, 433, 94, 466, 50, 229, 4, 82, 11, 430], [122, 3, 313, 339, 21, 270, 5, 7, 29, 5, 3, 134, 10, 4, 7, 73, 134, 3, 75], [263, 263, 17, 465], [154, 211], [143], [132, 53, 22, 3, 160, 299, 38, 93, 448], [105, 28, 10, 4, 105, 11, 354, 2, 105, 14, 86, 9, 98, 354], [91, 4, 27, 23, 74, 12, 19], [400, 3, 28, 3, 5], [109, 1, 13, 13, 13, 128, 28, 3, 189, 13, 115, 9, 5, 19, 109, 3, 210, 14], [288, 393], [52, 100, 16, 72, 67, 9, 136, 186, 152, 245, 12, 3], [297, 260, 342, 7, 1, 27, 2, 50], [23, 49, 28, 3, 313], [5, 103, 488, 5, 1, 56, 75, 251, 24, 413, 72, 449, 7, 57, 409, 10, 67, 7, 1, 226, 33, 44, 67, 239, 207], [29, 155, 2, 34, 29, 27, 85, 78, 5, 66, 270, 308, 37, 232, 5, 19, 11, 7, 73, 71, 3, 49, 307], [288, 206, 141, 79, 67], [49, 128, 28, 1, 203, 3, 44], [106, 215, 3, 50], [99, 116, 16, 10, 64, 1, 111, 56, 13, 318, 3, 111, 69, 2, 133, 26, 34, 3, 17, 96, 251, 318, 30, 102, 10, 12, 13, 93], [4, 49, 3, 5, 2, 2, 409, 13, 26, 14, 3, 22], [63, 36, 194, 33, 201, 51, 5, 249], [17, 13, 268, 7, 58, 7, 5], [29, 456], [438, 3, 78, 26, 92, 222, 237, 238], [99, 174, 64, 48, 83, 6, 169, 76, 52, 7, 71, 10, 85, 34, 6, 313, 253, 185, 71, 95, 2, 187], [150, 14, 3, 131, 14, 60, 225, 35, 4, 157, 57], [38, 318, 39, 36, 33, 4, 335, 15, 66], [319, 6, 125, 316, 82, 149, 198, 1, 6], [132, 1, 36, 33, 161, 239, 3, 69, 2, 45, 12, 5, 195, 1, 36, 472, 3, 29, 65], [25, 260, 149, 75, 24, 374, 149, 282, 15], [], [1, 106, 56, 153, 2, 11, 334, 318, 120, 198, 21, 37, 1, 257], [91, 242, 124, 4, 369, 147, 168, 24, 413, 30, 89, 238, 207], [3, 4, 62, 216, 125, 244, 2, 189, 3, 28, 324, 14], [100, 11, 100, 58, 117, 7, 260], [3, 56, 480, 295, 173, 9, 51, 39, 56, 39, 83, 30], [21, 190, 33, 121, 33, 30, 5, 217, 165, 19, 26, 36, 32, 8, 201, 460, 89, 104, 17, 4, 55, 112], [99, 40, 9, 140, 5, 140, 2, 29, 14, 12, 231], [121, 214, 95, 87], [34, 3, 22, 27, 54, 64, 334], [161, 1, 31, 331, 24, 146, 6, 338, 20, 59, 276, 6, 129, 350, 1, 92, 477, 18], [146, 66, 83, 79, 74, 2], [49, 3, 370, 19, 266, 201], [93, 35, 13, 282, 7, 7, 3, 36, 377, 78, 4, 47, 30, 144, 185], [211, 154, 30, 40, 1, 323, 27], [136, 284, 78, 4, 1, 6, 10, 327, 5, 62, 5], [128, 22, 3, 1, 3, 2, 10, 51, 5, 66, 20, 111, 3, 250, 2, 58, 2, 10, 19, 13], [29, 236, 499, 12, 136, 2, 33, 8, 5], [70, 10, 13, 7], [77, 68, 233, 18, 45, 141, 86, 23, 365, 77, 1, 6], [200, 116, 104, 196], [286, 12, 13, 71, 105, 144, 483, 35, 95, 38, 258, 378], [247, 46, 1, 8, 2, 153, 191, 7, 94, 156, 103, 8, 22, 3, 237, 40, 340], [54, 290, 45, 82, 222], [84, 73, 16, 101], [23, 25, 473, 31], [83, 24, 9, 27, 4, 447, 75, 15, 5, 68, 447, 21, 42, 41, 15, 235, 9, 8, 193, 25, 33, 12, 12, 42, 41, 25, 134, 42, 41, 2, 51, 52, 96, 2, 43, 47, 2, 125, 316, 42, 41, 197, 25, 32, 42, 41, 12, 42, 41, 38, 90, 15, 353, 155, 107, 48, 89, 235, 9, 78, 39, 17, 342, 424], [95, 10, 23, 114], [400, 3, 1, 57, 3, 72, 114], [29, 76], [140, 3, 8, 26], [1, 60, 80, 2, 28, 14, 49, 1, 1, 4, 331, 66, 7, 7], [84, 73, 16, 101, 42, 41, 277], [334, 36, 381, 33, 387, 24, 111, 33, 499, 12, 4, 27, 2, 104, 4, 19, 172, 7, 61], [213, 46, 54, 137, 371], [114, 1, 402, 27, 58, 54], [23, 6, 212, 32], [34, 3, 14, 5, 252, 360, 5, 110, 88, 8, 494, 386, 494, 75, 64], [], [107, 31, 181, 40, 112, 8, 89, 71, 339, 2, 20, 173, 310, 378, 376, 278, 231, 112], [122, 154, 1, 374, 6, 25, 65, 104, 18, 50, 465, 30, 356], [57, 3, 191, 2, 28, 251, 316, 121, 304], [140, 46], [137, 396, 66, 304], [3, 171, 408, 32, 99, 99, 99, 99, 99], [53, 28, 6, 69, 49, 1, 58, 85, 4, 72, 4, 15, 11, 261, 12, 3, 279, 53, 1, 36, 134, 24, 65, 2, 11, 430, 15, 11, 33, 21, 7, 88, 38, 75, 25, 134, 3, 21, 106, 16, 10, 1, 36, 224, 1, 58], [29, 8, 28, 3, 69, 178], [447, 5, 42, 41, 265, 35, 4, 275, 7, 235, 29, 222, 2, 11, 167, 42, 41, 92, 245, 12, 21, 330], [432, 364], [91, 6, 171, 106, 119, 26, 93, 2, 220, 119], [13, 325, 12, 368, 221, 1, 424, 16, 425, 389], [3, 100, 134, 188, 86, 240, 42, 476, 41, 26, 5], [209, 209, 48, 9, 14, 456], [47, 12, 385, 112, 223, 267, 43, 31, 197, 112, 37, 81, 223, 2, 32, 7, 102, 31, 267, 278], [34, 3, 17, 10, 58, 2, 11, 76], [13, 227, 380, 345, 36, 33, 177, 2, 3, 324, 34, 75, 9, 27, 12, 71, 85, 5, 2, 32, 5, 227, 345], [1, 111, 69, 3, 2, 232, 24, 29, 160, 53, 1, 25, 2, 35, 3], [25, 28, 77], [20, 296], [119, 87], [183, 2, 5, 26, 145, 2, 473, 16], [19, 77, 149, 148, 24, 11, 148, 406, 6, 1, 171, 146, 94], [169, 412], [3, 22, 19, 5, 5, 216, 19, 11, 7, 49, 1, 11, 3, 22, 51, 21, 50, 1, 15, 11, 353, 409, 3, 54, 329, 11, 22, 50, 126, 4, 66, 15, 12, 10, 15, 432, 368, 1, 366, 88, 24, 1, 323, 57, 51, 244, 3, 37, 57, 7, 7, 49, 11, 66, 117, 9, 308, 3, 7, 1, 75], [475, 43, 434, 86, 9, 13, 62, 50, 162, 144, 185, 436, 4, 3], [24, 39, 59, 87, 280], [1, 63, 27, 303, 98, 157, 320], [1, 107, 12, 4, 9, 5, 12, 295, 1], [63, 8, 283, 16, 3, 101], [1, 171, 120], [246, 246, 129, 15, 113, 62, 11, 116, 341, 261, 129, 354, 116], [58, 2, 10, 13, 160, 14, 192, 74, 367, 13, 7, 10, 3, 22, 10], [129, 108], [59, 304, 8], [12, 174, 1, 6, 101, 253, 242], [3, 102, 53, 106, 57, 40, 2, 10, 46, 38, 90, 2, 148], [16, 142, 7, 148, 3, 27, 266, 86, 46, 7, 102, 166, 27, 2, 10, 57, 40, 46], [29, 74, 50, 2, 204], [154, 39, 25, 359, 78, 356, 11, 44, 35, 220, 340], [11, 38, 8, 10, 34, 31, 237], [198, 83, 55, 417, 59, 8, 308, 38, 9, 92, 35, 43, 289, 242], [18, 18], [84, 87, 163, 163, 84, 1, 63, 44, 35], [84, 275, 11, 115, 19, 167, 123, 7, 297, 330, 14, 1, 59, 44], [83, 79, 85, 12, 371], [3, 297, 431, 14, 52, 10], [63, 108, 18, 106, 39, 280, 36, 180, 18, 141, 6, 100, 232, 119, 31, 93, 242], [38, 38, 37, 19, 21, 60, 2, 33, 24, 21, 290], [274, 433, 138, 108, 255, 26, 8, 61, 8, 5, 422, 71, 218, 37, 71, 2, 7, 88, 131, 3, 217, 165], [7, 413, 35, 20], [47, 223, 47, 47, 19, 434, 16, 19, 26, 16], [4, 391, 4, 68, 327, 94, 408, 301, 68, 327, 98, 192, 113, 391, 18, 113, 66, 4, 60, 113, 14, 60, 80, 18, 113, 340, 113, 391, 57, 82, 98, 94, 403, 6, 23, 113, 391, 9, 113, 15, 11, 82, 113, 340, 89, 82, 15, 113, 1, 47, 113, 199], [2, 136, 218, 35, 3, 25, 20, 16, 89, 47, 52, 13, 97, 78], [122, 91, 1, 107, 422, 15, 7], [143, 140, 51, 459], [186, 39, 22, 294, 2, 202, 3, 167, 322, 368, 21, 3, 17, 183, 4, 158, 269, 16, 135, 425, 65], [117, 9, 13, 425, 2, 95, 492, 93, 95, 144, 273, 234, 241], [52, 227, 352, 32, 231, 125, 446, 43, 31, 394, 18, 16, 141, 483, 355, 302, 231, 219, 125], [28, 6, 96, 78, 282, 8, 31], [478, 108, 52, 45, 81, 223, 2, 38, 473, 86, 52, 65, 302, 144, 43], [1, 106, 17, 21, 118, 8, 312], [11, 8, 250, 3, 370, 4, 121], [400, 3, 23, 118, 49, 39, 7, 39, 408, 32, 5, 15, 13, 127, 3, 22, 55, 3, 122, 39, 22, 222, 2, 324], [91, 146, 221], [37, 14, 44, 7, 496, 85, 2, 33, 98], [46, 417, 18, 79, 126], [323, 68, 66, 39, 217, 37, 445, 44, 7, 372, 49, 110, 28], [110, 7, 49, 6, 415, 14, 19, 14, 13, 329, 15, 410], [73, 50, 8, 4, 287, 399, 71, 10, 128, 2, 165, 3], [47, 469, 8, 18, 4, 2, 181, 248, 71, 2, 2, 377, 469, 81, 455, 173, 423], [3, 212, 33, 117, 240, 412], [184, 12, 206, 103, 294, 2, 102, 21], [89, 27, 126, 246, 15, 410, 237, 30, 21, 66, 15, 123], [31, 349, 478, 15, 26, 269, 47, 469, 18, 322, 81, 498, 2, 144], [1, 63, 85, 289, 331, 179, 15, 19, 137, 2, 1, 137, 4, 460, 184, 351, 194, 15, 61], [127, 3, 22, 303, 4, 121, 62], [178, 77, 9, 94, 266], [323, 131, 51, 167, 123, 8, 7, 50, 15, 5], [25, 6, 10, 113], [417, 288, 39, 266, 85, 19, 300, 371, 74, 85, 18, 20, 66, 43, 4, 86, 127, 477, 246, 125, 2, 58], [221, 1, 36, 104, 65], [6, 246, 244, 10, 23, 1, 297, 257, 96, 7, 216, 4, 332, 6, 34, 31, 10, 23, 118, 48, 25, 1, 102, 2, 421, 66, 106, 276, 410, 2, 10, 46, 180], [115, 421, 421], [174, 29, 85, 58, 85, 2, 10], [29, 5, 71, 1, 37, 177, 3, 64, 2, 33, 4, 23, 14, 8, 21], [1, 63, 74, 2, 87, 30, 84, 87], [122, 91, 91, 24, 68, 9, 27, 4, 397, 379, 55], [34, 6, 98, 76, 195, 140, 46, 77, 29, 27, 307, 280], [46, 193, 13, 347, 157], [89, 261, 49, 225, 9, 8, 14, 24, 14, 163, 49, 225, 14, 55, 123], [292, 1, 63, 42, 41, 331, 127, 3, 57, 166, 397], [6, 151, 17, 443, 136], [6, 204, 164], [28, 3, 56, 162, 311, 392, 13, 23, 21, 75, 131, 9, 443, 12, 3, 155, 410, 78, 13, 35, 61], [9, 24, 146, 9, 211], [27, 382, 30, 305, 32, 4, 439, 2, 328], [114, 34, 29, 21, 73, 37, 16, 192], [1, 56, 24, 3, 90, 2, 32, 20, 1, 37, 59, 11, 24, 1, 137, 2, 9, 2, 341, 12, 10, 2, 58, 2, 120], [31, 145, 9, 478, 2, 31, 145, 8, 20, 70, 45, 2, 65, 187, 119, 378, 376], [3, 22, 269, 5, 348, 223, 115, 4, 26, 4, 158, 81, 332, 473, 2, 38, 187], [48, 28, 255, 258, 188, 8, 110, 134, 5, 422, 21, 188, 367, 347, 318, 7, 188, 5, 318], [132, 292, 51, 18, 15, 18, 6], [84, 73, 16, 101, 8, 291], [5, 23, 1, 402, 33, 78, 207], [7, 32, 120, 235, 85], [1, 60, 44, 51, 123, 126, 80, 40, 140, 4, 39, 468, 4, 123, 50, 35, 7, 3, 160, 11], [1, 43, 488, 11, 167, 112, 20, 29, 212, 78, 11, 390], [1, 39, 45, 50, 82, 17, 120, 459, 23, 8, 450, 26, 191, 46], [143, 68, 9, 161, 121, 257, 249, 159, 8, 353, 163, 2, 32, 50], [57, 336, 77, 39, 482, 165, 8, 54, 79, 228, 477, 2, 58, 50], [39, 17, 34, 6, 69], [1, 50, 4, 78, 4, 35, 5, 252, 193, 60, 35, 4, 110, 106, 21], [64, 46, 34, 10, 6, 166], [99, 40, 9, 25, 1, 165, 6, 30, 418], [1, 36, 88, 8, 329, 136, 416], [99, 109, 3, 403, 2, 80, 232], [53, 66, 3, 15], [438, 73, 153, 11, 49, 1, 32, 85], [35, 11, 167, 22, 479, 2, 4, 34, 13, 157, 100, 16, 2, 135, 13], [64, 103, 4, 331, 62, 29, 37, 69, 2, 44, 7, 104, 4], [132, 25, 3, 134, 10, 4, 49, 3, 32, 40, 90, 2, 274, 2, 3, 80, 40, 19, 5, 385], [477, 6, 146, 66, 6, 233, 10, 18, 58], [186, 13, 97, 157, 124, 103, 349, 35, 4, 158, 269, 16, 52, 314, 135, 65], [389, 219, 101, 91], [211, 12, 337, 94, 257, 11, 1, 17], [59, 31, 400, 3, 23, 406, 2, 15, 163, 117, 428, 75, 3, 147, 34, 27, 239, 1, 382, 260, 2, 58, 44, 67, 116], [140, 65, 51, 30, 193, 9, 43, 18], [38, 1, 59, 21, 3, 74, 2, 204, 8], [72, 296, 129, 155, 160, 114], [288, 132, 54, 75, 62, 19, 39, 25, 153, 7, 104, 232, 45], [28, 39, 17, 96], [154, 133, 9, 296, 167, 112, 51, 5, 252, 293, 72, 240, 24, 387, 7, 370, 22, 459], [1, 106, 64, 4, 392, 188], [28, 139, 198, 21, 367, 346, 1, 69, 18, 8, 11, 169, 117], [11, 30, 176], [1, 2, 204, 4, 344, 64, 186, 24, 4, 15, 42, 41, 67, 9, 38, 2, 457, 42, 41, 279, 11], [38, 38, 1, 36, 330, 51], [7, 20, 37, 200, 50], [186, 13, 97, 38, 183, 4, 362, 158, 19, 40, 9, 5, 441, 2, 440, 3, 16], [1, 88, 5, 180, 19, 11, 344], [134, 4, 480, 110, 107, 7, 1, 301, 96, 264, 15, 7, 51, 21], [3, 17, 183, 72, 4, 241, 89, 124, 3, 2, 181, 4, 158, 2, 473, 9, 387, 37, 16], [105, 28, 10, 4, 105, 11, 354, 2, 105, 14, 86, 9, 98, 354], [472, 5, 218, 7, 6, 25, 17, 37, 44, 7, 5, 81, 469, 2, 20, 119, 187], [36, 33, 364, 237, 43, 20, 1, 63, 74], [100, 5, 115], [31, 6, 104, 14, 271, 9, 113, 422, 82, 490, 130, 15, 196, 82, 319, 17, 209, 62, 87], [262, 11, 7, 22, 10, 7, 11, 22, 2, 363, 5, 123, 35, 4, 107, 1, 217, 78, 8, 57, 136, 416], [124, 156, 4, 25, 153, 125, 316, 4, 275, 25, 20, 3, 56, 162, 51, 15, 188, 22], [106, 102, 21, 275, 15, 386, 15, 8, 399, 100], [10, 126, 17, 4, 123, 380], [46, 279, 292, 64, 37, 205, 26, 5, 49, 31, 88, 3], [361, 254, 25, 34, 228, 17, 19, 254, 17, 2, 149, 149, 9, 30, 6], [18, 11, 299], [29, 15, 35, 3, 80, 40, 112, 159, 112, 28, 53, 3, 69, 7, 52, 20, 19, 73, 28, 5, 252], [13, 16, 3, 297, 88, 11], [110, 111, 102, 6, 21, 5, 15, 22, 12, 5, 195, 18, 1, 297, 256, 30, 51, 167, 123], [11, 8, 127, 3, 22, 303, 4, 121, 352, 37, 132], [400, 311, 110, 22, 8, 474], [225, 124, 89, 218, 7, 13, 115, 3, 2, 176, 50, 131, 14, 9, 16, 52, 4, 317, 187], [262, 106, 33, 35, 104, 14, 72, 4, 12, 5, 337, 198], [46, 1, 210, 57], [356, 47, 16, 10, 320, 1, 63, 245, 12, 3], [159, 67, 9, 38, 276, 8], [154, 140, 338], [38, 87, 74, 2, 274, 8, 432], [67, 9, 38, 8, 11, 7], [110, 83, 4, 343, 2], [1, 63, 82, 7, 1, 321, 2, 3, 71, 4, 93, 2, 431, 85, 52, 10, 187, 230, 119, 93, 95, 2, 363], [1, 36, 58, 35, 344, 100, 224, 36], [181, 39, 17, 4, 173, 183, 136, 125, 194, 23, 189, 136, 19, 31, 97, 26, 144, 181, 273, 234], [8, 40, 353], [1, 107, 21, 23, 154, 73, 33, 78, 30, 120], [86, 14, 60, 209, 18, 44, 24, 39, 18, 176, 125, 66, 125, 122, 114, 104, 196, 141, 6, 194, 141], [53, 6], [49, 9, 486, 128, 36, 3, 5, 57, 7, 5, 487, 28, 3, 17, 4, 57, 255, 8, 5, 486, 51, 244, 22, 475], [48, 118, 83, 79, 2, 404], [171, 222, 96, 3, 25, 176], [3, 36, 33, 40, 453, 324, 14], [1, 214, 224, 2, 14], [64, 55, 2, 431, 52, 3], [11, 21, 9, 232, 12, 51, 251, 23, 14, 36, 33, 232, 12, 3, 96, 130, 16, 7, 14], [29, 1, 59, 16, 52, 13, 157], [28, 3, 301, 34, 1, 153, 53, 3, 106, 17, 2, 148, 34, 14, 9], [186, 16, 317, 13, 43, 281, 26, 362, 145, 173, 310, 378, 376, 388, 272], [72, 34, 1, 303], [462, 20, 329, 434, 314, 16, 19, 26], [11, 74, 2, 125, 316, 10, 87], [11, 8, 250, 3, 370, 4, 121], [68, 156, 36, 40, 17, 103, 2, 164, 26, 27, 1, 63, 8, 4], [1, 69, 2, 13, 20], [108, 253, 18, 370, 8, 31, 43, 37, 47, 18, 377, 26, 30, 185, 81, 75, 282, 2, 95, 18], [55, 467, 11, 61, 14, 60, 55, 2, 88, 13, 19, 7, 32, 13, 163, 11, 1, 11, 7, 3], [38, 152, 38, 53], [61, 3, 61, 6, 335], [51, 62, 456, 62, 7], [1, 61, 213, 126, 24, 260, 7, 13, 235, 290, 174, 190, 19, 10, 34, 68], [154, 12, 3, 30, 21, 460], [77, 48, 6, 6, 336, 126], [51, 55, 14, 2], [154, 34, 13, 27, 126, 50, 7, 169, 499, 2, 11, 259], [206, 257, 3, 481, 36, 95, 37, 106, 215, 98, 32], [1, 25, 138, 12, 3], [64, 23, 48, 83, 6, 146, 83, 6, 160, 48, 60, 31, 62, 23, 215, 10, 153, 6, 191, 109, 6, 326, 86, 34, 27, 28, 14, 20, 199], [63, 19, 4, 85, 52, 23, 29, 27, 29, 205, 86, 36, 33, 237, 28, 3, 5, 40, 112, 78, 5, 130], [164, 63, 9, 5, 108, 130, 15], [91, 92, 22, 3, 10], [3, 51, 307, 12, 397, 62, 147], [99, 174, 6, 83, 422, 2, 33, 8, 474, 24, 169, 23, 84, 80, 207, 1, 161, 313, 88, 6, 147, 23, 16, 10, 30, 412, 61, 10, 380], [128, 22, 3, 1, 217, 15, 3, 56, 1, 90, 3], [211, 1, 60, 21, 126, 262], [37, 23, 21, 3, 56, 177, 235, 280, 1, 37, 177, 98, 4, 71, 27, 2, 23, 64, 201, 3, 106, 17, 2, 8, 178, 1, 17, 178, 19, 3, 8, 5, 195, 238, 23, 12, 21, 1], [3, 153, 142, 2, 58, 64], [438, 283, 32, 19, 8, 4, 399], [57, 4, 435, 9, 92, 117, 7, 92, 29, 19, 5], [25, 3, 37, 58, 8, 12, 4, 436, 117, 1, 69, 3, 2, 88], [221, 383, 339, 8, 195, 386], [63, 19, 5, 63, 1, 5, 65, 26, 63, 1, 14, 35, 5, 171], [288, 254, 15, 6, 146], [379, 29, 74, 465, 19, 11, 20, 179, 11, 27, 308, 280, 228, 6, 393], [1, 69, 64, 65, 204, 18, 65, 18, 38, 65, 18, 18], [122, 11, 311, 206, 13, 157, 192, 29, 23, 71, 10, 85, 40, 302, 231], [132, 174, 427, 14, 74, 109, 3, 381, 50, 128, 13, 74, 12, 108], [154, 23, 96, 66, 227, 112, 3, 25, 32, 52, 13, 155, 32, 44, 240, 170], [85, 8, 184, 12, 188, 44, 7, 188, 51, 7, 129, 88, 3, 194], [59, 53, 14, 18, 104, 396, 8, 5, 8, 6, 25, 35, 71, 2, 88, 26, 273, 234, 33, 6], [262, 127, 79, 25, 431, 5], [137, 13, 97, 26, 125, 6, 83, 2, 462, 2, 5, 348, 35, 315, 12, 47, 16, 5, 97, 462, 273, 47, 19], [438, 29, 8, 4, 360, 23, 71, 10, 49, 270, 19, 5, 130], [38, 318, 35, 5, 1, 366, 28, 14, 150, 24, 1, 106, 56, 220], [1, 61, 6, 18, 11, 411, 1, 63, 84, 24, 1, 61, 6], [55, 40, 9, 48, 22, 3], [203, 3, 44, 358, 53, 66, 22, 7, 21, 74], [8, 49, 28, 3, 232, 1, 107, 496, 85, 2, 486, 26], [1, 69, 120, 11, 1, 90, 4, 337, 275, 18, 10, 81, 430, 2, 12, 38, 81, 95, 18, 363, 81, 302], [1, 338, 127, 64, 490, 21, 10, 179, 29, 161, 142, 3, 308, 178, 2, 210, 80, 280], [292, 28, 3, 57, 1, 17, 4, 7, 30, 11, 328], [64, 31, 2, 61, 225, 64, 31, 2, 61, 5, 75, 131, 6, 24, 64, 4, 2, 61, 4, 306, 131, 226, 61, 6, 199], [213, 74, 12], [50], [25, 3, 105, 70, 10, 21, 282, 8], [65, 34, 3, 13, 285, 50, 72, 194, 72, 3, 25, 7, 71, 10, 8, 5, 168, 2, 215, 10, 56, 3, 443, 14, 8, 46], [105, 28, 10, 4, 105, 11, 354, 2, 105, 86, 9, 98, 354], [34, 3, 111, 13, 158, 36, 45, 2, 347, 241, 173, 141, 30, 144, 173, 141, 272, 187, 219, 100, 16, 85, 34], [122, 91, 91, 128, 109, 3, 104, 461], [99, 11, 61, 48, 496, 21, 62, 449, 40, 168, 1, 7, 11, 19, 5, 130, 222, 5, 24, 14, 1, 175, 3], [3, 17, 103, 479, 2, 8, 139, 15, 12, 334, 281, 2, 135, 16], [3, 17, 183, 4, 223, 40, 9, 53, 3, 32, 49, 3, 181, 89, 47, 2, 104, 396, 70, 223, 2, 20, 278], [61, 124, 38, 124, 38, 124, 38, 248, 6, 17, 236, 8, 31, 172, 199], [257, 21, 68, 9, 74, 2, 472, 220, 8], [29, 30, 133, 100, 16], [99, 169, 27, 102, 169, 84, 43, 10, 127, 6, 14, 180, 24, 19, 242], [1, 36, 33, 414, 39, 36, 138, 341, 61], [14, 60, 55, 2, 2, 13, 40, 168, 11, 61, 449, 1, 61, 3, 126, 11, 471, 52, 5], [64, 4, 104, 14, 35, 3], [6, 22, 2, 5, 249, 97, 218, 8, 5, 234, 12, 230, 309, 419, 3, 70, 95, 2], [1, 106, 13, 152], [181, 4, 34, 6, 56, 193, 8, 112, 81, 2, 302, 231], [30, 328, 20, 88, 3, 42, 170], [154, 359, 117, 12, 4, 452], [245, 12, 13, 16], [72, 8, 44, 44], [84, 206, 27, 2, 21, 238, 1, 366, 28, 23, 147, 161, 84], [444, 148, 99, 2, 7, 176, 50, 34, 59, 220, 121, 26], [6, 16, 10, 30, 46], [243, 83, 6, 46, 206, 4, 7, 68, 50, 5, 1, 4, 123, 6, 175, 6], [206, 103, 52, 51, 180, 7, 12, 172, 40, 8, 434, 466, 44, 2, 10, 7, 403, 34, 1, 23, 1, 59, 5, 195, 8], [1, 109, 75, 7, 75, 211], [73, 165, 3, 8, 5], [84, 1, 468, 3, 174, 1, 60, 44, 239, 7, 8, 1, 127, 3, 324, 13, 1, 175, 3, 126, 471], [1, 402, 58, 2, 12, 18, 309, 23, 3, 25, 33, 2, 104, 4, 232, 356, 1, 106, 435, 96, 11, 90, 2, 300, 186], [132, 26, 12, 229, 484], [1, 107, 37, 7, 88, 3], [87, 11, 8, 9, 8, 24, 337, 9, 86, 24, 106, 14, 1, 382, 134, 3, 4, 259, 34, 3, 189, 5, 96, 130, 184, 12, 5], [4, 287, 60, 42, 41, 399], [267, 13, 124, 20, 18, 93, 43, 26, 43, 139, 187, 230, 112, 81, 95, 18, 95, 40, 119, 47], [262, 21, 60, 5, 195, 306, 1, 60, 212, 153], [9, 163, 55, 9, 7, 487, 9, 161, 209], [31, 59, 38, 68, 148, 58, 192, 2, 104, 4, 406, 141, 59, 4, 27], [47, 18, 13, 97, 81, 2, 32, 47, 12, 54, 230, 62, 81, 95, 40, 119, 9, 47], [129, 108, 265, 2, 6, 7, 31, 248, 40, 108, 265, 497, 7, 2, 31, 172], [53, 265, 7, 48, 246], [358, 8, 11, 353, 3, 31, 31, 326, 31, 31, 441, 31, 286, 7, 385, 31, 55, 168, 116], [54, 94, 86, 79, 38, 90, 2, 141], [143, 5, 65, 238, 8, 450, 2, 165, 9, 20, 8, 5, 234, 81, 253, 2, 20, 187, 119], [15, 51, 5, 155, 110, 18, 8, 136, 110, 451, 110, 257, 336, 5, 443, 78, 51, 50, 15, 113, 327, 65, 139, 408, 68, 156, 34, 14, 9, 443, 78, 11, 40, 383, 216, 429], [3, 236, 133, 37], [1, 63, 239, 1, 36, 33, 67, 30], [291, 6, 9, 11, 133, 10, 49, 382, 1, 28, 11, 133, 147], [312, 128, 22, 3], [283, 33, 30, 8, 80, 170, 277, 24, 406, 50, 12, 10], [25, 3, 138, 14, 207, 26, 28, 3, 69, 2, 37, 224, 147], [29, 2, 33, 239], [72, 1, 11, 11, 448, 156, 129, 1, 259, 94, 10, 43, 268, 159, 268, 94, 10, 2, 98, 39, 200, 67], [488, 1, 274, 80, 51, 44, 8, 11, 211, 1, 21, 34, 1, 137, 14, 156, 14, 447, 20], [84, 73, 16, 101], [132, 168, 53, 3, 58, 2, 153, 448], [132, 44, 6, 51, 168], [46, 206, 177, 6, 87, 348, 15, 87], [72, 1, 11, 11, 448, 156, 129, 1, 259, 94, 10, 43, 268, 159, 268, 94, 10, 2, 98, 39, 200, 67], [37, 177, 14, 23, 53, 15, 487, 28, 3, 57], [13, 325, 124, 103, 35, 478, 47, 71, 492, 2, 37, 81, 5, 332, 2, 38, 173, 310, 144], [83, 6, 8, 34, 39, 165, 39, 25, 45, 18, 11, 328], [139, 45, 2, 119, 18, 415, 19, 170, 5, 35, 43, 42, 41, 229, 31, 64], [29, 11, 328, 20], [84, 11, 14, 46, 34, 1, 58, 78, 20], [109, 1, 2, 102, 3, 1, 69, 3, 1, 90, 3, 1, 3, 24, 422, 15, 51, 1, 61, 3, 11, 341], [37, 2, 148, 407, 3, 370, 80, 40], [48, 36, 1, 19, 3, 20], [1, 63, 15, 74, 222, 2, 12, 11, 262, 146, 66, 6, 74], [323, 53, 3, 56, 3, 313, 176, 50, 131, 14, 9, 134, 188, 4, 16, 19, 52, 317, 187, 219, 272], [358, 8, 11, 353, 3, 31, 31, 326, 31, 31, 441, 31, 286, 7, 385, 31, 55, 168, 116], [60, 2, 88, 21, 152, 23, 49, 83, 6, 116, 53, 486, 7, 146, 83, 31], [5, 18, 9, 271, 24, 75, 264, 9, 8, 44, 42, 41, 207, 34], [25, 3, 105, 105, 70, 10, 4, 19, 51, 3, 56, 80, 266, 2, 117, 51, 3, 56, 80, 7, 178, 184], [120, 255, 69, 10, 2, 359, 104, 4, 452], [1, 63, 305, 39, 36, 33, 4, 55], [195, 75, 8, 30, 351], [256, 25, 258, 31, 126], [1, 42, 41, 8, 5, 7, 1, 63, 7, 28, 3, 57], [400, 3, 165, 3], [25, 3, 215, 10, 56, 15, 49, 6, 176, 50, 179, 29, 27, 8, 26, 184], [13, 157, 7, 60, 458, 2, 13, 157, 162, 206, 27, 52, 3, 40, 265, 51, 5, 249, 8, 13, 59, 40, 157, 52, 11, 255], [1, 3, 217, 229, 491, 230, 123, 8, 96], [14, 65, 426, 27], [449, 174, 53, 2, 3, 48, 58, 3, 298, 466, 85], [47, 119, 453, 52, 185, 195], [411, 284, 290, 2, 82, 316, 225, 82, 82, 199], [7, 78, 49, 270, 308, 1, 20], [1, 250, 21, 1, 60, 35, 3, 3, 3, 88, 48, 475, 3, 22, 48, 118, 3, 2, 10, 48, 118, 1, 90, 3, 8, 11, 172], [7, 42, 41, 60, 38, 258], [29, 212, 50, 11], [116, 103, 2, 40, 9, 89, 2, 202, 6, 81, 253, 2], [5, 109, 120, 24, 1, 57, 33, 8, 191, 227, 112, 7, 68, 14, 2, 188, 12, 47], [24, 33, 4, 55, 306, 24, 106, 260, 2, 14, 199], [249, 314, 156, 8, 61, 1, 36, 224, 5, 62, 1, 25, 6, 26, 5, 62, 6, 21, 6, 10], [154, 182, 198, 59, 51, 11, 293, 24, 169, 74, 379, 12, 78, 5, 130, 131, 9, 40, 106, 56, 157], [114, 1, 72, 1, 35, 167, 123, 23, 110, 137, 2, 153, 15, 10], [46, 46, 46, 54, 31, 435], [1, 107, 3, 151, 45, 5, 16, 5, 147, 64, 5, 21, 138, 188, 121, 295], [60, 161, 55, 2, 88, 3, 5, 251, 62, 103, 3], [105, 351, 2, 21, 241], [206, 14, 23, 1, 151, 203, 14, 19], [315, 3, 22, 349, 4, 315, 16, 317, 309], [336, 9, 341, 39, 25, 107, 15, 191, 2, 28, 68, 68, 17, 4, 209, 66, 207, 283, 359, 81, 6, 101, 179, 169, 380], [186, 31, 269, 9, 92, 16, 20, 302], [48, 17, 13, 411, 103, 23, 40, 112, 90, 4, 226, 140, 21, 66, 15, 112, 164], [1, 69, 2, 33, 67, 23, 1, 25, 471, 3, 7, 210, 3, 227, 2, 10], [114, 9, 15, 4, 198], [16, 10, 87, 1, 63, 245, 12, 13, 16], [94, 90, 96, 461], [24, 1, 6, 148, 1, 54, 6, 228, 233, 10, 164], [211, 38, 24, 250, 50, 4, 289], [99, 55, 250, 6, 113, 252], [417, 6, 169, 292, 417, 4, 287, 18, 205, 104, 196, 141, 6, 194, 380], [185, 195, 141], [35, 157, 42, 41, 12, 42, 476, 41, 124, 103, 2, 5, 325, 19, 42, 41, 30, 42, 66, 41, 42, 41], [6, 10, 283, 236, 180, 117, 1, 18, 6, 24, 1, 298, 48, 6, 80, 10, 49, 53, 1, 6], [27, 284, 14, 8, 30, 9, 21, 19, 205, 78, 46], [221, 40, 36, 5, 343, 15], [91, 91, 448, 137, 13, 268], [9, 4, 62], [1, 226, 189, 74, 40, 14, 60, 298, 11, 2, 3, 50, 24, 34, 3, 2, 28, 21, 316, 189, 5, 360, 23, 1, 111, 17, 2, 148, 38, 2, 54, 444, 247, 5, 249, 143, 1, 3, 2, 33, 23, 444, 210, 12, 356, 48, 1, 210, 49, 1, 17, 4, 264, 131, 2, 204, 7, 1, 17, 2, 148, 38, 72, 40, 168, 206, 481, 1, 111, 56, 53, 2, 28], [54, 39, 224, 43, 6, 77, 38, 90, 18, 210, 437, 350], [29, 19, 11, 130, 76, 200, 2, 43, 11, 372, 54, 45, 470, 4, 289, 77], [48, 1, 109, 79, 87, 72, 79, 92, 8], [72, 4, 394, 241, 3, 103, 479, 2, 377, 4, 2, 473, 16, 65], [299, 1, 79, 148], [46, 283, 70, 3, 35, 8, 42, 476, 41, 46], [24, 33, 4, 55, 306, 24, 106, 260, 2, 14, 199], [148, 39, 233, 2, 45, 54, 45, 54, 94, 25, 372, 87], [57, 2, 102, 3, 11, 16, 10, 37, 219, 2, 95, 458, 16, 455], [38, 2, 33, 1, 323, 63, 1, 201, 34, 29], [114, 30, 40, 150, 29, 212, 17, 2, 32, 44, 7, 330, 23, 71, 10, 49, 3, 69, 10, 2, 58, 32, 3], [29, 76, 146, 66, 36, 6, 440], [22, 3, 176, 50, 52, 144, 273, 234], [6, 126], [29, 30, 20, 78, 5, 360], [1, 36, 58, 147], [3, 16, 142, 20, 46, 1, 156, 16, 142], [91, 54, 58, 6, 2, 58, 7, 171, 2, 58, 78, 285, 47, 66], [114, 29, 3, 297, 176, 14, 211], [68, 57, 27, 263, 405, 179, 9, 57, 171, 57, 336, 51, 56, 393, 68, 59, 153, 10, 31, 77], [225, 124, 89, 218, 7, 13, 115, 346, 110, 3, 2, 176, 50, 131, 14, 9, 16, 52, 4, 317], [116, 40, 9, 13, 2, 473, 13, 43, 281, 26, 145, 16, 52, 317, 388], [174, 53, 22, 3, 160, 128, 22, 3, 131, 22, 3, 2, 28, 3, 107, 15, 10, 22, 3, 271, 4, 55, 391, 22, 3, 10, 28, 3, 61, 10], [52, 147, 305, 2, 170, 133], [357, 96, 130, 39, 217, 203, 191, 44, 207], [28, 3, 26, 52, 10], [243, 11, 61, 48, 496, 21, 62, 1, 250, 13, 114, 7, 296, 174, 7, 127, 21, 3, 176, 120, 304, 1, 175, 3, 4, 471], [36, 17, 386, 125, 205, 6, 7, 9, 163, 35], [3, 92, 266, 207], [186, 16, 52, 13, 317, 13, 43, 281, 26, 389, 362, 145, 173, 310, 378, 376, 272], [29, 266, 76, 43, 371], [2, 3, 126, 174, 1, 61, 213], [9, 67, 266, 9, 232, 12, 28, 3, 32, 96, 52, 13, 133, 238], [1, 324, 384, 7, 7, 178, 7, 3], [1, 63, 3, 12, 487, 48, 80, 4, 35, 38], [3, 22, 4, 121, 3, 22, 23, 118, 7, 1, 161, 250, 62, 12, 4, 24, 311, 72, 4, 12, 481, 7, 1, 148, 1, 250, 1, 162, 24, 1, 106, 206, 44, 2, 3, 488, 1, 60, 7, 1, 92, 28, 17, 4, 121, 62], [445, 31, 18, 43, 139, 395, 32, 136, 267, 19, 31, 115, 19, 5, 218, 152, 12], [449, 2, 10], [1, 137, 6, 4, 120, 240, 64], [53, 2, 107, 38, 75, 46, 232, 38, 90, 2, 153, 98, 1, 36, 45, 34, 94, 58, 26, 27], [447, 413, 27, 46, 35, 3, 27, 271, 46, 35, 14], [140, 292, 215, 10, 56, 240, 14, 205, 237, 42, 41, 73, 33, 50, 7, 80, 51, 62], [53, 27], [247, 4, 444, 165, 12, 287], [1, 3, 22, 4, 7, 29, 294, 27, 2, 33, 4, 1, 17, 2, 32, 120, 5, 130, 7, 54, 260, 5, 28, 17, 4, 62], [64, 2, 244, 57, 40, 51, 25, 148, 24, 107, 240, 178, 2, 10], [39, 17, 2, 203, 67], [3, 17, 136, 475, 241, 218, 52, 16, 20], [37, 1, 466, 2, 87], [1, 63, 245, 16, 10, 356, 3, 47], [213, 31, 318], [48, 246, 479], [4, 73, 175, 5, 195], [39, 56, 72, 15, 61, 24, 5, 251, 139, 60, 430, 50, 15, 220, 358, 18, 2, 98, 170, 8, 98, 42, 41, 43, 68, 54, 128, 5, 9, 5, 61, 5, 121], [153, 34, 6, 165, 44], [1, 37, 443, 120, 23, 106, 17, 21, 118, 84, 190, 3, 69, 14, 26, 5, 251, 130], [37, 59, 312, 212, 45], [283, 16, 3, 283, 120], [7, 3, 36, 3, 3, 71, 127, 51, 496, 114], [119, 10, 49], [3, 12], [91, 45, 7, 256, 114, 104], [56, 224, 1, 36, 330, 14], [285, 136, 124, 2, 232, 27, 331, 159, 412, 25, 3, 32, 117, 8, 57, 136, 416], [3, 22, 2, 377, 4, 105, 16, 135, 157, 2, 473, 13, 193, 3, 22, 479, 2, 377, 72, 4, 97, 241], [35, 5, 353, 9, 387, 6, 181, 26, 327, 35, 131, 9, 2, 6, 9, 34, 6, 6, 34, 6, 181, 6, 92], [6, 25, 181, 15, 498, 464, 197, 112, 20, 81, 5, 332, 322, 2, 144, 185], [46], [21, 3, 59, 136, 4, 8, 94, 221, 296, 94, 221, 117, 20], [84, 73, 16, 101], [28, 6, 48, 18, 70, 392, 18], [46, 21, 190, 180, 34, 6, 83, 182, 107, 80, 480, 6, 69, 2, 28, 8, 50, 80, 44, 2, 6, 480, 80], [195, 7, 91], [5, 463, 116, 299, 83, 6], [192, 140, 149, 75, 227, 2], [132, 174, 11, 264, 137, 2, 92, 44, 12, 4], [6, 3], [177, 10, 31, 194], [357, 38, 312, 150], [128, 28, 3, 90, 2, 45, 2, 32, 14], [99, 241, 395, 5, 108, 97, 52, 65, 30, 81, 332, 429, 2, 38, 32, 20], [122, 213, 59, 262, 1, 60, 25, 45, 12, 54, 2, 401, 207, 29, 47, 405, 7, 436, 4, 207], [35, 5, 353, 9, 387, 6, 181, 26, 327, 35, 131, 9, 2, 6, 9, 34, 6, 6, 34, 6, 181, 6, 92], [116, 51, 72, 39, 56, 42, 41, 9, 5, 42, 41, 354, 15, 89, 39, 22, 2, 134, 4, 464, 19, 21, 62, 410, 131, 57, 2, 8, 21, 3, 22, 100, 202, 89, 12, 125], [99, 109, 10, 169, 34, 253], [122, 11, 311, 29, 76], [143, 167], [175, 16, 175, 16, 175, 16, 279, 113, 75, 35, 121, 115], [54, 32, 120, 145, 7, 73, 71], [417, 43, 87, 222, 19, 10], [154, 58, 201, 2, 28, 120], [40, 9, 5, 441, 66, 39, 17, 18, 202, 6, 6, 17, 183, 5, 158, 18, 135, 9, 387, 16, 20, 65, 230, 219, 327, 455], [115, 21, 75, 179, 279, 4, 337, 332], [85, 2, 52, 3, 431, 53], [114, 308, 13, 43, 281, 26, 16, 20, 231], [114, 189, 8, 301, 206, 65, 59, 12, 75, 125, 4, 15, 145], [1, 254, 1, 228, 477, 1, 45, 330, 54, 102, 79], [25, 3, 148, 53], [48, 9, 14, 2, 3, 7, 128], [262, 114, 1, 5, 7], [357, 3, 237, 4, 264, 15, 2, 203, 44, 101, 207], [143, 116, 406, 48, 1, 63, 3], [340, 226, 45, 75, 62], [184, 12, 320, 3, 17, 103, 127, 3, 5], [459, 3, 190, 107, 190, 44, 4, 26, 120, 407, 48, 118, 68, 68, 44, 8, 57, 18], [57, 42, 41, 252], [224, 18, 219, 30, 439, 95], [259, 478, 15, 2, 33, 183, 37, 43, 387, 339, 20, 70, 2, 125, 144, 337, 185], [11, 306, 86, 83, 6, 256, 192, 167, 6, 30, 43], [24, 73, 180, 74, 18, 19, 375, 369, 77, 179, 59, 8, 87], [48, 22, 3, 37, 44, 19, 3], [60, 401, 7, 92, 402, 49, 6, 16, 85, 23, 4, 71, 9, 3, 36, 70, 6, 4, 71, 1], [3, 45, 2, 147, 1, 58, 239], [334, 146, 6, 7], [5, 422, 298, 17, 5, 252, 37, 17, 5, 249, 15], [111, 107, 80, 53, 6, 17, 59, 107, 80, 48, 2, 276, 14, 21, 3, 17, 59, 55], [140, 46, 30, 92, 237], [23, 162, 408, 3], [206, 59, 14, 222, 2, 4, 27, 182, 193], [42, 41, 22, 3, 74, 2, 32, 21], [3, 8, 13, 360, 1, 90, 4, 287], [91, 73, 133, 191, 50], [89, 167, 123, 37, 12, 98, 7], [24, 34, 94, 221, 29, 46], [132, 111, 3, 22, 12, 10, 11, 11, 326], [122, 91, 29, 384, 117], [86, 1, 63, 239, 12, 346, 15, 85, 463], [197, 60, 356, 4, 398, 7, 197, 121, 60, 356, 4, 27, 128, 6, 83, 86, 24, 128, 6, 440, 199], [382, 1, 58, 2, 32], [65, 12, 216, 12, 246, 94, 9, 485, 14, 54, 9, 5, 7, 96, 318], [111, 180, 180, 129, 65, 253, 218, 35, 16, 219, 18, 95, 89, 458, 16], [29, 30, 133, 100, 16], [211, 38, 1, 37, 90, 2, 145, 8, 11, 58, 19, 240, 1, 50], [5, 124, 27, 103], [216, 1, 214, 11, 3, 22, 8, 10, 89, 113], [132, 67, 174, 48, 6, 480, 6, 44, 18, 61, 242], [38], [84, 73, 16, 101], [1, 51, 164, 5, 75, 30], [5, 37], [132, 105, 1, 69, 2, 32, 209, 173, 12, 11, 209, 11, 9, 42, 41, 91, 258, 105, 1, 36, 113, 189, 10, 319, 18], [1, 27, 47, 86, 1, 477, 18, 203, 11, 44], [1, 226, 351, 97, 17, 318, 1, 25, 3, 24, 3, 11, 23, 1, 446, 3, 101], [438, 449, 14, 73, 32, 14, 101], [1, 401, 109, 12, 5, 195, 66, 8, 4, 452, 1, 200, 2, 474, 27, 126, 331, 159, 1, 35, 3, 44, 30, 358, 48, 60, 13, 123], [34, 75, 25, 28, 14, 6, 126, 25, 28, 14, 34, 25, 28, 14, 6, 28, 14, 34, 75, 25, 28, 14, 215, 142, 28, 14, 34, 25, 28, 14, 232, 14, 7, 34, 75, 25, 28, 14, 95, 142, 160, 14, 34, 25, 28, 14, 138, 4, 14], [206, 27, 485, 3, 8, 4, 452, 40, 9, 14, 60, 7, 21, 3, 56, 21, 39, 175, 3, 370, 1, 175, 397, 23, 105, 134, 98, 11, 61, 17, 4, 121, 62], [34, 3, 5, 143], [84, 87, 86, 1, 383, 58, 2, 339, 1, 17], [37, 10, 21, 3, 89, 184], [3, 22, 189, 410, 400, 3], [94, 14, 163, 94, 37, 156, 94, 190, 5, 306, 8, 80, 5, 7, 21, 1, 151, 35, 5, 80, 11, 347, 238, 24, 20, 7, 51, 237, 22, 42, 41, 7, 44], [181, 4, 34, 6, 56, 193, 5, 9, 8, 81, 2, 302, 231], [103, 8, 4, 12, 386, 64, 11, 3, 151, 33, 125, 80], [122, 262, 442, 39, 137, 200, 86, 126, 1, 228, 301, 214, 44], [1, 403, 3, 2, 16, 142, 20, 46], [27, 182, 1, 21, 71, 24, 132, 193, 460], [68, 447, 99, 7, 2, 32, 13, 85, 2, 30, 4], [3, 22, 271, 205, 32, 13, 97, 52, 144, 185, 16, 490, 12, 65, 170], [154, 73, 260, 2, 191, 44], [64, 27, 21, 66, 15, 5, 352, 15, 5, 66], [288, 82, 98, 77, 29, 291, 11, 30], [262, 288, 39, 36, 4, 287, 78, 159, 25, 45, 7, 192], [3, 56, 10, 23, 114], [442, 451, 6, 149, 393], [184, 73, 189, 21, 8, 301], [1, 175, 3, 23, 118, 29, 23, 1, 17, 5, 152, 3, 12, 10, 5, 251, 62, 7, 2, 14, 37, 2, 431, 5, 15, 13, 1, 61, 3], [1, 323, 14, 9, 6, 43, 191, 475], [88, 5, 152, 12], [89, 235, 7, 204, 4, 15, 34, 39, 181, 1, 32, 42, 41, 6, 32, 42, 41], [1, 366, 98, 11, 115, 2, 253, 6], [129, 108, 265, 414], [1, 107, 34, 68, 54, 64, 163, 12, 89, 295], [134, 98, 191, 2, 34, 94, 14, 7, 54, 3, 98, 402, 34, 94, 215, 10, 56], [128, 22, 3, 116], [106, 21], [132, 340, 48, 83, 6, 127, 6, 83, 114, 10, 136, 83, 192, 331, 66, 38, 141, 134, 10, 4, 16, 66, 52], [262, 128, 59, 23, 254, 45, 43, 4, 352, 442, 59, 101, 39, 45, 415, 149], [9, 292, 1, 9], [38, 1, 59, 21, 3, 74, 2, 204, 8], [241, 238, 1, 36, 16, 3], [63, 27, 456, 24, 63, 44, 2, 8, 23, 36, 71, 6, 101, 49, 4, 289, 125, 47, 12, 253], [357, 193, 312, 28, 3, 313, 104, 5, 447, 312, 9], [434, 241, 3, 248, 20, 135, 13, 47, 315, 115, 12, 13, 16, 20, 19, 395, 173, 423, 50], [64, 37, 5, 15, 37, 14], [213, 163, 209, 33, 307, 19], [417], [49, 22, 3, 74, 2, 13], [132, 20, 63, 47, 3, 25, 16, 10], [69, 4, 108, 345, 115, 96, 394, 277, 329, 314, 47, 71, 12, 170, 93, 26, 16, 12, 47], [6, 38, 31, 4, 44, 20, 150], [122, 150, 46, 73, 138, 182, 21, 1, 28, 15, 133, 5, 62, 59, 4, 161, 86, 7, 9, 82, 23, 21, 151, 161, 258, 14], [7, 83, 443, 252, 24, 28, 6, 56, 113, 326, 19, 31, 390, 10, 129, 216, 1, 63, 52, 6, 189, 55], [35, 13, 361], [1, 482, 179, 1, 59, 4, 59, 205, 43, 4, 485, 23, 1, 140, 87, 75, 79, 31], [42, 41, 9, 1, 61, 6, 62, 70, 457, 2, 51, 31, 10, 34, 170, 85, 41, 113, 306, 6, 319, 34, 6, 457, 6, 36, 31, 319, 43], [46, 77], [490, 64, 35, 98, 117], [30, 5, 76, 35, 7], [433, 62, 15, 81, 2, 106, 175, 50, 54, 197, 373, 4, 43, 125, 141, 273, 234, 373], [397, 5, 124, 479, 6, 12, 145, 26, 16, 378, 376, 272, 327, 317, 355, 388], [48, 3, 1, 383, 102, 178, 2, 3, 431, 159, 1, 383, 274, 2, 3], [206, 59, 42, 41, 96, 130, 1, 217, 203, 44], [23, 9, 193, 9, 128, 1, 63, 48, 83, 6, 275, 51, 9, 55, 8, 283, 180, 85, 141, 6, 40, 373, 131, 60, 5, 119, 43], [143, 1, 63, 4, 75, 275, 100, 102, 10, 13, 7, 8, 474], [132, 3, 257, 13, 282, 2, 361], [30, 53, 66, 22, 3, 266], [17, 3, 26, 191, 46, 444, 229, 60, 4, 289], [413, 8, 247, 37, 5, 396, 24, 39, 189, 8, 184, 2], [206, 76, 82, 1, 393, 6, 25, 16, 10, 20], [3, 25, 222, 244, 3, 69, 2, 428, 101], [1, 382, 12, 329, 34, 247, 46, 35, 3], [47, 453, 93, 337, 26, 139, 18, 170, 43, 229, 385, 267, 47, 7, 305, 125, 49, 6, 472, 12, 373], [92, 8, 5, 15, 5, 283, 260, 2, 58, 85, 194], [55, 48, 22, 3, 128, 83, 6, 456, 20], [154, 150, 73, 497, 11], [38, 87, 3, 435], [53, 3, 90, 3, 17, 4, 306, 2, 134], [40, 152, 9, 47, 2, 5, 108, 2, 52, 40, 218, 93, 95, 187, 272, 65], [259, 478, 15, 2, 33, 183, 37, 43, 387, 339, 20, 70, 2, 125, 144, 337, 185], [1, 6, 148, 94, 20, 92, 228], [1, 36, 440, 364, 237, 42, 476, 41, 155, 11, 97, 17, 318, 3, 32, 11, 23, 16, 3, 73, 47], [31, 9, 20, 227, 5, 397, 4, 180, 26, 141, 71, 4, 180, 26, 141, 2, 55], [164, 59, 4, 2, 33, 5, 304, 2, 5, 27, 419, 5, 379, 29, 2, 33, 67, 2, 3, 7, 20, 206, 3, 24], [116, 382, 8, 5, 382, 462, 3, 244, 22, 499, 46, 24, 4, 55, 75, 8, 337], [3, 4, 112], [105, 45, 35, 1, 37, 2, 33, 182, 28, 17, 4, 121, 460], [20, 21, 3, 17, 106, 95, 37, 12, 125, 55, 7, 178, 1, 88, 21, 25, 258, 3, 370, 1, 366, 3, 4], [286, 12, 13, 71, 105, 144, 483, 35, 95, 38, 258], [86, 29, 27, 24, 27, 47, 6, 30, 31, 470], [38, 127, 200, 114, 17, 4, 459, 30], [206, 257, 142, 21, 206, 14, 21, 151, 1, 14], [53, 36, 39, 28, 8, 5, 398], [91, 1, 11, 202, 21, 162], [13, 325, 12, 368, 221, 1, 424, 16, 425, 389], [50, 67, 5, 225, 107, 8, 15, 6, 120, 128, 50, 67, 128, 58, 490, 155, 341], [140, 46, 1, 180, 119, 6, 1, 58, 76, 207], [53, 3, 160, 48, 22, 3], [46, 1, 63, 19, 5, 130, 2, 76, 99, 99], [132, 6, 1, 37, 59, 139, 15, 345, 93, 2, 40, 81, 283, 70, 6, 11, 44, 169, 23, 30, 133, 380, 272, 187], [32, 13, 307, 12, 35, 4, 47, 15, 7, 231, 65, 35, 5, 40, 2, 95, 273, 234], [], [132, 1, 61, 3, 1, 137, 2, 102, 1, 406, 30, 13, 7, 2, 210, 3, 392, 11, 449, 1, 69, 3, 1, 90, 3, 1, 3], [9, 27, 4, 2, 339, 14, 9, 27, 4, 332, 2, 148, 14, 429, 19, 7, 19, 248, 14, 9, 147, 86, 7, 149], [4, 411, 148, 104, 356, 197, 454, 140, 65, 103, 229, 24, 463, 9, 85, 23, 1, 347, 127, 1, 111], [23, 1, 403, 427, 7, 13], [91, 447, 413, 212, 33, 237, 23, 73, 33, 44, 67, 237, 42, 41], [99, 3, 37, 2, 263, 57, 2, 56, 34, 3, 208, 35, 5, 93, 47, 35, 143, 26, 38], [13, 17, 103, 44, 12, 144, 185, 13, 9], [171, 320, 1, 177, 3, 136, 80, 48, 2, 367, 5, 1, 366, 70, 3, 347, 152, 21, 151, 48, 244, 22, 85, 76, 17, 4, 121, 460], [405, 214, 428, 77, 23, 146, 66, 83, 39, 291, 418], [23, 49, 28, 3, 313], [3, 22, 349, 4, 315, 16, 52, 317, 173, 310, 388, 278], [105, 134, 98, 54, 42, 41, 277, 101], [109, 3, 260, 347], [84, 1, 11], [40, 9, 5, 441, 66, 39, 17, 18, 202, 6, 6, 17, 183, 5, 158, 18, 135, 9, 387, 16, 20, 65, 230, 219, 327, 455], [174, 29, 3, 226, 3, 88, 10, 444, 290, 1, 59, 5, 140, 121], [120, 22, 72, 118, 72, 18, 3, 402, 32], [73, 88, 53, 22], [55, 467, 433, 48, 496, 5, 304, 1, 7, 3, 22, 11, 195, 284, 72, 236, 11, 61, 1, 250, 13, 296, 7, 129, 7, 56, 1, 3], [132, 48, 496, 14, 117, 8, 64, 46, 67, 9, 57, 7, 407, 24, 1, 92], [375, 46, 24, 4, 289, 6, 290, 45, 365, 20, 73, 210], [128, 25], [10, 18, 174, 1, 210, 5, 252, 37, 80, 14, 260, 44, 27, 6], [1, 485, 7, 156, 51, 2, 142, 54, 68, 17, 2, 40], [208, 294, 2, 176, 4, 487, 238, 237, 117], [427, 244, 37, 4], [22, 479, 2, 377, 4, 34, 3, 17, 4, 100, 16, 135, 425], [60, 8, 13, 360, 26, 191], [1, 128, 22, 3, 1, 17, 2, 45, 7, 11, 312, 30, 229], [11, 2, 142], [400, 3, 116, 12, 5], [12, 185, 9, 276, 13, 115, 27], [193, 9, 4, 131, 236, 2, 26, 4, 131, 4, 80, 5, 68, 35], [424, 9, 3, 2, 33, 220, 264, 93, 143, 26, 38, 88, 142, 144, 286, 6, 95, 70, 95, 2], [3, 22, 4, 163, 163, 163, 163, 437, 340, 26], [1, 63, 19, 5, 130, 2, 31, 76], [64, 74, 55, 38, 318, 24, 92, 90, 411, 2, 241], [6], [382, 1, 70, 21, 2, 13], [3, 17, 183, 139, 362, 145, 26, 4, 18, 362, 158, 2, 135, 173, 141, 388], [143, 24, 25, 39, 165, 8, 450, 179, 36, 45, 2, 7, 54, 76, 3, 217, 71, 30, 439, 95, 7, 111, 495, 17, 78], [102, 166, 38, 90, 2, 80, 10], [38, 48, 6, 5], [253, 32, 469, 367, 253, 30, 4, 15, 5, 355, 93, 26, 16, 2, 376], [84, 77, 374, 18, 102, 6], [15, 246, 18, 6, 131, 83, 18, 40, 83, 307, 18, 31, 197, 90, 25, 6, 71, 2, 302, 424], [243, 11, 61, 53, 22, 3, 160, 109, 3, 32, 2, 21, 86, 22, 3, 3, 129, 22, 3, 271, 4, 55, 391, 28, 3, 107, 15, 10, 22, 3, 10], [283, 33, 67, 19, 42, 41, 46], [129, 354, 248, 51, 31, 58, 490], [223, 345, 315, 115, 9, 13, 16, 446, 355, 388, 16, 52, 278], [1, 63, 8, 474, 7, 17, 103, 44, 12, 57, 42, 41], [13, 325, 12, 368, 221, 1, 424, 16, 425, 272], [91, 1, 88, 3, 91, 128, 22, 3, 20], [1, 284, 271, 129, 60, 5, 422, 198, 19, 24, 5, 9, 129, 35, 51, 463], [452, 208, 410, 11, 443, 1], [1, 214, 203, 5, 115, 150, 20, 105, 70, 4, 152], [475, 43, 434, 86, 9, 31, 62, 18, 176, 50, 162, 144, 185, 436, 4, 3], [42, 41, 12, 18], [34, 39, 181, 64, 161, 38, 139, 12, 331, 66], [114, 3, 257, 166], [134, 10, 4, 2, 107, 107, 80, 14], [407, 21, 9, 161, 7, 214, 12, 4, 44, 12, 123, 50, 28, 6, 107, 67, 9, 1, 217, 12, 123, 19], [438, 50, 8, 4, 287], [221, 24, 27, 57, 21], [84, 11, 1, 25, 58, 78, 24, 29, 65, 285, 4, 12, 20, 13, 238], [299, 79, 233, 2, 45, 67, 141], [154, 1, 151, 33, 489, 2, 73, 71, 3, 49, 29, 307, 2, 165, 44], [6, 370, 298, 10], [1, 177, 166, 28, 3, 57], [48, 118, 6, 294, 2, 32], [5, 322, 72, 13], [359, 27, 29, 50, 15, 7, 1, 32, 120, 145, 147], [46, 77], [116, 55, 168, 20, 65, 1, 63, 44], [116, 55, 168, 48, 3, 116], [21, 53, 4, 463, 1, 290, 58, 54], [46, 5, 461, 49, 22, 79, 74, 2, 1, 107, 140, 19, 248, 284, 313, 45, 50, 35, 24, 94, 47], [99, 129, 108, 265, 1, 106, 2, 24, 25, 3, 105, 215, 10, 56, 48, 118, 3, 167, 7, 48, 118, 40, 9, 184], [86, 9, 62, 6, 10, 72, 38], [44, 206, 103, 12, 57, 309], [359, 212, 78, 8, 4, 289], [36, 79, 180, 74, 2, 76], [1, 23, 27, 96, 68, 53, 80, 10], [2, 6, 126], [438, 73, 71, 3, 49, 29, 85], [91, 87, 48, 246, 3, 69], [105, 106, 2], [67, 148, 99, 2, 89], [299, 228, 126, 405, 6, 228, 57, 361, 94, 375], [47, 96, 62, 24, 1, 300, 30, 305, 19, 82], [46], [320, 1, 90, 15, 7], [17, 3, 137, 4, 55, 62, 60, 161, 22, 3, 44, 2, 118, 147, 123], [3, 22, 349, 4, 315, 16, 52, 317, 173, 310, 388, 278], [211, 29, 27, 174, 24, 184, 12, 15, 10], [13, 292, 22, 307, 2, 40, 108, 139, 18, 170, 106, 125, 8, 82], [331, 159, 1, 1, 32, 19, 65, 57, 229, 399, 4, 62, 72, 14, 9], [428, 2, 153, 80, 220], [7, 78, 5, 130, 14, 60, 26, 27], [122, 46, 31], [186, 39, 22, 294, 2, 202, 6, 322, 368, 21, 3, 17, 183, 4, 158, 269, 16, 52, 314, 135, 65], [169, 18, 5, 35, 480, 6], [12, 42, 41, 16, 42, 41, 12, 185], [127, 3, 22, 303, 4, 121, 62, 40, 71, 3, 114, 7, 15, 172, 17, 4, 121, 62], [117, 59, 31, 82, 59, 11, 46, 350, 1, 228, 148, 164, 224, 31, 429], [221, 29, 384, 14, 8, 321], [11, 25, 65, 33, 1, 90, 2], [248, 180, 24, 14, 151, 17, 125], [7, 22, 115, 16], [318, 8, 20], [53, 28, 6, 69, 12, 420, 48, 80, 47, 71, 492, 4, 108, 345, 115, 35, 329, 314, 16, 47, 20, 19, 2, 176, 50, 125], [338, 300, 11, 268, 19, 11, 130, 76, 77, 1, 6, 228, 233, 18, 8, 86], [49, 1, 60, 311, 156, 122, 38, 347, 49, 3, 208, 311, 156, 122, 38, 131, 75, 62, 386, 36], [46, 1, 14, 60, 46, 1, 37, 495, 126, 118, 1, 17, 2, 28, 120, 293, 11, 7, 54, 17, 2, 192, 24, 3, 25, 16, 10, 67], [426, 17, 4, 20], [3, 249, 372, 53, 3, 148, 1, 32, 72, 4], [95, 1, 402, 17, 11, 2, 274, 1, 226, 33, 446, 34, 1, 32, 75, 125, 16, 29, 27, 19], [84, 73, 16, 101], [228, 90, 2, 276, 44, 482, 87, 82], [342, 83], [67, 75, 140, 136, 6, 8, 5, 15], [54, 6, 290, 45, 256, 228, 6, 393, 6, 44, 54, 119, 10, 77], [99, 53, 3, 107, 80], [35, 86, 68, 21, 3, 90, 2, 2, 189, 10, 117, 413, 74, 2, 16, 3, 49, 68, 426, 1, 3, 2, 37, 106, 138, 96, 26, 138, 14, 244, 22, 27, 387, 7, 1, 90, 3, 2, 100, 215, 188, 133, 244, 50, 72, 331, 72, 1, 189, 258, 11, 36, 33, 23, 105, 37, 189, 142, 129, 38, 19, 13, 396], [99, 174, 64, 10, 184, 12, 266, 216, 14, 408, 45, 21, 114, 1, 37, 11, 474, 127, 2, 88, 3, 194, 61, 7, 380], [334, 1, 59, 119, 38], [9, 13, 132, 23, 418, 1, 165, 3, 30], [6, 175, 225, 5, 306, 9, 259, 12, 6, 24, 34, 5, 306, 9, 23, 259, 162, 2, 175, 166, 37, 189, 8], [46, 79, 194], [186, 16, 52, 317, 13, 43, 281, 26, 362, 145, 173, 310, 378, 376, 170, 388, 272, 395], [116, 17, 13, 227, 19, 188, 276, 5, 19, 13, 18, 324, 4, 18, 43, 139, 144, 185], [46, 48, 246, 151, 1, 204], [296, 1, 175, 3, 163, 118], [116, 116, 6, 83, 27, 24, 1, 25, 431, 106, 32, 321, 35, 38, 125, 6, 83, 236, 11, 116, 199], [235, 1, 17, 183, 157, 480, 28, 1, 28, 227], [321, 16, 20, 37, 230, 219, 378, 376, 9, 4, 455, 16], [28, 3, 56, 49, 36, 33, 85], [24, 486, 59, 395, 494, 65], [6, 25, 181, 15, 498, 464, 197, 112, 20, 81, 5, 332, 322, 2, 144, 185], [449, 174, 1, 175, 3, 118, 1, 250, 3, 208, 117, 2, 256, 35, 10, 11, 474, 9, 23, 1, 45, 20, 2, 256, 2, 15, 3, 11, 61], [132, 84, 1, 213, 4, 4, 37, 103, 8, 45, 18, 34, 44, 4, 319], [23, 174, 209, 2, 5], [3, 50, 15, 5, 251, 62, 20, 92, 35, 10, 49, 6, 32, 4, 340, 31, 92, 39, 36, 32], [1, 31, 46], [132, 319, 18, 24, 137, 18, 45, 76], [215, 10, 56, 49, 59, 5, 235, 23, 25, 138, 5, 16], [2, 88, 13, 93], [29, 8, 4, 291, 16, 10, 101, 30], [38, 11, 22], [3, 22, 4, 333, 26, 269, 158, 40, 9, 89, 2, 202, 3, 2, 135, 16, 20], [181, 39, 17, 4, 173, 183, 136, 125, 194, 23, 189, 136, 19, 31, 97, 26, 144, 181, 273, 234], [162, 22, 6, 44, 23, 369], [22, 6, 9, 67, 67], [106, 415, 13, 115, 19, 46], [61, 14, 1, 69, 2, 21, 35], [384, 432, 77], [323, 39, 25, 45, 43, 82, 262, 39, 25, 254, 59, 374, 393], [11, 354, 9, 19, 42, 41, 87], [99, 64, 8, 22, 3, 92, 19, 40, 157], [1, 2, 153, 79, 2, 224, 43, 10, 2, 300, 179, 11, 8, 136, 416, 379], [357, 3, 237, 37, 59, 11, 344, 85], [154, 118, 33, 5, 249], [29, 84, 206, 5, 15, 295, 21, 106, 189, 8, 3, 4, 121, 2, 10, 3, 17, 103, 4, 264, 30, 51, 491, 216, 30, 121, 355, 28, 17, 4, 121, 112], [127, 40, 71, 3, 34, 27, 54, 215, 40, 71, 134, 3, 4, 2, 326, 17, 4, 62], [116, 103, 2, 40, 9, 89, 2, 202, 6, 81, 253, 2, 187, 272], [19, 34, 3, 69, 5, 1, 177, 54, 80, 305, 34, 3, 69, 444, 18], [1, 37, 71, 5, 332, 46, 19, 13, 97, 115, 7, 70], [25, 3, 71, 26, 22, 3, 126], [22, 479, 2, 377, 4, 34, 3, 4, 100, 16, 135, 425], [60, 4, 209, 62, 7, 1, 60, 200, 76, 369, 7, 20, 210, 296, 26, 63, 1, 37, 1, 226, 428], [31, 453, 218, 124, 47, 45, 2, 185, 2, 20, 95, 81, 95, 2, 187, 373, 378], [357, 169, 150, 78, 357, 133], [143, 68, 17, 55, 301], [444, 26, 5, 238, 11, 328], [15, 188, 160, 149, 252, 198, 24, 1, 59, 432, 18, 372, 6, 25, 254, 15, 128, 18, 45, 207, 26, 6, 164, 477, 8, 301], [246, 246, 129, 15, 113, 62, 11, 116, 341, 261, 129, 354, 116], [3, 443, 11, 62, 28, 17, 4, 121, 62, 126], [1, 61, 1, 65, 384, 5, 364], [387, 323, 5, 60, 289], [42, 41, 34, 3, 374], [162, 1, 58, 8, 392, 3, 295], [243, 11], [12, 96, 362, 17, 3, 103, 39, 25, 92, 258, 16, 47, 26, 71, 85], [96, 463, 19, 96, 198], [33, 182, 2, 330, 13, 39, 177], [169, 37, 53, 13, 160, 150, 20], [283, 17, 2, 107, 80, 14, 46, 270, 113], [417, 4, 335, 43, 31, 258], [20, 65, 1, 76, 1, 63, 163, 20, 1, 36, 58], [39, 2, 16, 3, 13, 93, 2, 89, 286, 12, 4, 345, 97, 277, 71, 47, 93, 15, 16, 20], [34, 1, 215, 3, 28, 40, 1, 69, 3, 8, 5, 328, 78], [83, 39, 92, 291, 43, 371, 207], [114, 29, 212, 300, 11, 20, 17, 4, 55, 296, 123], [23, 246, 295, 2, 33, 259, 30, 195, 24, 65, 163, 287, 36, 259, 2, 3, 13, 167, 166, 172], [46, 417, 104, 196, 54], [342, 17, 312, 369, 147, 7, 33, 294, 2, 30, 42, 41], [30, 76, 384, 432, 77], [46, 350, 1, 330, 484, 87, 164, 68, 156, 263, 68, 156, 36, 419, 1, 406, 209], [25, 3, 105, 176, 50, 48, 118, 110, 8, 7, 48, 246, 491, 25, 14, 33, 64, 163, 475, 2, 17, 4, 93, 240], [334, 2, 28, 77, 6, 405, 133], [241, 218, 3, 17, 4, 108, 245, 12, 3, 100, 16, 20, 2], [5, 4, 82, 149, 130, 6, 313, 201, 159], [], [5, 128, 5, 363, 15, 9], [226, 274, 19, 115, 35], [67, 22, 246, 102, 10, 5], [143, 87, 96, 30, 31, 364], [247, 5, 130, 3, 151, 122], [39, 52, 11, 150, 19, 150, 19, 19, 9, 42, 41], [1, 224, 12, 127, 207, 126, 437, 72, 114, 24, 123, 379, 74, 12, 4, 20, 17, 4, 55, 123, 351, 2, 3, 194], [79, 92, 59, 79, 8], [387, 361, 59, 479, 64, 55], [126, 246, 15, 166, 64, 459], [52, 144, 185, 119, 352, 173, 81, 95], [82, 1, 254, 1, 141, 79], [15], [5, 447, 42, 41, 149, 342, 42, 41, 42, 66, 41, 63, 73, 330, 7, 71, 3, 192, 147], [13, 325, 12, 368, 2, 135, 16, 425], [64], [75, 453, 7, 20, 285, 458, 170, 125], [24, 1, 214, 45, 18, 31, 328, 150], [119, 54, 137], [3, 17, 183, 72, 4, 241, 89, 124, 3, 2, 181, 4, 158, 2, 473, 9, 387, 37, 16], [46], [24, 247, 19, 14, 402, 33], [466, 2, 406, 30, 5, 46, 8, 220, 9, 133, 59, 266, 30, 305, 126], [37, 5, 37, 205], [320, 245, 12, 13], [39, 16, 57, 42, 41, 491, 122, 38, 134, 188, 122], [37, 88, 3, 8, 4, 309, 42, 170], [3, 106, 56, 3, 10], [3, 20, 29, 57, 150, 237, 155, 42, 41], [44, 28, 3, 69, 10, 2, 58], [76, 23, 39, 25, 236, 253], [100, 16, 89, 241, 218, 19, 392, 72, 3, 17, 183, 4, 269, 333, 145, 26, 158], [64, 17, 4, 121, 66, 8, 27, 80, 481, 9, 4], [29, 266, 85, 19, 9, 14, 212, 33, 46, 2, 32, 5, 235, 122, 154, 7, 48, 22, 3, 481, 486, 26, 28, 3, 16, 14, 133, 20], [34, 64, 27, 75, 198, 64, 347, 11, 124, 49, 426, 40, 437, 62, 363], [86, 9, 62, 193, 36, 6, 12, 10, 70, 40, 2, 51, 31, 24, 195, 10], [57, 67, 217, 33, 4, 335, 15, 66, 8, 21, 391, 26, 104, 13, 57, 4, 55, 74, 2, 8, 4, 209, 331, 20], [181, 4, 265, 15, 43, 4, 15, 31, 89, 322, 81, 498, 2, 310, 144, 185], [5, 461, 15, 19, 9, 2, 409, 261], [1, 17, 14, 122, 23, 42, 41, 58], [63, 27, 2, 28, 57, 21], [342, 447, 3, 298, 13, 458], [85, 18, 133, 329, 201, 25, 6, 141, 10, 43, 120, 433, 1, 17, 18, 45, 85, 253, 20, 319, 446, 302], [1, 226, 1, 111, 17, 98, 157], [184, 17, 4, 121, 62], [29, 76, 10, 463, 447, 481, 9, 296], [68, 24, 1, 77, 204, 418, 77, 268, 24, 39, 92, 43, 268, 418, 4, 27, 431, 166, 79, 59, 4, 335, 15, 133], [186, 40, 9, 5, 441, 2, 202, 6, 6, 17, 183, 231], [6, 17, 4, 131, 9, 499, 18, 138, 202, 35, 6, 176, 50, 131, 110, 83, 131, 31, 23, 259, 16, 19], [6, 102, 169, 180, 4, 289, 179, 18, 179, 110, 208, 169, 92, 43, 139, 242], [23, 22, 3, 370, 21, 1, 32, 21, 192, 26, 64, 35, 167, 265], [1, 24, 67, 9, 65, 193, 1, 25, 65, 21, 159], [1, 25, 104, 3, 30, 57], [3, 285, 85, 96, 66, 194], [5, 353, 4, 335, 27, 346, 15, 5, 15, 437, 295, 24, 346, 15, 5, 15, 55, 295, 199, 123], [34, 3, 25, 138, 14, 96, 66, 207, 26, 3, 25, 140, 292, 37, 71, 10, 270, 237], [1, 106, 25, 3, 70, 14, 2, 10, 494, 427], [68, 171, 80, 268, 65, 87, 1, 56], [211, 21, 190, 33], [384, 432, 20, 1, 59, 108, 304], [213, 110, 22, 114, 7, 296, 216, 94, 375, 7, 31, 117, 64, 126], [211, 46, 73, 98, 126], [38, 7, 487, 117, 1, 63, 171], [64, 46, 7, 64, 11, 139, 15], [14, 9, 4, 55, 198, 29, 20, 285, 5, 2], [478, 47, 71, 37, 71, 46, 2, 7, 13, 325], [9, 54, 9, 5, 282, 15], [84, 12, 5, 143], [357, 3, 212, 92, 33, 8, 147, 86, 29, 294, 2, 32, 4], [46, 417], [99, 64, 1, 106, 56, 34, 3, 22, 30, 133, 24, 16, 10, 49, 6, 25, 169, 30, 76, 51, 380], [32, 10, 50, 15, 40, 11, 2, 58, 2], [275, 54, 25, 235], [48, 22, 3, 160, 127, 8, 12, 5, 108, 486, 265, 37, 3, 4, 62], [21, 212, 33, 194, 26, 101, 207], [25, 58, 11, 360, 24, 58, 11, 328, 179, 11, 328, 92, 262], [38, 215, 10, 28, 5, 13, 27, 55, 30, 14], [100, 93, 35, 13, 7, 2, 149, 342], [4, 190, 33, 90, 15, 7, 240, 96, 15], [24, 1, 59, 30, 43, 82, 1, 60, 15, 74, 2, 82, 1, 15, 30], [9, 57, 4, 15, 4, 263, 83, 8, 113, 252, 263, 83, 489, 18, 34, 263, 165, 65, 327, 263, 199], [57, 21, 3], [375, 239, 350, 379, 1, 180], [243, 40, 198, 1, 107, 1, 17, 2, 189, 40, 21, 133], [1, 257, 98, 1, 137, 4, 227, 112, 94, 29, 212, 1, 257, 98, 64, 37, 4, 330, 334, 2, 33, 80, 24, 94, 297], [127, 27, 303, 126, 118, 459, 409, 10, 88, 6, 147, 61, 242], [99, 1, 127, 3, 137, 4, 209, 123, 1, 250, 1, 137, 58, 214, 224, 2, 88, 3, 61, 1, 69, 7, 1, 69, 4, 389, 275], [1, 32, 50, 15, 312, 8, 8, 57, 42, 41, 399, 3, 56, 128, 9], [186, 31, 349, 4, 2, 26, 333, 2, 135, 81, 457, 2, 272, 305, 302, 231, 389], [137, 222, 2, 5, 49, 3, 243, 10, 243], [27, 118, 37, 120, 48, 3], [322, 1, 106, 107, 23], [50, 35, 11, 7, 220], [27, 489, 2, 28, 178], [1, 18, 6, 24, 239, 164, 1, 128, 59, 3, 34, 6, 153, 10, 68, 153, 10, 54, 73, 45, 50, 6, 51, 77, 82, 6, 92, 25, 23, 337], [], [43, 31], [47, 12, 385, 112, 223, 267, 43, 31, 197, 112, 37, 81, 223, 2, 32, 7, 102, 31, 144, 273, 234, 187, 267, 278], [5, 76, 15, 324, 14], [46, 1, 45, 171], [132, 275, 11, 133, 97, 157, 9, 17, 4, 55, 75, 174], [171, 102, 142, 1, 156, 129, 354], [109, 6, 5, 34, 27, 28, 14, 46, 104, 196], [1, 2, 250, 3, 4, 129, 108, 265, 7, 1, 2, 274, 2, 3, 80, 120, 2, 28, 35, 49, 7, 1, 24, 8, 306, 73, 138, 4, 2, 12, 21, 1, 127, 481, 9, 55, 35, 3, 174, 7, 1, 61, 213], [67, 88, 6, 8, 4], [51, 308, 51, 8, 111, 56, 34, 470, 8, 72, 24, 279, 53, 29, 160], [1, 69, 2, 45, 2], [28, 3, 56, 128, 11, 200], [38, 130, 29, 74, 85, 67], [54, 79, 58, 82, 203, 10, 30], [226, 258, 3, 67, 206, 298, 137, 136], [1, 11, 47, 309, 25, 79, 153, 410, 77], [31, 74, 18, 7, 351, 2, 4, 321, 2, 135, 145, 272, 65, 2, 50, 81, 242, 2], [27, 161, 17, 38, 255, 29], [39, 101, 350, 203, 79, 44, 30, 43, 9, 14], [400, 3, 23, 118, 49, 39, 7, 39, 408, 32, 5, 15, 13, 127, 3, 22, 55, 3, 122, 39, 22, 222, 2, 324, 40, 9, 5, 152, 1, 177, 309], [279, 292, 7, 7], [1, 400, 3, 23, 118, 12, 51, 3, 28, 35, 1, 61, 3], [12, 96, 216, 34, 3, 17, 437, 16, 185, 19], [84, 73, 16, 101], [197, 62, 1, 276, 2, 256, 159, 42, 41, 23, 65], [4, 8, 172, 4, 6, 210, 30, 31, 6, 28, 31, 146, 468, 155, 6, 14, 2, 51, 410, 116, 6, 214, 321, 1, 109, 14], [247, 121, 1, 2, 102, 3, 27, 2, 102, 10, 13, 179, 14, 402, 138, 10, 24, 64, 10, 23, 184, 12], [403, 34, 8, 47, 277, 143, 59, 170, 106, 4, 407, 8, 309, 1, 170, 69], [46, 1, 119, 6, 1, 232, 11, 328], [2, 77, 149], [14, 9, 54], [37, 59, 120, 235, 96, 343, 3, 7, 5, 69, 2, 45, 19, 4], [47, 152, 13, 478, 47, 71, 492, 78, 2, 40, 152, 35, 5, 332, 47, 12, 144, 185], [46, 141, 6, 54], [14, 408, 133, 192, 122, 46, 54, 1, 366, 7, 17, 14, 307, 78, 5, 66, 3, 44, 3, 22, 163, 468, 17, 4, 55, 123, 256], [1, 58, 82, 203, 79, 44, 58, 50, 31], [10, 296, 296], [288, 1, 477, 389, 34, 1, 79, 51, 59, 48, 246], [243, 52, 434, 12, 139, 47, 2, 7, 494, 389, 47, 458, 7, 492, 93, 143, 423, 144, 434, 273, 234], [162, 493, 3, 499, 55, 65], [182, 3, 445, 5, 449, 44, 41], [1, 245, 8, 43], [2, 62, 312, 9, 67, 22, 38, 312], [143, 52, 167, 112, 29, 321, 16], [26, 79, 45, 204, 484, 142, 54, 1, 165, 79, 101, 25], [13, 325, 12, 38, 368, 221, 1, 424, 16, 425, 389], [28, 79, 51, 233, 18, 165, 44, 82, 51, 5, 427, 87, 15, 87, 74], [99, 64, 48, 9, 13, 1, 127, 1, 25, 88, 3, 147, 12, 4, 289, 24, 1, 17, 2, 81, 85, 34, 6, 25, 380], [79, 134, 10, 120, 66, 2, 67], [25, 6, 406, 43, 10, 8, 87, 1, 59, 293, 300, 280], [291, 59, 133, 18, 28, 393, 6, 456, 20], [288, 24, 27, 77, 29, 8, 149, 86], [3, 266, 76, 392, 312, 150, 1, 90, 2, 133, 50, 7], [122, 143, 206, 37, 103, 4, 411, 5, 23, 206, 15, 103, 30, 76], [38], [46, 33, 46, 1, 323], [339, 1, 18, 6, 77], [46, 24, 102, 10, 329, 136, 6, 58, 1, 90, 18], [358, 8, 11, 353, 3, 31, 31, 326, 31, 31, 441, 31, 286, 7, 385, 31, 55, 168, 116], [1, 397, 23, 32, 307], [21, 36, 5, 100, 111, 5, 1, 111, 69, 2, 4, 341, 264], [24, 64, 23, 459], [4, 391, 60, 239, 18, 76, 220, 15], [84, 297, 1, 26, 52, 7, 124, 193, 9, 8, 73, 415, 19, 5, 7, 32, 142, 2, 14, 50, 7], [299], [174, 1, 3, 1, 90, 3, 1, 3, 29, 23, 409, 3, 174, 1, 61, 3], [122, 4, 329, 416, 9, 118, 8, 316, 3, 32, 23, 118, 125, 133, 308, 8, 4, 62, 316, 188, 35, 51, 21, 66], [53, 66, 6], [114, 21, 33, 4, 463, 2], [111, 73, 204, 5, 461, 7, 70, 166, 2, 3, 3, 383, 32, 166, 57, 25, 3, 70, 10, 13, 33], [91, 91, 29, 171, 296, 49, 36, 3, 5], [24, 13, 27, 117], [122, 1, 403, 12, 459, 262, 104, 196, 79], [], [44, 31, 35, 4, 15, 223, 152, 494, 4, 47, 267, 81, 2], [18, 97, 83, 16, 20, 31, 339, 498], [449, 7, 449, 98, 58, 201, 379], [1, 25, 153, 237, 24, 436, 27, 4, 335, 8, 15, 44, 117], [146, 66, 6, 300, 31, 86], [211, 53, 8, 8], [122, 46, 1, 408, 56, 53, 3, 1, 63, 398], [72, 230, 13, 124, 103, 72, 13, 12, 51, 412, 2, 13, 255], [83, 79, 74, 43, 291], [25, 120, 36, 161, 361, 1, 228, 301, 1, 228, 2, 17, 96], [23, 369, 54, 79, 303, 371], [6, 165, 251, 228, 233, 165, 10, 361, 180, 4], [102, 98, 1, 156, 365, 407], [262, 1, 21, 71, 10, 49, 270, 237], [23, 436, 4, 21, 35, 5, 370, 140, 67, 23, 110, 25, 464], [29, 438, 19, 13], [209, 224, 151, 3, 33, 150, 20, 29, 27, 212, 404, 13, 213, 56], [14, 221, 4, 46], [37, 44, 64, 239, 24, 1, 297, 42, 41, 63], [209, 139], [36, 28, 60, 19, 40, 168, 126, 118, 7, 3, 256, 114, 126], [114, 1, 72, 2, 11, 123, 15, 240], [19, 128, 6, 74, 77], [116, 2, 135, 40, 395, 30, 3, 100, 45, 2, 144, 149, 273, 234, 310, 423], [6, 70, 350], [91, 91, 53, 22, 3, 69, 2, 38], [6, 228, 148, 23, 369, 6, 141, 164, 54, 148], [29, 384, 11, 457, 23, 6, 233, 18, 165, 10, 43, 371, 30, 4, 27], [169, 9, 438], [35, 22, 479, 2, 4, 377, 4, 34, 13, 157, 16, 2, 377, 13], [46, 1, 171, 233, 18, 372, 149, 412, 445], [243, 11, 411, 1, 37, 284, 3, 72, 3, 208, 35, 13, 255, 3, 208, 7, 70, 4, 471], [29, 85, 155, 5, 344, 20, 73, 215, 3, 56, 34, 436, 360], [298, 260, 2, 104, 5, 15, 4, 21, 50, 15, 31, 261, 7, 31, 236, 428, 4, 264, 9, 117, 2], [114, 1, 56, 36, 104, 196, 15, 10, 23, 38], [19, 5, 52, 128, 39, 3, 205], [54, 6, 45, 85, 77], [100, 16, 35, 2, 26, 13, 173, 97, 47, 15, 395, 86, 2, 7], [154, 436, 375, 4, 289, 73, 78, 147, 49, 1, 32, 44], [], [474, 53, 22, 3, 15], [224, 42, 41, 219], [25, 3, 274, 35, 10], [38, 10, 29, 8, 5, 245, 360], [1, 44, 331, 164, 53, 251, 198], [236, 103, 5, 75], [64, 292, 24, 137, 2, 104, 205, 23, 212, 204, 12, 142, 7, 14, 205, 30, 220, 238, 101, 207, 89, 9, 4, 3, 59], [130, 12, 10, 1, 63, 42, 41, 127, 21, 3], [117, 9, 11, 108, 51, 21], [], [55, 467, 427, 11, 426, 68, 10, 280, 2, 449, 10, 1, 175, 3, 174, 471], [64, 321, 8, 42, 41, 82], [132, 69, 380, 177, 18, 31, 115, 81, 2, 47, 7, 54, 37, 230, 62, 2, 95, 71], [4, 284, 12, 64, 27, 2, 197, 35, 31, 24, 6, 151, 33, 490], [213, 137, 37, 20], [85, 2, 52, 11, 9], [108, 52, 45, 81, 223, 2, 38, 473, 86, 52, 65, 302, 144, 43], [121, 22, 3, 76, 20], [91, 28, 14, 30, 87, 186], [83, 6, 117, 280, 29, 82], [64, 8, 5, 37, 292], [132, 18, 165, 142, 68, 50, 24, 1, 210, 57, 14, 17, 18, 32, 167, 439, 76, 24, 341], [149, 67, 1, 402, 180, 73, 16, 6, 49, 29], [3, 22, 271, 78, 89, 218, 78, 225, 3, 56, 2, 176, 50, 131, 14, 9, 16, 52, 13, 97, 26, 317], [88, 3, 8, 4, 289], [247, 5, 35, 21, 45, 114, 270, 4, 75, 88, 3, 12, 252, 66, 252, 238], [53, 9, 475, 9, 21, 3, 78, 98], [39, 22, 2, 32, 78, 358, 52, 3, 92, 44, 12, 450, 207], [159, 11, 133, 361, 442, 305, 494, 77, 6, 442, 45, 77, 38, 251, 238, 2, 45, 393], [137, 396, 66, 304], [20, 6, 57, 391, 57, 1, 9, 19, 87, 439, 76, 480, 124, 6, 43, 457], [68, 4], [174, 6, 46], [109, 3, 32, 23, 7, 247, 121], [31, 74, 18, 7, 351, 2, 4, 321, 2, 135, 145, 272, 65, 2, 50, 81, 242, 2], [1, 233, 24, 126, 369, 10, 20, 180, 76, 23, 369, 301, 54], [114, 5, 8, 121, 24, 64, 22, 121, 3, 90, 4, 344, 2, 64, 22, 24, 51, 8, 51, 64, 4, 121, 238, 5, 396, 9, 1, 76], [216, 34, 68, 11, 264, 68, 9, 4, 16, 142, 20], [178, 7, 413, 27, 11, 458, 23, 29, 68, 21, 156, 5, 9], [252, 29, 30, 11, 121, 8], [23, 21, 3, 92, 107, 15], [1, 61, 456, 52, 76], [279, 290, 20, 1, 59, 4, 222, 10, 180, 290, 34, 1, 137, 4, 287, 222, 10, 18, 55], [55, 62, 2, 3, 126, 12, 10, 5, 72, 64, 251, 293], [3, 88, 5, 100], [276, 13, 116], [320, 3, 36, 377, 5, 325, 38, 347, 66, 84, 12, 5], [480, 6, 44, 18, 169, 8, 23, 118, 30, 76, 30, 10, 216, 6, 480, 5, 1, 308, 20, 299, 383, 6, 37, 102, 10, 71, 100, 319], [143, 1, 284, 23, 184], [197, 112, 33], [27, 74, 164], [3, 22, 4, 6, 17, 103, 479, 18, 377, 333, 145, 26, 4, 43, 281, 351, 2, 4, 321, 18, 135], [215, 10, 56, 48, 2, 202, 3, 206, 3, 8, 4, 360, 56, 3, 22, 46], [103, 188, 488, 27, 20, 184, 2, 13, 39, 36, 166], [37, 205, 85, 20], [1, 254, 6, 228, 477, 18, 8, 149, 164, 77, 179, 1, 257, 82, 9, 74, 18, 102], [1, 63, 121, 48, 22, 3], [13, 325, 12, 368, 221, 1, 424, 16, 425], [3, 22, 4, 397], [29, 164, 85, 76, 23, 38, 359, 27], [29, 30, 76, 82, 307], [139, 265, 259, 12, 18, 9, 16, 20, 141, 263, 51, 43, 47, 106, 175, 50], [252, 35, 10, 114, 184, 12, 5], [46, 38, 104, 31, 66], [24, 11, 27, 12, 178, 20, 63, 8, 360, 27, 200, 2, 76, 12, 24, 38, 75, 485, 10, 7, 162, 27, 266, 14, 10, 210, 57], [433, 433, 7, 71, 10, 169, 7, 7, 307, 12, 120, 6, 44, 12, 120, 459, 40, 119, 9, 47, 187, 18, 71, 95], [25, 4, 27], [5, 67, 4, 8, 5, 67, 9, 136, 8, 5, 67, 9, 4, 19, 5, 67, 22, 170], [299, 23, 239, 24, 1, 90, 2, 45, 82, 32, 87], [132, 206, 5, 18, 19, 393], [320, 1, 90, 325, 38, 7], [148, 18, 6, 128, 128, 83, 6, 20], [154, 8, 68, 37, 403, 34, 39, 178, 57, 136, 416, 49, 7, 48, 118], [31, 163, 379, 29, 296, 126, 482, 29, 126, 118, 82, 19, 262, 23, 259], [55, 22], [3, 17, 139, 108, 152, 100, 16], [29, 4, 33, 30, 8, 57, 42, 41, 219], [241, 238, 1, 36, 16, 3], [40, 9, 5, 441, 66, 39, 17, 18, 202, 6, 6, 17, 183, 5, 158, 18, 135, 9, 387, 16, 20, 65, 230, 219, 327, 455], [121, 29, 8, 20, 36, 49, 1, 32, 50], [9, 31, 8, 149, 26, 418], [143, 67, 208, 246], [292, 51, 245, 2, 250, 6, 155, 17, 4, 209, 62], [199, 116, 4, 209, 62], [38, 87, 34, 3, 21, 14, 5, 87], [37, 13, 468, 16, 11, 116, 28, 17, 4, 62], [39, 164, 39, 30, 20], [39, 17, 177, 12, 241, 218, 2, 31, 12, 202, 188], [121, 23, 53, 3, 2, 5], [262, 32, 2, 2, 275, 1, 56, 4, 335, 15], [122, 122, 442, 19, 451, 82, 393], [121, 169, 74, 2, 256, 20, 17, 4, 55, 123], [54, 9, 296, 358, 26, 454, 12], [73, 274, 2, 5, 7, 359, 37, 58, 369, 147, 54], [69, 18, 32, 207, 69, 337, 177, 18, 31, 472, 5, 394, 327, 2, 119, 187], [262, 33, 67, 8, 4], [186, 13, 97, 38, 60, 349, 4, 362, 158, 19, 40, 9, 89, 441, 2, 202, 3, 16], [], [106, 203, 44, 113, 16, 49, 191, 475, 9, 67, 2, 102], [243, 39, 90, 120, 7, 2, 12, 25, 1, 415, 3, 222, 1, 90, 13, 7, 83], [243, 244, 375, 45, 2, 435, 9, 76, 78, 7, 35, 205], [21, 23, 53, 28, 3, 59, 12, 13, 357, 1, 63, 13, 357, 1], [143, 1, 107, 23, 1, 63, 8, 364, 24, 11, 9, 8, 360, 1, 107, 279, 19, 12, 5, 167, 287, 309, 1, 408, 21, 222], [1, 17, 2, 104, 35, 8, 170], [8, 251, 159, 10, 2, 32, 142, 12, 4, 112, 124, 38, 235], [29, 4, 9], [211, 6, 37, 160, 11, 30, 113, 154, 92, 44, 43, 207, 5, 435], [165, 19, 451, 79, 19, 451], [116, 39, 22, 74, 2, 89, 238], [46, 54, 1, 36, 58, 2, 31, 76, 159, 329, 136, 416], [48, 331, 426, 14, 104, 2, 32, 14], [1, 36, 104, 196, 15, 318, 1, 36, 258], [307], [91, 91, 54, 372, 120], [143, 29, 8, 364, 87], [48, 9, 13, 227, 112, 1, 63, 50, 15, 450, 40, 460], [109, 68, 37, 148, 9], [23, 49, 3, 212, 32], [39, 224, 361], [255, 21, 6, 25, 19, 253, 35], [262, 1, 402, 90, 2, 104, 3, 44, 19, 21, 53, 3, 207], [39, 415, 237, 89, 27, 37, 2, 33, 52, 285, 24, 2, 176, 50, 131, 2, 5, 155, 32], [277, 81, 139, 18, 19, 348, 434, 16, 12, 5, 163, 348, 26], [1, 6, 440, 393, 68, 156, 173], [127, 244, 200, 114, 30, 10, 1, 92, 90, 109, 6, 141, 113, 411, 198, 1, 8, 5], [47, 469, 367, 89, 37, 71, 5, 332, 181, 2, 20, 272, 173, 141, 144, 273, 234], [53, 448, 102, 10, 1, 200, 2], [260], [84, 177, 119, 192, 288, 24, 294, 18, 28, 120, 20], [39, 22, 296, 184], [15, 1, 323, 37, 59, 10, 19, 150, 20], [31, 145, 9, 478, 2, 31, 145, 8, 20, 70, 473, 2, 65, 187, 119, 378, 376], [60, 209, 14, 109, 10, 205, 4, 289, 68, 68, 39, 45, 50, 43, 4, 194, 18, 45, 18, 87, 43, 4, 194, 61, 242, 242], [1, 2, 104, 55, 196, 15, 3, 414, 1, 17, 2, 20, 100, 70, 49, 3, 32, 4, 343], [9, 35, 3], [8, 133, 20, 74, 17, 8, 287, 219], [48, 118, 109, 31, 355], [17, 4, 55], [169, 19, 5, 1, 60, 34, 13, 2, 32, 39, 45, 4, 165, 7, 15], [40, 119, 9, 12, 13, 97, 14, 124, 103, 72, 2, 394, 2, 234, 185], [23, 9, 67, 178, 1, 151, 33, 160, 35, 2, 26, 53, 346, 53, 5, 449], [463, 127, 6, 83, 296], [58, 2, 439, 95, 42, 476, 41], [3, 17, 2, 105, 138, 4, 15, 51, 94, 221, 2, 171, 176, 50, 52, 98, 486, 34, 60, 9, 67, 4, 26, 8, 5, 328, 215, 10, 56, 101], [186, 13, 97, 38, 60, 349, 4, 362, 158, 19, 40, 9, 89, 441, 2, 202, 3, 16], [497, 14, 34, 3, 59, 14], [243, 243, 99, 84, 14, 23, 331, 18, 93, 1, 97, 30, 255, 8, 37, 59, 14, 169, 84, 1, 138, 31, 18], [221, 24, 68, 137, 120, 18, 415, 222], [29, 2, 14, 1, 37, 127, 11, 111, 10, 488, 206, 65, 4, 287, 244, 40, 265, 40, 10, 8, 166, 8, 60, 136], [84, 169, 285, 44, 20, 210, 161, 437, 21, 10, 198], [25, 3, 421, 102, 10, 5, 177, 185], [108, 8, 234, 1, 406, 35, 234, 370, 34, 6, 57, 459, 35, 10, 71, 2, 272, 81, 385, 302, 231], [46, 54, 38, 90, 2, 102, 10, 178, 1, 63, 74, 2, 256, 55, 123], [288, 46, 1, 45, 76, 406, 30, 5, 54, 1, 119, 79, 192, 74, 2, 19, 441, 248, 126, 24, 98, 9, 30], [92, 30, 104, 2, 58, 85], [154, 247, 53, 1, 60], [22, 3, 8, 450, 40, 9, 263, 475], [34, 75, 25, 28, 14, 6, 126, 25, 28, 14, 34, 25, 28, 14, 6, 28, 14, 34, 75, 25, 28, 14, 215, 142, 28, 14, 34, 25, 28, 14, 232, 14, 7, 34, 75, 25, 28, 14, 95, 142, 160, 14, 34, 25, 28, 14, 138, 4, 14], [182, 24, 138, 182, 68, 39, 280], [105, 16, 10, 87, 53], [1, 2, 6], [184, 12, 13, 15, 4, 345, 52, 103, 107, 3, 25, 28, 290, 162, 27, 70, 4, 345, 8, 4], [279, 292, 1, 69, 2, 100, 3], [65, 18, 40, 8, 229, 170, 18, 42, 41, 412, 18, 43, 42, 41, 454, 305, 170, 42, 41, 54, 358, 18, 229, 102, 10, 5, 34, 6, 83, 1, 59, 113], [220, 9, 11, 23, 28, 3, 133, 486], [1, 36, 3, 8, 474, 72, 114], [447, 140, 292, 34, 39, 203, 120, 44, 52, 220, 238, 8, 57, 136, 416], [108, 35, 11, 7, 220, 435, 2, 165, 227, 112, 22, 3, 307, 2, 33], [31, 349, 4, 7, 217, 181, 4, 465, 197, 373, 81, 2, 302], [5, 196, 15, 14, 204, 182, 14, 25, 39, 105, 40, 274, 19], [127, 3, 22, 303, 4, 121, 62], [22, 3, 40, 118], [7, 11, 275, 9, 266, 78, 207, 38], [22, 3, 75, 15, 166], [32, 170, 267, 93, 43, 26, 43, 43, 125, 45, 18, 144, 273, 234, 5, 82, 249, 394, 423], [47, 12, 385, 112, 223, 267, 43, 31, 197, 112, 37, 81, 223, 2, 32, 7, 102, 31, 144, 273, 234, 267, 278], [84, 1, 226, 258, 3, 19, 40], [114, 308, 154, 1, 428, 480, 21, 9], [55, 467, 11, 48, 22, 3, 86, 290, 1, 127, 22, 3, 271, 11, 55, 391, 22, 3, 11, 28, 3, 100, 13], [1, 366, 236, 33, 67, 216, 34, 64, 37, 8, 1, 366, 32, 4, 194, 37, 294, 2, 33, 182, 1, 90, 14], [1, 65, 477, 140, 185], [1, 254, 180, 92, 59, 82, 82, 73, 180, 160, 87, 82], [3, 11, 35, 5, 395, 15, 235, 1, 63, 8, 90, 49, 5, 363, 15, 5, 352, 7, 14, 11, 17, 4, 460], [9, 31, 18, 87, 397, 179, 206, 164, 443, 18, 87], [253, 20, 16, 455, 52, 139, 219, 2, 358, 219, 2, 95, 458, 16, 219], [11, 268], [13, 30, 170, 9, 23, 279, 27, 437], [17, 3, 80, 21, 304, 29, 74, 2, 21, 274, 192, 207, 34, 6, 64, 7, 4, 26, 14, 9], [94, 257, 2, 21, 68, 69, 8, 346, 29, 456, 117], [84, 73, 16, 101], [84, 1, 468, 13, 16, 25, 3, 100, 16, 85], [91, 91, 22, 3, 8], [46, 448, 334, 318], [61, 124, 75, 138, 129, 5, 306, 3, 61, 8, 5, 252, 130, 124, 75, 298, 138, 31, 264, 210, 419, 3, 22, 199, 123], [6, 83, 78, 113, 131, 221, 18, 6, 28, 457, 4, 327, 271, 8, 4, 199], [1, 106, 374, 2, 58, 1, 36, 236, 33, 8, 8, 35, 3], [24, 161, 375, 77, 146, 54, 6, 477, 146], [77, 401, 39, 375, 179, 87, 146, 262], [84, 73, 16, 101], [16, 2, 5, 157, 193, 9, 8, 7, 153, 2, 5, 16, 2], [1, 374, 18, 153, 79, 51, 436, 4, 19, 87, 48, 79, 51, 69, 18, 26, 19, 14], [38, 94, 408, 1, 36, 7, 215, 3, 56], [38, 140, 27, 29, 42, 41, 7, 33, 235, 52, 11, 270, 27, 2, 17, 2, 35, 40, 293, 40, 9, 293, 162, 1, 111, 102, 3], [270, 27, 182, 21, 29, 27, 294, 2, 138, 346, 1, 111, 69, 2, 159, 271, 257, 1, 126, 118], [84, 73, 16, 101, 8, 291], [153, 342, 26, 206, 257, 5, 57, 491, 164], [308, 14, 24, 263, 7, 70, 14, 36, 260, 192, 101, 26, 195, 198], [154, 39, 28, 49, 6, 313], [1, 177, 11, 2, 7, 1, 137, 2, 28, 12, 4, 287, 1, 107, 34, 3, 22, 15, 28, 4, 19, 355, 171, 202, 98, 486, 9, 75, 10, 5], [128, 22, 3, 16, 10], [1, 61, 3, 23, 118, 1, 226, 224, 12, 40, 265, 2, 72, 197, 10, 2, 271, 30, 13, 129, 108, 265, 11, 61], [6, 25, 181, 15, 498, 464, 197, 112, 20, 81, 5, 332, 322, 2, 144, 185], [9, 21, 9, 27], [292, 71, 10, 49, 3, 50], [3], [161, 1, 50, 19, 11], [5, 332, 8, 52, 5, 193, 5, 9, 17, 4, 55, 62], [211, 46, 13], [69, 8, 20, 219], [79, 140, 1, 110, 482, 148, 46, 54], [181, 5, 7, 5, 15, 5, 229, 93, 229, 343, 2, 33, 5, 195], [91, 23, 63, 1, 48, 118, 12, 136], [10, 171, 87, 1, 210, 123, 224, 123, 116], [1, 63, 8, 364, 5, 119, 10, 20, 1, 36, 16, 3, 30], [5, 9, 7, 29, 1, 17], [91, 283, 448, 54, 53, 160, 1, 90, 105, 70, 14, 2, 11, 448], [217, 3, 27, 10, 11, 61, 1, 3], [186, 13, 97, 38, 60, 349, 4, 362, 158, 19, 139, 40, 9, 89, 441, 2, 202, 3, 16, 327, 455], [1, 200, 2, 31, 24, 38, 75, 9, 67], [17, 3, 27, 133, 280, 26, 191], [328, 9, 5, 5, 275, 60, 19, 42, 41, 72, 281, 51, 22, 364], [99, 1, 180, 43, 24, 28, 324, 82], [39, 2, 202, 3, 13, 2, 89, 395, 15, 4, 108, 223, 7, 93, 26, 16, 12], [38, 64, 15], [470, 6, 9, 14, 3, 145, 26, 16, 20, 378, 376, 355, 388, 97], [1, 61, 6, 18, 174, 83, 6, 182, 481, 9, 9, 68, 271, 136, 81], [3, 25, 231, 2, 78, 2, 231, 36, 33, 2, 13, 227], [51, 60, 114, 419, 312, 40, 35, 11, 127, 62, 205, 46, 33, 55, 72, 226, 239, 147, 252, 66, 238, 72, 236], [38, 139, 267, 43, 31, 197, 112, 37, 81, 2, 385, 267, 47, 23, 32, 20, 7, 102, 31, 255, 187, 267, 278, 93], [29, 294, 2, 134, 3, 13, 115], [29, 291], [36, 14, 258, 34, 39, 74, 85, 192, 147], [24, 110, 148, 59, 120], [12, 13, 343, 2, 181, 4, 47, 54, 93, 85, 35], [262, 25], [4, 391, 60, 239, 18, 76, 220, 15], [162, 334, 46, 379, 134, 10], [17, 4, 209, 62, 11, 116], [89, 108, 97, 498, 218, 9, 20, 321, 5, 47, 498, 36, 37, 19, 13, 115, 2, 52, 5], [434, 3, 52, 51, 66, 35, 4, 47, 112, 45, 2, 19, 2, 95, 93, 95], [1, 61, 3, 23, 118, 1, 25, 14], [1, 79, 280, 150], [12, 96, 362, 17, 3, 103, 39, 25, 92, 258, 16, 47, 26, 71, 85], [172, 124, 298, 103, 40, 118, 459, 7, 121, 419, 3, 466, 8, 3, 443, 14, 259, 12, 10, 1, 3, 324, 75, 286], [1, 284, 9], [21, 190, 33, 55, 73, 115, 3, 382, 1, 2, 191], [37, 21, 126, 44, 2, 428, 7, 124, 205, 2, 220, 26, 191], [1, 63, 8, 20, 74, 2, 372, 8, 4, 287, 399], [438, 71, 10, 207, 7, 88, 44], [17, 4, 2, 250, 3, 7, 163, 194, 2, 35], [11, 1, 69, 3, 2, 104, 18, 26, 170, 15, 86, 8, 19, 13, 115], [1, 298, 21, 3, 208, 23, 78, 13, 1, 284, 3, 14, 488, 1, 60, 160, 5, 249, 1, 217, 7, 3, 236, 23, 129, 80, 5, 29, 84, 1, 297, 7, 111, 17, 125, 2, 134, 29, 84, 1, 29, 84, 13, 360, 60, 23], [40, 340, 426, 27, 8, 474, 40, 340, 90, 66, 50, 452, 303, 459, 54, 33, 44, 8, 474], [181, 4, 34, 6, 56, 193, 5, 9, 8, 81, 2, 302, 231], [24, 73, 180, 74, 18, 19, 11, 90, 18, 104], [11, 1, 175, 3, 53], [69, 5, 348, 345, 96, 394, 277, 329, 314, 93, 26, 16, 12, 147], [91, 134, 10, 4, 4, 42, 41, 30], [84, 275, 11, 167, 123, 7, 1, 226, 203, 44, 125, 419], [91, 91, 91, 55], [3], [154, 359, 316, 21], [7, 211], [40, 9, 34, 6, 11, 442, 10, 85, 34, 6, 32, 170, 6, 83, 305, 6, 83, 412, 6, 83, 23, 295, 6], [94, 37, 222, 4, 15, 162, 8, 450, 7, 1, 226, 102, 34, 271, 26, 37], [31, 6, 104, 14, 271, 9, 113, 422, 82, 490, 130, 15, 196, 82, 319, 17, 209, 62, 87], [13, 9, 85, 8], [47, 453, 2, 453, 32, 385, 112, 47, 70, 2, 170, 230, 112, 95, 286], [143, 414, 1, 69, 2, 138, 3, 129], [84, 73, 16, 101, 8, 291], [1, 257, 6, 336, 29, 367, 390, 20, 24, 1, 161, 57, 149, 372, 6, 179, 140, 6, 417, 43, 481, 336, 308, 86, 29], [77, 146, 66, 6, 233, 18, 58, 82, 406, 43, 188], [100, 232, 40, 84, 12, 21], [147, 68, 50, 30, 229, 220, 133, 9, 78, 13, 328, 23, 68, 25, 165, 6], [426, 258, 8], [28, 3, 69, 4, 108, 223, 115, 147, 35, 47, 399, 2, 96, 97, 47, 71, 47, 93, 26, 16], [262, 290, 239, 316, 381, 96, 130, 1, 217, 78], [324, 31, 254, 149, 73, 45, 442, 119, 6], [143, 398, 39, 25, 51, 5, 15, 5], [46, 9, 96, 318, 2, 6, 142], [1, 61, 2, 134, 1, 276, 15, 398, 53, 9, 13], [171, 428, 2, 32, 52, 13, 344], [91, 91], [48, 58, 14, 23, 411, 66, 12, 4, 131, 9, 15, 5, 2, 4, 131, 2, 50, 51, 123], [1, 148, 21, 1, 37, 297, 178, 367, 130, 6, 1, 111, 57, 18, 33, 1, 21, 12, 8, 5], [19, 40, 439, 7, 14], [243, 29, 3, 86, 1, 57, 2, 70, 3, 4, 7, 3, 29, 15, 3, 7, 3, 22, 471], [49, 79, 336, 66, 79, 76, 20], [193, 54, 3, 119, 10, 1, 36, 16, 44, 159, 133, 26, 29, 74, 2, 32, 11, 9], [247, 11], [12, 15, 35, 5, 15, 51, 21, 3, 37, 109, 17, 4], [288, 68, 119, 10, 9, 54, 1, 140, 11, 179, 39, 291, 86, 29, 34, 79, 26, 146, 179, 79, 477, 2, 263], [31, 145, 9, 478, 2, 31, 145, 8, 20, 70, 145, 2, 65, 187, 119], [74, 19], [52, 229, 2, 18, 65, 11, 133], [311, 31, 23, 336, 259, 36, 410, 78, 31, 20, 421, 106, 153, 299, 68, 23, 118, 392], [15, 14, 2, 396, 15, 396, 82, 14, 2, 33, 168], [3, 56, 9, 294, 2, 202, 3, 89, 218, 2, 176, 50, 131, 14, 217, 33, 16, 52, 13, 97, 26, 317], [69, 18, 32, 207, 69, 337, 177, 18, 31, 472, 5, 394, 78, 2, 119, 187], [58, 2, 10, 150, 20], [204, 43, 4, 343, 18, 181, 12, 88, 273, 234, 43, 38], [132, 433, 53, 15, 21, 62, 38, 332, 52, 3, 40, 168, 19, 1, 107, 15, 3], [13, 325, 12, 368, 221, 1, 424, 16, 425], [172, 325, 38, 100], [10, 126, 398, 1, 2, 3, 114, 1, 3, 36, 104, 55, 196, 15, 10], [8, 29, 51, 296, 35, 10, 27, 182, 5, 198, 36, 33, 379, 17, 4], [12, 5, 195, 66, 8, 5, 7, 22, 30, 252, 8, 42, 41, 42, 41, 42, 41, 42, 41], [9, 27, 53, 39, 12, 147, 14, 9, 5, 15, 53, 39, 28, 86, 28, 5, 249, 8, 324, 5], [49, 25, 79, 58, 50], [1, 59, 4, 16, 52, 4, 317, 157, 1, 63, 403, 2, 58, 2, 1, 36, 45, 8, 5, 467], [29, 27, 54, 73, 32, 30, 149, 77], [65, 30, 42, 41, 2, 18], [174, 48, 496, 21, 62, 53, 22, 3, 44, 2, 1, 175, 3, 164, 11, 61, 471, 1, 127, 481, 496, 114], [70, 4, 18, 31, 18, 78, 4, 261, 81, 61, 61, 2, 43, 38, 187], [110, 17, 4, 19, 5, 15, 5, 128, 429, 52, 5, 167, 7, 473, 52, 5, 44], [1, 61, 2, 1, 69, 2, 3, 8, 11, 150, 20], [114, 1, 17, 2, 232, 12, 11, 312, 174, 3, 298, 466, 85, 2, 10, 127, 3, 17, 4, 209, 256, 11, 61], [6, 149, 192, 149, 282, 15, 31, 328], [38, 116, 1, 28, 17, 47, 492, 409, 96, 99, 99, 99], [46], [39, 22, 2, 21, 13, 12, 9, 13, 36, 170, 309], [6, 56, 39, 30], [122, 11, 61, 140, 55, 2, 431, 52, 3, 1, 468, 3, 23, 118, 86, 29, 84, 13, 303, 35, 5, 24, 400, 3, 12, 10], [91, 54, 96, 251, 259], [100, 16, 89, 241, 218, 19, 392, 72, 3, 17, 183, 4, 269, 333, 145, 26, 158], [31, 349, 4, 15, 52, 26, 4, 464, 269, 16, 310, 144, 483, 302], [15, 4, 275, 167, 112, 60, 11, 11, 430, 250, 10, 11, 374, 82, 23, 109, 11, 1, 200, 2, 133, 216, 11, 109, 27, 250], [121, 108, 395, 277, 81, 19, 249, 434, 7, 32, 348, 315, 43, 47, 16, 47, 19, 20, 26, 173, 310], [23, 53, 6, 160, 86], [323, 110, 59], [93, 2, 181, 53, 426, 339, 70, 95, 2, 2, 363, 218], [10, 82, 142, 23], [15], [211, 114, 437, 30, 51, 23, 1], [169, 212, 175, 6, 23, 118], [143, 14, 8, 50, 15, 171], [96, 1, 25, 32, 105], [480, 6, 313, 28, 54], [243, 20, 23, 81, 10, 49, 6, 300, 34, 6, 25, 61, 380], [79, 179, 1, 482, 1, 59], [22, 3, 266, 2, 62, 12, 312], [15, 392, 386, 9, 27, 80, 159, 5, 152, 64, 80, 37, 78, 5, 282, 199], [6, 151, 138, 4], [341, 261, 48, 22, 3], [454, 30, 5, 348, 92, 67, 34, 3, 25, 44, 120, 7, 69, 2, 134, 5, 108, 4, 260], [46], [6, 6, 336, 1, 60, 74, 50, 484, 142, 82, 6, 92, 58, 82, 153, 10], [105, 5, 282, 15, 486, 179, 8, 15, 2, 401, 33, 42, 41, 91, 105, 85], [247, 13, 1, 321, 2, 33], [1, 17, 4, 19, 35, 36], [1, 6, 179, 148, 6, 58, 465, 15, 39, 209, 146, 39, 338, 200, 406, 30], [13, 9, 456, 296, 5, 15, 9, 171, 24, 92, 9, 1, 36, 58, 237], [146, 79, 160, 20], [39, 89, 309, 245, 12, 5, 2, 8, 15, 188, 24, 53, 39, 9, 22, 443, 78, 27, 78, 245], [288, 38, 461, 68, 156, 330], [55, 320, 127, 3, 22, 303, 4, 209, 62, 1, 2, 497, 14, 2, 13, 21, 1, 17, 103, 239, 8, 12, 5, 287, 7, 17, 137, 2, 404, 4, 42, 41, 1, 14, 190, 33, 15, 10, 2, 80, 191, 3, 134, 30, 121, 355, 2, 7, 247, 162, 1, 408, 351, 44, 1, 63, 8, 4, 7, 383, 33, 489, 2, 404, 5, 40, 352, 11, 114, 15, 363, 25, 3, 100, 258, 400, 3, 12, 481], [48, 80, 7], [42, 41, 399, 60, 229, 399], [1, 6, 91, 77, 251, 309, 442], [11, 60, 46, 24, 375, 77, 86, 24, 140, 46, 43, 10, 179, 29, 27, 96, 24, 338, 19, 11], [154, 1, 68, 190, 33, 161, 5, 251, 131, 57], [160, 11, 49, 36, 3, 204, 4, 179, 1, 17, 12, 7, 427], [359, 4], [6, 171, 199, 91, 199], [108, 113, 24, 5, 306, 23, 106, 35, 31, 255, 37, 166, 155, 148, 29, 236], [47, 127, 3, 13, 108, 71, 95, 2, 2, 258, 78, 273, 234], [46, 1, 65, 153, 149, 6, 233], [1, 72, 136, 52, 10, 12, 3, 2, 32, 10, 30, 42, 41, 30, 123], [99, 1, 59, 5, 235, 87], [184, 2, 4, 55, 264, 6, 17, 183, 5, 362, 420, 158, 18, 135, 9, 387, 37, 16, 20, 65, 230, 327, 455], [154, 3, 151, 1, 107, 3, 25, 276, 13, 41, 20, 2, 27, 182, 24, 34, 436, 379, 1, 25, 258, 215, 10, 56, 24, 49, 3, 28, 33, 182, 3, 22, 307], [243, 193, 5, 2, 64, 186, 105], [49, 6, 22, 8, 61, 139, 6, 57, 18, 6, 32, 128, 6, 88, 5, 282, 15, 13, 170, 6, 32, 49, 13], [6, 83, 4, 6, 103, 479, 18, 377, 333, 145, 26, 4, 43, 281, 351, 2, 4, 321, 18, 135, 219, 272], [], [44, 48, 13, 105, 70, 220, 157, 2, 11], [70, 31, 35, 352, 7, 265, 1, 36, 6, 31, 172, 282, 7, 5, 15, 93], [62, 259, 181, 201, 333, 8, 89, 7, 104, 13, 19, 5, 15, 4, 70, 45, 2, 20, 187, 119], [215, 31, 261, 33, 31, 31, 301, 31, 31, 31, 7, 6, 36, 298, 8, 353, 177, 185], [161, 28, 127, 5, 133, 32, 17, 4, 62], [40, 152, 9, 2, 3, 78, 7, 9, 27, 2, 5], [6, 17, 4, 131, 9, 499, 18, 138, 202, 35, 6, 176, 50, 131, 110, 83, 131, 31, 23, 259, 16, 19], [387, 361, 59, 479, 64, 55], [38, 87, 74, 2, 274, 8, 432], [402, 114, 169, 67], [13, 212, 17, 2, 203, 44, 4, 139, 12, 19, 13, 130, 76, 1, 226, 216, 463, 9, 10], [19, 4, 123, 83, 6, 43, 337], [5, 9, 2, 40, 70, 50, 241, 196], [279, 292, 1, 63, 4, 7, 36, 3, 35, 7], [143, 110, 11, 29, 74, 2, 5, 364, 101, 494, 36, 8, 2, 101, 171, 26, 19], [55, 467, 19, 40, 62, 11, 341, 1, 127, 40, 3, 129, 7, 11, 1, 107, 15, 3, 7, 70, 4, 471, 52, 5, 15, 3], [99, 37, 59, 85, 7, 1, 137, 4, 161, 209, 123, 7, 184, 23, 118, 12, 5, 88, 6, 147, 380], [244, 127, 244, 133, 61, 244, 248, 3, 17, 51, 40], [94, 221, 176, 1, 177, 3, 136, 152, 2, 56, 48, 20], [94, 221, 55, 94, 60, 34, 3, 383, 148, 99, 24, 94, 221, 20, 23, 48, 22, 3, 35, 5, 331], [3, 17, 183, 4, 362, 2, 135, 16], [23, 3, 403, 10, 27, 2, 16], [47, 315, 35, 52, 43, 352, 35, 277, 139, 18, 81, 171, 16, 26], [13, 9, 161, 437, 86], [44, 341, 168, 3, 324, 40, 62, 35, 15, 199], [1, 2, 13, 40, 168, 1, 175, 3, 126, 11, 61, 1, 127, 13, 62, 496, 114, 7, 3, 22, 129, 1, 224, 12, 188, 2, 33, 192], [1, 57, 228, 477], [71, 98, 34, 94, 93, 215, 10, 56, 23, 1, 25, 17, 98, 8], [64, 27], [91, 58, 2, 49, 270, 308], [401, 1, 11, 20, 1, 424, 30, 185], [79, 102, 10, 48, 1, 29, 27, 30, 76, 8, 87, 146], [46], [246, 125, 129, 15, 5, 62, 1, 250, 3, 129, 354], [99, 5, 22, 245, 12, 3, 2, 71, 166, 71, 20, 12, 4, 121, 123, 70, 95, 2, 95, 40, 218], [482, 45, 82, 43], [356, 47, 16, 10, 320], [181, 4, 158, 34, 6, 56, 131, 5, 108, 15, 36, 33, 81, 98, 195, 282, 2, 95, 302, 231], [122, 311, 1, 63, 129, 2, 88, 13, 152, 159, 170, 309], [83, 6, 291, 87, 30, 418], [211, 38, 37, 294, 2, 138, 13, 62, 4, 411, 125], [1, 27, 30, 76, 20], [211, 1, 17, 2, 104, 14, 48, 1, 156, 11, 297, 12, 305, 140, 1, 9, 5, 65, 130, 2, 166], [129, 108, 265, 2, 6, 126], [15, 5, 390, 217, 33, 78, 24, 5, 15, 261, 217, 33, 65, 78, 5, 199], [28, 17, 2, 19, 2], [13, 141, 9, 144, 185, 12, 2, 50, 93, 95, 241, 196, 16], [288, 52, 53, 1, 1, 107, 151, 33, 25], [99, 1, 5], [119, 6, 113, 6, 148, 243, 28, 6, 9, 113, 337, 15, 243, 140, 113, 282, 15, 4, 340, 143, 7, 6, 131, 9, 336, 340, 243, 94, 9, 113, 131, 75, 25, 113, 282, 15, 4, 306, 327, 27, 220, 342, 113, 82, 1, 342, 173], [186, 100, 16, 52, 317, 13, 43, 281, 26, 145, 173, 310, 376, 388], [16, 20], [279, 292, 48, 60, 13, 62], [143, 100, 232, 30, 42, 41, 23, 21, 30, 42, 41, 39, 25, 232], [122, 54, 13, 115, 10, 24, 14], [17, 3, 52, 40, 112], [3, 22, 150, 1, 226, 134, 3, 5, 3, 69, 7, 90, 40, 9, 161, 2, 136, 1, 60, 74, 2, 4, 50, 34, 29, 92, 67, 159, 24, 444, 3, 22, 307, 7, 151, 28, 14, 20], [73, 359, 33, 78, 147, 26, 216, 101, 207, 34, 74, 19], [13, 325, 12, 368, 221, 1, 424, 16, 425, 389], [6, 8], [13, 343, 2, 33, 19, 4, 445, 16, 20, 37, 230, 219, 378, 376, 9, 4, 455, 16], [472, 5, 42, 41, 439], [1, 17, 4, 108, 20], [27, 280, 137, 213, 7], [334, 77, 4, 289, 126, 54, 299, 228, 6, 45, 76, 369, 18, 256, 86], [83, 6, 92, 456, 20], [39, 25, 138, 4, 398, 8, 357], [38, 493, 63, 8, 470, 23, 21, 1, 403], [1, 59, 57, 42, 41, 1, 25, 32, 120, 125, 101, 32, 3, 210, 57], [91, 1, 36, 177, 14, 192], [28, 6, 69, 18, 165, 44], [378, 493, 38, 90, 304], [17, 3, 381, 137, 75, 240], [9, 2, 56], [1, 61, 3, 125, 316, 17, 4, 62], [128, 109, 6, 45, 11, 115, 9, 212, 3, 17, 2, 8, 117], [1, 61, 13, 28, 3, 324], [18, 1, 24, 126, 350, 1, 233, 75], [183, 2, 5, 26, 145, 2, 473, 16], [55, 168, 11, 116, 17, 4, 121, 155, 62], [23, 239, 371], [16, 10, 49, 308], [78, 5, 130, 206, 415, 4, 150, 5, 15, 5, 328, 23, 3, 25, 88, 193, 328, 14, 9, 37, 44, 240, 14], [292, 53, 66, 3, 107, 3, 25, 32, 117], [4, 391, 4, 68, 327, 94, 408, 301, 68, 327, 98, 192, 113, 391, 18, 113, 66, 4, 60, 113, 14, 60, 80, 18, 113, 340, 113, 391, 57, 82, 98, 94, 403, 6, 23, 113, 391, 9, 113, 15, 11, 82, 113, 340, 89, 82, 15, 113, 1, 47, 113, 199], [72, 4, 241, 1, 63, 2, 3, 21, 15, 13, 38, 3, 22, 349, 35, 4, 158, 16], [288, 29, 92, 303, 484, 11, 11, 134, 10, 4], [146, 83, 6, 160], [13, 9, 12, 70, 95, 2, 241], [6, 365, 365, 419, 6, 374, 10, 164, 6, 104, 23, 331, 18, 93, 1, 254, 140, 125, 316, 23, 180, 20, 146, 382, 1, 365], [26, 37, 28, 21], [36, 397, 68, 9], [175, 213, 90, 213, 69, 213, 61, 213], [111, 495, 9, 387, 356, 17], [34, 3, 117, 8, 5, 227, 42, 41, 11, 407], [24, 1, 284, 3, 208, 5], [314, 35, 4, 397, 175, 178, 43, 31, 249, 172, 24, 111, 175, 31, 249, 172, 12, 178, 199], [46, 10, 384, 432, 126], [38, 318, 274, 2, 3, 101], [9, 7, 10, 21, 242, 9, 44, 5, 72, 39, 351], [11, 97, 157, 105, 286, 31, 2], [47, 469, 8, 18, 4, 12, 4, 343, 2, 181, 136, 81, 2, 2, 32, 469, 81, 455, 173, 423, 12, 272], [236, 4, 430, 24, 5, 65, 75, 430], [53, 86, 9, 281, 23, 38, 133], [40, 460, 9, 296, 136, 27, 2, 28, 126, 118], [53, 66, 50, 419, 170, 26, 23], [186, 39, 22, 294, 2, 202, 6, 322, 368, 21, 3, 17, 183, 4, 158, 269, 16, 52, 314, 135, 65], [23, 64, 2, 33, 275, 21, 110, 3, 8, 48, 22, 3, 37, 99], [26, 10, 8, 4, 287], [143, 39, 351, 12], [152, 475, 12, 86, 9, 13, 62, 18, 176, 50, 162, 144, 185, 67, 9, 4, 3], [243, 84, 38, 38, 48, 18, 82, 459, 242], [43, 5, 9, 20, 227, 9, 2, 70, 149, 342, 389, 2, 2, 55], [46, 54, 1, 58, 82, 203, 6, 30], [1, 17, 389, 72, 15, 86], [38, 24, 28, 2], [48, 83, 79, 74, 2, 70, 14, 2, 10], [8, 24, 301, 6, 365, 385, 77], [63, 12, 28, 3, 69, 2, 204, 96, 198], [359, 69, 2, 203, 44, 125], [292, 319, 24, 263, 18, 1, 17, 103, 15, 51, 373, 39, 17, 59, 89, 30, 5, 104, 196, 242], [122, 91, 1, 36, 58, 147], [52, 99, 40, 9, 13, 286, 3, 17, 100, 16, 85, 19, 2, 13, 492, 7, 219], [46, 215, 6, 149, 101], [106, 49, 413, 222], [174, 8, 61, 380, 43, 10, 100], [279, 292, 1, 13, 3, 22, 163, 433], [1, 63, 4, 8, 5, 7, 4, 8, 5, 9, 21, 3], [184, 12, 13, 453, 157, 13, 97, 36, 33, 43, 231, 151, 13, 267, 27, 100, 16, 241], [48, 9, 98, 2, 26, 37], [53, 29, 9, 34, 3, 257, 1, 56, 225, 29, 359, 37, 27, 212], [38, 359, 42, 41], [1, 111, 56, 24, 29, 30], [1, 210, 57, 4, 346, 1, 189, 13, 458, 7, 492, 3, 8, 450], [87, 55, 12], [161, 9, 294, 2, 102, 68, 25, 176], [3, 17, 103, 479, 2, 377, 4, 16, 240, 5, 355, 278, 173, 310, 423], [73, 203, 3, 44, 30, 80, 229, 2, 45, 2, 34, 3, 92, 69, 2, 58], [53, 1, 2, 148, 9, 214, 224, 2, 88, 6, 192, 285, 15, 40], [1, 17, 137, 386, 15, 65, 159, 1, 177, 4, 71, 2, 274, 167, 112, 96, 28, 3, 107, 26], [10, 8, 160, 120, 293, 48, 58, 6, 59], [211, 13, 150, 53, 1, 379, 29, 2, 33, 4], [46, 29, 266, 76, 20], [3, 17, 183, 4, 269, 333, 145, 26, 4, 158, 2, 135, 158, 16, 89, 241, 218, 19, 392], [427, 244, 29, 85, 30, 76, 7, 4, 411, 164], [174], [37, 128, 280], [48, 6, 127, 31, 46, 80, 6, 61, 82, 175, 104, 196], [7, 7, 8, 51, 260, 253, 35, 16, 219, 18, 95, 458, 16], [427, 11, 160, 53, 426, 68, 28, 21, 142, 52, 266, 2, 220, 68, 2, 351, 2, 10, 175, 10], [49, 3, 466, 2], [8, 193, 238, 28, 3, 69, 87], [22, 3, 8, 3, 90, 2, 88, 191], [26, 1, 323, 42, 41, 219], [23, 48, 246, 309, 488, 54], [106, 495, 139, 62, 163, 397, 58, 54, 324], [46], [186, 13, 97, 157, 124, 103, 349, 35, 4, 158, 269, 16, 52, 314, 135, 65, 388], [23, 427, 5, 201, 67], [23, 1, 424, 266, 35, 142, 6, 290, 39, 382, 58, 85], [64, 490, 2, 64, 282], [1, 5, 461, 64, 191, 21, 3, 56, 5, 62, 6, 49, 36, 32, 8, 80, 18, 2, 24, 105, 105, 106, 1, 56, 6, 83, 105, 171, 9, 67, 178, 8, 31, 6, 90, 2, 102, 10], [10, 3, 427, 11], [146, 66, 79, 233, 86], [6, 192], [105, 258, 10, 102, 21, 29, 4, 52, 7, 21, 34, 151, 105, 70, 10, 4, 152, 80, 48, 2, 184], [288, 150, 20, 33, 85, 194], [178], [106, 61, 215, 61, 176, 6, 279, 162, 64, 485, 8, 61, 6, 106, 6, 37, 7, 6, 56, 67, 9, 2, 6], [78, 5, 130, 138, 182, 6, 32, 2, 27, 17, 459, 123, 242], [48, 120, 15, 5], [54, 39, 2, 104, 11, 156, 25, 2, 52, 89], [16, 10, 1, 424, 2, 165, 7], [240, 150], [247, 55, 346, 1, 90], [58, 42, 476, 41, 20, 1, 424, 5, 328], [288, 1, 254, 110, 83, 149, 156, 21, 36, 138, 11, 390, 406, 153, 10, 27, 18, 126], [1, 90, 2, 95], [38, 90, 350, 1, 45, 179, 11, 30, 86], [8, 391, 403, 340, 102, 10, 5, 12, 457, 1, 25, 442, 19, 11, 159, 335, 15, 82, 237, 94, 156, 5], [2, 135, 31, 281, 70, 4, 2, 19, 188, 234, 378, 376, 95], [46, 24, 192], [243, 11, 61, 48, 200, 13, 62, 22, 3, 1, 107, 15, 3, 11, 341, 7, 70, 4, 2, 13, 261, 2, 3, 1, 61, 3, 25, 3, 431, 14, 1, 14, 5, 12, 51, 5, 353, 2, 431, 9, 7, 471], [139, 1, 111, 17, 98, 157, 7, 18, 64, 212, 33, 4, 463, 8, 5, 7, 27, 32, 34, 247], [285, 43, 305, 11, 9, 285, 10, 166, 19, 451, 283, 404, 11, 69, 18, 45, 81], [84, 1, 167, 123, 222, 35, 11, 53, 3, 44, 2, 207], [6, 428, 48, 18, 220, 282, 143, 1, 109, 68, 263, 138, 419, 1, 263], [106, 53, 3, 25, 204, 30, 96, 57, 34, 3, 487, 26, 191, 21, 3, 36, 175], [9, 3, 2, 33, 98, 264, 93, 143, 26, 38, 88, 98, 144, 286, 6, 95, 70, 95, 2], [449, 174, 1, 175, 3, 164, 3, 56, 226, 3, 215, 10, 70, 3, 120, 235, 13, 483, 1, 90, 3, 1, 69, 3, 1, 3], [], [99, 29, 1, 63, 7, 133, 72, 4, 1, 61, 71, 10, 321, 29, 1, 11, 20, 71, 2, 78, 272], [88, 1, 284, 14, 51], [46, 38, 318, 288, 29, 74, 2, 30, 43, 34, 1], [38, 1, 36, 70, 2, 13], [13, 325, 12, 368, 221, 1, 424, 16, 425, 389], [14, 37, 10, 18, 169, 260, 11, 18, 319, 6], [107, 3, 177, 5, 71, 2, 5, 76, 115, 21, 214, 458, 34, 3, 92, 69, 2, 70, 14, 220, 157, 9], [32, 307, 12, 42, 41, 15], [102, 166, 6, 17, 4, 7, 37, 69, 2, 276, 139, 416, 15, 66], [170, 448, 24, 27, 479], [132, 83, 6, 96, 290, 1, 283, 1, 248, 17, 8, 319, 10], [6, 23, 198, 54, 6, 228, 233, 18, 365, 6, 164], [438, 16, 10, 356, 270], [480, 80, 19, 1, 63, 170, 54, 24, 65, 412], [84, 87, 140, 11], [1, 106, 69, 2, 431, 37, 148, 53], [206, 37, 443, 4, 15, 7, 11, 8, 14, 7, 54, 11, 285, 166, 50], [9, 75, 15, 113, 18, 4, 238, 8, 23, 236, 134, 18, 131, 43, 6, 199, 123, 104, 196], [99, 414, 400, 3, 12, 5, 3, 22, 163, 48, 22, 3], [17, 59, 287, 244, 2, 28, 248, 33, 8, 101], [146, 68, 257, 10, 46, 77], [114, 27, 346, 51, 5, 295, 8, 11, 292, 172, 200, 76], [24, 105, 106, 339, 8, 172], [138, 276, 15, 149, 262], [44, 128, 3, 370, 30], [140, 21, 66, 15, 5, 112, 192], [5, 30, 5, 344, 470, 131, 60, 35, 10, 59, 11, 115, 157, 52, 5, 7, 485, 7, 10, 29, 346, 15, 20, 68, 248, 17, 11, 151, 1, 16, 220, 7, 102, 142, 40, 248, 32, 142], [1, 63, 245, 12, 13, 16, 320], [6, 10, 150, 16, 11, 115], [73, 88, 24, 154], [22, 3, 2, 58], [78, 5, 130, 9, 2, 165, 192, 106], [154, 45, 19, 54, 7, 12, 115, 2, 127, 5], [28, 6, 381, 32, 4, 8, 13, 12, 38, 7, 14, 45, 6, 2, 14, 57, 229, 491], [6, 17, 4, 131, 6, 83, 23, 259, 16, 2, 50, 93, 95, 139, 231, 230, 119, 196], [153, 171, 2, 58, 102, 142, 25, 339, 101], [48, 118, 3, 59, 12], [292, 71, 10, 49, 270, 307], [35, 3, 17, 3, 4, 304, 7, 17, 3, 12], [21, 62, 79, 148, 79, 31, 30, 9, 14, 485, 28, 79, 48, 118, 9, 4], [1, 177, 3, 42, 41], [22, 3, 30, 133, 150, 20], [37, 177, 192, 28, 3, 7, 8, 474, 414], [148, 40, 311, 1, 61, 3, 155, 1, 90, 3, 11, 261, 35, 13, 70, 40, 2, 259, 295, 155, 6, 141, 147, 28, 14, 105, 105, 28, 14], [23, 427, 127, 3, 22, 27, 201, 13, 104, 196, 321, 5], [3, 15, 7, 28, 17, 4], [186, 186, 39, 17, 47, 2, 2, 134, 16, 104, 4, 264, 43, 47, 16, 20, 2, 135, 19], [169, 120, 30, 5, 386, 22, 80, 48, 110, 22, 7, 75], [53, 22, 13, 108], [70, 4, 18, 31, 18, 78, 4, 261, 81, 61, 61, 2, 43, 38, 187], [131, 6, 80], [1, 37, 4, 209, 4, 3], [186, 100, 16, 52, 317, 145, 26, 4, 43, 281, 173, 310, 388, 278], [116, 128, 3, 36, 33, 49, 1, 440, 67], [26, 290, 92, 25, 3, 98, 7, 215, 153, 98, 34, 94, 25, 42, 41, 12, 10], [3, 17, 139, 108, 152, 100, 16], [47, 119, 32, 453, 47, 37, 93, 45, 2, 40, 152, 150, 20], [1, 488, 1, 21, 293, 7, 21, 64, 490, 38, 105, 16, 5, 26, 70, 4, 2, 166], [132, 4, 1, 56, 9, 222, 11, 2, 32, 142, 120, 379, 33, 489, 2, 32, 4, 329, 2, 207], [114, 279, 209, 126, 437, 1, 214, 365, 14], [311, 32, 55, 256, 11, 116, 1, 36], [184, 43, 13, 13, 40, 112, 36, 6, 89, 322, 43, 145, 282, 5, 108, 188, 81, 2], [1, 137, 11, 487, 87, 52, 50], [209, 314, 156, 78, 4, 261, 421, 111, 139, 125, 491, 15, 10, 251, 356, 192, 1, 366, 6, 55], [330, 35], [56, 49, 1, 25, 78, 7, 203, 44, 29, 47, 96, 66, 159, 139, 51, 40], [67, 9, 485, 193, 36, 409, 8, 3, 25, 276, 21, 2, 5, 475, 8, 7, 134, 14, 2, 470], [48, 22, 3, 160, 40, 9, 37, 3, 4, 121, 62], [288, 24, 140, 27, 10, 20, 23, 73, 338, 232, 14], [6, 8, 450], [3, 17, 183, 4, 269, 26, 216, 333, 135, 31, 16, 47, 19, 272, 18, 95, 19], [7, 105, 105], [1, 21, 40, 136, 461, 15, 11], [49, 3, 22, 397, 311, 36, 497], [29, 8, 4, 291, 16, 10, 101, 30], [359, 316, 21, 34, 5, 128, 1, 107, 14, 9], [128, 22, 3, 116], [29, 122, 44], [1, 61, 3, 126], [162, 39, 237, 7, 224, 12, 309, 2, 4, 49, 5, 8, 215, 67, 33], [122, 161, 109, 3, 138, 14, 19, 13], [53, 243], [31, 349, 478, 15, 26, 269, 47, 469, 18, 322, 81, 498, 2, 144], [114, 308, 32, 5, 453, 26, 19, 97, 71, 267, 26, 2, 20, 50, 81, 95, 302, 231], [283, 134, 14, 2, 3, 452, 266, 2], [29, 205, 11, 115, 11, 1, 17, 7, 11, 95, 14, 2, 274, 226, 415, 44, 35, 14, 88, 6, 49, 6, 32, 76, 61, 6], [110, 156, 79, 228, 477, 26, 57, 336, 26, 79, 482, 70, 2, 11, 325], [3, 69, 2, 45], [77, 1, 46, 54, 152, 79, 77], [9, 31, 86, 8, 149, 26], [1, 63, 86, 105, 189, 36, 274, 101], [23, 20, 11, 9, 212, 16, 159, 68, 50, 15, 133, 7, 153, 51], [22, 8], [84, 169, 159, 167, 200, 30, 59, 44, 43, 133, 30], [247, 75, 15, 5, 24, 9, 38, 23, 64], [29, 8, 364, 20, 1, 36, 16, 3, 42, 41, 219], [47, 469, 8, 18, 4, 2, 181, 248, 71, 2, 2, 377, 469, 81, 455, 173, 423], [35, 11, 77, 39, 482, 304], [8, 3, 44, 128, 1, 63, 1, 374, 1, 17, 2, 104, 196, 15, 191, 12, 86, 151, 33, 308, 240, 5], [99, 213, 174, 242, 6, 10, 285, 40, 9, 4, 38, 34, 3, 3, 32, 455, 119, 251, 171], [102, 98, 410, 150, 20], [132, 174, 18, 50, 18, 30, 87, 18, 87, 103, 19, 87, 51, 62, 137, 4, 292, 43, 16, 169, 412, 242], [24, 1, 366, 33, 47, 227, 460], [357, 11, 59, 3, 92, 44], [6, 83, 5, 422, 340, 381, 6, 83, 11, 398, 58, 7, 141, 10, 8, 5, 360], [288], [3, 90, 2, 32, 44, 20], [48, 92], [114], [1, 107, 283, 45, 138, 410], [25, 3, 421, 102, 10, 5, 177, 185], [25, 3, 102, 2, 100, 45, 2, 15, 7, 5, 102, 5, 53, 5, 9, 7, 153, 34, 94, 25, 67, 94, 151, 153, 225, 2, 330, 12, 5, 252, 198, 7, 64, 94, 98, 8, 64, 118, 94, 36, 33, 285, 8, 108], [22, 3, 182, 3, 111, 32, 117, 39, 443, 3, 51, 5], [116, 53, 2, 3], [83, 39, 74, 35, 5, 42, 41, 439], [357, 58, 201, 36, 33, 117, 194], [], [5, 282, 131, 9, 312, 12, 188], [13, 343, 2, 33, 19, 4, 445, 16, 20, 37, 230, 219, 378, 376, 9, 4, 455, 16], [44, 4, 128, 3, 25, 339], [22, 3, 150, 20], [48, 22, 3, 1, 175, 3], [143, 384, 24, 74, 2, 14], [98, 23, 369, 29, 92, 262, 6, 45, 76, 393, 442, 10, 77], [473, 13, 460, 2, 158, 269, 71, 2, 38, 144, 185], [252, 2, 6], [51, 5, 52, 7, 5, 181, 35, 26, 71, 2], [84, 200, 2, 474, 369], [18, 6, 101, 47, 54, 102, 10, 54, 1, 16, 82, 82, 102, 6], [39, 92, 19, 12, 207], [84, 73, 16, 101, 8, 291, 96, 198, 2, 100, 16, 42, 41], [27, 18, 210, 283, 159, 8, 164, 43, 10], [413, 161, 367, 20, 5, 21, 68, 205, 15, 14, 7, 44, 35, 7, 407, 51, 201, 220, 197, 399], [20, 65, 1, 76, 1, 63, 163, 20, 1, 36, 58], [1, 59, 15, 410], [79, 205, 43, 146, 140], [96, 130, 128, 22, 3, 7, 53, 160], [64, 299, 6, 81, 10, 28, 6, 428, 10, 52, 1, 69, 18, 274, 18, 6, 81, 10], [1, 338, 76, 1, 45, 195, 24, 11, 483, 102, 6, 49, 94, 91], [5, 1, 37, 137, 2], [154, 182, 134, 10, 4, 399, 2, 222, 11], [140, 27, 21, 3, 138, 10, 140, 37, 21, 49, 51, 89, 293, 19, 15, 481, 14, 10, 201, 5, 3, 111, 48, 1, 201, 11, 84, 84, 172], [6, 31, 48, 246, 491, 4, 373, 82, 193, 62], [24, 3, 8, 35, 10], [288], [164, 75, 3], [28, 6, 146, 66, 149, 238, 336], [28, 3, 21, 8, 80, 17, 15, 237, 35], [139, 21, 16, 355, 193, 1, 323, 437, 175, 213, 90, 213, 69, 213, 61, 213], [38, 64, 27, 11, 59, 235, 299, 29, 6, 34, 6, 11, 6, 33, 42, 41, 7, 33, 42, 41, 1, 25, 322, 11, 14, 9, 42, 41], [122, 407, 1, 284, 21, 60, 13, 21, 37, 23, 118, 125, 20, 7, 5, 60, 5, 256, 19, 4, 3, 177, 10, 21, 48, 3, 200, 19, 13, 122, 7, 297, 13, 174, 45, 35, 3, 12, 21, 35, 13], [122, 122, 442, 435, 393, 45, 85, 17, 2, 192], [303, 268, 3, 22, 27, 8, 162], [154, 211, 1, 297, 17, 4, 57, 3], [114, 391, 63, 1, 342, 51, 123, 30, 12, 334], [1, 424, 8, 347, 18], [447, 32, 13, 201, 2], [64, 37, 21, 40, 9, 31, 157, 23, 9, 14, 173, 180], [122, 5, 9, 303, 4, 289, 15, 4, 24, 14, 96, 23, 140, 359, 195, 58, 195], [9, 85, 19, 13, 432, 45, 2, 19, 7, 339, 19, 23, 20, 50, 2], [199, 116, 114, 104, 196], [300, 291, 16, 10], [86, 9, 62, 6, 10, 72, 38], [1, 63, 121, 414, 53, 22, 3, 80, 10], [114, 8, 12, 4, 397], [14, 383, 180, 419, 18, 72, 294, 18, 328, 50, 9, 21, 46], [288, 46, 417], [99, 11, 124, 103, 19, 42, 41, 15, 227, 352, 1, 56, 64, 161, 327, 173, 15, 4], [6, 23, 417], [29, 212, 148, 38, 84, 1, 190, 24, 72, 63, 2, 80, 66, 84, 192, 22, 3, 19], [31, 145, 9, 478, 2, 31, 145, 8, 20, 70, 45, 2, 65, 187, 119], [27, 96, 125, 52, 5, 253, 12, 47, 71, 45, 2, 34, 6, 32, 334, 6, 35, 394, 260, 192], [29, 8, 312, 25, 3, 27, 19, 14, 2, 138, 14, 46, 105, 20], [211, 38, 6, 25, 10], [38, 37, 70, 2, 3, 3, 8], [99, 169, 6, 127, 3, 22, 303, 4, 55, 66, 49, 22, 6, 85, 7, 53, 66, 34, 6, 25, 134, 10, 4, 16, 30, 76], [288, 92, 179, 29, 8, 149, 1, 226, 141], [1, 59, 4, 16, 52, 4, 317, 157, 1, 63, 403, 2, 58, 2, 1, 36, 45, 8, 5, 467], [21, 62, 3, 403, 80, 157, 162], [9, 5, 2], [91, 109, 3, 16, 10, 37, 20, 361], [107, 87, 3, 28], [29, 8, 20, 79, 58, 222, 10, 163], [46, 77, 379, 1, 254, 39, 214, 32, 20, 179, 57, 375, 239, 164, 6, 233, 18, 45, 406, 43, 31, 4, 27, 9, 484, 166, 20], [23, 29, 160, 4, 15], [28, 3, 69, 4, 108, 345, 96, 394, 277, 71, 12, 65, 230, 112, 16, 20, 26, 93, 12, 147], [1, 3, 44, 67, 240], [3, 36, 33, 8, 5, 238, 15, 21, 275], [22, 3, 35, 10, 53, 116], [143, 1, 58, 2, 12, 7, 63, 294, 2], [17, 120, 106, 365, 178, 46], [184, 12, 44, 5], [109, 6, 176, 50, 53, 66, 5, 439, 9, 30, 1, 90, 2, 120, 293, 50], [1, 214, 203, 5, 115, 150, 20, 105, 70, 4, 152], [9, 54, 9, 5, 15, 34, 6, 3, 42, 41, 221, 260, 2], [84, 73, 16, 101], [38, 68, 297, 9, 266, 369], [383, 8, 441], [34, 1, 27, 291, 79, 51, 54, 73, 45, 76, 77, 34, 79, 228, 210, 57, 140, 46], [20, 29, 74, 50, 43, 371, 194], [51, 62, 29, 117, 30, 40, 7, 1, 226, 365, 14, 22, 11, 172], [298, 40, 24, 1, 17, 401, 59, 205, 30], [405, 4, 43, 50, 336, 9, 27, 126, 26, 338, 178, 336, 1, 25, 189], [46, 20, 3, 30], [52, 15, 373, 40, 9, 4, 218, 35, 6, 17, 75, 85, 7, 324], [1, 137, 103, 1, 190, 27, 17, 2, 70, 3, 40, 152, 11, 9, 7, 1, 106, 17, 12, 14, 11, 22, 64, 4, 1, 90, 7, 60, 3, 217, 98, 5, 9, 42, 41, 9, 67, 4, 130, 1, 217, 32, 21, 52, 3, 49, 1, 127, 2, 404, 85], [100, 16, 72, 67, 9, 136, 186, 152, 245, 12, 3], [99, 39, 402, 33, 85, 101, 316, 42, 41], [29, 46, 36, 28, 11, 396, 147], [382, 1, 429, 52, 431], [70, 220, 157, 7, 134, 93, 147, 168, 12, 162, 3, 156, 21, 2, 142, 57, 21, 46], [102, 11, 437, 193, 6, 8, 10, 73, 260, 2, 8, 42, 41, 1, 366, 18, 11, 108, 265, 245, 12, 31, 93, 33, 55, 168], [40, 115, 124, 5], [1, 440, 76, 82, 393], [174, 1, 3], [29, 8, 486, 20, 82, 73, 33, 8, 87, 160, 120, 293, 134, 10, 4, 16, 49, 79, 83, 308], [232, 237, 46], [54, 64, 422, 485, 14, 34, 3, 106, 17, 106, 495, 14, 36, 45], [10, 44, 30, 42, 41, 63, 168], [84, 374, 36, 40, 112, 34, 13, 92, 117], [91, 73, 104, 196, 15, 14], [27, 65, 75, 62, 75, 35, 8, 75, 352, 39, 25, 300], [132, 254, 39, 482, 45, 2, 146, 39, 77, 38, 19, 179, 436, 118, 2, 45, 34, 39, 19, 451], [48, 22, 3, 11, 61, 22, 3, 35, 13, 66, 2, 274, 35, 142, 148, 132, 447, 243, 52, 5], [25, 6, 32, 18, 115, 20, 1, 313, 253, 18, 44, 165, 16, 10, 20, 19, 6, 25, 117, 319], [99, 398, 37, 59, 85, 52, 133, 7, 1, 60, 2, 88, 6, 1, 127, 1, 408, 6, 205, 19, 5, 115, 86, 34, 6, 22, 44, 134, 10, 4, 16, 380], [30, 5, 55, 6], [29, 74, 12, 36, 119, 3, 227, 42, 41, 219], [77, 189, 95, 26, 6, 233, 18, 45], [438, 36, 28, 184, 192, 12, 50], [81, 67, 2, 2, 83, 322, 43, 4, 464, 43, 4, 15, 173, 310, 144, 185, 2, 231, 112], [1, 323, 3, 217, 33, 72, 55, 136, 72, 96, 211], [122, 21, 2, 10, 8, 444, 283, 14, 8, 49, 64, 50], [103, 24, 65, 229, 399, 7, 54, 402, 17, 2, 2, 5], [5, 15, 9, 27, 49, 39, 429, 397, 244, 24, 401, 14, 9, 49, 39, 429, 244, 17, 4, 209], [16, 2, 321, 253, 74, 19, 8, 5, 364, 150, 20, 38, 75, 13, 219], [12, 71, 105, 144, 483, 35, 95, 38, 258], [288, 29, 19, 5, 7, 120, 251], [410, 34, 14, 3, 210, 290, 22, 7, 3, 151, 210, 437, 12, 216, 75], [99, 241, 395, 5, 108, 97, 52, 65, 30, 81, 332, 429, 2, 38, 32, 20], [46, 232, 38, 90, 2, 153], [171, 22, 3, 50], [25, 1, 32, 13, 19, 191, 195], [116, 255, 40, 9, 11, 108, 155, 157, 78], [247, 4, 335, 15, 66, 488, 9, 57, 454, 399, 331, 1, 226, 95, 14], [14, 9, 65, 490, 490], [186, 13, 97, 157, 124, 103, 349, 4, 158, 269, 16, 52, 317, 135, 65, 388], [48, 118, 12, 136], [1, 250, 1, 111, 107, 64, 212, 21, 118, 24, 14, 36, 33, 125, 316, 410, 39, 32, 21, 240, 110, 5, 39, 137, 488, 42, 41, 240, 1, 60, 216], [123, 341, 256, 114, 206, 37, 103, 2, 88, 5, 15, 7, 248, 298, 256, 192, 7], [32, 222, 8, 7, 2, 150, 42, 41, 7, 30, 195, 150], [91, 1, 36, 134, 11], [109, 6, 88, 53, 1, 19, 13], [30, 358, 39, 36, 45, 46], [1, 297, 32, 5, 329, 15, 21, 152], [99, 48, 22, 3], [46, 77, 146, 66, 79, 300], [91, 3, 22, 5, 65, 340, 245, 8, 361], [55, 123, 11, 116, 155, 104, 196], [14, 170], [357, 28, 3, 56, 42, 41, 26, 489, 2, 204, 89, 7, 150, 20, 34, 39, 111, 32, 4, 15, 64, 37, 43, 51, 123], [27, 8, 361, 59, 379, 34, 149, 249, 442, 39, 482, 17, 2, 104, 14], [15, 179, 25, 350, 29, 27, 23, 46, 139, 77, 299, 6, 298, 153, 128, 39, 45, 361, 1, 156, 6, 190, 153, 19, 24, 68, 156, 6, 36, 153, 86], [9, 30, 42, 66, 41, 63, 27, 11, 6, 111, 1, 257, 6], [72, 6, 25, 16, 10, 389], [358, 30, 28, 79, 301, 10, 4, 179, 1, 59, 38, 344, 86], [303, 461, 437, 49], [124, 58, 2, 13, 2, 138, 166, 7, 11, 286, 2, 134, 3, 7, 256, 55, 123], [49, 3, 37, 415, 8, 5, 11, 157, 7, 5, 36, 445, 150], [438, 1, 151, 33, 67, 78, 454, 30, 5, 348, 359, 2, 358, 22, 7, 222, 26, 151, 39, 37, 28, 386], [213, 49, 22, 79, 1, 429, 8], [1, 111, 56, 407, 80, 178, 26, 148, 153, 191, 24, 34, 3, 69, 3, 25, 21, 1, 109, 7, 37, 71, 10, 8, 2, 5], [122, 184, 12, 11, 62], [480, 9, 6, 44, 18, 54], [29, 74, 43, 268, 20, 484, 11, 54, 336, 1, 45, 18, 77], [29, 55, 17, 3, 2], [7, 313], [223, 267, 2, 267, 2, 144, 273, 234, 187], [243, 417, 12, 21, 16, 1, 59, 4, 304, 19], [14, 382, 33, 296, 1, 17, 20, 36], [31, 6, 104, 14, 271, 9, 113, 422, 82, 490, 130, 15, 196, 82, 319, 17, 209, 62, 87], [218], [48, 2, 138, 4, 340, 129, 140, 27, 30, 51, 2, 138, 129, 6, 65, 90, 2, 33, 139, 4, 264, 18, 170, 43, 42, 41, 55, 42, 41, 42, 41, 55, 42, 41, 163, 42, 41, 42, 41, 42, 41, 42, 41, 42, 41, 42, 41, 490, 42, 41, 42, 41, 42, 41, 42, 41, 42, 41, 42, 41, 42, 41, 42, 41], [1, 56, 3, 205, 86], [186, 13, 97, 38, 183, 4, 362, 158, 19, 40, 9, 5, 441, 2, 440, 3, 16, 388], [13, 325, 124, 103, 78, 42, 476, 41, 13, 325, 9, 42, 476, 41, 13, 9, 42, 41], [116, 162, 3, 205, 1, 214, 23, 1, 2], [427, 13], [13, 325, 12, 368, 221, 1, 424, 16, 425], [304, 9, 67], [99, 117, 184, 1, 17, 5, 293, 85, 218, 78, 7], [5, 29, 65, 237, 49, 140, 66, 2, 9, 21, 346, 15, 1, 25, 65, 2, 33, 237, 49, 225, 10, 2, 33, 7, 21, 65, 49, 2, 44], [9, 65, 12, 1, 36, 203, 12, 188, 38, 12, 142], [132, 1, 25, 203, 6, 44, 30, 34, 6, 102, 10, 128, 18, 61], [139, 390, 18, 390, 170, 390, 43, 390, 229, 390, 305, 390, 358, 390, 454, 390, 412, 390, 42, 41, 390], [84, 3, 298, 431, 3, 14, 75, 60, 4, 208, 161, 499, 12, 5, 251, 60, 75, 314, 3, 25, 65, 28, 23, 118, 19, 315, 35, 21, 191, 57, 21, 19, 5, 406], [401, 449, 21, 37, 28, 28, 176, 136, 2, 33, 8, 30, 120, 240], [84, 154, 29, 117], [1, 90, 1, 298, 45, 240], [53, 22, 3, 160, 8, 84, 24, 73, 359, 33, 8, 474, 78, 14, 271, 283, 30, 420, 49, 28, 3, 7], [334, 37, 285, 78, 457, 282], [132, 57, 1, 60, 7, 75, 15, 5, 370, 9, 92, 19, 11, 115, 34, 3, 69, 1, 25, 71, 142, 7, 88, 34, 413, 237], [40, 9, 75, 15, 5, 309, 3, 17, 4, 150], [190, 6, 14, 110, 408, 56, 1, 137, 205, 23, 110, 10, 192, 21, 2, 180], [39, 151, 45, 192], [6, 92, 31], [46, 77, 119, 10, 6, 16], [154, 182, 73, 232, 8, 4, 219], [28, 3, 92, 17, 5], [3, 297, 17, 2, 102, 10, 21, 20, 29, 494, 413, 74, 2, 95, 51, 13], [132, 6, 92, 30, 5], [79, 254, 15, 146, 2, 365, 207], [29, 27, 266, 76, 43, 371], [14, 138, 2, 104, 14, 67, 64, 47, 34, 3, 90, 2, 56, 125, 185], [127, 3, 22, 303, 4, 121, 108, 28, 250, 3, 5, 163, 249, 3, 22, 443, 12], [213, 257, 94, 60], [6, 44, 8, 457, 353, 65, 198, 193, 35, 82, 335], [99, 169, 19, 169, 212, 180, 44, 5, 18, 100, 58, 44, 61], [123, 124, 12, 347, 62, 168, 124, 58, 8, 4, 259, 130, 248, 3, 326, 57, 5, 7, 13, 30, 5], [73, 45, 126, 39, 25, 45, 442, 45, 75], [1, 69, 2, 13], [154, 73, 232, 8, 4, 399, 155, 215, 3, 56, 49, 1, 32, 2], [356, 4, 369, 8, 113, 14, 60, 163, 68, 4, 452, 155, 4, 15, 68, 113, 18, 66, 68, 137, 338, 44, 155, 68, 50, 410, 83, 410, 208, 106, 44, 369, 8, 113, 55, 123], [193], [75, 15, 5, 8, 44, 21, 4, 168], [132, 9, 291, 92, 19], [22, 3, 40, 118], [3, 22, 150, 427, 44], [38, 1, 36, 58, 87, 19, 5, 130], [12, 10, 5, 61, 151, 429, 35, 1, 151, 210, 21, 1, 90, 98, 197, 66, 237, 10, 94, 151, 33, 5, 195, 198, 193, 8, 11, 1, 190, 429, 5, 62, 7, 363, 14, 35, 98, 94, 151, 33, 67, 197, 66, 1, 61, 36, 33, 54, 49, 11, 197, 124, 98, 282, 11, 172, 151, 237, 98, 11, 172, 36, 33, 2, 98, 1, 190, 12, 98, 36, 134, 51, 11, 7, 104, 51, 98, 1, 36, 33, 307, 2, 35, 12, 98, 1, 36, 33, 8, 61, 49, 1, 36, 33, 160, 5, 244, 12, 98, 61, 36, 33, 49, 1, 111, 17, 2, 21, 11, 340, 9, 5, 422, 19, 5, 1, 36, 236, 33, 12, 98, 61, 36, 33, 49, 1, 429, 44, 7, 363, 44, 172, 36, 33, 5, 422, 54, 36, 32, 197, 168, 7, 400, 311, 12, 5, 62, 346, 94, 9, 35, 10, 1, 190, 57, 2, 148, 4, 335, 36, 102, 101], [1, 14, 6, 263, 239, 44, 23, 239], [211, 1, 56, 23, 164, 12, 147, 39, 226, 8, 5, 15, 208, 2, 32], [324, 31, 172, 55, 123], [24, 1, 477, 59, 57, 43], [272, 309, 2, 6, 36, 33, 15, 51, 5, 348, 7, 70, 32, 95, 2], [161, 55, 356, 192], [395, 135, 31, 15, 71, 143, 2, 20, 97, 173, 310, 278, 93, 242], [38, 446, 492, 468, 446], [121, 108, 395, 277, 81, 19, 249, 434, 7, 32, 348, 315, 43, 47, 16, 47, 19, 20, 26, 173, 310], [28, 3, 56, 162, 311, 392, 13, 23, 21, 75, 131, 9, 443, 12, 3, 155, 410, 78, 13, 35, 61], [12, 396, 8, 89, 97, 3, 25, 20, 17, 478, 458, 18, 276, 3, 250, 18, 32, 37, 70, 81, 2, 173, 141, 144, 185, 139], [334, 25], [100, 102, 10, 27, 51, 15, 11, 344, 22, 8, 13], [99, 119, 10, 29, 8, 364], [77], [48, 246, 426, 14, 104, 2, 32, 2, 5, 15, 4], [106, 134, 4, 480, 110, 107, 7, 1, 111, 301, 96, 264, 15, 51, 21, 37, 111, 256, 21, 33], [106, 3, 17, 152, 395], [254, 180, 25, 213, 1, 45, 43, 262, 25, 45, 12, 75], [53, 116, 162, 3, 1, 63], [8, 245, 12, 2, 32, 50, 15, 11, 23, 1, 25, 104, 4], [99, 127, 6, 83, 46, 68, 156, 68, 190, 71, 7, 68, 17, 6, 142, 215, 10, 222, 100], [44, 31, 97, 35, 4, 47, 433, 15, 37, 71, 174, 2, 54, 197, 373, 32, 4, 433, 273, 234, 43, 125, 278, 373], [54, 48], [9, 31, 201], [38, 24, 39, 4, 470, 2, 204, 120, 19, 130, 85, 20, 25, 1, 16, 8], [6, 109, 46, 164, 350, 149, 30], [12, 246, 244, 64, 136, 7, 14, 25, 33, 12, 7, 216], [48, 28, 3, 435, 2, 21], [199], [171, 22, 3, 26], [127, 3, 22, 121, 105, 10, 8], [2, 7, 189, 5, 223, 82, 35, 223, 45, 18, 144, 185, 52, 93, 35, 5, 332, 50], [55, 168, 30, 5, 470, 5, 65, 29, 44, 30, 40, 416], [132, 28, 3, 69, 178, 2, 204], [21, 75, 112, 232, 1, 415, 56, 21, 66, 162], [6, 77, 45, 465, 1, 59, 293, 2, 28, 6, 233, 18, 372, 4, 27, 58, 350], [3, 17, 183, 4, 223, 40, 9, 53, 3, 32, 49, 3, 181, 89, 47, 2, 104, 396, 70, 223, 2, 20, 278], [3, 402, 69, 2, 50, 125, 37, 8, 7, 37, 435, 19, 27, 14, 34, 3, 25, 1, 111, 17, 118, 8, 7, 235], [451, 150, 184], [275, 11, 344, 9, 2, 33, 15, 295], [35, 22, 479, 2, 377, 4, 34, 3, 17, 4, 100, 16, 135, 425, 423], [178, 77, 24, 59, 238, 18], [1, 175, 3, 1, 63, 161, 3, 2, 5, 483, 280, 2, 32, 2, 10, 111, 3, 175, 10], [8, 120], [84, 73, 16, 101], [288, 146, 6, 161, 141, 149, 119, 1, 177], [38, 29, 27, 1, 226, 134, 3, 481, 3, 69, 7, 90, 3, 401, 217, 28, 290, 12, 19, 59, 125, 235, 316, 1, 28, 1, 226, 32, 133, 1, 226, 32, 4, 275, 1, 226, 404, 5, 1, 226, 216, 11, 143, 29, 7, 1, 297, 216, 16, 76, 12, 73, 17, 2, 102, 166, 1, 424, 44, 2, 334], [40, 112, 7, 7, 55, 2, 166], [499, 12, 20, 229, 337, 2, 13, 115, 71, 2, 119, 355, 187, 18, 95, 81, 95], [13, 277, 19, 434, 26, 139, 18, 7, 35, 180, 47, 223, 47, 16, 19], [465, 1, 405, 262], [1, 137, 14, 164, 403, 10, 2, 45], [132, 53, 493, 22, 3], [172, 409, 10, 88, 48, 6, 22, 10, 111, 495, 236, 67, 2, 6], [99, 46, 24, 373, 27, 55, 72, 17, 85, 15, 2, 28], [13, 80, 10, 139, 201, 18, 170, 43, 229, 305, 358, 27, 454, 412, 105, 93], [46, 141, 79, 54], [122, 91, 159, 21, 67, 361], [25, 27, 276, 8, 40], [132, 58, 276, 39, 22, 51, 67], [53, 3, 80, 10, 195, 66, 3, 10, 8, 312], [89, 3, 248, 33, 2, 12, 5, 3, 137, 2, 135, 12, 47, 93, 35, 143, 2, 40, 119, 2, 50, 71, 95], [154, 1, 25, 92, 134, 3, 4], [111, 138, 172, 126, 236, 176, 66, 2, 14, 248, 27, 2, 13, 172, 24, 125, 172, 2, 31, 199], [394, 5, 218, 9, 47, 12, 173], [37, 59, 44, 17, 2, 33, 50, 15, 5, 360, 163, 194, 1, 415, 5, 85, 30, 454, 1, 30, 2, 32, 44, 7, 54, 14, 60, 358, 347, 416, 8, 474], [1, 284, 39, 208, 160, 4, 15, 5, 198, 67], [480, 6, 44, 18, 6, 208, 212, 16, 10, 81, 319, 91], [2, 181, 145, 52, 2, 362, 81, 7, 70, 2, 355, 187, 62, 278, 423, 93, 43], [243, 72, 230, 52, 42, 41, 229, 124, 103, 2, 3], [38, 105, 1, 17, 137, 52, 3, 7, 452, 1, 63, 8, 5, 8, 4, 238, 38, 162, 67, 151, 33, 136, 15, 27, 74, 27, 49, 401, 64, 2, 45, 224, 12, 163], [64, 4, 70, 457, 119, 2, 51, 31, 255, 34, 229, 83, 113, 252, 54, 225, 161, 6, 193, 10, 5, 249], [29, 7], [382, 1, 497, 188, 4, 15, 2, 189, 188, 65, 497, 75, 379], [186, 13, 43, 281, 26, 16, 20, 221, 231], [50, 67, 5, 225, 107, 8, 15, 6, 120, 128, 50, 67, 128, 58, 490, 155, 341], [38, 116, 1, 60], [9, 67, 4, 27, 40, 265, 17, 4, 121, 112, 7, 51, 5, 249, 8, 13], [3, 212, 40, 460, 26, 480], [60, 401, 80, 2, 70, 3, 4, 86, 17, 4, 460], [46, 24, 1, 300, 30, 305], [401, 1, 1, 60, 126, 23, 1, 280, 263], [1, 38, 115, 30, 53, 9, 401, 4, 416, 24, 29], [1, 257], [38, 21, 37, 3, 17, 4], [4, 35], [55, 168, 414, 48, 22, 3], [34, 39, 14, 205, 3, 25, 8, 35, 10], [29, 85, 56, 49, 270, 307], [9, 163, 9, 171, 9, 126, 9, 24, 271, 9, 163], [46, 169, 27, 182, 53, 66, 1, 300, 147, 24, 1, 313, 5, 35, 3, 179, 21, 190, 33, 61, 10, 380], [63, 8], [288, 38, 125, 164, 417, 43, 82, 14, 44], [1, 156, 64, 84], [401, 29, 245, 12, 18, 49, 110, 429], [38, 375, 5, 108, 193, 9, 171, 19, 6, 14, 141, 6], [64, 27], [122, 296, 73, 33, 78, 207], [1, 107, 114], [182, 198, 397, 275, 1, 17, 30, 305, 45, 19, 316, 136, 416], [23, 77, 214, 254, 15, 178, 24, 73, 180, 11, 101], [22, 3, 5, 340, 8, 5, 353, 26, 53], [77], [397, 88, 213], [99, 495, 87, 5, 36, 10, 18, 31, 261, 5, 4, 306, 57, 6, 256, 26, 168], [55, 168], [55, 168, 421, 16, 10, 320], [1, 383, 32, 116, 3, 56, 3, 22, 11, 301, 7, 481], [154, 28, 2, 191], [28, 114, 51, 36, 12, 411, 66, 198, 15, 55, 491], [211, 109, 21, 164, 59, 11, 20, 64, 37, 347, 67, 12, 10], [184, 2, 4, 55, 264, 6, 17, 183, 5, 362, 420, 158, 18, 135, 9, 387, 37, 16, 20, 65, 230, 327, 455], [40, 152, 9, 52, 4, 121, 8, 139, 28, 27, 14], [343, 135, 31, 15, 86, 71, 143, 2, 20, 97, 173, 310, 278], [221, 87, 83, 42, 41], [99, 48, 60, 133, 109, 6, 32, 367, 2, 13, 51, 168, 1, 137, 4, 161, 55, 66, 167, 123, 169, 50, 194, 24, 16, 10, 34, 6, 25], [211, 128, 28, 6, 58, 44, 35], [211, 114, 111, 28, 14, 409, 10, 39, 217, 17, 4, 397], [181, 4, 34, 6, 56, 193, 8, 112, 81, 2, 302, 231], [37, 14, 7, 1, 17, 38, 24, 102, 10, 48, 68, 14, 7, 34, 68, 1, 36, 6, 43, 381, 27, 161, 43, 381, 37, 4, 331, 66], [206, 177, 79, 11, 396], [12], [349, 2, 339, 43, 145, 16, 2, 135, 197, 219], [299, 493, 57, 40], [324, 5, 35, 13, 12, 18, 108, 18, 32, 125, 459, 52, 273, 234, 278, 65, 258, 16], [254, 182, 59, 66, 2, 213, 25, 45, 43, 47, 16, 6, 2, 393], [12, 6, 71], [20, 59, 432, 18, 372, 6, 38, 133, 86], [23, 1, 6, 440, 331, 393, 6, 18, 125, 309, 65, 1, 43, 125, 405], [180, 46, 77, 417], [9, 54, 9, 5, 282, 15], [379, 1, 111, 107, 1, 25, 178, 44, 117, 56, 34, 3, 69, 10, 2, 222, 7], [1, 69, 2, 6, 75, 198, 6, 151, 27, 10, 91, 40, 9, 5, 152, 21, 3, 177], [263, 126, 24, 287, 45, 165, 8, 24, 9, 263, 34, 1, 106, 138, 14, 123], [484, 11], [178, 77, 6], [57, 44, 367, 220], [3, 17, 183, 4, 269, 26, 444, 216, 333, 145, 2, 135, 31, 16, 47, 19, 272, 64, 4, 157, 146, 28, 6, 107], [1, 2, 63, 499, 2, 51, 5, 65, 386, 125], [51, 443, 459, 15, 10, 86, 46, 1, 17, 38, 318, 1, 37, 177, 75, 152, 37, 12, 459], [3, 92, 237, 499, 2, 203, 44, 101], [1, 25, 16, 8, 42, 41, 219, 34, 279, 46], [1, 60, 37, 2, 148, 99, 104, 196], [27, 21, 1, 56, 15, 422, 295, 44, 117, 22, 92, 50, 15, 450], [38, 24], [63, 65, 12, 55, 97, 448], [46, 31, 93], [100, 102, 10, 3, 17, 120, 15, 21, 259, 3, 208, 80], [117, 63, 66, 63, 20, 6, 313, 201, 253, 20, 127, 18, 141, 6, 319], [277, 19, 434, 348, 223, 35, 47, 16, 19, 26], [1, 56, 336, 137, 14, 35, 32, 35, 238, 66], [110, 25, 260, 110, 25, 32, 8], [48, 9, 11, 391, 38, 341, 12, 10, 40, 168, 48, 496, 3, 62, 11, 61, 109, 3, 429, 13], [184, 61, 24, 63, 1, 160, 26], [323, 131, 63, 1, 40, 9, 5, 195, 66, 1, 4, 144, 185, 51, 1, 29, 245, 12, 13, 1, 69, 2, 33, 13, 264, 139, 139], [3, 36, 33, 8, 5, 238, 15, 21, 275], [29, 8, 87, 15, 87, 19, 87, 150, 15, 87, 42], [223, 345, 315, 115, 9, 13, 16, 446, 355, 388, 16, 52, 278], [284, 39, 217, 45, 50, 12, 371, 73, 3, 46], [101, 1, 323, 1, 28, 126], [292, 73, 71, 3, 49, 29, 19, 5, 130], [52, 117, 159, 5, 9, 197, 386, 352, 27, 12, 75, 352], [5, 83, 85, 104, 21, 234, 181, 35, 81, 2], [370, 7, 167, 123, 35, 14, 60, 121], [64, 42, 41, 91, 117, 122, 151, 1, 70, 76, 12], [250, 1, 208, 35, 3, 20], [99, 373, 103, 46, 19, 20, 143, 19, 12, 4, 289, 15, 4, 374, 21, 1, 17, 30, 23, 90, 2, 32, 76, 82, 426, 21, 12, 6], [320, 356, 47, 16, 10], [143, 1, 56, 5, 52, 5], [470, 6, 9, 14, 3, 145, 26, 16, 20, 378, 376, 355, 388, 97], [110, 36, 203, 44, 7, 8, 344, 23, 38, 318], [61, 14, 5, 30, 5, 364, 248, 162, 3, 22, 24], [24, 154], [24, 490, 48, 118, 3, 445, 155, 13, 61, 2, 225, 21, 118, 14, 36, 49, 110, 232, 3, 26, 3, 32], [414, 9, 13, 26], [246, 246, 129, 15, 113, 62, 11, 116, 341, 261, 129, 354, 116], [46], [61, 4, 140, 4, 34, 39, 217, 131, 2, 61, 54, 172, 190, 33, 118, 24, 54], [1, 153, 34, 6, 291, 87, 418], [39, 2, 202, 3, 13, 93, 2, 89, 395, 15, 4, 345, 96, 277, 71, 93, 26, 16, 20], [27, 2, 495, 29, 182, 32, 14], [34, 270, 92, 44, 444, 232, 5, 23, 1, 25, 32, 49, 1, 32, 85, 57, 68, 257, 10, 2], [68, 102, 178, 68, 9, 19, 10, 21, 162, 3, 257, 2], [1, 366, 134, 98, 356, 1, 17, 14, 494, 94, 156, 3, 39, 351], [84, 1, 20, 54, 141, 31, 119, 77, 23, 198, 24, 65, 43, 75, 123, 418, 17, 4, 108, 360, 18, 256, 8], [25, 3, 276, 12, 3, 70, 166, 205, 12], [65, 137, 13, 97, 3, 22, 2, 462, 2, 5, 348, 315, 97, 12, 47, 16, 5, 97, 462, 273, 47, 19], [122, 19, 451, 150], [46, 74, 2, 256, 127, 1, 25, 165, 98], [400, 6], [184, 14, 60, 65, 52, 24, 375, 209, 51, 20, 351, 194], [38, 38, 40, 9, 76, 76, 450, 9], [305, 171, 54, 65, 48, 246], [382, 1, 32, 11], [3, 17, 27, 5, 3, 17, 164, 12, 432, 2, 473, 13], [1, 56, 3, 22, 24, 214, 94, 190, 17, 103, 7, 64, 34, 94, 2, 98, 98, 36, 7, 34, 3, 134, 98, 20, 94, 36, 37, 64, 4, 94, 124, 193, 8, 4, 287, 309, 14, 36, 95], [29, 8, 4, 16, 10, 43, 146], [379, 246, 55, 2, 6, 221], [334, 1, 21, 356, 5, 235, 13, 325, 117, 5, 36, 64, 455, 225, 42, 41, 2, 11, 325, 7, 42, 41, 59, 23, 5, 7, 171, 33, 182, 3, 5, 306, 3, 22, 325, 2, 179], [63, 44, 2, 11, 8], [48, 246, 491, 1, 257, 8, 5, 51, 276, 2, 3, 27], [7, 247, 296, 1, 59, 2, 167, 422, 15, 5, 123, 30], [184, 12, 13, 453, 157, 13, 97, 36, 33, 43, 231, 151, 13, 267, 27, 100, 16, 241, 52, 71], [111, 131, 3, 7, 3, 22, 7, 33, 11, 55, 391, 236, 471], [70, 2, 225], [104, 191, 12, 463, 34, 14, 2, 96, 8, 5, 227, 88, 4], [84, 10, 74, 76, 195, 58, 79, 101], [323, 53, 3, 56, 3, 313, 176, 50, 131, 14, 9, 134, 188, 4, 16, 19, 52, 317, 187, 219, 272], [40, 22, 20, 37, 16, 12, 65, 302, 231, 112, 97], [138, 21, 170, 43, 242], [32, 4, 108, 97, 115, 78, 271, 136, 15, 5, 494, 125, 12, 125, 37, 71, 2], [1, 20, 263], [1, 61, 3, 3, 11, 19, 14, 9, 27, 37, 4, 24, 14, 9, 4, 4, 397], [22, 3, 8, 450], [243, 55, 112, 4, 26, 191, 101], [1, 65, 133, 52, 2, 24, 451, 1, 214, 405, 393, 193, 251, 62, 6, 47], [247, 299, 1, 156, 140, 437, 336, 51, 149, 56, 6, 146, 6, 160, 20], [14, 9, 54, 114, 39, 51, 44, 7, 369, 40, 168], [81, 16, 2, 38, 135, 13, 15, 170, 274, 66, 2, 276, 52, 13, 115, 20, 278, 95], [74, 2, 472, 147], [221, 38, 12, 142], [132, 12, 10, 67, 9, 38, 232, 19, 224, 1, 36, 153, 11, 7, 102, 3], [5, 275, 37, 2, 215, 3, 56, 3, 22, 468, 7, 284, 205, 28, 17, 4, 121, 62, 7, 34, 3, 25, 70, 10, 7, 283], [7, 326, 12, 10, 150, 20, 72, 3, 45, 7, 5, 353, 36, 53, 3, 22, 80, 7, 107, 13, 7, 189, 52, 3], [224, 247, 92, 27, 51, 21, 208, 3, 27, 182, 80, 10, 271, 26, 21, 247, 162, 242, 69, 2, 321, 35, 188], [9, 21, 9, 27], [37, 1, 107, 64, 171, 475, 2, 176, 225, 21, 56, 5, 238, 114, 4, 21, 9, 171, 2, 258, 3, 216, 244, 57, 4, 115, 435, 49, 8, 153], [208, 19], [38, 1, 63, 27, 303, 27, 96, 8, 11], [1, 107, 1, 63, 98, 87], [29, 27, 182, 34, 64, 92], [221, 221, 74, 2, 322, 5, 159, 246, 8], [48, 118, 190, 14, 355, 2, 4], [372, 77, 1, 4, 287, 75, 1, 254, 375, 46, 24, 1, 90, 441, 405], [27, 118, 38, 14, 60, 4, 55], [154, 39, 59, 75, 44, 12, 188], [46, 1, 63, 4, 7, 36, 3, 35, 7], [263, 106, 175, 5, 81, 31, 2, 2, 260, 278], [47, 267, 37, 71, 2, 54, 197, 112, 32, 4, 108, 267, 65, 302, 231, 373], [65, 23, 39, 86], [2, 274, 80, 5, 23, 1, 59, 4, 239, 429, 20], [91, 91, 128, 22, 3, 48, 109, 3], [59, 141, 1, 2, 1, 374, 79, 8, 1, 4, 24, 57, 27, 263, 209], [357, 84, 60, 8, 5], [84, 73, 16, 101], [23, 79, 404, 195, 350, 54, 49, 9, 87], [1, 2, 204, 4, 344, 64, 186, 24, 4, 15, 42, 41, 67, 9, 38, 2, 457, 42, 41, 279, 11], [190, 13, 411, 57, 4, 16, 52, 420, 16, 2, 3, 66, 167, 173, 141, 144, 185], [205, 2], [129, 26, 75, 198, 80, 9, 64, 38, 125, 55, 168], [1, 254, 2, 45, 50, 1, 153, 98, 280], [86, 9, 62, 193, 36, 6, 12, 10, 70, 40, 2, 51, 31, 24, 195, 10], [121, 1, 17, 2, 20, 23], [9, 8, 89, 360], [88, 1, 3, 4, 4, 287, 491, 2, 3, 236, 2, 175, 1, 60, 212, 3, 75, 24, 4, 9, 27, 212, 32, 50, 159, 18, 3, 90, 2, 58, 76, 3, 90, 2, 7, 34, 178, 3, 90, 2, 180], [117, 4, 253, 26, 35, 433, 8, 2, 32, 44, 37, 93, 20, 47, 18, 472, 81, 95], [3, 404, 201, 57, 42, 41, 23, 64, 27, 126], [29, 212, 429, 8, 305, 34, 6, 69, 18, 472, 10, 110, 17, 4, 126], [28, 3, 56, 53, 109, 176, 50, 20, 42, 41], [1, 226, 150, 40, 295, 44, 195], [100, 16, 89, 241, 218, 19, 392, 72, 3, 17, 183, 4, 269, 333, 145, 26, 158], [1, 374, 2, 102, 6, 1, 25, 32, 19, 19, 11, 115], [1, 36, 356, 1, 32, 76], [223, 267, 2, 267, 2, 144, 273, 234, 187], [189, 11, 67, 34], [32, 5, 453, 26, 19, 97, 12, 71, 267, 26, 2, 81, 95, 302, 231], [1, 56, 65, 45, 2, 423, 12, 14], [37, 50, 50, 2, 205, 11, 293, 20], [213, 24, 14, 214, 23, 1, 166], [221, 34, 39, 17, 75, 55, 74, 39, 36, 104], [3, 3, 17, 4, 121, 66, 7, 88, 3, 194], [162, 297, 6, 16, 19, 13, 268], [292, 292], [99, 5, 130, 1, 60, 35, 6, 9, 5, 130, 40, 9, 5, 337, 10, 31, 1, 127, 1, 56, 6, 43, 5, 15, 127, 6, 176, 480, 60], [132, 6, 109, 6, 55, 281, 493, 242], [49, 1, 3, 60, 5, 407, 59], [225, 6, 56, 124, 403, 89, 218, 18, 202, 3, 214, 323, 131, 16, 20, 51, 36, 33, 378], [143, 37, 384, 309, 15, 89, 1, 61, 14], [38, 65], [34, 3, 83, 76, 54, 58, 222, 229, 219], [71, 2, 2, 88, 355, 187, 272, 380], [299], [17, 55, 460], [152, 120, 71, 282, 157, 177, 6, 4, 335, 279, 299, 481, 9, 177, 185], [28, 29, 74, 2, 30, 1, 59, 4, 130, 2, 202, 142, 419, 54], [58, 85, 2], [8, 4, 62, 124, 64, 168, 127, 467, 319, 123, 250, 6, 176, 166, 51, 86, 55, 168], [99, 29, 236, 19, 7, 190, 57, 2, 253, 35, 3], [5, 9, 149, 252, 24, 149, 82, 1, 59, 4, 20, 1, 254, 29, 27, 74, 393, 126, 228, 233, 18, 6, 171], [14, 2, 13, 478, 47, 71, 492, 22, 419], [122, 1, 36, 32, 5, 422, 75, 9, 12, 4, 1, 109, 12, 8, 110, 443, 188, 23, 246, 2, 32, 92, 27], [154, 359, 1, 92, 330, 50, 35], [143, 398, 1, 90, 2, 13], [99, 174, 169, 30, 76, 20, 313, 28, 191], [49, 151, 1, 58, 201], [247, 163, 3, 19], [1, 17, 137, 386, 125, 52, 1, 36, 166, 12, 3, 179, 75, 124, 4, 152, 12, 3, 351, 194], [406, 30, 5, 66, 53, 5, 449, 3, 107, 9, 44], [48, 58, 1, 141, 79, 288, 1, 11], [64, 4, 396, 15], [206, 177, 3, 246, 246, 492, 488, 1, 59, 117, 1, 37, 69, 2, 56, 21, 3, 22, 401, 285, 166, 28, 324, 5, 15, 13, 62], [4, 26, 226, 32, 16, 47, 20, 26, 71, 85, 39, 36], [87, 9, 55, 55, 162, 68, 9], [433, 22, 245, 12, 3, 71, 13, 78, 13, 72, 424, 26, 149, 342, 12, 71, 13, 78, 4, 342, 149, 342], [54, 214, 32, 87, 11, 484, 79], [34, 68, 68, 36, 32, 304, 8, 287, 309, 68, 17, 121, 7], [320, 245, 12, 13], [22, 3, 74, 2, 86], [28, 3, 57, 13, 19, 5], [122, 398, 15, 5, 328, 48, 58, 3, 106, 17, 96, 108, 19], [38, 446, 492, 468, 446], [1, 114, 174, 1, 17, 30, 11, 53, 109, 3, 363, 44, 160], [14, 9, 151, 33, 30, 40, 66, 15, 265], [29, 236, 19, 20, 37, 70, 5, 152, 2, 10, 7, 1, 366, 32, 14, 3, 248, 17, 2, 70, 14, 8, 5, 97, 24, 1, 366, 32, 14, 7, 36, 93], [38, 130, 1, 25, 165, 44, 35, 3], [35, 157, 42, 41, 12, 42, 476, 41, 124, 103, 2, 5, 325, 19, 42, 41, 30, 42, 66, 41, 42, 41], [391, 3, 10, 7, 51, 13, 8, 58, 222, 34, 3], [392, 355], [1, 36, 440, 240, 168], [3, 32, 2, 367, 21, 159, 1, 17, 415, 3, 13, 444, 216, 303, 3, 365, 10, 12, 4, 452, 240, 1, 24, 171, 5, 210, 15, 21, 19, 13, 78, 5, 3, 236, 131, 3, 324, 11], [84, 320, 1, 36, 16, 3, 147], [102, 10, 192, 53, 13, 9], [1, 56, 29, 19, 422, 15, 40, 24, 12, 5, 422, 396, 29, 27, 80, 21], [26, 1, 45, 76, 195, 350, 79, 224, 43, 10, 77, 1, 415, 222, 11, 293, 195], [32, 5, 453, 26, 19, 97, 12, 71, 267, 26, 2, 81, 95, 302, 231], [357, 29, 30, 11, 145, 55, 39, 44, 4], [179, 1, 69, 14, 2, 33, 13, 198], [107, 1, 36, 45, 12, 14, 19, 84, 1, 23, 239], [38, 64, 490, 91, 28, 6, 457, 38, 42, 41], [39, 83, 117, 136, 112, 85, 227, 48, 109, 39, 28, 8, 5, 40, 460, 99, 2, 7, 7, 141, 6, 194], [46, 77, 79, 54, 152, 10], [37, 2, 365, 4, 29, 161, 27, 40, 9, 285, 68, 29, 49, 1, 222, 211], [69, 2, 44, 31, 35, 4, 108, 267, 93, 18, 40, 71, 144, 273, 234, 5, 82, 249, 394, 423], [46], [288, 48, 79, 405], [288, 1, 254, 9, 290, 179, 38, 90, 18, 45, 222, 18], [186, 16, 52, 13, 317, 13, 43, 281, 26, 389, 362, 145, 173, 310, 378, 376, 272], [209, 2, 3, 100, 106, 11, 1, 69, 2, 88, 51, 15, 3], [79, 148, 419, 57, 336, 1, 228, 204, 350], [15, 6, 242], [114, 55, 168, 213], [38, 29, 27, 456, 29, 8, 486, 23, 34, 39, 39, 45], [417, 43, 5, 66, 64, 31, 11, 398, 7, 51, 1, 69, 9, 6], [29, 308], [21], [186, 39, 22, 294, 2, 202, 6, 322, 368, 21, 3, 17, 183, 4, 158, 269, 16, 52, 314, 135, 65], [9, 10, 50, 51, 11, 255, 2, 176, 15, 10, 7, 54, 80, 293, 19, 11, 193, 1, 216, 19, 8, 57, 4, 265], [1, 25, 70, 3, 4, 34, 3, 57], [47, 385, 112, 469, 18, 43, 4, 343, 18, 181, 26, 145, 197, 373, 81, 2, 310, 144, 483], [444, 13, 60, 15], [3, 156, 27, 20, 38, 318, 49, 3, 25, 215, 10, 56], [10, 29, 27, 356, 1, 32, 304], [59, 14, 12, 127, 46], [6, 90, 11, 236, 6, 214, 61, 59, 14, 106, 10], [183, 270, 4, 8, 89, 333, 158, 322, 16, 20, 158, 425], [21, 372], [32, 170, 267, 93, 43, 26, 43, 43, 125, 45, 18, 144, 273, 234, 5, 82, 249, 394, 423], [1, 59, 347, 304, 5, 75, 30, 5, 160, 26, 191, 19, 27, 182, 49, 11, 36, 59], [1, 57, 2, 274, 448, 24, 63, 27, 489, 2, 1, 106, 56, 299], [1, 63, 239, 1, 36, 33, 67, 30], [99, 2, 188, 241, 16, 7], [106, 495, 1, 323, 413], [6, 47, 19, 451, 6, 233, 18, 372, 484, 10, 82, 82], [52, 258], [309, 2, 205, 12, 6, 36, 33, 44, 2, 35, 5, 348, 7, 2, 33, 70, 32, 81, 95, 2], [1, 56, 3, 22, 1, 53, 22, 3, 160, 20], [105, 95, 9, 3, 2, 33, 98, 264, 93, 143, 26, 38, 88, 98, 144, 286, 6, 95, 70, 95, 2], [139, 45, 2, 119, 18, 415, 19, 170, 5, 35, 43, 42, 41, 229, 31, 64], [46, 134, 10, 229, 399, 1, 107, 1, 88, 98, 270, 11, 3, 208, 11, 5, 66], [38, 14, 60, 154, 398, 114, 21, 475, 23, 1, 11, 134, 10, 4, 101, 19, 40, 61, 242], [29, 296, 127, 3, 22, 55, 28, 104, 196], [1, 366, 98, 50, 8, 312], [320, 1, 17, 103, 239, 8, 12, 5, 287, 7, 137, 2, 404, 4, 42, 41, 1, 14, 190, 33, 15, 10, 2, 80, 191, 3, 134, 30, 121, 355, 2, 7, 247, 162, 1, 408, 351, 44, 1, 63, 8, 4, 7, 383, 33, 489, 2, 404, 5, 40, 352, 11, 114, 15, 363, 25, 3, 100, 258, 184], [53, 68, 156, 9, 27, 5, 11, 301, 120, 251, 9, 67], [23, 33, 87, 418], [74, 19, 334, 121], [6, 182, 6, 226, 104, 96, 66], [68, 156, 1, 406, 484, 331, 146, 24, 1, 254, 413, 375, 43, 10, 405], [223, 115, 9], [91, 1, 402, 58, 78, 207, 54, 34, 11, 312, 50, 369], [154, 24, 193, 9, 12, 1], [162, 109, 1, 44, 19, 11, 41], [23, 48, 22, 3, 161, 53, 22, 3, 44, 2, 427, 5, 7, 23, 19], [1, 238, 51, 31, 19, 149, 164], [114, 1, 60, 80, 2, 134, 44, 179, 110, 51, 156, 38, 110, 28, 75, 1, 7, 75, 24, 14, 9, 163, 23, 1, 8, 14, 9, 37, 2, 256, 14], [7, 163, 51, 39, 9, 392, 6, 7, 1, 65], [9, 85, 19, 13, 432, 45, 2, 19, 7, 339, 19, 23, 20, 50, 2], [47, 223, 26, 35, 139, 478, 47, 242, 483, 277, 47, 16, 19, 26, 16], [5, 306, 9, 247, 8, 24, 8, 110, 248, 37, 1, 366, 16, 3, 20], [100, 106, 148, 57, 21, 99, 99, 99], [12], [], [46, 77, 29, 8, 450, 20], [49, 295, 88, 11, 110, 107, 2, 110, 22, 110, 56, 21, 2, 11, 341, 255], [1, 63, 8, 13, 364], [9, 4, 335, 36, 8, 167, 23, 163, 2], [37, 346, 11, 403, 53, 1, 60, 44, 2], [1, 17, 2, 104, 35, 170], [47, 345, 315, 35, 329, 314, 12, 7, 478, 277, 16, 26], [9, 67, 56], [1, 36, 44, 197, 22, 3, 307, 2, 276, 13, 72, 114], [23, 1, 217, 471, 7, 210, 3, 227, 2, 10], [132, 127, 31, 46, 36, 134, 6, 4, 45, 43, 8, 450, 45, 43, 4, 289, 36, 61], [9, 8, 87], [28, 3, 236, 35, 13], [283, 16, 6, 30, 35, 11, 21, 383, 95, 10, 18, 437, 91], [27, 182, 1, 17, 5, 12, 14], [49, 3, 32, 47, 16, 10], [160, 14, 2, 15, 65, 7, 22], [64, 57, 21, 1, 107, 3, 8, 4, 198], [320, 1, 63, 245, 12, 13, 16], [21], [110, 347, 75, 86, 7, 14, 124, 4], [30, 43, 45, 2], [7, 495, 17, 78], [6, 17, 4, 131, 9, 499, 18, 138, 202, 35, 6, 176, 50, 131, 110, 83, 131, 31, 23, 259, 16, 19], [91, 91, 286, 253, 35, 10], [6, 17, 4, 131, 9, 499, 18, 138, 202, 35, 6, 176, 50, 131, 110, 83, 131, 31, 23, 259, 16, 19], [46, 54, 73, 215, 142, 101, 82, 153, 142, 16, 6, 418], [9, 34, 5, 9, 30, 167, 110, 204, 5, 12, 30, 455], [29, 7, 367, 10], [1, 36, 1, 69, 2, 45, 2, 159, 21, 1, 40, 53, 1, 59, 52, 98, 116, 53, 2, 28, 94, 408, 148, 96, 66], [48, 58, 94, 25, 32, 14, 151, 180, 375, 2, 323], [91, 91, 129], [99, 169, 266, 76, 19, 132, 15, 1, 4, 7, 15, 283, 115, 6, 49, 1, 32, 85, 15, 61, 242, 242, 242, 242, 242, 242, 242, 242, 242], [143, 11, 9], [40, 9, 5, 441, 2, 6, 3, 17, 183, 40, 158, 15, 333, 145, 26, 158, 37, 16], [132, 53, 48, 80, 13, 87], [320, 127, 13, 62, 9, 74, 1, 161, 1, 383, 17, 2, 3, 80, 40, 1, 17, 120, 21, 1, 226, 40, 352, 1, 63, 50, 15, 51, 145, 1, 56, 40, 9, 4, 66, 12, 3, 171, 24, 1, 17, 2, 215, 3, 56], [46], [160, 77], [1, 56, 3, 22, 25, 3, 105, 5, 85], [108, 344, 7, 328, 12, 11, 1, 17, 65, 108, 304, 8], [27, 52, 40, 22, 3, 8, 5], [243, 11, 1, 175, 3, 164, 7, 1, 37, 44, 1, 250, 3, 208, 117, 8, 474, 35, 10, 10, 1, 61, 3], [436, 38, 19, 2, 27, 150, 34, 413, 27, 6, 129], [11, 37, 10, 21, 413, 5, 486, 23, 105, 204, 487], [122, 279, 36, 462, 258], [148, 40, 311, 1, 61, 3, 155, 1, 90, 3, 11, 261, 35, 13, 70, 40, 2, 259, 295, 155, 6, 141, 147, 28, 14, 105, 105, 28, 14], [39, 56, 225, 131, 3, 56, 21, 3, 16, 2, 176, 50, 131, 305, 187], [20, 29, 74, 12, 268], [438, 56, 44], [9, 7, 248, 33, 94, 32], [143, 1, 6, 2, 204, 108, 293, 23, 1, 25, 260, 14, 50], [261, 9, 409, 61, 301, 9, 409, 83, 409, 155, 172, 9, 409, 23, 33, 8, 55, 123, 155, 341], [86, 9, 62, 6, 10, 72, 38], [58, 237, 42, 66, 41], [], [91, 91, 162, 214, 3, 58, 117, 7, 304], [1, 36, 3, 320, 8, 291], [122, 21, 60, 4, 152, 1, 284, 3, 70, 21, 2, 10], [27, 280, 74, 2, 360, 29, 8, 439], [211, 1, 468, 89, 167, 112], [122, 6, 17, 13, 337, 50, 465, 195], [105, 10, 12, 75, 62, 26, 63, 3, 5, 157], [11, 222], [1, 69, 2, 177, 42, 41, 86, 279, 299, 84, 34, 1], [91, 54, 22, 3, 266, 2, 312], [6, 11, 60, 19, 6, 10, 4, 209, 72, 169, 182, 6, 109, 18, 141, 8, 6, 319], [127, 31, 18, 118, 63, 11, 130, 4, 15, 8, 35, 4, 207, 58, 34, 3, 57], [84, 73, 16, 101], [72, 4, 31, 322, 43, 464, 36, 33, 19, 15, 4, 2, 8, 5], [46, 38, 37, 428, 21, 4, 264, 8, 90], [1, 419, 49, 45], [15, 392, 386, 9, 27, 80, 159, 5, 152, 64, 80, 37, 78, 5, 282, 199], [338, 300, 11, 6, 300, 371, 164], [361, 114, 21, 244, 14, 1, 284, 60, 255, 35, 20, 444, 1, 109, 5, 198, 24, 1, 164, 15, 68, 248, 27, 58, 179, 15, 235], [250, 39, 208, 150, 20], [59, 120, 3, 25, 14, 8, 11, 34, 3, 57], [109, 3, 5, 439, 22, 3, 136, 109, 3, 138, 4, 22, 3, 13, 201, 371, 28, 3, 210, 11, 61], [21], [1, 111, 56, 252, 198, 247, 68, 19, 27, 55], [103, 4], [48, 118, 9, 8], [29, 456], [338, 300], [82, 391, 8, 113, 25, 1, 31, 391, 299, 28, 6, 107, 1, 190, 38, 141, 48, 14, 8, 35, 136], [], [122, 51, 17, 2, 58, 361], [7, 2, 3, 320], [114, 54, 3, 17, 4, 121, 460], [38, 14, 36, 440, 78, 412, 65, 94, 94, 36, 33, 67, 1, 106, 56], [257, 10, 164, 36, 28], [48, 190, 11, 461, 21, 11, 4], [106, 56, 7, 1, 1, 107, 25, 339, 126], [1, 37, 40, 314, 10, 35, 5, 1, 111, 301, 1, 31, 11, 225, 24, 298, 10, 35, 4, 199, 7, 341], [169, 8, 381, 57, 271, 225, 78, 19], [49, 3, 212], [184, 12, 13, 453, 157, 13, 97, 36, 33, 231, 151, 13, 267, 27, 100, 16, 241, 19], [132, 11, 61, 1, 107, 15, 3, 7, 127, 13, 62, 496, 114, 109, 3, 256, 8, 1, 175, 3, 174, 1, 331, 12, 5, 39, 22, 192, 326], [42, 41, 8, 24, 27], [55, 143, 100], [432, 53, 426, 2, 113, 149, 81, 113, 149, 26, 2, 20, 43, 343, 18, 181, 145], [58, 2, 50, 89], [147, 1, 63, 27, 74, 2, 23, 1, 25, 58, 6, 16, 10, 102, 10, 128, 7, 49, 2, 58, 147], [22, 3, 27, 237, 26, 37, 92, 263], [154, 57, 34, 14, 496, 57, 14, 109, 35, 11, 255, 11, 407, 8, 57, 329, 136, 416], [1, 23, 1, 25, 95, 80, 25, 3, 100, 153, 5, 252], [30, 76, 171], [179, 1, 286, 79, 54, 79, 93, 23, 1, 224, 43, 79, 2, 93, 350, 1, 79, 300, 31, 146], [361, 114, 21, 244, 14], [186, 39, 22, 294, 2, 202, 6, 322, 368, 21, 3, 17, 183, 4, 158, 269, 16, 52, 314, 135, 378], [68, 9, 2, 35, 7, 68, 236, 10, 57, 220, 57, 68, 298, 10, 193, 68, 109, 7, 1, 36, 142, 15, 21, 34], [440, 76, 16, 10], [29, 19, 11, 130, 2, 11], [31, 9, 19, 5, 130, 6, 151, 377, 4, 218, 119, 18, 31, 34, 6, 28, 27, 432, 19, 31, 97, 218], [23, 3, 107, 1, 151, 401, 274, 2, 142, 27, 16, 220, 8, 5, 168, 1, 200, 2, 40, 238, 167, 265, 7, 68, 257, 10, 128, 1, 217, 45, 7, 32, 11, 344, 68, 10, 86, 48, 118, 68, 1, 190, 58, 85, 8, 48, 68, 236, 27, 285, 11, 157], [186, 39, 22, 294, 2, 202, 6, 322, 368, 21, 3, 17, 183, 4, 158, 269, 16, 52, 314, 135, 65], [141, 79, 54], [38, 29, 8, 5, 252, 92, 117, 30, 11, 330, 10, 50, 19, 357, 29, 329], [], [122, 143, 162, 9, 14, 57, 384], [27, 182, 280, 92, 294, 2, 32, 4, 15, 142], [438, 55, 49, 28, 3, 69, 10, 2, 58, 222], [243, 48, 22, 3, 86, 1, 190, 61, 2, 17, 4, 253, 162, 106, 3, 102, 10, 53, 3, 406, 57, 7, 53, 3, 22, 8, 2, 433], [357, 357, 357, 117, 4, 108, 15, 12, 89, 2, 32, 12, 47, 37, 5, 227, 177, 2, 31], [6, 92, 59, 4, 361], [39, 25, 45, 43, 149, 159, 89], [324, 418], [10, 1, 106, 56, 192, 122], [286, 3, 17, 183, 4, 223, 40, 9, 53, 3, 32, 49, 3, 181, 89, 47, 2, 104, 396, 70, 223, 2, 20, 278], [91, 69, 188, 2, 58, 78, 20], [40, 9, 31, 390, 461, 139, 18, 170, 43, 229, 305, 358, 454, 412, 42, 41, 96, 157, 1, 36, 102, 31, 390, 63, 245, 93], [110, 37, 279, 14, 493, 110, 383, 96, 251], [1, 33, 67, 35, 8, 42, 41, 399, 59, 96], [79, 65, 70, 10, 5], [24, 33, 4, 55, 306, 24, 106, 260, 2, 199], [122, 154, 7, 11, 37, 50, 5], [99, 116, 16, 10, 64, 1, 111, 56, 13, 318, 3, 111, 69, 2, 133, 26, 34, 3, 17, 96, 251, 318, 30, 102, 10, 12, 13, 93], [1, 200, 52, 4, 2], [72, 1, 11, 11, 448, 156, 129, 1, 259, 94, 10, 43, 268, 159, 268, 94, 10, 2, 98, 39, 200, 67], [54, 1, 204], [99, 129, 354, 99, 99, 99, 99, 99, 99, 99], [45, 159, 98, 7, 98, 201, 452, 5], [73, 33, 239], [38, 59, 108, 304, 30, 8, 19, 43, 416, 24, 38, 8, 189, 8], [22, 3, 271, 55, 398], [122, 14, 1, 137, 4, 21, 1, 137, 18, 1, 60, 23, 27, 65, 80, 5, 24, 166, 271, 1, 216, 257, 8, 11, 21, 68, 60, 29, 27, 285, 8, 5, 390], [84, 275, 11, 26, 1, 190, 34, 3, 69, 39, 217, 85, 329, 26, 1, 217, 204, 120, 407, 35, 11], [34, 3, 69, 2, 14, 26, 191, 406, 44, 247, 5, 128, 5, 335, 9], [28, 3, 107, 1, 25, 42, 41, 8, 4, 112], [260, 2, 28, 191, 116, 3, 191, 12], [61, 21, 281, 216, 34, 1, 17, 2, 45, 2, 5, 8, 136, 416], [116, 100, 16, 52, 4, 317, 13, 43, 281, 26, 333, 145, 173, 310], [28, 79, 34, 9, 74], [447, 21, 270, 4], [14, 200, 114, 58, 201, 30, 54, 17, 15, 66, 240, 496, 2, 133], [99, 109, 6, 480, 18, 32, 43, 220, 34, 27, 283, 338, 32, 142, 4, 26], [1, 111, 56, 6, 7, 6, 111, 56, 10, 70, 253, 2, 20, 7, 176, 251, 65, 187, 119, 272, 26, 201], [46, 1, 119, 6, 1, 232, 11, 328], [64, 4, 121, 62, 28, 17, 4, 75], [1, 69, 2, 177, 42, 41, 86, 279, 299, 84, 34, 1], [313, 32, 69, 337, 177, 2, 31, 97, 472, 5, 394, 81, 2, 20, 302, 231, 119], [2, 133, 50, 195, 427, 43], [68, 124, 15, 174, 24, 5, 258, 17, 2, 497, 14, 201, 7, 14, 44], [97, 96, 15, 5, 12, 13, 97], [99, 46, 37, 18, 253, 18, 6, 43, 4, 331, 66, 127, 31, 17, 55, 30, 61, 213, 63, 242], [1, 26, 150], [68, 338, 148, 45, 252, 66], [242, 14, 37, 23, 98, 492, 19, 3, 83, 10], [28, 3, 32, 5, 220, 157, 36, 33, 8, 67], [46, 1, 482, 377], [1, 60, 21, 66, 3, 67], [1, 63, 30, 5, 45, 67], [132, 29, 23, 29, 15, 6, 23, 146, 83, 6, 160], [9, 141, 27, 221, 3, 151, 17, 257, 10], [165, 159, 268], [128, 22, 3, 3, 156, 3, 190, 33, 117, 49, 1], [300, 164, 110, 189, 1, 1, 23, 46], [146, 83, 6, 160], [121, 16, 2, 135, 13, 269, 333, 145, 26, 464, 351, 2, 4, 321, 20], [11, 2, 142], [34, 1, 156, 178, 84, 493], [68, 171, 80, 268, 65, 87, 1, 56], [94, 205, 35, 4, 275, 39, 36, 138], [1, 63, 27, 266, 2], [3, 7, 13, 242, 7, 129, 108, 265, 8], [78, 1, 151, 33, 307, 24, 36, 16, 3, 12, 182, 5, 318, 9, 21, 11, 298, 48, 35, 3, 427, 133, 7, 5], [21, 39, 151, 161, 260, 2, 88, 34, 25, 33, 89, 240, 39, 2, 4], [84, 73, 16, 101], [1, 323, 247, 162, 3, 3, 56, 21, 436, 4, 130, 5, 7, 29, 375, 182, 3, 495, 104, 14, 195, 5, 110, 36, 49, 13, 9, 54, 37, 334, 156, 9, 4, 2, 495, 24, 1, 366, 189, 19, 3, 44], [], [29, 19, 87, 439, 74, 76], [103, 44, 2, 198, 109, 3, 17, 4, 55, 354, 49, 22, 6, 1, 86], [121, 16, 2, 135, 13, 269, 333, 145, 26, 464, 351, 2, 4, 321, 20], [334, 24, 39, 338, 6, 190, 153, 179, 6, 24, 39, 200, 338, 200, 50, 164, 23, 86, 27, 74, 50, 338, 16, 77], [215, 10, 56, 34, 3, 90, 178, 26, 26, 191, 48, 246, 382, 1, 32], [25, 146, 2, 32, 43, 98], [137, 13, 97, 462, 12, 47, 2, 348, 315, 460, 446, 16, 97, 19, 26], [4, 452, 192, 39, 232, 8, 4], [263, 209, 205, 18, 18, 11, 19, 18, 180, 18, 8, 227], [447, 5, 44], [31, 31, 169, 117, 18, 18, 6, 313, 148, 338, 10, 4, 411, 452, 155, 1, 73, 497, 85, 31, 326], [6, 90, 4, 52, 149, 457, 6, 233, 18, 104, 251, 385], [374, 3, 208, 456, 86, 313, 253, 24, 244, 22, 46, 23, 10, 4, 71, 49, 270, 47, 7, 73, 127, 51, 9, 114, 7, 51], [29, 308, 29, 84, 1, 127, 13, 227, 3, 481, 3, 69, 428, 51, 5, 9, 34, 29, 27, 237, 49, 3, 14, 37, 51, 5, 7, 232, 5, 35], [11, 37, 5, 65, 396, 39, 111, 189, 15, 346, 11, 5, 198, 19, 42, 41, 358], [64, 46, 1, 37, 109, 6, 38], [436, 225, 117, 21, 124, 4, 265, 42, 41, 57, 9, 42, 41, 91, 64, 24, 1, 90, 2, 56, 48, 118, 36, 14, 12, 34, 1, 25, 5, 12, 14, 48, 194, 159, 36, 14, 85], [55, 48, 22, 3], [84, 73, 16, 101], [1, 63, 329, 62, 232, 1, 63, 27, 114], [39, 2, 202, 3, 13, 93, 2, 89, 395, 15, 4, 345, 277, 71, 93, 26, 16, 20], [9, 452, 6, 83, 4, 6, 327, 61, 9, 8, 15, 113, 155, 10, 10], [184, 12, 3], [4, 57, 42, 41, 4, 329, 9, 7, 3, 4, 12, 42, 41], [6, 1, 1, 257, 6, 190, 16], [1, 300, 11, 268, 54, 1, 45, 222, 77, 170, 77, 6, 300, 31, 268, 164], [29, 50, 17, 4, 55, 123], [28, 6, 92, 17, 7, 4, 39, 217], [11, 14, 19], [181, 4, 165, 35, 43, 6, 26, 4, 110, 22, 19, 53, 139, 18, 170, 71, 139, 18, 26, 170, 2, 355, 71], [100, 11, 97, 49, 3, 32, 44, 8, 168], [36, 113, 293, 86, 7, 2, 3, 28, 3, 17, 4, 378, 376, 157], [3, 16, 142, 7, 102, 20, 15, 166, 16, 142, 20], [63, 384, 328, 163, 63, 285, 5, 198, 216, 35, 5, 35, 5], [84, 405, 1, 141, 31, 119, 27, 164, 350, 10, 384, 432, 20, 6, 92, 8, 364], [301, 140, 46], [22, 3, 92, 35], [3, 17, 59, 24, 3, 22], [], [3, 17, 183, 4, 269, 333, 145, 26, 4, 158, 2, 135, 158, 16, 89, 241, 218, 19, 392, 355], [65, 137, 13, 97, 3, 22, 2, 462, 2, 5, 348, 315, 97, 12, 47, 16, 5, 97, 462, 47, 19], [13, 445], [91, 73, 50, 8, 4, 287, 277, 88, 3, 67], [186, 100, 16, 52, 13, 317, 13, 43, 281, 26, 333, 145, 173, 310], [12, 31, 343, 2, 181, 4, 465, 81, 470, 2, 144, 81, 18, 470, 185, 373], [117, 57, 51, 54, 23], [224, 1, 36, 58, 50, 42, 41, 219], [48, 109, 6, 56, 53, 1], [1, 63, 337, 398, 1, 69, 2, 497, 50, 13], [15, 5, 15, 5, 8, 20, 93, 78, 18, 43, 343, 18, 181, 93, 95, 2, 363], [153, 34, 6, 25, 385, 146, 15, 165, 43, 268, 442, 6, 82, 142, 165, 25, 164, 77, 26, 6, 233, 18, 45, 153, 87, 385, 54, 10], [1, 11, 255, 21, 3, 2, 72, 13, 255], [14, 217, 117], [1, 36, 33, 398, 194, 3, 36, 33, 51, 42, 41, 13], [143, 3, 214], [18, 97, 83, 16, 20, 13, 339, 498], [68, 36, 3, 370], [111, 406, 85, 30, 5, 346, 3, 17, 38, 7, 1, 111, 69, 3, 2, 32, 125, 37, 76, 7, 4, 2, 5], [84, 21, 60, 11, 1, 366, 189, 8], [7, 95, 9, 94, 381, 74, 2, 95, 10, 346, 1, 36, 3, 1, 69, 346, 3, 22], [174, 138, 10, 10, 19, 81, 10, 13, 20, 174, 169, 7, 90, 3, 20, 51, 355, 302, 231, 18, 70, 95], [100, 167, 198, 1, 90, 9, 12, 356, 8, 13, 172, 33], [432, 53, 426, 2, 113, 149, 81, 113, 149, 26, 2, 20, 43, 343, 18, 181, 145], [3, 22, 4, 6, 17, 103, 479, 18, 377, 333, 145, 26, 4, 43, 281, 351, 2, 4, 321, 18, 135], [79, 86], [4, 306, 25, 17, 4, 326, 21, 216, 220, 98, 2, 210, 12, 271, 136, 23, 5, 353, 35, 13, 326, 155, 17, 4], [119, 6, 113, 6, 148, 243, 28, 6, 9, 113, 337, 15, 243, 140, 113, 282, 15, 4, 340, 143, 7, 6, 131, 9, 336, 340, 243, 94, 9, 113, 131, 75, 25, 113, 282, 15, 4, 306, 327, 27, 220, 342, 113, 82, 1, 342, 173], [34, 68, 68, 36, 32, 304, 8, 287, 309, 68, 17, 121, 7], [210, 21, 3, 22, 236, 129, 14, 13, 155, 14, 396, 15, 13, 172, 14, 129, 168, 155, 17, 4, 129, 62], [169, 84, 167, 14, 31, 14, 60, 10, 14, 60, 26, 6, 10, 1, 107, 6], [73, 58, 20], [12, 55, 24, 38, 26], [6, 50], [47, 469, 367, 89, 37, 70, 5, 332, 2, 20, 272, 173, 141, 144, 185, 196], [1, 63, 19, 5, 130, 2, 31, 76], [5, 15, 4, 430, 106, 14, 1, 63, 294, 72, 126, 88], [6, 83, 126, 118, 2, 11, 261, 34, 6, 45, 1, 36, 33, 421, 35, 10], [220, 45, 54, 68, 8, 77, 27, 484, 11, 82, 77], [4, 284, 32, 15, 160, 411, 244, 43, 410, 411, 244, 113, 396, 8, 199], [122, 9, 14, 70, 10, 5], [194, 3, 36, 17, 5, 337, 198, 414, 28, 1, 138, 3], [5, 21, 270, 368, 3, 56, 162, 29, 13, 9, 53, 1, 69, 2, 28, 27, 53, 1, 90, 2, 28], [37, 285, 85, 76], [38, 143, 100, 103], [169, 38, 4, 169, 136, 20], [11, 386, 8], [46, 141, 213], [17, 4, 123, 7, 49, 3, 44, 2, 88, 40, 152, 1, 127, 3, 326, 51, 9, 72, 151, 33, 17, 4, 121, 168], [154, 436, 360, 12, 5, 386, 15, 188, 242, 124, 126, 246, 84, 275, 88, 3, 101], [53, 13, 435, 12], [133, 1, 428, 21, 53, 426, 14, 210, 57, 211], [1, 428, 5, 167, 66, 39, 59, 12, 5, 195, 66, 35, 263], [262, 161, 122, 38, 48, 54, 36, 110, 13, 418], [99, 85, 109, 34, 3, 59, 78, 4, 26, 191, 334, 118], [301, 38, 125, 36, 52, 20, 19, 8, 113], [47, 453, 2, 453, 32, 385, 112, 47, 70, 2, 170, 230, 112, 95, 286], [1, 25, 359, 58, 78, 308, 237, 42, 41, 150], [29, 92, 86, 437, 62], [109, 68, 148, 48, 1, 63, 78, 96, 343, 26, 178, 90, 4, 172, 72, 5, 36, 18, 321, 28, 3, 107, 1, 190, 33, 5, 195, 306, 18, 52, 82, 263], [1, 17, 38, 128, 3, 22], [46, 417], [86, 1, 63, 239, 12, 42, 476, 41, 219], [178, 350, 54, 79, 27, 74, 76, 43, 371], [1, 63, 74, 2, 474, 20], [47, 12, 385, 112, 223, 267, 43, 31, 97, 197, 112, 37, 81, 223, 2, 32, 7, 102, 31, 144, 273, 234, 278, 267], [73, 71, 3, 49, 1, 242, 205], [34, 6, 161, 34, 6, 274, 34, 6, 106, 196, 53, 210, 6, 22, 359, 35, 13, 116, 155, 249, 255, 116], [46, 27, 4, 318, 36, 32, 166, 4, 141, 147, 7, 19, 107, 39, 83, 51, 74, 2, 5], [1, 63, 8, 16, 3, 87], [28, 6, 9, 169, 136, 119, 15, 119, 9, 327, 25, 14, 155, 17, 4, 209, 256, 341], [84, 29, 384, 8, 11], [213, 37], [247, 292, 33, 117, 51, 123, 56, 49, 270, 237], [122, 1, 60, 15, 30, 389, 442, 38, 2, 45, 30, 170, 442, 25, 2, 43, 77, 6, 16, 10, 49, 307], [5, 15, 172, 9, 8, 227, 193, 15, 1, 250, 197, 36, 33, 8, 31, 172, 199], [11, 61, 1, 127, 13, 27, 160, 178, 111, 3, 13, 26, 13, 115], [146, 6, 254, 73, 222, 24, 401, 1, 254, 29, 375, 18, 11, 30, 76, 1, 153, 142, 58, 82, 10, 164], [94, 221, 296, 1, 17, 137, 35, 98, 115, 14, 35, 25, 3, 105, 70, 98, 347, 264], [20, 448, 159, 21, 65, 1, 25, 58], [177, 10, 493, 12], [73, 88, 3, 8, 4, 289], [247, 27, 263], [143, 9, 163, 23, 64, 5, 130, 39], [4, 93, 20, 472, 5, 97, 218, 37, 2, 81, 95, 2, 93, 20], [186, 13, 97, 38, 183, 4, 362, 158, 19, 40, 9, 5, 441, 2, 440, 3, 16, 388], [1, 189, 8, 11, 204, 386], [32, 31, 385, 453, 47, 20, 93, 2, 40, 119, 35, 267, 2, 13, 115, 197, 112, 37, 302, 231, 230, 373, 18, 50, 70, 95, 278], [143, 414], [42, 41], [38, 29, 55, 12, 5, 9, 14, 46, 34, 1, 232, 8, 136], [105, 45, 67, 86, 42, 41, 1, 106, 69, 96], [27, 280, 146, 6], [1, 63, 74, 2, 86, 36, 33, 308, 65, 30], [72, 230, 13, 124, 103, 72, 13, 12, 51, 412, 2, 13, 255], [171, 5], [56, 1, 119, 142], [89, 97, 157, 124, 183, 2, 135, 446, 188, 85, 26, 5, 314, 19], [116, 103, 2, 40, 9, 89, 2, 202, 6, 81, 253, 2, 187], [1, 2, 6], [132, 418, 444, 25, 165, 3, 30], [9, 67, 266, 9, 232, 12, 28, 3, 32, 96, 52, 13, 133, 238], [279, 292, 128, 151, 1, 19, 3, 26, 8, 3], [39, 2, 202, 3, 13, 93, 2, 89, 395, 15, 4, 345, 115, 96, 394, 277, 329, 314, 93, 26, 16], [338], [105, 28, 10, 4, 105, 11, 354, 2, 105, 86, 9, 98, 354], [46, 77], [4, 238, 12, 10, 8, 13, 261, 7, 27, 8, 13, 301, 72, 5, 301, 24, 5, 261, 36, 236, 428, 250, 3, 129, 62], [1, 2], [61, 4, 140, 4, 34, 39, 217, 131, 2, 61, 54, 172, 190, 33, 118, 24, 54], [1, 63, 76, 174, 22, 3, 92, 44], [214, 3, 374, 11, 283, 134, 6, 4, 64, 7, 35, 424], [417], [156, 94, 25, 10, 42, 41], [91, 7, 270, 182, 1, 111, 17, 2, 17, 2, 28, 14, 263], [13, 9], [105, 28, 10, 4, 105, 11, 354, 2, 105, 86, 9, 98, 354], [30, 53, 66, 151, 1, 58, 147], [351, 65, 49, 3, 210, 13, 22, 290, 316, 5, 199], [38, 1, 60, 294, 14, 51, 460, 263], [46], [3, 156, 2, 10, 240, 1, 200, 85, 2, 474, 21, 3, 226, 256, 12, 178], [14, 6, 217, 27, 189, 31], [40, 9, 3, 4, 121, 62, 257, 10, 80, 13, 395, 7, 72, 236, 1, 60, 3, 395, 23, 2, 45, 2, 121, 19, 11, 7, 64, 11, 9, 227, 159, 21, 1, 36, 189, 8, 125, 84], [18, 18, 18, 38, 139, 18, 4, 430, 37], [288, 46], [1, 59, 256, 1, 44, 197, 18, 2, 88, 34, 11, 2, 58, 8, 1, 495, 80, 142, 49, 64], [21, 156, 25, 3, 71, 142, 75, 125, 66], [420, 31, 349, 464, 47, 469, 18, 83, 322, 81, 498, 2], [313, 339, 30, 4, 32, 18, 240, 385, 7, 45, 26, 35, 7, 50, 4], [91, 91, 96, 259, 86], [84, 115, 46, 402, 33, 24, 190, 33, 51, 11, 35, 75, 140, 4], [55, 168, 414, 129, 108, 265], [11, 9, 30, 39, 45, 12, 5, 2, 75, 28, 3, 301], [400, 3, 414, 3, 22, 23, 433], [99, 398, 169, 451, 19, 5, 439, 30, 5, 7, 1, 383, 33, 76, 419, 80, 358, 313, 28, 101, 16, 10, 101, 85], [28, 3, 69, 96, 394, 277, 71, 7, 4, 108, 345, 115, 12, 65, 230, 112, 16, 26, 93, 12, 147], [11, 430, 60, 27, 489, 2, 17, 28, 3, 69, 75, 62], [91, 102, 10, 178, 80, 3], [53, 3, 160, 48, 22, 3], [226, 1, 210, 29, 23, 1, 297, 365, 96, 51, 112, 86, 1, 60, 2, 50, 1, 60, 51, 112, 7, 20, 29, 27], [28, 3, 69, 4, 108, 345, 96, 66, 96, 394, 277, 71, 93, 26, 16, 20, 12, 451, 63], [1, 228, 254, 73, 280, 25, 45, 25, 39, 25, 45, 165, 159, 89, 442], [132, 3, 166, 13, 49, 3, 12, 361, 418, 313, 165, 30], [438, 206, 103, 47, 107, 3, 217, 71, 10, 14, 2, 10, 29, 27, 375, 72, 182, 53, 29, 160, 72, 1, 284, 1, 60], [114, 63, 8, 4, 23, 34, 6, 313, 16, 63, 30, 76, 307, 2, 33], [137, 13, 97, 389, 462, 2, 5, 348, 315, 345, 12, 47, 189, 31, 252, 157, 32, 47, 277, 458, 71, 143, 12, 4, 16], [54, 53, 80, 435], [50, 11, 255, 22, 12, 5, 445, 7, 33, 85, 42, 41, 23, 210, 47, 2, 45, 7, 21, 42, 41], [186, 40, 9, 89, 441, 2, 202, 6, 13, 158, 52, 9, 92, 2, 135, 16, 20], [5, 152, 177, 9, 12, 42, 41, 1, 404, 42, 41, 26, 42, 41], [174, 6, 69, 10, 106, 6, 398, 169, 7, 17, 4, 198, 43, 4, 66, 35, 4, 433, 48, 80, 39, 45, 82, 81, 380], [79, 2, 188], [3, 22, 341, 72, 114, 414, 100, 102, 10, 13, 7, 8, 474], [438, 25, 3, 71, 10, 5], [89, 261, 49, 225, 9, 8, 14, 24, 14, 163, 49, 225, 14, 55, 123], [1, 127, 3, 205, 24, 190, 161, 57, 2, 88, 3, 147, 61, 10], [1, 2, 204, 4, 344, 64, 186, 24, 4, 15, 42, 41, 67, 9, 38, 2, 457, 42, 41, 279, 11], [83, 6, 1, 92, 29, 74, 43, 268, 20], [28, 6, 457, 38, 42, 41], [146, 23, 239, 92, 369, 26, 39, 482, 45, 43, 371, 77, 1], [84, 73, 16, 101], [58, 78, 89, 360, 30, 120, 23, 39, 25, 50, 5, 435, 12, 40, 460], [143, 24, 110, 156, 64, 14], [99, 117, 18, 156, 6, 26, 31, 8, 14, 1, 23, 237], [3, 182, 13, 408, 203, 14, 44], [11, 115, 7, 1, 297, 216, 56, 154, 1, 57, 14, 290], [211, 11, 9, 35, 11, 9, 57, 18, 399], [14, 42, 41, 128, 3, 30], [23, 138, 14, 26, 72, 230], [28, 3, 69, 96, 394, 277, 71, 7, 4, 108, 345, 115, 12, 65, 230, 112, 16, 20, 26, 93, 12, 147], [58, 2, 30, 14, 87], [15, 392, 386, 9, 27, 80, 159, 5, 152, 64, 80, 37, 78, 5, 282, 199], [], [102, 10, 448, 48, 9, 463, 493], [121, 298, 103, 290, 62, 216, 125, 2, 400, 311], [12, 31, 343, 2, 181, 4, 465, 81, 470, 2, 144, 81, 18, 470, 185, 373], [84, 1, 347, 264, 42, 41, 24, 68, 248, 27, 33, 237], [2, 392, 7], [72, 230, 13, 124, 103, 72, 13, 12, 51, 412, 2, 13, 255], [54, 6, 153, 45, 82, 203, 6, 77, 24, 1, 418, 477, 18, 165], [51, 149, 249, 43, 31, 418], [104, 120, 12], [11, 9, 379, 5, 65, 198, 1, 428, 52, 5, 39, 109, 60, 21, 7, 208, 5, 65, 318, 47, 39, 30], [60, 37, 80, 2, 153, 36, 189, 40, 75, 444, 247, 162, 3, 297, 32, 51, 5, 492, 39, 177, 3, 19], [417, 24, 11, 354, 9, 201, 164], [91, 25, 21, 207], [15, 4, 275, 167, 112, 60, 11, 11, 430, 250, 10, 11, 374, 82, 23, 109, 11, 1, 200, 2, 133, 216, 11, 109, 27, 250, 72, 1, 11, 11, 448, 156, 129, 1, 259, 94, 10, 43, 268, 159, 268, 94, 10, 2, 98, 39, 200, 67, 94, 156, 28, 6, 301, 34, 1, 45, 367, 5, 12, 4, 1, 8, 4, 433, 94, 466, 50, 229, 4, 82, 11, 430, 11, 11, 11, 255, 82, 11, 51, 7, 1, 60, 245, 19, 5], [63, 74, 2, 104, 283, 238, 5, 8], [91, 36, 28, 155, 1, 22, 160, 120, 23, 73, 33, 117, 49, 3, 32, 76], [37, 20, 13, 152, 14, 91, 87], [38, 10, 20, 34, 3, 45, 16, 10, 16, 10, 48, 104, 196, 122], [47, 119, 84, 4, 218, 3, 52, 217, 27, 33, 72, 3, 28, 27, 17, 100, 44, 2, 377, 5, 218], [48, 118, 1, 2, 3, 168], [17, 3, 8], [10, 263, 308], [243, 110, 22, 74, 2, 5, 30, 454, 23, 58, 117, 26, 67, 46], [48, 58, 6, 59, 334, 2, 28], [153, 79, 2, 204, 487, 76], [147, 1, 63, 27, 74, 2, 23, 1, 25, 58, 6, 16, 10, 102, 10, 128, 7, 49, 2, 58, 147], [1, 214, 203, 5, 115, 150, 20, 105, 70, 4, 152], [1, 111, 6, 1, 155, 14, 10, 21, 6, 111, 196, 2, 95, 10], [79, 45, 76, 393, 153, 2, 203, 10, 44, 30, 305], [28, 6, 166, 26, 248, 33, 31, 26], [53, 66, 28, 6, 32, 50], [122, 143, 1, 25, 351, 81, 18, 6, 38, 109, 6, 32], [42, 41, 9, 23, 250, 6, 4, 163, 129, 108, 265, 129, 129, 62, 129, 62, 129, 129, 129, 62, 129, 248, 62, 129, 62, 129, 62, 155, 129, 354, 43, 6, 129, 129, 129, 129, 42, 41, 55, 63, 5, 195, 2, 6, 51], [1, 2, 134, 19, 40, 352, 363], [54, 162, 3, 466, 2]]\n"
     ]
    }
   ],
   "source": [
    "# vectorize words tfidf or other way\n",
    "seq = tkn.texts_to_sequences(X_train)\n",
    "print(seq)"
   ]
  },
  {
   "cell_type": "code",
   "execution_count": 11,
   "id": "7d60d188",
   "metadata": {},
   "outputs": [],
   "source": [
    "#equalizaion of lenth of sentences\n",
    "from tensorflow.keras.preprocessing.sequence import pad_sequences\n",
    "max_len = 100\n",
    "padded_docs = pad_sequences(seq,padding= 'pre' , maxlen =max_len)"
   ]
  },
  {
   "cell_type": "code",
   "execution_count": 12,
   "id": "b44e3359",
   "metadata": {},
   "outputs": [
    {
     "name": "stdout",
     "output_type": "stream",
     "text": [
      "[[  0   0   0 ...  20  26 146]\n",
      " [  0   0   0 ... 411 159 412]\n",
      " [  0   0   0 ...  98  78 147]\n",
      " ...\n",
      " [  0   0   0 ...   2   6  51]\n",
      " [  0   0   0 ...  40 352 363]\n",
      " [  0   0   0 ...   3 466   2]]\n"
     ]
    }
   ],
   "source": [
    "print(padded_docs)"
   ]
  },
  {
   "cell_type": "code",
   "execution_count": 13,
   "id": "c9cbd895",
   "metadata": {},
   "outputs": [],
   "source": [
    "# end of preprocessing"
   ]
  },
  {
   "cell_type": "code",
   "execution_count": 14,
   "id": "ace804c3",
   "metadata": {},
   "outputs": [
    {
     "name": "stdout",
     "output_type": "stream",
     "text": [
      "Model: \"sequential\"\n",
      "_________________________________________________________________\n",
      " Layer (type)                Output Shape              Param #   \n",
      "=================================================================\n",
      " embedding (Embedding)       (None, 100, 30)           15000     \n",
      "                                                                 \n",
      " lstm (LSTM)                 (None, 256)               293888    \n",
      "                                                                 \n",
      " dense (Dense)               (None, 1)                 257       \n",
      "                                                                 \n",
      "=================================================================\n",
      "Total params: 309145 (1.18 MB)\n",
      "Trainable params: 309145 (1.18 MB)\n",
      "Non-trainable params: 0 (0.00 Byte)\n",
      "_________________________________________________________________\n"
     ]
    }
   ],
   "source": [
    "# create model\n",
    "from tensorflow.keras.models import Sequential # layer model\n",
    "from keras.layers import LSTM, Activation, Dense, Dropout, Input, Embedding\n",
    "\n",
    "embedding_vector_feature = 30 # every vector has 30 feature\n",
    "model = Sequential()\n",
    "model.add(Embedding(max_words , embedding_vector_feature, input_length= max_len))\n",
    "model.add(LSTM(256))\n",
    "model.add(Dense(1 , activation= 'sigmoid')) # for classification to output classified hame of spam\n",
    "model.compile(loss= 'binary_crossentropy' , optimizer='adam', metrics=['accuracy'])\n",
    "model.summary()"
   ]
  },
  {
   "cell_type": "code",
   "execution_count": 15,
   "id": "e29c537d",
   "metadata": {},
   "outputs": [
    {
     "data": {
      "text/plain": [
       "4457"
      ]
     },
     "execution_count": 15,
     "metadata": {},
     "output_type": "execute_result"
    }
   ],
   "source": [
    "len(padded_docs)"
   ]
  },
  {
   "cell_type": "code",
   "execution_count": 16,
   "id": "d2e3e59e",
   "metadata": {},
   "outputs": [
    {
     "data": {
      "text/plain": [
       "4457"
      ]
     },
     "execution_count": 16,
     "metadata": {},
     "output_type": "execute_result"
    }
   ],
   "source": [
    "len(Y_train)"
   ]
  },
  {
   "cell_type": "code",
   "execution_count": 17,
   "id": "a59b659e",
   "metadata": {},
   "outputs": [
    {
     "data": {
      "text/plain": [
       "5461    Ok i thk i got it. Then u wan me 2 come now or...\n",
       "5249        K I'm leaving soon, be there a little after 9\n",
       "3654    It has issues right now. Ill fix for her by to...\n",
       "1708    Was doing my test earlier. I appreciate you. W...\n",
       "2898    Ü collecting ur laptop then going to configure...\n",
       "                              ...                        \n",
       "4043                              What time do u get out?\n",
       "1241    Oh yes I can speak txt 2 u no! Hmm. Did u get ...\n",
       "3017    &lt;#&gt;  is fast approaching. So, Wish u a v...\n",
       "69                     I plane to give on this month end.\n",
       "2138                         Then why you came to hostel.\n",
       "Name: Message, Length: 4457, dtype: object"
      ]
     },
     "execution_count": 17,
     "metadata": {},
     "output_type": "execute_result"
    }
   ],
   "source": [
    "X_train"
   ]
  },
  {
   "cell_type": "code",
   "execution_count": 18,
   "id": "9212c214",
   "metadata": {},
   "outputs": [
    {
     "data": {
      "text/plain": [
       "array([0, 0, 0, ..., 0, 0, 0])"
      ]
     },
     "execution_count": 18,
     "metadata": {},
     "output_type": "execute_result"
    }
   ],
   "source": [
    "Y_train"
   ]
  },
  {
   "cell_type": "code",
   "execution_count": 19,
   "id": "5cf701ec",
   "metadata": {},
   "outputs": [
    {
     "name": "stdout",
     "output_type": "stream",
     "text": [
      "Epoch 1/10\n",
      "28/28 [==============================] - 8s 232ms/step - loss: 0.4653 - accuracy: 0.8525 - val_loss: 0.3644 - val_accuracy: 0.8688\n",
      "Epoch 2/10\n",
      "28/28 [==============================] - 7s 237ms/step - loss: 0.2619 - accuracy: 0.9063 - val_loss: 0.1134 - val_accuracy: 0.9686\n",
      "Epoch 3/10\n",
      "28/28 [==============================] - 7s 237ms/step - loss: 0.0981 - accuracy: 0.9717 - val_loss: 0.0816 - val_accuracy: 0.9776\n",
      "Epoch 4/10\n",
      "28/28 [==============================] - 7s 236ms/step - loss: 0.0626 - accuracy: 0.9801 - val_loss: 0.0732 - val_accuracy: 0.9798\n",
      "Epoch 5/10\n",
      "28/28 [==============================] - 7s 234ms/step - loss: 0.0576 - accuracy: 0.9835 - val_loss: 0.0593 - val_accuracy: 0.9832\n",
      "Epoch 6/10\n",
      "28/28 [==============================] - 7s 235ms/step - loss: 0.0438 - accuracy: 0.9885 - val_loss: 0.0574 - val_accuracy: 0.9854\n",
      "Epoch 7/10\n",
      "28/28 [==============================] - 7s 234ms/step - loss: 0.0394 - accuracy: 0.9891 - val_loss: 0.0664 - val_accuracy: 0.9854\n",
      "Epoch 8/10\n",
      "28/28 [==============================] - 7s 234ms/step - loss: 0.0347 - accuracy: 0.9916 - val_loss: 0.0564 - val_accuracy: 0.9854\n",
      "Epoch 9/10\n",
      "28/28 [==============================] - 6s 229ms/step - loss: 0.0310 - accuracy: 0.9916 - val_loss: 0.0562 - val_accuracy: 0.9843\n",
      "Epoch 10/10\n",
      "28/28 [==============================] - 7s 241ms/step - loss: 0.0274 - accuracy: 0.9933 - val_loss: 0.0578 - val_accuracy: 0.9854\n"
     ]
    },
    {
     "data": {
      "text/plain": [
       "<keras.src.callbacks.History at 0x287f4c034d0>"
      ]
     },
     "execution_count": 19,
     "metadata": {},
     "output_type": "execute_result"
    }
   ],
   "source": [
    "# fit our data on the model\n",
    "model.fit(padded_docs, Y_train, batch_size=128, epochs=10, validation_split=0.2)"
   ]
  },
  {
   "cell_type": "code",
   "execution_count": 20,
   "id": "12a45609",
   "metadata": {},
   "outputs": [],
   "source": [
    "# evaluate how model fit on the X_test\n",
    "text_seq= tkn.texts_to_sequences(X_test) # vectorization of X_test\n",
    "test_padded = pad_sequences(text_seq, maxlen= max_len)"
   ]
  },
  {
   "cell_type": "code",
   "execution_count": 21,
   "id": "9a8cc4ba",
   "metadata": {},
   "outputs": [
    {
     "name": "stdout",
     "output_type": "stream",
     "text": [
      "35/35 [==============================] - 2s 43ms/step - loss: 0.0712 - accuracy: 0.9812\n",
      "[0.07122153043746948, 0.9811659455299377]\n"
     ]
    }
   ],
   "source": [
    "accr = model.evaluate(test_padded, Y_test)\n",
    "print(accr)"
   ]
  },
  {
   "cell_type": "markdown",
   "id": "f42245e8",
   "metadata": {},
   "source": [
    "### 1: save model"
   ]
  },
  {
   "cell_type": "code",
   "execution_count": 22,
   "id": "40226342",
   "metadata": {},
   "outputs": [
    {
     "name": "stdout",
     "output_type": "stream",
     "text": [
      "INFO:tensorflow:Assets written to: Sepide_Model\\assets\n"
     ]
    },
    {
     "name": "stderr",
     "output_type": "stream",
     "text": [
      "INFO:tensorflow:Assets written to: Sepide_Model\\assets\n"
     ]
    }
   ],
   "source": [
    "model.save('Sepide_Model')"
   ]
  },
  {
   "cell_type": "code",
   "execution_count": 23,
   "id": "cf9a2aaa",
   "metadata": {},
   "outputs": [],
   "source": [
    "from tensorflow.keras.models import load_model\n",
    "new_model = load_model('Sepide_Model')"
   ]
  },
  {
   "cell_type": "code",
   "execution_count": 24,
   "id": "e661a9c9",
   "metadata": {},
   "outputs": [
    {
     "name": "stdout",
     "output_type": "stream",
     "text": [
      "Model: \"sequential\"\n",
      "_________________________________________________________________\n",
      " Layer (type)                Output Shape              Param #   \n",
      "=================================================================\n",
      " embedding (Embedding)       (None, 100, 30)           15000     \n",
      "                                                                 \n",
      " lstm (LSTM)                 (None, 256)               293888    \n",
      "                                                                 \n",
      " dense (Dense)               (None, 1)                 257       \n",
      "                                                                 \n",
      "=================================================================\n",
      "Total params: 309145 (1.18 MB)\n",
      "Trainable params: 309145 (1.18 MB)\n",
      "Non-trainable params: 0 (0.00 Byte)\n",
      "_________________________________________________________________\n"
     ]
    }
   ],
   "source": [
    "new_model.summary()"
   ]
  },
  {
   "cell_type": "code",
   "execution_count": 25,
   "id": "45580b3a",
   "metadata": {},
   "outputs": [
    {
     "data": {
      "text/plain": [
       "[array([[ 0.00166215,  0.00576804,  0.02362509, ...,  0.01653916,\n",
       "         -0.00394378,  0.00022278],\n",
       "        [ 0.0350718 , -0.05756317,  0.01059158, ...,  0.07041446,\n",
       "          0.10414133,  0.08582371],\n",
       "        [-0.00638549, -0.00298154, -0.00139119, ...,  0.02525078,\n",
       "         -0.03468129, -0.05120867],\n",
       "        ...,\n",
       "        [ 0.08662044, -0.03115304,  0.03656643, ...,  0.06071164,\n",
       "          0.03578808,  0.08421206],\n",
       "        [-0.08994425,  0.02802845, -0.01087677, ..., -0.03115414,\n",
       "         -0.0828443 , -0.05774138],\n",
       "        [ 0.01379337, -0.0479677 ,  0.05257615, ...,  0.07244608,\n",
       "         -0.0132877 , -0.00614694]], dtype=float32),\n",
       " array([[-0.01835019,  0.12718605,  0.01142122, ...,  0.08917464,\n",
       "         -0.02547096,  0.11287908],\n",
       "        [-0.04183782, -0.06635438,  0.04193971, ..., -0.0935513 ,\n",
       "         -0.00398847, -0.12024967],\n",
       "        [ 0.08559032,  0.09090254, -0.04169784, ...,  0.08287884,\n",
       "         -0.10187303, -0.03009956],\n",
       "        ...,\n",
       "        [-0.05884194, -0.00781036, -0.07698102, ...,  0.04084822,\n",
       "         -0.02066583,  0.07284088],\n",
       "        [ 0.08653469,  0.01319644, -0.0810678 , ...,  0.13594733,\n",
       "         -0.12413657,  0.07766347],\n",
       "        [-0.02150005,  0.05391978, -0.03322335, ...,  0.10761574,\n",
       "          0.02069931,  0.10568298]], dtype=float32),\n",
       " array([[ 0.07631594,  0.00899232, -0.03532948, ..., -0.01144562,\n",
       "          0.01129922, -0.03203916],\n",
       "        [ 0.00489784, -0.01394251,  0.05633289, ...,  0.01489926,\n",
       "          0.02945709, -0.00323446],\n",
       "        [-0.01101733,  0.02097962, -0.001178  , ...,  0.07152105,\n",
       "         -0.00770927,  0.00260189],\n",
       "        ...,\n",
       "        [ 0.03201957,  0.00023376, -0.02687722, ...,  0.01177291,\n",
       "          0.01774296,  0.01033559],\n",
       "        [-0.06007911, -0.01569094, -0.01819348, ...,  0.01479294,\n",
       "         -0.011899  ,  0.00110053],\n",
       "        [ 0.02733975, -0.01121725,  0.01211121, ...,  0.04652024,\n",
       "         -0.04801276, -0.03352316]], dtype=float32),\n",
       " array([0.02315876, 0.0240481 , 0.00824351, ..., 0.0216995 , 0.00551048,\n",
       "        0.02292403], dtype=float32),\n",
       " array([[ 0.0908205 ],\n",
       "        [ 0.16695216],\n",
       "        [ 0.00653442],\n",
       "        [-0.03757856],\n",
       "        [-0.17071173],\n",
       "        [-0.13910249],\n",
       "        [-0.08973759],\n",
       "        [-0.16952065],\n",
       "        [ 0.15333302],\n",
       "        [-0.15218511],\n",
       "        [-0.05923903],\n",
       "        [-0.02042325],\n",
       "        [-0.1309854 ],\n",
       "        [ 0.047105  ],\n",
       "        [-0.06402202],\n",
       "        [-0.01551052],\n",
       "        [-0.18093823],\n",
       "        [ 0.0597335 ],\n",
       "        [-0.15868576],\n",
       "        [ 0.09524757],\n",
       "        [ 0.08852481],\n",
       "        [ 0.16055574],\n",
       "        [ 0.1704882 ],\n",
       "        [-0.07654788],\n",
       "        [-0.0398222 ],\n",
       "        [-0.16977979],\n",
       "        [ 0.11960303],\n",
       "        [ 0.13527896],\n",
       "        [-0.07555609],\n",
       "        [-0.10846355],\n",
       "        [-0.16269724],\n",
       "        [ 0.12620078],\n",
       "        [ 0.0065871 ],\n",
       "        [ 0.17477638],\n",
       "        [-0.03111255],\n",
       "        [-0.05228353],\n",
       "        [-0.06826159],\n",
       "        [-0.1615093 ],\n",
       "        [ 0.13752721],\n",
       "        [ 0.07270136],\n",
       "        [ 0.01747549],\n",
       "        [-0.02782431],\n",
       "        [ 0.12494063],\n",
       "        [-0.08638714],\n",
       "        [-0.040965  ],\n",
       "        [ 0.00902146],\n",
       "        [ 0.17284551],\n",
       "        [ 0.09482247],\n",
       "        [-0.00792267],\n",
       "        [ 0.0344344 ],\n",
       "        [-0.11569186],\n",
       "        [-0.04080701],\n",
       "        [-0.12290037],\n",
       "        [ 0.08243299],\n",
       "        [ 0.10434854],\n",
       "        [-0.13822521],\n",
       "        [ 0.1082024 ],\n",
       "        [-0.04385109],\n",
       "        [ 0.11740255],\n",
       "        [-0.17600714],\n",
       "        [-0.09318078],\n",
       "        [-0.08493561],\n",
       "        [ 0.13930076],\n",
       "        [-0.00697024],\n",
       "        [-0.06492439],\n",
       "        [-0.18222098],\n",
       "        [ 0.13698319],\n",
       "        [-0.19426462],\n",
       "        [-0.13489184],\n",
       "        [-0.16195732],\n",
       "        [ 0.12459879],\n",
       "        [ 0.07123828],\n",
       "        [ 0.02931793],\n",
       "        [ 0.11866039],\n",
       "        [-0.11906747],\n",
       "        [ 0.1396621 ],\n",
       "        [-0.04463254],\n",
       "        [ 0.06138701],\n",
       "        [ 0.1819813 ],\n",
       "        [ 0.05487932],\n",
       "        [-0.02257477],\n",
       "        [-0.09369395],\n",
       "        [ 0.08425522],\n",
       "        [ 0.18012506],\n",
       "        [-0.15798719],\n",
       "        [-0.19147502],\n",
       "        [ 0.11525725],\n",
       "        [-0.07936209],\n",
       "        [ 0.15430169],\n",
       "        [ 0.00980221],\n",
       "        [ 0.10273756],\n",
       "        [-0.06059932],\n",
       "        [-0.17034248],\n",
       "        [ 0.05898342],\n",
       "        [ 0.1791042 ],\n",
       "        [-0.01530903],\n",
       "        [-0.06379552],\n",
       "        [-0.04366389],\n",
       "        [-0.03696816],\n",
       "        [-0.1724836 ],\n",
       "        [-0.08659185],\n",
       "        [ 0.14910816],\n",
       "        [-0.1147099 ],\n",
       "        [-0.18731567],\n",
       "        [ 0.07561761],\n",
       "        [-0.074183  ],\n",
       "        [-0.05205012],\n",
       "        [ 0.11339036],\n",
       "        [ 0.00853587],\n",
       "        [-0.14625336],\n",
       "        [-0.16393946],\n",
       "        [ 0.06010426],\n",
       "        [-0.01940602],\n",
       "        [-0.13138519],\n",
       "        [-0.04569918],\n",
       "        [-0.07182892],\n",
       "        [-0.04006114],\n",
       "        [ 0.15896451],\n",
       "        [-0.05421083],\n",
       "        [-0.17929947],\n",
       "        [ 0.0044087 ],\n",
       "        [ 0.11884832],\n",
       "        [ 0.14095981],\n",
       "        [-0.17929584],\n",
       "        [-0.04356334],\n",
       "        [-0.09346975],\n",
       "        [-0.12981147],\n",
       "        [ 0.1718235 ],\n",
       "        [ 0.07524706],\n",
       "        [ 0.1137014 ],\n",
       "        [-0.11908679],\n",
       "        [-0.13473876],\n",
       "        [-0.07846114],\n",
       "        [-0.18047349],\n",
       "        [ 0.10698894],\n",
       "        [ 0.02306999],\n",
       "        [ 0.15587594],\n",
       "        [-0.17515315],\n",
       "        [-0.17285632],\n",
       "        [-0.05000038],\n",
       "        [ 0.13274643],\n",
       "        [ 0.15309858],\n",
       "        [ 0.00777116],\n",
       "        [-0.10178877],\n",
       "        [-0.1799485 ],\n",
       "        [ 0.01409206],\n",
       "        [-0.06423581],\n",
       "        [-0.176943  ],\n",
       "        [-0.09139735],\n",
       "        [ 0.16793557],\n",
       "        [-0.17106704],\n",
       "        [-0.10147826],\n",
       "        [ 0.03502953],\n",
       "        [ 0.00988304],\n",
       "        [-0.0682177 ],\n",
       "        [-0.16726679],\n",
       "        [ 0.16957222],\n",
       "        [ 0.02674915],\n",
       "        [-0.16015099],\n",
       "        [-0.15213387],\n",
       "        [-0.01953365],\n",
       "        [ 0.09959716],\n",
       "        [ 0.17232037],\n",
       "        [ 0.12254322],\n",
       "        [-0.14098372],\n",
       "        [-0.02825814],\n",
       "        [-0.11412051],\n",
       "        [-0.06203007],\n",
       "        [-0.02028369],\n",
       "        [ 0.04645433],\n",
       "        [ 0.06664827],\n",
       "        [ 0.10986625],\n",
       "        [-0.01870718],\n",
       "        [ 0.06549228],\n",
       "        [-0.13704693],\n",
       "        [ 0.17789303],\n",
       "        [ 0.09247896],\n",
       "        [ 0.17315751],\n",
       "        [ 0.1583316 ],\n",
       "        [-0.01202537],\n",
       "        [ 0.06651761],\n",
       "        [ 0.0559994 ],\n",
       "        [-0.1184533 ],\n",
       "        [-0.0557786 ],\n",
       "        [-0.16167672],\n",
       "        [ 0.08788137],\n",
       "        [ 0.10378478],\n",
       "        [ 0.13146028],\n",
       "        [-0.04622038],\n",
       "        [-0.2072218 ],\n",
       "        [ 0.03132951],\n",
       "        [-0.13305463],\n",
       "        [-0.18254861],\n",
       "        [-0.1454932 ],\n",
       "        [ 0.16537778],\n",
       "        [ 0.10659252],\n",
       "        [-0.16535416],\n",
       "        [-0.16083916],\n",
       "        [ 0.03164249],\n",
       "        [-0.19219446],\n",
       "        [ 0.17075677],\n",
       "        [-0.04069332],\n",
       "        [-0.04747287],\n",
       "        [ 0.1551968 ],\n",
       "        [-0.06990209],\n",
       "        [-0.11110958],\n",
       "        [-0.19016516],\n",
       "        [ 0.03102662],\n",
       "        [ 0.17720225],\n",
       "        [ 0.05568216],\n",
       "        [ 0.12678565],\n",
       "        [-0.16872668],\n",
       "        [ 0.11712191],\n",
       "        [ 0.15468013],\n",
       "        [-0.1814353 ],\n",
       "        [ 0.01202193],\n",
       "        [-0.0344866 ],\n",
       "        [ 0.16682115],\n",
       "        [ 0.16319607],\n",
       "        [ 0.14888187],\n",
       "        [ 0.08172723],\n",
       "        [-0.04529337],\n",
       "        [ 0.11604715],\n",
       "        [-0.0541612 ],\n",
       "        [ 0.1378279 ],\n",
       "        [-0.03671525],\n",
       "        [-0.14002758],\n",
       "        [ 0.03484691],\n",
       "        [-0.17832111],\n",
       "        [ 0.12118841],\n",
       "        [-0.13120154],\n",
       "        [-0.00840034],\n",
       "        [ 0.1101551 ],\n",
       "        [ 0.16063109],\n",
       "        [-0.12467711],\n",
       "        [-0.12661923],\n",
       "        [ 0.1891966 ],\n",
       "        [-0.04870995],\n",
       "        [-0.15358849],\n",
       "        [ 0.13402897],\n",
       "        [ 0.0182041 ],\n",
       "        [ 0.02745752],\n",
       "        [-0.08813445],\n",
       "        [ 0.03878169],\n",
       "        [ 0.0867588 ],\n",
       "        [ 0.00186512],\n",
       "        [-0.18441254],\n",
       "        [-0.11942384],\n",
       "        [-0.04826882],\n",
       "        [-0.12077641],\n",
       "        [-0.03491934],\n",
       "        [ 0.02786616],\n",
       "        [-0.10692443],\n",
       "        [ 0.15205857],\n",
       "        [-0.08598966],\n",
       "        [ 0.17049178]], dtype=float32),\n",
       " array([-0.02022544], dtype=float32)]"
      ]
     },
     "execution_count": 25,
     "metadata": {},
     "output_type": "execute_result"
    }
   ],
   "source": [
    "new_model.get_weights()"
   ]
  },
  {
   "cell_type": "code",
   "execution_count": 26,
   "id": "d027e831",
   "metadata": {},
   "outputs": [
    {
     "data": {
      "text/plain": [
       "<keras.src.optimizers.adam.Adam at 0x28784e5bcd0>"
      ]
     },
     "execution_count": 26,
     "metadata": {},
     "output_type": "execute_result"
    }
   ],
   "source": [
    "new_model.optimizer"
   ]
  },
  {
   "cell_type": "markdown",
   "id": "4b9f9ab8",
   "metadata": {},
   "source": [
    "### 2 save model to Json"
   ]
  },
  {
   "cell_type": "code",
   "execution_count": 27,
   "id": "4ee4abdd",
   "metadata": {},
   "outputs": [],
   "source": [
    "json_string = model.to_json()"
   ]
  },
  {
   "cell_type": "code",
   "execution_count": 28,
   "id": "09c94085",
   "metadata": {},
   "outputs": [
    {
     "data": {
      "text/plain": [
       "'{\"class_name\": \"Sequential\", \"config\": {\"name\": \"sequential\", \"layers\": [{\"module\": \"keras.layers\", \"class_name\": \"InputLayer\", \"config\": {\"batch_input_shape\": [null, 100], \"dtype\": \"float32\", \"sparse\": false, \"ragged\": false, \"name\": \"embedding_input\"}, \"registered_name\": null}, {\"module\": \"keras.layers\", \"class_name\": \"Embedding\", \"config\": {\"name\": \"embedding\", \"trainable\": true, \"dtype\": \"float32\", \"batch_input_shape\": [null, 100], \"input_dim\": 500, \"output_dim\": 30, \"embeddings_initializer\": {\"module\": \"keras.initializers\", \"class_name\": \"RandomUniform\", \"config\": {\"minval\": -0.05, \"maxval\": 0.05, \"seed\": null}, \"registered_name\": null}, \"embeddings_regularizer\": null, \"activity_regularizer\": null, \"embeddings_constraint\": null, \"mask_zero\": false, \"input_length\": 100}, \"registered_name\": null, \"build_config\": {\"input_shape\": [null, 100]}}, {\"module\": \"keras.layers\", \"class_name\": \"LSTM\", \"config\": {\"name\": \"lstm\", \"trainable\": true, \"dtype\": \"float32\", \"return_sequences\": false, \"return_state\": false, \"go_backwards\": false, \"stateful\": false, \"unroll\": false, \"time_major\": false, \"units\": 256, \"activation\": \"tanh\", \"recurrent_activation\": \"sigmoid\", \"use_bias\": true, \"kernel_initializer\": {\"module\": \"keras.initializers\", \"class_name\": \"GlorotUniform\", \"config\": {\"seed\": null}, \"registered_name\": null}, \"recurrent_initializer\": {\"module\": \"keras.initializers\", \"class_name\": \"Orthogonal\", \"config\": {\"gain\": 1.0, \"seed\": null}, \"registered_name\": null}, \"bias_initializer\": {\"module\": \"keras.initializers\", \"class_name\": \"Zeros\", \"config\": {}, \"registered_name\": null}, \"unit_forget_bias\": true, \"kernel_regularizer\": null, \"recurrent_regularizer\": null, \"bias_regularizer\": null, \"activity_regularizer\": null, \"kernel_constraint\": null, \"recurrent_constraint\": null, \"bias_constraint\": null, \"dropout\": 0.0, \"recurrent_dropout\": 0.0, \"implementation\": 2}, \"registered_name\": null, \"build_config\": {\"input_shape\": [null, 100, 30]}}, {\"module\": \"keras.layers\", \"class_name\": \"Dense\", \"config\": {\"name\": \"dense\", \"trainable\": true, \"dtype\": \"float32\", \"units\": 1, \"activation\": \"sigmoid\", \"use_bias\": true, \"kernel_initializer\": {\"module\": \"keras.initializers\", \"class_name\": \"GlorotUniform\", \"config\": {\"seed\": null}, \"registered_name\": null}, \"bias_initializer\": {\"module\": \"keras.initializers\", \"class_name\": \"Zeros\", \"config\": {}, \"registered_name\": null}, \"kernel_regularizer\": null, \"bias_regularizer\": null, \"activity_regularizer\": null, \"kernel_constraint\": null, \"bias_constraint\": null}, \"registered_name\": null, \"build_config\": {\"input_shape\": [null, 256]}}]}, \"keras_version\": \"2.14.0\", \"backend\": \"tensorflow\"}'"
      ]
     },
     "execution_count": 28,
     "metadata": {},
     "output_type": "execute_result"
    }
   ],
   "source": [
    "json_string"
   ]
  },
  {
   "cell_type": "code",
   "execution_count": 29,
   "id": "d8dc67d5",
   "metadata": {},
   "outputs": [],
   "source": [
    "from tensorflow.keras.models import model_from_json\n",
    "model_arct = model_from_json(json_string)"
   ]
  },
  {
   "cell_type": "code",
   "execution_count": 30,
   "id": "63c47d4b",
   "metadata": {},
   "outputs": [
    {
     "name": "stdout",
     "output_type": "stream",
     "text": [
      "Model: \"sequential\"\n",
      "_________________________________________________________________\n",
      " Layer (type)                Output Shape              Param #   \n",
      "=================================================================\n",
      " embedding (Embedding)       (None, 100, 30)           15000     \n",
      "                                                                 \n",
      " lstm (LSTM)                 (None, 256)               293888    \n",
      "                                                                 \n",
      " dense (Dense)               (None, 1)                 257       \n",
      "                                                                 \n",
      "=================================================================\n",
      "Total params: 309145 (1.18 MB)\n",
      "Trainable params: 309145 (1.18 MB)\n",
      "Non-trainable params: 0 (0.00 Byte)\n",
      "_________________________________________________________________\n"
     ]
    }
   ],
   "source": [
    "model_arct.summary()"
   ]
  },
  {
   "cell_type": "code",
   "execution_count": 31,
   "id": "90577fc1",
   "metadata": {},
   "outputs": [
    {
     "data": {
      "text/plain": [
       "[array([[ 0.00900338,  0.04916557, -0.04818237, ..., -0.04034655,\n",
       "         -0.01114315, -0.01120211],\n",
       "        [ 0.02400832,  0.04740128,  0.03758122, ...,  0.02882567,\n",
       "         -0.04416976,  0.01289797],\n",
       "        [ 0.0339228 , -0.03807089, -0.02384043, ...,  0.01562886,\n",
       "          0.02968464,  0.03250815],\n",
       "        ...,\n",
       "        [ 0.00722939,  0.00906054,  0.03601134, ..., -0.03514921,\n",
       "         -0.03918846, -0.03340393],\n",
       "        [-0.00376501,  0.03788872, -0.00351789, ...,  0.00481261,\n",
       "          0.04212848,  0.02051583],\n",
       "        [-0.01254987, -0.0358191 , -0.01635702, ...,  0.03650359,\n",
       "          0.00913533,  0.04810439]], dtype=float32),\n",
       " array([[ 0.01711277, -0.06652977,  0.07279979, ..., -0.06748269,\n",
       "         -0.03077625,  0.022511  ],\n",
       "        [ 0.05220085,  0.0603056 ,  0.04933529, ...,  0.00568628,\n",
       "          0.01338322, -0.0650957 ],\n",
       "        [ 0.01134597, -0.04985815, -0.05994044, ..., -0.05634044,\n",
       "         -0.04047591,  0.06267247],\n",
       "        ...,\n",
       "        [-0.03764319,  0.06275219, -0.00749385, ...,  0.007139  ,\n",
       "         -0.07510473,  0.0065085 ],\n",
       "        [ 0.0652377 ,  0.05718842,  0.05004507, ..., -0.01190323,\n",
       "          0.01154147, -0.05553723],\n",
       "        [ 0.0103956 , -0.03665243,  0.01272182, ...,  0.06205568,\n",
       "         -0.02100951, -0.04131616]], dtype=float32),\n",
       " array([[-0.01260734,  0.04917443,  0.01490583, ..., -0.01955014,\n",
       "         -0.04066926,  0.00186071],\n",
       "        [ 0.0241459 ,  0.03123975,  0.05672717, ...,  0.03642493,\n",
       "          0.01096096,  0.0180894 ],\n",
       "        [ 0.02781686,  0.01273432,  0.00821233, ...,  0.06495868,\n",
       "         -0.04404989, -0.00107329],\n",
       "        ...,\n",
       "        [ 0.03496786, -0.00652587,  0.03113415, ...,  0.00533702,\n",
       "         -0.02690434,  0.00155037],\n",
       "        [ 0.01496558,  0.05165344,  0.02942502, ...,  0.01637857,\n",
       "          0.02067864,  0.01551806],\n",
       "        [ 0.00856337, -0.01375267,  0.00459439, ...,  0.00688689,\n",
       "         -0.02398496, -0.0576345 ]], dtype=float32),\n",
       " array([0., 0., 0., ..., 0., 0., 0.], dtype=float32),\n",
       " array([[ 0.11116849],\n",
       "        [-0.11240137],\n",
       "        [ 0.05475914],\n",
       "        [-0.00233926],\n",
       "        [ 0.03117873],\n",
       "        [ 0.03862704],\n",
       "        [ 0.00052357],\n",
       "        [-0.11464243],\n",
       "        [ 0.09026843],\n",
       "        [-0.1312311 ],\n",
       "        [ 0.07423669],\n",
       "        [ 0.03094216],\n",
       "        [ 0.12936123],\n",
       "        [ 0.1311246 ],\n",
       "        [ 0.10374357],\n",
       "        [-0.00594921],\n",
       "        [ 0.11971374],\n",
       "        [ 0.14452665],\n",
       "        [-0.06245258],\n",
       "        [-0.09249433],\n",
       "        [ 0.12845074],\n",
       "        [ 0.07361922],\n",
       "        [-0.02339441],\n",
       "        [ 0.03163297],\n",
       "        [ 0.13795508],\n",
       "        [-0.12700291],\n",
       "        [ 0.08140354],\n",
       "        [-0.02876355],\n",
       "        [-0.03326813],\n",
       "        [ 0.00568175],\n",
       "        [ 0.14797358],\n",
       "        [ 0.15262918],\n",
       "        [-0.12408231],\n",
       "        [ 0.0364325 ],\n",
       "        [ 0.08180033],\n",
       "        [ 0.08680341],\n",
       "        [-0.12093107],\n",
       "        [-0.08620148],\n",
       "        [-0.11212538],\n",
       "        [-0.14675473],\n",
       "        [-0.13358839],\n",
       "        [ 0.0765875 ],\n",
       "        [-0.04481701],\n",
       "        [ 0.10603781],\n",
       "        [-0.12146167],\n",
       "        [ 0.13184981],\n",
       "        [-0.08094855],\n",
       "        [-0.02645089],\n",
       "        [-0.07347015],\n",
       "        [ 0.0300817 ],\n",
       "        [-0.0612776 ],\n",
       "        [ 0.1461551 ],\n",
       "        [-0.08170299],\n",
       "        [ 0.1408117 ],\n",
       "        [-0.02800368],\n",
       "        [-0.02272542],\n",
       "        [-0.14565518],\n",
       "        [ 0.05312045],\n",
       "        [ 0.09173405],\n",
       "        [-0.01741907],\n",
       "        [ 0.06380458],\n",
       "        [ 0.05399202],\n",
       "        [ 0.0201657 ],\n",
       "        [ 0.05572587],\n",
       "        [ 0.07297297],\n",
       "        [-0.04314444],\n",
       "        [ 0.12259372],\n",
       "        [ 0.12724014],\n",
       "        [ 0.1306137 ],\n",
       "        [-0.00909567],\n",
       "        [ 0.06504518],\n",
       "        [ 0.13342799],\n",
       "        [-0.10077646],\n",
       "        [-0.07814273],\n",
       "        [ 0.0214241 ],\n",
       "        [ 0.15128069],\n",
       "        [ 0.04598558],\n",
       "        [-0.13334788],\n",
       "        [ 0.00889596],\n",
       "        [-0.13937669],\n",
       "        [ 0.10852341],\n",
       "        [-0.10798718],\n",
       "        [ 0.05811435],\n",
       "        [-0.11428829],\n",
       "        [ 0.1135156 ],\n",
       "        [ 0.00229457],\n",
       "        [-0.12411557],\n",
       "        [ 0.11750691],\n",
       "        [ 0.11740513],\n",
       "        [ 0.06100681],\n",
       "        [-0.1337395 ],\n",
       "        [ 0.12245937],\n",
       "        [ 0.01613021],\n",
       "        [ 0.07105938],\n",
       "        [-0.13786441],\n",
       "        [ 0.07283822],\n",
       "        [-0.05785876],\n",
       "        [-0.08651143],\n",
       "        [-0.04282408],\n",
       "        [ 0.06050767],\n",
       "        [-0.06647557],\n",
       "        [-0.00839087],\n",
       "        [ 0.04259345],\n",
       "        [-0.1120993 ],\n",
       "        [-0.00432552],\n",
       "        [-0.03516707],\n",
       "        [-0.0115958 ],\n",
       "        [-0.13586831],\n",
       "        [ 0.11841778],\n",
       "        [-0.12846303],\n",
       "        [ 0.07927863],\n",
       "        [-0.04823513],\n",
       "        [-0.12928112],\n",
       "        [ 0.05278286],\n",
       "        [-0.14507127],\n",
       "        [ 0.01468423],\n",
       "        [ 0.11010681],\n",
       "        [-0.13723058],\n",
       "        [ 0.08060418],\n",
       "        [-0.02633391],\n",
       "        [-0.11882019],\n",
       "        [ 0.00904791],\n",
       "        [ 0.01169623],\n",
       "        [ 0.14365678],\n",
       "        [ 0.04046547],\n",
       "        [-0.12342036],\n",
       "        [ 0.00115855],\n",
       "        [ 0.06478743],\n",
       "        [ 0.0667984 ],\n",
       "        [ 0.05343907],\n",
       "        [ 0.01660398],\n",
       "        [ 0.11415304],\n",
       "        [ 0.03494532],\n",
       "        [-0.08149756],\n",
       "        [-0.04133143],\n",
       "        [ 0.07226805],\n",
       "        [ 0.04953969],\n",
       "        [ 0.00076228],\n",
       "        [ 0.06649265],\n",
       "        [-0.14134867],\n",
       "        [-0.04879362],\n",
       "        [ 0.11285593],\n",
       "        [-0.10587189],\n",
       "        [-0.01749827],\n",
       "        [ 0.10522933],\n",
       "        [ 0.0018933 ],\n",
       "        [-0.1510785 ],\n",
       "        [ 0.10327695],\n",
       "        [-0.03597063],\n",
       "        [-0.0781023 ],\n",
       "        [-0.10037526],\n",
       "        [-0.11077252],\n",
       "        [ 0.09704095],\n",
       "        [ 0.13964982],\n",
       "        [-0.0892157 ],\n",
       "        [ 0.00970006],\n",
       "        [ 0.12164663],\n",
       "        [-0.09466539],\n",
       "        [ 0.07572646],\n",
       "        [-0.05201279],\n",
       "        [ 0.09609684],\n",
       "        [ 0.08563519],\n",
       "        [ 0.05771759],\n",
       "        [-0.14586385],\n",
       "        [ 0.07993206],\n",
       "        [-0.0612176 ],\n",
       "        [ 0.11550145],\n",
       "        [-0.02675128],\n",
       "        [ 0.03190117],\n",
       "        [ 0.1360823 ],\n",
       "        [ 0.01784734],\n",
       "        [-0.10428485],\n",
       "        [-0.10534665],\n",
       "        [ 0.10417716],\n",
       "        [-0.07615785],\n",
       "        [-0.01650886],\n",
       "        [-0.01746345],\n",
       "        [ 0.1416478 ],\n",
       "        [ 0.02179933],\n",
       "        [-0.14279024],\n",
       "        [-0.03933381],\n",
       "        [ 0.13719146],\n",
       "        [ 0.05702618],\n",
       "        [ 0.08942518],\n",
       "        [-0.14545643],\n",
       "        [ 0.04971553],\n",
       "        [ 0.14355327],\n",
       "        [-0.03069852],\n",
       "        [-0.12720206],\n",
       "        [ 0.11884092],\n",
       "        [ 0.10812415],\n",
       "        [-0.02229436],\n",
       "        [ 0.05067427],\n",
       "        [ 0.07808582],\n",
       "        [-0.03167166],\n",
       "        [ 0.07362428],\n",
       "        [-0.02429669],\n",
       "        [ 0.11555035],\n",
       "        [-0.0626701 ],\n",
       "        [ 0.01496546],\n",
       "        [-0.13506566],\n",
       "        [ 0.08695306],\n",
       "        [ 0.05942003],\n",
       "        [ 0.12920757],\n",
       "        [-0.1003415 ],\n",
       "        [-0.09553216],\n",
       "        [ 0.1288303 ],\n",
       "        [-0.01569729],\n",
       "        [ 0.0094585 ],\n",
       "        [ 0.02391528],\n",
       "        [ 0.07171758],\n",
       "        [ 0.04825085],\n",
       "        [-0.13449377],\n",
       "        [-0.05580579],\n",
       "        [ 0.1521795 ],\n",
       "        [ 0.14659183],\n",
       "        [-0.14967929],\n",
       "        [-0.06563026],\n",
       "        [-0.04255199],\n",
       "        [-0.00451878],\n",
       "        [ 0.13428085],\n",
       "        [ 0.0571305 ],\n",
       "        [ 0.08970217],\n",
       "        [-0.05678075],\n",
       "        [-0.14552838],\n",
       "        [ 0.04705173],\n",
       "        [-0.15124178],\n",
       "        [ 0.14298744],\n",
       "        [ 0.04884182],\n",
       "        [-0.07096739],\n",
       "        [-0.14129582],\n",
       "        [ 0.08262636],\n",
       "        [ 0.04586023],\n",
       "        [-0.04496527],\n",
       "        [-0.10380468],\n",
       "        [ 0.10888167],\n",
       "        [-0.05179844],\n",
       "        [-0.05601253],\n",
       "        [-0.07705762],\n",
       "        [ 0.11525057],\n",
       "        [ 0.13929541],\n",
       "        [-0.09349212],\n",
       "        [ 0.12152149],\n",
       "        [ 0.1467125 ],\n",
       "        [ 0.07408923],\n",
       "        [-0.0674836 ],\n",
       "        [ 0.05880512],\n",
       "        [-0.02834862],\n",
       "        [-0.02596857],\n",
       "        [ 0.06143411],\n",
       "        [ 0.01777852],\n",
       "        [-0.07455621],\n",
       "        [ 0.08373389],\n",
       "        [ 0.12532796],\n",
       "        [ 0.10803862],\n",
       "        [ 0.1206276 ]], dtype=float32),\n",
       " array([0.], dtype=float32)]"
      ]
     },
     "execution_count": 31,
     "metadata": {},
     "output_type": "execute_result"
    }
   ],
   "source": [
    "model_arct.get_weights()"
   ]
  },
  {
   "cell_type": "markdown",
   "id": "24bd4eda",
   "metadata": {},
   "source": [
    "### 3 save wights"
   ]
  },
  {
   "cell_type": "code",
   "execution_count": 32,
   "id": "868641fb",
   "metadata": {},
   "outputs": [],
   "source": [
    "model.save_weights('my_model_weights')"
   ]
  },
  {
   "cell_type": "code",
   "execution_count": 33,
   "id": "d1843a3d",
   "metadata": {},
   "outputs": [],
   "source": [
    "model2 = Sequential()\n",
    "model2.add(Embedding(max_words , embedding_vector_feature, input_length= max_len))\n",
    "model2.add(LSTM(256))\n",
    "model2.add(Dense(1 , activation= 'sigmoid'))"
   ]
  },
  {
   "cell_type": "code",
   "execution_count": 34,
   "id": "3356fe9e",
   "metadata": {},
   "outputs": [
    {
     "data": {
      "text/plain": [
       "<tensorflow.python.checkpoint.checkpoint.CheckpointLoadStatus at 0x287ffb0b4d0>"
      ]
     },
     "execution_count": 34,
     "metadata": {},
     "output_type": "execute_result"
    }
   ],
   "source": [
    "# give weight to the new models \n",
    "model2.load_weights('my_model_weights')"
   ]
  },
  {
   "cell_type": "code",
   "execution_count": null,
   "id": "8a8034af",
   "metadata": {},
   "outputs": [],
   "source": [
    " "
   ]
  }
 ],
 "metadata": {
  "kernelspec": {
   "display_name": "Python 3 (ipykernel)",
   "language": "python",
   "name": "python3"
  },
  "language_info": {
   "codemirror_mode": {
    "name": "ipython",
    "version": 3
   },
   "file_extension": ".py",
   "mimetype": "text/x-python",
   "name": "python",
   "nbconvert_exporter": "python",
   "pygments_lexer": "ipython3",
   "version": "3.11.4"
  }
 },
 "nbformat": 4,
 "nbformat_minor": 5
}
