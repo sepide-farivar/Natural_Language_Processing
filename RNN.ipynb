{
 "cells": [
  {
   "cell_type": "markdown",
   "id": "b8bd50bd",
   "metadata": {},
   "source": [
    "### implementing a Recurrent Neural Network (RNN) using Python and TensorFlow"
   ]
  },
  {
   "cell_type": "markdown",
   "id": "c3991b4d",
   "metadata": {},
   "source": [
    "create a simple RNN model to process sequences of numbers with the goal of predicting the next number in the sequence"
   ]
  },
  {
   "cell_type": "code",
   "execution_count": 2,
   "id": "bac57ed1",
   "metadata": {},
   "outputs": [],
   "source": [
    "import numpy as np\n",
    "import tensorflow as tf\n",
    "from tensorflow.keras.models import Sequential\n",
    "from tensorflow.keras.layers import SimpleRNN, Dense\n"
   ]
  },
  {
   "cell_type": "code",
   "execution_count": 6,
   "id": "1eee93ef",
   "metadata": {},
   "outputs": [],
   "source": [
    "# Function to generate sequences\n",
    "def generate_sequences(num_sequences, sequence_len):\n",
    "    X = []\n",
    "    y = []\n",
    "    for _ in range(num_sequences):\n",
    "        start = np.random.randint(0, 10)\n",
    "        \n",
    "        sequence = [start + i for i in range(sequence_len)]\n",
    "#         print(sequence)\n",
    "        X.append(sequence[:-1])  # all but the last as input\n",
    "        y.append(sequence[-1])   # last as target\n",
    "    return np.array(X), np.array(y)\n",
    "\n",
    "# Generate dataset\n",
    "X, y = generate_sequences(1000, 10)\n",
    "\n"
   ]
  },
  {
   "cell_type": "code",
   "execution_count": 7,
   "id": "d52f1d84",
   "metadata": {},
   "outputs": [],
   "source": [
    "# Reshape X for RNN input (batch_size, sequence_length, num_features)\n",
    "X = X.reshape((X.shape[0], X.shape[1], 1))\n"
   ]
  },
  {
   "cell_type": "code",
   "execution_count": 11,
   "id": "5a641bd2",
   "metadata": {},
   "outputs": [
    {
     "data": {
      "text/plain": [
       "(1000, 9, 1)"
      ]
     },
     "execution_count": 11,
     "metadata": {},
     "output_type": "execute_result"
    }
   ],
   "source": [
    "X.shape"
   ]
  },
  {
   "cell_type": "code",
   "execution_count": 20,
   "id": "c4498c96",
   "metadata": {},
   "outputs": [
    {
     "data": {
      "text/plain": [
       "array([[ 3],\n",
       "       [ 4],\n",
       "       [ 5],\n",
       "       [ 6],\n",
       "       [ 7],\n",
       "       [ 8],\n",
       "       [ 9],\n",
       "       [10],\n",
       "       [11]])"
      ]
     },
     "execution_count": 20,
     "metadata": {},
     "output_type": "execute_result"
    }
   ],
   "source": [
    "X[0]"
   ]
  },
  {
   "cell_type": "code",
   "execution_count": 21,
   "id": "c69be351",
   "metadata": {},
   "outputs": [
    {
     "data": {
      "text/plain": [
       "12"
      ]
     },
     "execution_count": 21,
     "metadata": {},
     "output_type": "execute_result"
    }
   ],
   "source": [
    "y[0]"
   ]
  },
  {
   "cell_type": "markdown",
   "id": "ea6582b8",
   "metadata": {},
   "source": [
    " ### Define the RNN Model"
   ]
  },
  {
   "cell_type": "code",
   "execution_count": 12,
   "id": "b69d7aff",
   "metadata": {},
   "outputs": [
    {
     "name": "stdout",
     "output_type": "stream",
     "text": [
      "Model: \"sequential\"\n",
      "_________________________________________________________________\n",
      " Layer (type)                Output Shape              Param #   \n",
      "=================================================================\n",
      " simple_rnn (SimpleRNN)      (None, 50)                2600      \n",
      "                                                                 \n",
      " dense (Dense)               (None, 1)                 51        \n",
      "                                                                 \n",
      "=================================================================\n",
      "Total params: 2651 (10.36 KB)\n",
      "Trainable params: 2651 (10.36 KB)\n",
      "Non-trainable params: 0 (0.00 Byte)\n",
      "_________________________________________________________________\n"
     ]
    }
   ],
   "source": [
    "model = Sequential([\n",
    "    SimpleRNN(50, input_shape=(None, 1)),  # 50 units, input shape=(sequence length, number of features)\n",
    "    Dense(1)  # Output layer with one unit\n",
    "])\n",
    "\n",
    "model.compile(optimizer='adam', loss='mse')\n",
    "model.summary()\n"
   ]
  },
  {
   "cell_type": "markdown",
   "id": "2611c942",
   "metadata": {},
   "source": [
    "### Train the Model"
   ]
  },
  {
   "cell_type": "code",
   "execution_count": 13,
   "id": "6ce7b9e3",
   "metadata": {},
   "outputs": [
    {
     "name": "stdout",
     "output_type": "stream",
     "text": [
      "Epoch 1/20\n",
      "100/100 [==============================] - 1s 1ms/step - loss: 64.4358\n",
      "Epoch 2/20\n",
      "100/100 [==============================] - 0s 1ms/step - loss: 8.4452\n",
      "Epoch 3/20\n",
      "100/100 [==============================] - 0s 1ms/step - loss: 3.1882\n",
      "Epoch 4/20\n",
      "100/100 [==============================] - 0s 1ms/step - loss: 1.3676\n",
      "Epoch 5/20\n",
      "100/100 [==============================] - 0s 1ms/step - loss: 0.6476\n",
      "Epoch 6/20\n",
      "100/100 [==============================] - 0s 1ms/step - loss: 0.3346\n",
      "Epoch 7/20\n",
      "100/100 [==============================] - 0s 1ms/step - loss: 0.1769\n",
      "Epoch 8/20\n",
      "100/100 [==============================] - 0s 1ms/step - loss: 0.0986\n",
      "Epoch 9/20\n",
      "100/100 [==============================] - 0s 1ms/step - loss: 0.0626\n",
      "Epoch 10/20\n",
      "100/100 [==============================] - 0s 1ms/step - loss: 0.0381\n",
      "Epoch 11/20\n",
      "100/100 [==============================] - 0s 1ms/step - loss: 0.0213\n",
      "Epoch 12/20\n",
      "100/100 [==============================] - 0s 1ms/step - loss: 0.0112\n",
      "Epoch 13/20\n",
      "100/100 [==============================] - 0s 1ms/step - loss: 0.0057\n",
      "Epoch 14/20\n",
      "100/100 [==============================] - 0s 1ms/step - loss: 0.0027\n",
      "Epoch 15/20\n",
      "100/100 [==============================] - 0s 1ms/step - loss: 0.0013\n",
      "Epoch 16/20\n",
      "100/100 [==============================] - 0s 1ms/step - loss: 6.8207e-04\n",
      "Epoch 17/20\n",
      "100/100 [==============================] - 0s 1ms/step - loss: 2.9072e-04\n",
      "Epoch 18/20\n",
      "100/100 [==============================] - 0s 1ms/step - loss: 1.7929e-04\n",
      "Epoch 19/20\n",
      "100/100 [==============================] - 0s 1ms/step - loss: 1.8534e-04\n",
      "Epoch 20/20\n",
      "100/100 [==============================] - 0s 1ms/step - loss: 1.5424e-04\n"
     ]
    },
    {
     "data": {
      "text/plain": [
       "<keras.src.callbacks.History at 0x2a6c6bbb7d0>"
      ]
     },
     "execution_count": 13,
     "metadata": {},
     "output_type": "execute_result"
    }
   ],
   "source": [
    "model.fit(X, y, epochs=20, batch_size=10)\n"
   ]
  },
  {
   "cell_type": "markdown",
   "id": "2d550e3c",
   "metadata": {},
   "source": [
    "### Test the Model"
   ]
  },
  {
   "cell_type": "code",
   "execution_count": 16,
   "id": "dc70df4a",
   "metadata": {},
   "outputs": [
    {
     "name": "stdout",
     "output_type": "stream",
     "text": [
      "1/1 [==============================] - 0s 105ms/step\n",
      "Predicted next number: 9.998552322387695\n"
     ]
    }
   ],
   "source": [
    "# Example sequence\n",
    "test_sequence = np.array([1, 2, 3, 4, 5, 6, 7, 8, 9]).reshape(1, 9, 1)\n",
    "predicted_value = model.predict(test_sequence)\n",
    "print(f\"Predicted next number: {predicted_value.flatten()[0]}\")\n"
   ]
  },
  {
   "cell_type": "code",
   "execution_count": null,
   "id": "93df4d2c",
   "metadata": {},
   "outputs": [],
   "source": []
  }
 ],
 "metadata": {
  "kernelspec": {
   "display_name": "Python 3 (ipykernel)",
   "language": "python",
   "name": "python3"
  },
  "language_info": {
   "codemirror_mode": {
    "name": "ipython",
    "version": 3
   },
   "file_extension": ".py",
   "mimetype": "text/x-python",
   "name": "python",
   "nbconvert_exporter": "python",
   "pygments_lexer": "ipython3",
   "version": "3.11.4"
  }
 },
 "nbformat": 4,
 "nbformat_minor": 5
}
