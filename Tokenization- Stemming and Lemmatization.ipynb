{
 "cells": [
  {
   "cell_type": "markdown",
   "id": "6caa9781",
   "metadata": {},
   "source": [
    "### Stemming and Lemmatization"
   ]
  },
  {
   "cell_type": "code",
   "execution_count": 2,
   "id": "c7f70b7f",
   "metadata": {},
   "outputs": [],
   "source": [
    "from hazm import *"
   ]
  },
  {
   "cell_type": "code",
   "execution_count": 3,
   "id": "8c37a50e",
   "metadata": {},
   "outputs": [],
   "source": [
    "sample_persian=\"دلم برایت خیلی زیاد تنگ می شود\""
   ]
  },
  {
   "cell_type": "code",
   "execution_count": 4,
   "id": "c0227730",
   "metadata": {},
   "outputs": [],
   "source": [
    "normal= Normalizer()"
   ]
  },
  {
   "cell_type": "code",
   "execution_count": 5,
   "id": "566feb78",
   "metadata": {},
   "outputs": [],
   "source": [
    "normal_text= normal.normalize(sample_persian)"
   ]
  },
  {
   "cell_type": "code",
   "execution_count": 6,
   "id": "fd59e92e",
   "metadata": {},
   "outputs": [
    {
     "data": {
      "text/plain": [
       "'دلم برایت خیلی زیاد تنگ می\\u200cشود'"
      ]
     },
     "execution_count": 6,
     "metadata": {},
     "output_type": "execute_result"
    }
   ],
   "source": [
    "normal_text"
   ]
  },
  {
   "cell_type": "code",
   "execution_count": 7,
   "id": "02f0d630",
   "metadata": {},
   "outputs": [],
   "source": [
    "word=word_tokenize(normal_text)"
   ]
  },
  {
   "cell_type": "code",
   "execution_count": 8,
   "id": "fbcae4bf",
   "metadata": {},
   "outputs": [
    {
     "data": {
      "text/plain": [
       "['دلم', 'برایت', 'خیلی', 'زیاد', 'تنگ', 'می\\u200cشود']"
      ]
     },
     "execution_count": 8,
     "metadata": {},
     "output_type": "execute_result"
    }
   ],
   "source": [
    "word"
   ]
  },
  {
   "cell_type": "code",
   "execution_count": 9,
   "id": "27695f95",
   "metadata": {},
   "outputs": [],
   "source": [
    "word= word_tokenize(sample_persian)"
   ]
  },
  {
   "cell_type": "code",
   "execution_count": 10,
   "id": "656204db",
   "metadata": {},
   "outputs": [
    {
     "data": {
      "text/plain": [
       "['دلم', 'برایت', 'خیلی', 'زیاد', 'تنگ', 'می', 'شود']"
      ]
     },
     "execution_count": 10,
     "metadata": {},
     "output_type": "execute_result"
    }
   ],
   "source": [
    "word"
   ]
  },
  {
   "cell_type": "code",
   "execution_count": 11,
   "id": "64e73fc7",
   "metadata": {},
   "outputs": [],
   "source": [
    "import nltk"
   ]
  },
  {
   "cell_type": "code",
   "execution_count": 12,
   "id": "2c779805",
   "metadata": {},
   "outputs": [],
   "source": [
    "from nltk.stem.porter import *"
   ]
  },
  {
   "cell_type": "code",
   "execution_count": 13,
   "id": "d892ff46",
   "metadata": {},
   "outputs": [],
   "source": [
    "tokens=['connecting', 'connected', 'connect','disconnect','connect', 'connection']"
   ]
  },
  {
   "cell_type": "code",
   "execution_count": 14,
   "id": "acd7f611",
   "metadata": {},
   "outputs": [],
   "source": [
    "stemmer= PorterStemmer()"
   ]
  },
  {
   "cell_type": "code",
   "execution_count": 15,
   "id": "0f1694fd",
   "metadata": {},
   "outputs": [
    {
     "name": "stdout",
     "output_type": "stream",
     "text": [
      "connecting----->connect\n",
      "connected----->connect\n",
      "connect----->connect\n",
      "disconnect----->disconnect\n",
      "connect----->connect\n",
      "connection----->connect\n"
     ]
    }
   ],
   "source": [
    "for token in tokens:\n",
    "    print(token +\"----->\" + stemmer.stem(token))"
   ]
  },
  {
   "cell_type": "code",
   "execution_count": 16,
   "id": "d4d0617c",
   "metadata": {},
   "outputs": [],
   "source": [
    "from nltk.stem.lancaster import *"
   ]
  },
  {
   "cell_type": "code",
   "execution_count": 20,
   "id": "092fc188",
   "metadata": {},
   "outputs": [],
   "source": [
    "import nltk"
   ]
  },
  {
   "cell_type": "code",
   "execution_count": 18,
   "id": "e59412b3",
   "metadata": {},
   "outputs": [],
   "source": [
    "from nltk.stem.wordnet import WordNetLemmatizer"
   ]
  },
  {
   "cell_type": "code",
   "execution_count": 24,
   "id": "a18c58bc",
   "metadata": {},
   "outputs": [],
   "source": [
    "lemmatizer = WordNetLemmatizer()"
   ]
  },
  {
   "cell_type": "code",
   "execution_count": 25,
   "id": "22257ed7",
   "metadata": {},
   "outputs": [],
   "source": [
    "lancster=LancasterStemmer()"
   ]
  },
  {
   "cell_type": "code",
   "execution_count": 26,
   "id": "6760a164",
   "metadata": {},
   "outputs": [],
   "source": [
    "tokens=['disable', 'connected', 'decentralized','better','information', 'did']"
   ]
  },
  {
   "cell_type": "code",
   "execution_count": 28,
   "id": "d478d885",
   "metadata": {},
   "outputs": [
    {
     "name": "stdout",
     "output_type": "stream",
     "text": [
      "showing info https://raw.githubusercontent.com/nltk/nltk_data/gh-pages/index.xml\n"
     ]
    },
    {
     "data": {
      "text/plain": [
       "True"
      ]
     },
     "execution_count": 28,
     "metadata": {},
     "output_type": "execute_result"
    }
   ],
   "source": [
    "nltk.download()"
   ]
  },
  {
   "cell_type": "code",
   "execution_count": 30,
   "id": "88ef0d1d",
   "metadata": {},
   "outputs": [
    {
     "name": "stdout",
     "output_type": "stream",
     "text": [
      "stem----->disabl\n",
      "Lema----->disable\n",
      "Lanc----->dis\n",
      "\n",
      "\n",
      "stem----->connect\n",
      "Lema----->connected\n",
      "Lanc----->connect\n",
      "\n",
      "\n",
      "stem----->decentr\n",
      "Lema----->decentralized\n",
      "Lanc----->dec\n",
      "\n",
      "\n",
      "stem----->better\n",
      "Lema----->better\n",
      "Lanc----->bet\n",
      "\n",
      "\n",
      "stem----->inform\n",
      "Lema----->information\n",
      "Lanc----->inform\n",
      "\n",
      "\n",
      "stem----->did\n",
      "Lema----->did\n",
      "Lanc----->did\n",
      "\n",
      "\n"
     ]
    }
   ],
   "source": [
    "for token in tokens:\n",
    "    print('stem' +\"----->\" + stemmer.stem(token))\n",
    "    print('Lema' +\"----->\" + lemmatizer.lemmatize(token))\n",
    "    print('Lanc' +\"----->\" + lancster.stem(token))\n",
    "    print('\\n')"
   ]
  },
  {
   "cell_type": "code",
   "execution_count": null,
   "id": "9ade9eae",
   "metadata": {},
   "outputs": [],
   "source": []
  }
 ],
 "metadata": {
  "kernelspec": {
   "display_name": "Python 3 (ipykernel)",
   "language": "python",
   "name": "python3"
  },
  "language_info": {
   "codemirror_mode": {
    "name": "ipython",
    "version": 3
   },
   "file_extension": ".py",
   "mimetype": "text/x-python",
   "name": "python",
   "nbconvert_exporter": "python",
   "pygments_lexer": "ipython3",
   "version": "3.11.4"
  }
 },
 "nbformat": 4,
 "nbformat_minor": 5
}
